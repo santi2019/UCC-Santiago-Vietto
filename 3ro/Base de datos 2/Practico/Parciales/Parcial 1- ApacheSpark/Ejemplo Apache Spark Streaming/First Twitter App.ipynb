{
 "cells": [
  {
   "cell_type": "markdown",
   "source": [
    "# First Spark Streaming Example\n",
    "_____"
   ],
   "metadata": {}
  },
  {
   "cell_type": "markdown",
   "source": [
    "# Twitter Example\n",
    "Set up the credentials for a twitter app at https://apps.twitter.com/\n",
    "    \n",
    "install python-twitter, a python library to connect your Python to the twitter dev account.\n",
    "\n",
    "Begin by running the TweetRead.py file. Make sure to add your own IP Adress and your credential keys."
   ],
   "metadata": {}
  },
  {
   "cell_type": "code",
   "execution_count": 1,
   "source": [
    "import findspark "
   ],
   "outputs": [],
   "metadata": {}
  },
  {
   "cell_type": "code",
   "execution_count": 2,
   "source": [
    "findspark.init('/home/emanuel/Descargas/spark-3.1.2-bin-hadoop3.2')"
   ],
   "outputs": [],
   "metadata": {}
  },
  {
   "cell_type": "code",
   "execution_count": 3,
   "source": [
    "from pyspark import SparkContext\n",
    "from pyspark.streaming import StreamingContext\n",
    "from pyspark.sql import SQLContext\n",
    "from pyspark.sql.functions import desc"
   ],
   "outputs": [],
   "metadata": {}
  },
  {
   "cell_type": "code",
   "execution_count": 4,
   "source": [
    "# Can only run this once. restart your kernel for any errors.\n",
    "sc = SparkContext()"
   ],
   "outputs": [],
   "metadata": {}
  },
  {
   "cell_type": "code",
   "execution_count": 5,
   "source": [
    "ssc = StreamingContext(sc, 10 )\n",
    "sqlContext = SQLContext(sc)"
   ],
   "outputs": [],
   "metadata": {}
  },
  {
   "cell_type": "code",
   "execution_count": 6,
   "source": [
    "socket_stream = ssc.socketTextStream(\"127.0.0.1\", 5557)"
   ],
   "outputs": [],
   "metadata": {}
  },
  {
   "cell_type": "code",
   "execution_count": 7,
   "source": [
    "lines = socket_stream.window( 20 )"
   ],
   "outputs": [],
   "metadata": {}
  },
  {
   "cell_type": "code",
   "execution_count": 8,
   "source": [
    "#Se crea una tupla.\n",
    "from collections import namedtuple\n",
    "fields = (\"tag\", \"count\" )\n",
    "Tweet = namedtuple( 'Tweet', fields )"
   ],
   "outputs": [],
   "metadata": {}
  },
  {
   "cell_type": "code",
   "execution_count": 9,
   "source": [
    "# Use Parenthesis for multiple lines or use \\.\n",
    "( lines.flatMap(lambda text: text.split(\" \")) #Se divide en una lista \n",
    "  .filter(lambda word: word.lower().startswith(\"#\")) # Comprueba los hashtags y filtra las palabras que se encuntren al lado de #\n",
    "  .map(lambda word: ( word.lower(), 1)) # Convierte todas las palabras en miníscula\n",
    "  .reduceByKey(lambda a, b: a + b) # Reduces\n",
    "  .map(lambda rec: Tweet(rec[0], rec[1])) # Almacenamos en un objeto de Tweet\n",
    "  .foreachRDD(lambda rdd: rdd.toDF().sort(desc(\"count\")) # Para cada RDD almacenamos los tweets en un marco de datos. \n",
    "  .limit(10) \n",
    "  .registerTempTable(\"tweets\") ) \n",
    ") # Registramos en una tabla."
   ],
   "outputs": [],
   "metadata": {}
  },
  {
   "cell_type": "markdown",
   "source": [
    "__________\n",
    "### Run the TweetRead.py file at this point\n",
    "__________"
   ],
   "metadata": {}
  },
  {
   "cell_type": "code",
   "execution_count": 14,
   "source": [
    "ssc.start()"
   ],
   "outputs": [],
   "metadata": {}
  },
  {
   "cell_type": "code",
   "execution_count": 17,
   "source": [
    "tweetsView = sqlContext.sql('Select tag, count from tweets')\n",
    "tweetsView.show()"
   ],
   "outputs": [
    {
     "output_type": "stream",
     "name": "stdout",
     "text": [
      "+--------------------+-----+\n",
      "|                 tag|count|\n",
      "+--------------------+-----+\n",
      "|               #sufc|    2|\n",
      "|      #twitterblades|    2|\n",
      "|           #gopackgo|    1|\n",
      "|       #beardownpost|    1|\n",
      "|               #efc!|    1|\n",
      "|                  #8|    1|\n",
      "|              #be…rt|    1|\n",
      "|#exercisingpotential|    1|\n",
      "|      #coltonhillspe|    1|\n",
      "|      #trusttheclimb|    1|\n",
      "+--------------------+-----+\n",
      "\n"
     ]
    }
   ],
   "metadata": {}
  },
  {
   "cell_type": "code",
   "execution_count": 12,
   "source": [
    "import time\n",
    "from IPython import display\n",
    "import matplotlib.pyplot as plt\n",
    "import seaborn as sns\n",
    "import pandas\n",
    "# Only works for Jupyter Notebooks!\n",
    "%matplotlib inline "
   ],
   "outputs": [],
   "metadata": {}
  },
  {
   "cell_type": "code",
   "execution_count": 26,
   "source": [
    "tweetsRead = sqlContext.sql( 'Select tag, count from tweets' )\n",
    "tweetsReadDf = tweetsRead.toPandas().to_csv(\"sample_file.csv\", header=True)"
   ],
   "outputs": [],
   "metadata": {}
  },
  {
   "cell_type": "code",
   "execution_count": 18,
   "source": [
    "count = 0\n",
    "while count < 10:\n",
    "    time.sleep( 3 )\n",
    "    top_10_tweets = sqlContext.sql( 'Select tag, count from tweets' )\n",
    "    top_10_df = top_10_tweets.toPandas()\n",
    "    display.clear_output(wait=True)\n",
    "    plt.figure( figsize = ( 10, 8 ) )\n",
    "    sns.barplot( x=\"count\", y=\"tag\", data=top_10_df)\n",
    "    plt.show()\n",
    "    count = count + 1"
   ],
   "outputs": [
    {
     "output_type": "display_data",
     "data": {
      "image/png": "[encoded data removed]",
      "text/plain": [
       "<Figure size 720x576 with 1 Axes>"
      ]
     },
     "metadata": {
      "needs_background": "light"
     }
    }
   ],
   "metadata": {}
  },
  {
   "cell_type": "code",
   "execution_count": null,
   "source": [
    "ssc.stop()"
   ],
   "outputs": [],
   "metadata": {}
  }
 ],
 "metadata": {
  "anaconda-cloud": {},
  "kernelspec": {
   "name": "python3",
   "display_name": "Python 3.8.8 64-bit ('base': conda)"
  },
  "language_info": {
   "codemirror_mode": {
    "name": "ipython",
    "version": 3
   },
   "file_extension": ".py",
   "mimetype": "text/x-python",
   "name": "python",
   "nbconvert_exporter": "python",
   "pygments_lexer": "ipython3",
   "version": "3.8.8"
  },
  "interpreter": {
   "hash": "abb3dff98dd83cdf9ba73ceb491156d8c5c470dd53415d084e30496c6bbf5848"
  }
 },
 "nbformat": 4,
 "nbformat_minor": 1
}