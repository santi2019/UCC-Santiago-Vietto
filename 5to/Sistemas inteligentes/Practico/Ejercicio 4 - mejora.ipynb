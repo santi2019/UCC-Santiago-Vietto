{
  "cells": [
    {
      "cell_type": "markdown",
      "metadata": {
        "id": "zDco0d_wjWRS"
      },
      "source": [
        "# Práctico 4:\n",
        "\n",
        "1. Implementar un pipeline de clasificación con la muestra que se vió en clase. El código para traer el dataset es el siguiente:"
      ]
    },
    {
      "cell_type": "markdown",
      "metadata": {
        "id": "5rPtW_CC6vMa"
      },
      "source": [
        "Analisis del dataset MNIST"
      ]
    },
    {
      "cell_type": "code",
      "execution_count": 50,
      "metadata": {
        "colab": {
          "base_uri": "https://localhost:8080/"
        },
        "id": "rObB3YO0jGWQ",
        "outputId": "03250880-bee3-46d6-c28e-6b0ba33937a1"
      },
      "outputs": [
        {
          "name": "stderr",
          "output_type": "stream",
          "text": [
            "/usr/local/lib/python3.9/dist-packages/sklearn/datasets/_openml.py:968: FutureWarning: The default value of `parser` will change from `'liac-arff'` to `'auto'` in 1.4. You can set `parser='auto'` to silence this warning. Therefore, an `ImportError` will be raised from 1.4 if the dataset is dense and pandas is not installed. Note that the pandas parser may return different data types. See the Notes Section in fetch_openml's API doc for details.\n",
            "  warn(\n"
          ]
        },
        {
          "name": "stdout",
          "output_type": "stream",
          "text": [
            "dict_keys(['data', 'target', 'frame', 'categories', 'feature_names', 'target_names', 'DESCR', 'details', 'url'])\n"
          ]
        }
      ],
      "source": [
        "# Descargamos los datos:\n",
        "\n",
        "from sklearn.datasets import fetch_openml\n",
        "mnist = fetch_openml('mnist_784', version=1, as_frame=False)\n",
        "print(mnist.keys())\n",
        "X, y = mnist[\"data\"], mnist[\"target\"]"
      ]
    },
    {
      "cell_type": "code",
      "execution_count": 2,
      "metadata": {
        "colab": {
          "base_uri": "https://localhost:8080/"
        },
        "id": "7UzYKX9k4Rlv",
        "outputId": "624b47d0-bbba-4f89-ab30-4e5e75cdd89d"
      },
      "outputs": [
        {
          "data": {
            "text/plain": [
              "(70000, 784)"
            ]
          },
          "execution_count": 2,
          "metadata": {},
          "output_type": "execute_result"
        }
      ],
      "source": [
        "# Vemos las matrices\n",
        "\n",
        "X, y = mnist[\"data\"], mnist[\"target\"]\n",
        "X.shape                                     # Matriz de caracteristicas"
      ]
    },
    {
      "cell_type": "code",
      "execution_count": 3,
      "metadata": {
        "colab": {
          "base_uri": "https://localhost:8080/"
        },
        "id": "hW4v3AdG4cjg",
        "outputId": "94c19b39-e866-4359-a557-22e901126672"
      },
      "outputs": [
        {
          "data": {
            "text/plain": [
              "(70000,)"
            ]
          },
          "execution_count": 3,
          "metadata": {},
          "output_type": "execute_result"
        }
      ],
      "source": [
        "y.shape     # Matriz de etiquetas"
      ]
    },
    {
      "cell_type": "code",
      "execution_count": 6,
      "metadata": {
        "colab": {
          "base_uri": "https://localhost:8080/",
          "height": 406
        },
        "id": "sslnc99y42Xx",
        "outputId": "27a7afa1-190d-4f5e-ed4d-75156cf10fd4"
      },
      "outputs": [
        {
          "data": {
            "image/png": "[encoded data removed]",
            "text/plain": [
              "<Figure size 640x480 with 1 Axes>"
            ]
          },
          "metadata": {},
          "output_type": "display_data"
        }
      ],
      "source": [
        "# Observamos la imagen de un dígito MNIST\n",
        "\n",
        "import matplotlib as mpl\n",
        "import matplotlib.pyplot as plt\n",
        "\n",
        "some_digit = X[0]\n",
        "some_digit_image = some_digit.reshape(28, 28)\n",
        "plt.imshow(some_digit_image, cmap=\"binary\")\n",
        "plt.axis(\"off\")\n",
        "plt.show()"
      ]
    },
    {
      "cell_type": "code",
      "execution_count": 8,
      "metadata": {
        "colab": {
          "base_uri": "https://localhost:8080/",
          "height": 35
        },
        "id": "C2Eu9CMz5IQr",
        "outputId": "e41b4c10-76b2-42d8-96b2-84a5c335d12f"
      },
      "outputs": [
        {
          "data": {
            "application/vnd.google.colaboratory.intrinsic+json": {
              "type": "string"
            },
            "text/plain": [
              "'5'"
            ]
          },
          "execution_count": 8,
          "metadata": {},
          "output_type": "execute_result"
        }
      ],
      "source": [
        "# Accedemos al primer elemento del arreglo y\n",
        "# Devuelve 5, como la imagen de arriba\n",
        "\n",
        "y[0]"
      ]
    },
    {
      "cell_type": "code",
      "execution_count": 10,
      "metadata": {
        "id": "9TUlKf_T5es2"
      },
      "outputs": [],
      "source": [
        "# la etiqueta es una cadena de texto. La mayoría de los algoritmos\n",
        "# de ML esperan números, así que vamos convertimos \"y\" a entero\n",
        "\n",
        "import numpy as np\n",
        "\n",
        "y = y.astype(np.uint8)"
      ]
    },
    {
      "cell_type": "code",
      "execution_count": 14,
      "metadata": {
        "colab": {
          "base_uri": "https://localhost:8080/"
        },
        "id": "6WbV19QyhIub",
        "outputId": "efedad5d-ac1f-4453-e65f-81f556addf6b"
      },
      "outputs": [
        {
          "name": "stdout",
          "output_type": "stream",
          "text": [
            "Tamaño de X_train: (59500, 784)\n",
            "Tamaño de X_test: (10500, 784)\n",
            "Tamaño de y_train: (59500,)\n",
            "Tamaño de y_test: (10500,)\n"
          ]
        }
      ],
      "source": [
        "# Dividimos los datos segun train y test\n",
        "\n",
        "# Lo hacemos aleatoriamente  tamaño de la prueba \n",
        "# sea el 15% del tamaño total de los datos,\n",
        "\n",
        "from sklearn.model_selection import train_test_split\n",
        "\n",
        "X_train, X_test, y_train, y_test = train_test_split(X,y, test_size=0.15, random_state=42)\n",
        "\n",
        "print(\"Tamaño de X_train:\", X_train.shape)\n",
        "print(\"Tamaño de X_test:\", X_test.shape)\n",
        "print(\"Tamaño de y_train:\", y_train.shape)\n",
        "print(\"Tamaño de y_test:\", y_test.shape)\n",
        "\n",
        "# Esta segunda forma es manual, dividiendo en un 60% de entrenamiento \n",
        "# y un 40% de prueba\n",
        "\n",
        "# X_train, X_test, y_train, y_test = X[:60000], X[60000:], y[:60000], y[60000:]"
      ]
    },
    {
      "cell_type": "code",
      "execution_count": 15,
      "metadata": {
        "colab": {
          "base_uri": "https://localhost:8080/"
        },
        "id": "-4u4VNXkhIr1",
        "outputId": "76923f57-c4fd-46e3-e688-7488d7a545b8"
      },
      "outputs": [
        {
          "name": "stdout",
          "output_type": "stream",
          "text": [
            "MinMaxScaler()\n",
            "[[0. 0. 0. ... 0. 0. 0.]\n",
            " [0. 0. 0. ... 0. 0. 0.]\n",
            " [0. 0. 0. ... 0. 0. 0.]\n",
            " ...\n",
            " [0. 0. 0. ... 0. 0. 0.]\n",
            " [0. 0. 0. ... 0. 0. 0.]\n",
            " [0. 0. 0. ... 0. 0. 0.]]\n"
          ]
        }
      ],
      "source": [
        "# Escalamos - Normalizamos\n",
        "# Normalizamos los datos de entrenamiento X_train\n",
        "\n",
        "from sklearn.preprocessing import MinMaxScaler\n",
        "\n",
        "MinMaxScaler()\n",
        "scaler = MinMaxScaler()\n",
        "print(scaler.fit(X_train))\n",
        "print(scaler.transform(X_train))"
      ]
    },
    {
      "cell_type": "markdown",
      "metadata": {
        "id": "yLcuAeUL61N5"
      },
      "source": [
        "Entrenamiento de un Clasificador Binario"
      ]
    },
    {
      "cell_type": "code",
      "execution_count": 16,
      "metadata": {
        "id": "noMnM32vhIpR"
      },
      "outputs": [],
      "source": [
        "# La siguiente funcion transforma los datos de prueba\n",
        "# en enteros, pero ya lo hicimos antes\n",
        "\n",
        "# y_train = y_train.astype('int')"
      ]
    },
    {
      "cell_type": "code",
      "execution_count": 18,
      "metadata": {
        "id": "Jt6XAFhOhIm3"
      },
      "outputs": [],
      "source": [
        "# Creamos los vectores de destino para la tarea de clasificación\n",
        "\n",
        "y_train_5 = (y_train == 5)  # True for all 5s, False for all other digits\n",
        "y_test_5 = (y_test == 5)\n"
      ]
    },
    {
      "cell_type": "code",
      "execution_count": 20,
      "metadata": {
        "colab": {
          "base_uri": "https://localhost:8080/",
          "height": 75
        },
        "id": "I83oRsYZhIkX",
        "outputId": "7586f405-2560-4e6d-8122-2fc9a86c1e2a"
      },
      "outputs": [
        {
          "data": {
            "text/html": [
              "<style>#sk-container-id-1 {color: black;background-color: white;}#sk-container-id-1 pre{padding: 0;}#sk-container-id-1 div.sk-toggleable {background-color: white;}#sk-container-id-1 label.sk-toggleable__label {cursor: pointer;display: block;width: 100%;margin-bottom: 0;padding: 0.3em;box-sizing: border-box;text-align: center;}#sk-container-id-1 label.sk-toggleable__label-arrow:before {content: \"▸\";float: left;margin-right: 0.25em;color: #696969;}#sk-container-id-1 label.sk-toggleable__label-arrow:hover:before {color: black;}#sk-container-id-1 div.sk-estimator:hover label.sk-toggleable__label-arrow:before {color: black;}#sk-container-id-1 div.sk-toggleable__content {max-height: 0;max-width: 0;overflow: hidden;text-align: left;background-color: #f0f8ff;}#sk-container-id-1 div.sk-toggleable__content pre {margin: 0.2em;color: black;border-radius: 0.25em;background-color: #f0f8ff;}#sk-container-id-1 input.sk-toggleable__control:checked~div.sk-toggleable__content {max-height: 200px;max-width: 100%;overflow: auto;}#sk-container-id-1 input.sk-toggleable__control:checked~label.sk-toggleable__label-arrow:before {content: \"▾\";}#sk-container-id-1 div.sk-estimator input.sk-toggleable__control:checked~label.sk-toggleable__label {background-color: #d4ebff;}#sk-container-id-1 div.sk-label input.sk-toggleable__control:checked~label.sk-toggleable__label {background-color: #d4ebff;}#sk-container-id-1 input.sk-hidden--visually {border: 0;clip: rect(1px 1px 1px 1px);clip: rect(1px, 1px, 1px, 1px);height: 1px;margin: -1px;overflow: hidden;padding: 0;position: absolute;width: 1px;}#sk-container-id-1 div.sk-estimator {font-family: monospace;background-color: #f0f8ff;border: 1px dotted black;border-radius: 0.25em;box-sizing: border-box;margin-bottom: 0.5em;}#sk-container-id-1 div.sk-estimator:hover {background-color: #d4ebff;}#sk-container-id-1 div.sk-parallel-item::after {content: \"\";width: 100%;border-bottom: 1px solid gray;flex-grow: 1;}#sk-container-id-1 div.sk-label:hover label.sk-toggleable__label {background-color: #d4ebff;}#sk-container-id-1 div.sk-serial::before {content: \"\";position: absolute;border-left: 1px solid gray;box-sizing: border-box;top: 0;bottom: 0;left: 50%;z-index: 0;}#sk-container-id-1 div.sk-serial {display: flex;flex-direction: column;align-items: center;background-color: white;padding-right: 0.2em;padding-left: 0.2em;position: relative;}#sk-container-id-1 div.sk-item {position: relative;z-index: 1;}#sk-container-id-1 div.sk-parallel {display: flex;align-items: stretch;justify-content: center;background-color: white;position: relative;}#sk-container-id-1 div.sk-item::before, #sk-container-id-1 div.sk-parallel-item::before {content: \"\";position: absolute;border-left: 1px solid gray;box-sizing: border-box;top: 0;bottom: 0;left: 50%;z-index: -1;}#sk-container-id-1 div.sk-parallel-item {display: flex;flex-direction: column;z-index: 1;position: relative;background-color: white;}#sk-container-id-1 div.sk-parallel-item:first-child::after {align-self: flex-end;width: 50%;}#sk-container-id-1 div.sk-parallel-item:last-child::after {align-self: flex-start;width: 50%;}#sk-container-id-1 div.sk-parallel-item:only-child::after {width: 0;}#sk-container-id-1 div.sk-dashed-wrapped {border: 1px dashed gray;margin: 0 0.4em 0.5em 0.4em;box-sizing: border-box;padding-bottom: 0.4em;background-color: white;}#sk-container-id-1 div.sk-label label {font-family: monospace;font-weight: bold;display: inline-block;line-height: 1.2em;}#sk-container-id-1 div.sk-label-container {text-align: center;}#sk-container-id-1 div.sk-container {/* jupyter's `normalize.less` sets `[hidden] { display: none; }` but bootstrap.min.css set `[hidden] { display: none !important; }` so we also need the `!important` here to be able to override the default hidden behavior on the sphinx rendered scikit-learn.org. See: https://github.com/scikit-learn/scikit-learn/issues/21755 */display: inline-block !important;position: relative;}#sk-container-id-1 div.sk-text-repr-fallback {display: none;}</style><div id=\"sk-container-id-1\" class=\"sk-top-container\"><div class=\"sk-text-repr-fallback\"><pre>SGDClassifier(random_state=42)</pre><b>In a Jupyter environment, please rerun this cell to show the HTML representation or trust the notebook. <br />On GitHub, the HTML representation is unable to render, please try loading this page with nbviewer.org.</b></div><div class=\"sk-container\" hidden><div class=\"sk-item\"><div class=\"sk-estimator sk-toggleable\"><input class=\"sk-toggleable__control sk-hidden--visually\" id=\"sk-estimator-id-1\" type=\"checkbox\" checked><label for=\"sk-estimator-id-1\" class=\"sk-toggleable__label sk-toggleable__label-arrow\">SGDClassifier</label><div class=\"sk-toggleable__content\"><pre>SGDClassifier(random_state=42)</pre></div></div></div></div></div>"
            ],
            "text/plain": [
              "SGDClassifier(random_state=42)"
            ]
          },
          "execution_count": 20,
          "metadata": {},
          "output_type": "execute_result"
        }
      ],
      "source": [
        "# Entrenamos un clasificador de descenso de gradiente estocástico (SGD)\n",
        "\n",
        "from sklearn.linear_model import SGDClassifier\n",
        "\n",
        "sgd_clf = SGDClassifier(random_state=42)\n",
        "sgd_clf.fit(X_train, y_train_5)"
      ]
    },
    {
      "cell_type": "code",
      "execution_count": 21,
      "metadata": {
        "colab": {
          "base_uri": "https://localhost:8080/"
        },
        "id": "3N8vrHCQ79MY",
        "outputId": "c7ef87ab-65ba-4fc5-a3be-aa6d846d18d6"
      },
      "outputs": [
        {
          "data": {
            "text/plain": [
              "array([ True])"
            ]
          },
          "execution_count": 21,
          "metadata": {},
          "output_type": "execute_result"
        }
      ],
      "source": [
        "# Podemos usar el clasificador para detectar si las imagenes son 5\n",
        "\n",
        "sgd_clf.predict([X[0]])    "
      ]
    },
    {
      "cell_type": "markdown",
      "metadata": {
        "id": "Fhy3rW2W8H-x"
      },
      "source": [
        "Medicion del Rendimiento o Accuracy"
      ]
    },
    {
      "cell_type": "code",
      "execution_count": 22,
      "metadata": {
        "colab": {
          "base_uri": "https://localhost:8080/"
        },
        "id": "U__riNw9hIe0",
        "outputId": "7df5edea-6ae9-4961-cf8f-e74d502e1bf3"
      },
      "outputs": [
        {
          "data": {
            "text/plain": [
              "array([0.96763134, 0.95996571, 0.96601624])"
            ]
          },
          "execution_count": 22,
          "metadata": {},
          "output_type": "execute_result"
        }
      ],
      "source": [
        "# Aplicamos validacion cruzada K-fold a nuestro modelo de clasificacion binario\n",
        "\n",
        "from sklearn.model_selection import cross_val_score\n",
        "\n",
        "cross_val_score(sgd_clf, X_train, y_train_5, cv=3, scoring = \"accuracy\")"
      ]
    },
    {
      "cell_type": "code",
      "execution_count": 23,
      "metadata": {
        "id": "J6KYutyB9Cee"
      },
      "outputs": [],
      "source": [
        "# Never5Classifier es un clasificador que siempre predice \"no es un 5\"\n",
        "\n",
        "from sklearn.base import BaseEstimator\n",
        "\n",
        "class Never5Classifier(BaseEstimator):\n",
        "  def fit(self, X, y=None):\n",
        "    pass\n",
        "  def predict(self, X):\n",
        "    return np.zeros((len(X), 1), dtype=bool)"
      ]
    },
    {
      "cell_type": "code",
      "execution_count": 24,
      "metadata": {
        "colab": {
          "base_uri": "https://localhost:8080/"
        },
        "id": "RpzCP-lk9HTw",
        "outputId": "5b8a7da9-fe12-4b0c-a2df-d5f9cbc0eb0f"
      },
      "outputs": [
        {
          "data": {
            "text/plain": [
              "array([0.91146516, 0.90893965, 0.91020017])"
            ]
          },
          "execution_count": 24,
          "metadata": {},
          "output_type": "execute_result"
        }
      ],
      "source": [
        "# Vemos la presicion de este modelo\n",
        "\n",
        "never_5_clf = Never5Classifier()\n",
        "cross_val_score(never_5_clf, X_train, y_train_5, cv=3, scoring=\"accuracy\")"
      ]
    },
    {
      "cell_type": "code",
      "execution_count": 25,
      "metadata": {
        "colab": {
          "base_uri": "https://localhost:8080/"
        },
        "id": "zbEg4MoJhcVl",
        "outputId": "643aa3c2-7cb0-4463-f8c1-f1299e2fc852"
      },
      "outputs": [
        {
          "name": "stdout",
          "output_type": "stream",
          "text": [
            "0.9676313401230211\n",
            "0.9599657137094741\n",
            "0.9660162355669843\n"
          ]
        }
      ],
      "source": [
        "# El siguiente pipeline hace aproximadamente lo mismo que la función cross_val_score() \n",
        "# de Scikit-Learn, e imprime el mismo resultado, mediante la clase StratifiedKFold\n",
        "\n",
        "from sklearn.model_selection import StratifiedKFold\n",
        "from sklearn.base import clone\n",
        "\n",
        "skfolds = StratifiedKFold(n_splits=3, random_state=None)\n",
        "\n",
        "for train_index, test_index in skfolds.split(X_train, y_train_5):\n",
        "  clone_clf = clone(sgd_clf)\n",
        "  X_train_folds = X_train[train_index]\n",
        "  y_train_folds = y_train_5[train_index]\n",
        "  X_test_fold = X_train[test_index]\n",
        "  y_test_fold = y_train_5[test_index]\n",
        "\n",
        "  clone_clf.fit(X_train_folds, y_train_folds)\n",
        "  y_pred = clone_clf.predict(X_test_fold)\n",
        "  n_correct = sum(y_pred == y_test_fold)\n",
        "  print(n_correct / len(y_pred))"
      ]
    },
    {
      "cell_type": "markdown",
      "metadata": {
        "id": "OUFG028V9pTO"
      },
      "source": [
        "Analisis de la Matriz de confusion"
      ]
    },
    {
      "cell_type": "code",
      "execution_count": 51,
      "metadata": {
        "colab": {
          "base_uri": "https://localhost:8080/"
        },
        "id": "o43Za5HyhlGD",
        "outputId": "0473361f-f518-4ae1-fd23-ab552ff2a4e5"
      },
      "outputs": [
        {
          "data": {
            "text/plain": [
              "array([[53310,   847],\n",
              "       [ 1263,  4080]])"
            ]
          },
          "execution_count": 51,
          "metadata": {},
          "output_type": "execute_result"
        }
      ],
      "source": [
        "# Calculamos la matriza la función cross_val_predict de Scikit-Learn para realizar una \n",
        "# validación cruzada en el conjunto de entrenamiento X_train con sus etiquetas \n",
        "# correspondientes y_train_5 y un clasificador sgd_clf.\n",
        "\n",
        "\n",
        "from sklearn.model_selection import cross_val_predict\n",
        "from sklearn.metrics import confusion_matrix\n",
        "\n",
        "y_train_pred = cross_val_predict(sgd_clf, X_train, y_train_5, cv = 3)\n",
        "confusion_matrix(y_train_5, y_train_pred)         # Obtenemos la matriz"
      ]
    },
    {
      "cell_type": "code",
      "execution_count": 29,
      "metadata": {
        "colab": {
          "base_uri": "https://localhost:8080/"
        },
        "id": "JQunpTPc-_oh",
        "outputId": "c55a6a67-dc73-4243-ab0d-a91343e28458"
      },
      "outputs": [
        {
          "data": {
            "text/plain": [
              "array([[54157,     0],\n",
              "       [    0,  5343]])"
            ]
          },
          "execution_count": 29,
          "metadata": {},
          "output_type": "execute_result"
        }
      ],
      "source": [
        "# Un clasificador perfecto tendría solo verdaderos positivos y verdaderos negativos, \n",
        "# por lo que su matriz de confusión tendría valores diferentes de cero solo en su \n",
        "# diagonal principal (de arriba a la izquierda a abajo a la derecha)\n",
        "\n",
        "y_train_perfect_predictions = y_train_5 \n",
        "confusion_matrix(y_train_5, y_train_perfect_predictions)"
      ]
    },
    {
      "cell_type": "markdown",
      "metadata": {
        "id": "vfJqO1nw_OxN"
      },
      "source": [
        "Analisis de Presicion y Recall"
      ]
    },
    {
      "cell_type": "code",
      "execution_count": 33,
      "metadata": {
        "colab": {
          "base_uri": "https://localhost:8080/"
        },
        "id": "RLQNGnXXhlBM",
        "outputId": "2a11940c-9bcf-4d52-87ad-d66200e1f039"
      },
      "outputs": [
        {
          "data": {
            "text/plain": [
              "0.8280901156890603"
            ]
          },
          "execution_count": 33,
          "metadata": {},
          "output_type": "execute_result"
        }
      ],
      "source": [
        "# Calculamos las métricas de precision y recall\n",
        "\n",
        "from sklearn.metrics import precision_score, recall_score\n",
        "precision_score(y_train_5, y_train_pred)     # Presicion"
      ]
    },
    {
      "cell_type": "code",
      "execution_count": 34,
      "metadata": {
        "colab": {
          "base_uri": "https://localhost:8080/"
        },
        "id": "PJB4PV8Y_hSR",
        "outputId": "021a7206-d03d-4739-89c3-f78de5b53eb5"
      },
      "outputs": [
        {
          "data": {
            "text/plain": [
              "0.7636159460976979"
            ]
          },
          "execution_count": 34,
          "metadata": {},
          "output_type": "execute_result"
        }
      ],
      "source": [
        "recall_score(y_train_5, y_train_pred)    # Recall"
      ]
    },
    {
      "cell_type": "code",
      "execution_count": 35,
      "metadata": {
        "colab": {
          "base_uri": "https://localhost:8080/"
        },
        "id": "FsFZtkV_i2cb",
        "outputId": "73bbd8b9-beb1-4aea-9669-3e8f25c64f4d"
      },
      "outputs": [
        {
          "data": {
            "text/plain": [
              "0.7945472249269717"
            ]
          },
          "execution_count": 35,
          "metadata": {},
          "output_type": "execute_result"
        }
      ],
      "source": [
        "# Calculamos F1 score, que es la media armónica de la precisión y el recall\n",
        "\n",
        "from sklearn.metrics import f1_score\n",
        "\n",
        "f1_score(y_train_5, y_train_pred)"
      ]
    },
    {
      "cell_type": "markdown",
      "metadata": {
        "id": "vX3lUtr7_2jo"
      },
      "source": [
        "Analisis de Precision/Recall trade off"
      ]
    },
    {
      "cell_type": "code",
      "execution_count": 36,
      "metadata": {
        "colab": {
          "base_uri": "https://localhost:8080/"
        },
        "id": "XkZT3KsTjOeL",
        "outputId": "5ff2d940-a665-44f3-e1e3-e4e3124949b5"
      },
      "outputs": [
        {
          "data": {
            "text/plain": [
              "array([3156.6703652])"
            ]
          },
          "execution_count": 36,
          "metadata": {},
          "output_type": "execute_result"
        }
      ],
      "source": [
        "# utilizamos el clasificador SGD previamente entrenado para hacer una predicción\n",
        "# en un solo ejemplo, representado por some_digit\n",
        "\n",
        "some_digit = X[0]\n",
        "y_scores = sgd_clf.decision_function([some_digit])\n",
        "y_scores"
      ]
    },
    {
      "cell_type": "code",
      "execution_count": 37,
      "metadata": {
        "colab": {
          "base_uri": "https://localhost:8080/"
        },
        "id": "7XNmbhcKi2aA",
        "outputId": "15282c3d-a02f-4ef1-ff5d-9981a2ecc34c"
      },
      "outputs": [
        {
          "data": {
            "text/plain": [
              "array([ True])"
            ]
          },
          "execution_count": 37,
          "metadata": {},
          "output_type": "execute_result"
        }
      ],
      "source": [
        "# Establecemos un umbral (threshold) para hacer la predicción de la clase de \n",
        "# instancia de prueba (some_digit) basada en los scores de decisión obtenidos\n",
        "# por el clasificador SGD. \n",
        "\n",
        "threshold = 0\n",
        "y_some_digit_pred = (y_scores > threshold)\n",
        "y_some_digit_pred  \n",
        "\n",
        "# Si el score de decisión para some_digit es mayor que el umbral, la predicción \n",
        "# será positiva, y si es menor que el umbral, la predicción será negativa."
      ]
    },
    {
      "cell_type": "code",
      "execution_count": 38,
      "metadata": {
        "colab": {
          "base_uri": "https://localhost:8080/"
        },
        "id": "BR2QGBMNi2XP",
        "outputId": "56568c42-fb0a-4e82-ee2b-4175359149b6"
      },
      "outputs": [
        {
          "data": {
            "text/plain": [
              "array([False])"
            ]
          },
          "execution_count": 38,
          "metadata": {},
          "output_type": "execute_result"
        }
      ],
      "source": [
        "# Si el puntaje de decisión es mayor que el umbral, se predice que la imagen es \n",
        "# un 5 (True), de lo contrario, se predice que no es un 5 (False).\n",
        "\n",
        "threshold = 8000\n",
        "y_some_digit_pred = (y_scores > threshold)\n",
        "y_some_digit_pred"
      ]
    },
    {
      "cell_type": "code",
      "execution_count": 39,
      "metadata": {
        "id": "vCag_edqi2UW"
      },
      "outputs": [],
      "source": [
        "# En lugar de hacer predicciones binarias, esta función devuelve los valores \n",
        "# de score (puntuación) para cada instancia.\n",
        " \n",
        "y_scores = cross_val_predict(sgd_clf, X_train, y_train_5, cv=3, method=\"decision_function\")"
      ]
    },
    {
      "cell_type": "code",
      "execution_count": 40,
      "metadata": {
        "colab": {
          "base_uri": "https://localhost:8080/",
          "height": 430
        },
        "id": "9K7QgFgSi2RQ",
        "outputId": "2e38a31e-922e-4c00-d042-c72335c7806c"
      },
      "outputs": [
        {
          "data": {
            "image/png": "[encoded data removed]",
            "text/plain": [
              "<Figure size 640x480 with 1 Axes>"
            ]
          },
          "metadata": {},
          "output_type": "display_data"
        }
      ],
      "source": [
        "# Con estos puntajes calculados, utilizamos la función precision_recall_curve() \n",
        "# para calcular la precisión y la recuperación para todos los umbrales posibles\n",
        "\n",
        "from sklearn.metrics import precision_recall_curve\n",
        "\n",
        "precisions, recalls, thresholds = precision_recall_curve(y_train_5, y_scores)\n",
        "\n",
        "def plot_precision_recall_vs_threshold(precisions, recalls, thresholds):\n",
        "  plt.plot(thresholds, precisions[:-1], \"b--\", label=\"Precision\")\n",
        "  plt.plot(thresholds, recalls[:-1], \"g-\", label=\"Recall\")\n",
        "  [...] # highlight the threshold and add the legend, axis label, and grid\n",
        "\n",
        "\n",
        "plot_precision_recall_vs_threshold(precisions, recalls, thresholds)\n",
        "plt.show()"
      ]
    },
    {
      "cell_type": "code",
      "execution_count": 41,
      "metadata": {
        "colab": {
          "base_uri": "https://localhost:8080/"
        },
        "id": "SvCpaBNJBzlL",
        "outputId": "5c4704b3-2743-4a98-f787-dbfa85921ca0"
      },
      "outputs": [
        {
          "data": {
            "text/plain": [
              "2242.2216938702777"
            ]
          },
          "execution_count": 41,
          "metadata": {},
          "output_type": "execute_result"
        }
      ],
      "source": [
        "#  Buscamos el valor de umbral (threshold) que produce una precisión \n",
        "# de al menos 0.90, es decir, del 90%.\n",
        "\n",
        "threshold_90_precision = thresholds[np.argmax(precisions >= 0.90)]\n",
        "threshold_90_precision"
      ]
    },
    {
      "cell_type": "code",
      "execution_count": 42,
      "metadata": {
        "colab": {
          "base_uri": "https://localhost:8080/"
        },
        "id": "OVtvXmvlBzin",
        "outputId": "ee923636-df62-4a98-ba63-ce3f200d5310"
      },
      "outputs": [
        {
          "data": {
            "text/plain": [
              "array([ True, False, False, ..., False, False, False])"
            ]
          },
          "execution_count": 42,
          "metadata": {},
          "output_type": "execute_result"
        }
      ],
      "source": [
        "# Hacemos predicciones, en donde si el puntaje para una instancia es mayor o igual \n",
        "# al umbral, se asigna el valor True en la predicción para esa instancia, y si es \n",
        "# menor, se asigna el valor False.\n",
        "\n",
        "y_train_pred_90 = (y_scores >= threshold_90_precision)\n",
        "y_train_pred_90"
      ]
    },
    {
      "cell_type": "code",
      "execution_count": 43,
      "metadata": {
        "colab": {
          "base_uri": "https://localhost:8080/"
        },
        "id": "duPx4KGqBzfu",
        "outputId": "3bc23404-8c3d-4748-9b08-9046322df67a"
      },
      "outputs": [
        {
          "data": {
            "text/plain": [
              "0.9001261034047919"
            ]
          },
          "execution_count": 43,
          "metadata": {},
          "output_type": "execute_result"
        }
      ],
      "source": [
        "# Comprobamos la presicion de esta prediccion\n",
        "\n",
        "precision_score(y_train_5, y_train_pred_90)"
      ]
    },
    {
      "cell_type": "code",
      "execution_count": 44,
      "metadata": {
        "colab": {
          "base_uri": "https://localhost:8080/"
        },
        "id": "z01NsO9EBzdB",
        "outputId": "b02617db-e789-404e-b1f6-d3d29ba2a4b7"
      },
      "outputs": [
        {
          "data": {
            "text/plain": [
              "0.6679767920643833"
            ]
          },
          "execution_count": 44,
          "metadata": {},
          "output_type": "execute_result"
        }
      ],
      "source": [
        "# Comprobamos el recall de esta prediccion\n",
        "\n",
        "recall_score(y_train_5, y_train_pred_90)"
      ]
    },
    {
      "cell_type": "markdown",
      "metadata": {
        "id": "KCyuULfoB4LV"
      },
      "source": [
        "Analisis de la Curva ROC"
      ]
    },
    {
      "cell_type": "code",
      "execution_count": 45,
      "metadata": {
        "colab": {
          "base_uri": "https://localhost:8080/",
          "height": 430
        },
        "id": "pbgj7K6ZBzW6",
        "outputId": "bb3251dd-4ec3-403b-9faf-7f155ffd06d9"
      },
      "outputs": [
        {
          "data": {
            "image/png": "[encoded data removed]",
            "text/plain": [
              "<Figure size 640x480 with 1 Axes>"
            ]
          },
          "metadata": {},
          "output_type": "display_data"
        }
      ],
      "source": [
        "# Graficamos la curva ROC, para calcular la tasa de falsos positivos (FPR) y la \n",
        "# tasa de verdaderos positivos (TPR) para varios valores umbral de clasificación. \n",
        "\n",
        "\n",
        "from sklearn.metrics import roc_curve\n",
        "\n",
        "fpr, tpr, thresholds = roc_curve(y_train_5, y_scores)\n",
        "def plot_roc_curve(fpr, tpr, label=None):\n",
        "  plt.plot(fpr, tpr, linewidth=2, label=label)\n",
        "  plt.plot([0, 1], [0, 1], 'k--') # Dashed diagonal\n",
        "  [...] # Add axis labels and grid\n",
        "  \n",
        "plot_roc_curve(fpr, tpr)\n",
        "plt.show()"
      ]
    },
    {
      "cell_type": "code",
      "execution_count": 46,
      "metadata": {
        "colab": {
          "base_uri": "https://localhost:8080/"
        },
        "id": "boizoZ4uhk79",
        "outputId": "57b0ae8f-db29-4db5-b624-2f02bf1a579a"
      },
      "outputs": [
        {
          "data": {
            "text/plain": [
              "0.9655057380239735"
            ]
          },
          "execution_count": 46,
          "metadata": {},
          "output_type": "execute_result"
        }
      ],
      "source": [
        "# Medir el área bajo la curva (AUC). Un clasificador perfecto tendrá una ROC AUC \n",
        "# igual a 1, mientras que un clasificador aleatorio tendrá una ROC AUC igual a 0.5\n",
        "\n",
        "from sklearn.metrics import roc_auc_score\n",
        "\n",
        "roc_auc_score(y_train_5, y_scores)"
      ]
    },
    {
      "cell_type": "code",
      "execution_count": 47,
      "metadata": {
        "colab": {
          "base_uri": "https://localhost:8080/",
          "height": 430
        },
        "id": "y_kR8zDFCvhK",
        "outputId": "28274ac4-3711-4e62-c164-e8801e6771d7"
      },
      "outputs": [
        {
          "data": {
            "image/png": "[encoded data removed]",
            "text/plain": [
              "<Figure size 640x480 with 1 Axes>"
            ]
          },
          "metadata": {},
          "output_type": "display_data"
        }
      ],
      "source": [
        "# Entrenamos un clasificador RandomForestClassifier y luego lo usamos para predecir \n",
        "# las probabilidades de la clase positiva en el conjunto de entrenamiento\n",
        "\n",
        "from sklearn.ensemble import RandomForestClassifier\n",
        "\n",
        "forest_clf = RandomForestClassifier(random_state=42)\n",
        "y_probas_forest = cross_val_predict(forest_clf, X_train, y_train_5, cv=3, method=\"predict_proba\")\n",
        "y_scores_forest = y_probas_forest[:, 1] # score = proba of positive class\n",
        "fpr_forest, tpr_forest, thresholds_forest = roc_curve(y_train_5,y_scores_forest)\n",
        "plt.plot(fpr, tpr, \"b:\", label=\"SGD\")\n",
        "plot_roc_curve(fpr_forest, tpr_forest, \"Random Forest\")\n",
        "plt.legend(loc=\"lower right\")\n",
        "plt.show()"
      ]
    },
    {
      "cell_type": "code",
      "execution_count": 49,
      "metadata": {
        "colab": {
          "base_uri": "https://localhost:8080/"
        },
        "id": "iZRh_oKwCvfD",
        "outputId": "715f6ea5-f8b7-4a40-b772-d0cf2b69417e"
      },
      "outputs": [
        {
          "data": {
            "text/plain": [
              "0.9984737275326855"
            ]
          },
          "execution_count": 49,
          "metadata": {},
          "output_type": "execute_result"
        }
      ],
      "source": [
        "# Medimos el área bajo esta nueva curva (AUC) y vemos que el resultado es mejor\n",
        "# ya que casi llega a 1\n",
        "\n",
        "roc_auc_score(y_train_5, y_scores_forest)"
      ]
    },
    {
      "cell_type": "markdown",
      "metadata": {
        "id": "Nn6y5fzdDw5y"
      },
      "source": [
        "Analisis de la Clasificacion Multiclase"
      ]
    },
    {
      "cell_type": "code",
      "execution_count": 52,
      "metadata": {
        "colab": {
          "base_uri": "https://localhost:8080/"
        },
        "id": "PZC_wa4ICvco",
        "outputId": "692e9c1e-83be-48e7-f8f0-6c02236541ae"
      },
      "outputs": [
        {
          "data": {
            "text/plain": [
              "array([5], dtype=uint8)"
            ]
          },
          "execution_count": 52,
          "metadata": {},
          "output_type": "execute_result"
        }
      ],
      "source": [
        "# Scikit-Learn detecta cuando intentamos utilizar un algoritmo de clasificación binaria \n",
        "# para una tarea de clasificación multiclase y automáticamente ejecuta OvR u OvO, \n",
        "# dependiendo del algoritmo. Probamos esto con un clasificador de máquina de vectores \n",
        "# de soporte, utilizando la clase sklearn.svm.SVC\n",
        "\n",
        "from sklearn.svm import SVC\n",
        "\n",
        "svm_clf = SVC()\n",
        "svm_clf.fit(X_train, y_train) # y_train, not y_train_5\n",
        "svm_clf.predict([some_digit])\n",
        "\n",
        "# Cuidado, ejecucion muy pesada"
      ]
    },
    {
      "cell_type": "code",
      "execution_count": 53,
      "metadata": {
        "colab": {
          "base_uri": "https://localhost:8080/"
        },
        "id": "o6dttLleCvaH",
        "outputId": "d7d9d7a8-b58b-4ce5-d88d-c2caaaa03246"
      },
      "outputs": [
        {
          "data": {
            "text/plain": [
              "array([[ 1.72206843,  1.72846518,  7.25128076,  8.30616641, -0.31116714,\n",
              "         9.3137081 ,  2.71274559,  2.78208467,  6.21734447,  4.87235478]])"
            ]
          },
          "execution_count": 53,
          "metadata": {},
          "output_type": "execute_result"
        }
      ],
      "source": [
        "# Con el método decision_function(), veremos que devuelve 10 puntuaciones \n",
        "# por instancia (en lugar de solo 1)\n",
        "\n",
        "some_digit_scores = svm_clf.decision_function([some_digit])\n",
        "some_digit_scores"
      ]
    },
    {
      "cell_type": "code",
      "execution_count": 54,
      "metadata": {
        "colab": {
          "base_uri": "https://localhost:8080/"
        },
        "id": "yVwqrbzvEf16",
        "outputId": "a46f639a-d7b0-4f8a-9828-baee9d778a86"
      },
      "outputs": [
        {
          "data": {
            "text/plain": [
              "5"
            ]
          },
          "execution_count": 54,
          "metadata": {},
          "output_type": "execute_result"
        }
      ],
      "source": [
        "# El puntaje más alto es de hecho el que corresponde a la clase 5\n",
        "\n",
        "np.argmax(some_digit_scores)"
      ]
    },
    {
      "cell_type": "code",
      "execution_count": 55,
      "metadata": {
        "colab": {
          "base_uri": "https://localhost:8080/"
        },
        "id": "8WZUtKlJEfZL",
        "outputId": "f2c394fa-7edd-4faf-d31e-3ca3dc178934"
      },
      "outputs": [
        {
          "data": {
            "text/plain": [
              "array([0, 1, 2, 3, 4, 5, 6, 7, 8, 9], dtype=uint8)"
            ]
          },
          "execution_count": 55,
          "metadata": {},
          "output_type": "execute_result"
        }
      ],
      "source": [
        "svm_clf.classes_"
      ]
    },
    {
      "cell_type": "code",
      "execution_count": 56,
      "metadata": {
        "colab": {
          "base_uri": "https://localhost:8080/"
        },
        "id": "E2nyFgzoEfWY",
        "outputId": "e193fe36-004a-4b84-b27c-0262b34642f3"
      },
      "outputs": [
        {
          "data": {
            "text/plain": [
              "5"
            ]
          },
          "execution_count": 56,
          "metadata": {},
          "output_type": "execute_result"
        }
      ],
      "source": [
        "svm_clf.classes_[5]"
      ]
    },
    {
      "cell_type": "code",
      "execution_count": 57,
      "metadata": {
        "colab": {
          "base_uri": "https://localhost:8080/"
        },
        "id": "qnCydHkGCvXj",
        "outputId": "c214d6f9-5ff7-40f2-a85f-8c253716a62d"
      },
      "outputs": [
        {
          "data": {
            "text/plain": [
              "array([5], dtype=uint8)"
            ]
          },
          "execution_count": 57,
          "metadata": {},
          "output_type": "execute_result"
        }
      ],
      "source": [
        "# Creamos un clasificador multiclase utilizando la estrategia OvR, \n",
        "# basado en el clasificador binario un SVC\n",
        "\n",
        "from sklearn.multiclass import OneVsRestClassifier\n",
        "\n",
        "ovr_clf = OneVsRestClassifier(SVC())\n",
        "ovr_clf.fit(X_train, y_train)\n",
        "ovr_clf.predict([some_digit])\n",
        "\n",
        "#Cuidado, ejecucion muy pesada"
      ]
    },
    {
      "cell_type": "code",
      "execution_count": 63,
      "metadata": {
        "colab": {
          "base_uri": "https://localhost:8080/"
        },
        "id": "BLxZC1-1CvVA",
        "outputId": "92303544-d258-4b40-b966-4bee769306d0"
      },
      "outputs": [
        {
          "data": {
            "text/plain": [
              "10"
            ]
          },
          "execution_count": 63,
          "metadata": {},
          "output_type": "execute_result"
        }
      ],
      "source": [
        "# Imprimimos el número de clasificadores binarios que se han \n",
        "# entrenado internamente en el clasificador multiclase\n",
        "\n",
        "len(ovr_clf.estimators_)   # Devuelve 10 puntuaciones por instancia (en lugar de solo 1)"
      ]
    },
    {
      "cell_type": "code",
      "execution_count": 59,
      "metadata": {
        "colab": {
          "base_uri": "https://localhost:8080/"
        },
        "id": "apn43obUEpHk",
        "outputId": "836aef75-58e7-4a25-bb3c-81c82111ad49"
      },
      "outputs": [
        {
          "data": {
            "text/plain": [
              "array([5], dtype=uint8)"
            ]
          },
          "execution_count": 59,
          "metadata": {},
          "output_type": "execute_result"
        }
      ],
      "source": [
        "# Ahora, entrenamos un SGDClassifie ya que es igual de facil\n",
        "\n",
        "sgd_clf.fit(X_train, y_train)\n",
        "sgd_clf.predict([some_digit])"
      ]
    },
    {
      "cell_type": "code",
      "execution_count": 60,
      "metadata": {
        "colab": {
          "base_uri": "https://localhost:8080/"
        },
        "id": "gcjxQToxEo_4",
        "outputId": "c7773ff7-49e9-4d7e-997e-6da6d3f28e86"
      },
      "outputs": [
        {
          "data": {
            "text/plain": [
              "array([[-26627.66110783, -49105.18858582, -11718.60999434,\n",
              "         -2586.55910955, -22570.21835131,   1880.32020934,\n",
              "        -28976.47157875, -12382.67420781, -10724.22863038,\n",
              "         -8708.96331224]])"
            ]
          },
          "execution_count": 60,
          "metadata": {},
          "output_type": "execute_result"
        }
      ],
      "source": [
        "# Vemos el puntaje que el clasificador SGD asignó a cada clase\n",
        "\n",
        "sgd_clf.decision_function([some_digit])"
      ]
    },
    {
      "cell_type": "code",
      "execution_count": 61,
      "metadata": {
        "colab": {
          "base_uri": "https://localhost:8080/"
        },
        "id": "n98OoW0REo3d",
        "outputId": "f293d58b-8f7f-4f0a-ade1-3891ee09fb90"
      },
      "outputs": [
        {
          "data": {
            "text/plain": [
              "array([0.86755067, 0.85690516, 0.87919125])"
            ]
          },
          "execution_count": 61,
          "metadata": {},
          "output_type": "execute_result"
        }
      ],
      "source": [
        "# Para evaluar el clasificador SGD usamos la validacion cruzada\n",
        "\n",
        "cross_val_score(sgd_clf, X_train, y_train, cv=3, scoring=\"accuracy\")"
      ]
    },
    {
      "cell_type": "code",
      "execution_count": 62,
      "metadata": {
        "colab": {
          "base_uri": "https://localhost:8080/"
        },
        "id": "8ddgvOE1EovU",
        "outputId": "e5a558ac-371c-4099-adb6-b551a759d6d8"
      },
      "outputs": [
        {
          "data": {
            "text/plain": [
              "array([0.90359988, 0.90677154, 0.8987546 ])"
            ]
          },
          "execution_count": 62,
          "metadata": {},
          "output_type": "execute_result"
        }
      ],
      "source": [
        "# Escalamos las entradas, para que la precisión aumente por encima del 89%\n",
        "\n",
        "from sklearn.preprocessing import StandardScaler\n",
        "\n",
        "scaler = StandardScaler()\n",
        "X_train_scaled = scaler.fit_transform(X_train.astype(np.float64))\n",
        "cross_val_score(sgd_clf, X_train_scaled, y_train, cv=3, scoring=\"accuracy\")\n",
        "\n",
        "# Cuidado, ejecucion pesada"
      ]
    },
    {
      "cell_type": "markdown",
      "metadata": {
        "id": "R5USWahpEpvt"
      },
      "source": [
        "Analisis del Error"
      ]
    },
    {
      "cell_type": "code",
      "execution_count": 64,
      "metadata": {
        "colab": {
          "base_uri": "https://localhost:8080/"
        },
        "id": "p5jNcQfAEtbo",
        "outputId": "207c9270-0c76-42ec-e72b-fc55148cb031"
      },
      "outputs": [
        {
          "data": {
            "text/plain": [
              "array([[5568,    0,   13,   10,    8,   40,   39,    6,  183,    1],\n",
              "       [   1, 6372,   42,   18,    2,   37,    8,   10,  172,   10],\n",
              "       [  22,   27, 5268,   81,   69,   24,   64,   46,  355,   15],\n",
              "       [  25,   20,  109, 5226,    1,  192,   24,   42,  365,   56],\n",
              "       [  12,   16,   44,    7, 5251,    8,   39,   27,  279,  173],\n",
              "       [  31,   17,   21,  153,   50, 4427,   94,   24,  456,   70],\n",
              "       [  29,   19,   54,    1,   44,   87, 5501,    9,  123,    0],\n",
              "       [  21,   19,   61,   25,   42,   12,    6, 5633,  140,  224],\n",
              "       [  19,   62,   40,   90,    2,  127,   30,    6, 5392,   41],\n",
              "       [  25,   19,   27,   60,  130,   36,    1,  172,  308, 5093]])"
            ]
          },
          "execution_count": 64,
          "metadata": {},
          "output_type": "execute_result"
        }
      ],
      "source": [
        "# A la matriz de confusión, la necesitamos para hacer predicciones entrenando\n",
        "# los datos.  La matriz de confusión es una herramienta que muestra el número \n",
        "# de veces que se clasificó cada instancia en una clase específica y el número \n",
        "# de veces que se confundió con otras clases.\n",
        "\n",
        "y_train_pred = cross_val_predict(sgd_clf, X_train_scaled, y_train, cv=3)\n",
        "conf_mx = confusion_matrix(y_train, y_train_pred)\n",
        "conf_mx"
      ]
    },
    {
      "cell_type": "code",
      "execution_count": 65,
      "metadata": {
        "colab": {
          "base_uri": "https://localhost:8080/",
          "height": 437
        },
        "id": "eEuGWIsSEt8-",
        "outputId": "3c6ce27d-0bde-4a5f-b96b-ac761f96dc39"
      },
      "outputs": [
        {
          "data": {
            "image/png": "[encoded data removed]",
            "text/plain": [
              "<Figure size 480x480 with 1 Axes>"
            ]
          },
          "metadata": {},
          "output_type": "display_data"
        }
      ],
      "source": [
        "# Vemos una representación gráfica de la matriz de confusión\n",
        "\n",
        "plt.matshow(conf_mx, cmap=plt.cm.gray)\n",
        "plt.show()"
      ]
    },
    {
      "cell_type": "code",
      "execution_count": 66,
      "metadata": {
        "colab": {
          "base_uri": "https://localhost:8080/",
          "height": 437
        },
        "id": "lEAPc8_IEt12",
        "outputId": "4a6ad6f5-9259-4094-b9ba-1eac606b4862"
      },
      "outputs": [
        {
          "data": {
            "image/png": "[encoded data removed]",
            "text/plain": [
              "<Figure size 480x480 with 1 Axes>"
            ]
          },
          "metadata": {},
          "output_type": "display_data"
        }
      ],
      "source": [
        "# Ahora, nos centramos en el gráfico de los errores. Y llenamos la \n",
        "# diagonal con ceros para mantener solo los errores y trazamos el resultado\n",
        "\n",
        "row_sums = conf_mx.sum(axis=1, keepdims=True)\n",
        "norm_conf_mx = conf_mx / row_sums\n",
        "np.fill_diagonal(norm_conf_mx, 0)\n",
        "plt.matshow(norm_conf_mx, cmap=plt.cm.gray)\n",
        "plt.show()"
      ]
    },
    {
      "cell_type": "code",
      "execution_count": 69,
      "metadata": {
        "id": "3uEVJICnEtu7"
      },
      "outputs": [],
      "source": [
        "import matplotlib\n",
        "\n",
        "\n",
        "def plot_digits(instances, images_per_row=10, **options):\n",
        "    size = 28\n",
        "    images_per_row = min(len(instances), images_per_row)\n",
        "    images = [instance.reshape(size,size) for instance in instances]\n",
        "    n_rows = (len(instances) - 1) // images_per_row + 1\n",
        "    row_images = []\n",
        "    n_empty = n_rows * images_per_row - len(instances)\n",
        "    images.append(np.zeros((size, size * n_empty)))\n",
        "    for row in range(n_rows):\n",
        "        rimages = images[row * images_per_row : (row + 1) * images_per_row]\n",
        "        row_images.append(np.concatenate(rimages, axis=1))\n",
        "    image = np.concatenate(row_images, axis=0)\n",
        "    plt.imshow(image, cmap = matplotlib.cm.binary, **options)\n",
        "    plt.axis(\"off\")"
      ]
    },
    {
      "cell_type": "code",
      "execution_count": 70,
      "metadata": {
        "colab": {
          "base_uri": "https://localhost:8080/",
          "height": 653
        },
        "id": "6nXAR2goEto8",
        "outputId": "6626f1ee-289f-4c55-f6b4-34d2ab5925ab"
      },
      "outputs": [
        {
          "data": {
            "image/png": "[encoded data removed]",
            "text/plain": [
              "<Figure size 800x800 with 4 Axes>"
            ]
          },
          "metadata": {},
          "output_type": "display_data"
        }
      ],
      "source": [
        "# Graficamos ejemplos de 3 y 5. Este análisis ayuda a comprender mejor los \n",
        "# errores del clasificador y a tomar decisiones sobre cómo mejorar su rendimiento.\n",
        "\n",
        "cl_a, cl_b = 3, 5\n",
        "X_aa = X_train[(y_train == cl_a) & (y_train_pred == cl_a)]\n",
        "X_ab = X_train[(y_train == cl_a) & (y_train_pred == cl_b)]\n",
        "X_ba = X_train[(y_train == cl_b) & (y_train_pred == cl_a)]\n",
        "X_bb = X_train[(y_train == cl_b) & (y_train_pred == cl_b)]\n",
        "\n",
        "plt.figure(figsize=(8,8))\n",
        "plt.subplot(221); plot_digits(X_aa[:25], images_per_row=5)\n",
        "plt.subplot(222); plot_digits(X_ab[:25], images_per_row=5)\n",
        "plt.subplot(223); plot_digits(X_ba[:25], images_per_row=5)\n",
        "plt.subplot(224); plot_digits(X_bb[:25], images_per_row=5)\n",
        "plt.show()"
      ]
    },
    {
      "cell_type": "markdown",
      "metadata": {
        "id": "gOaZKS6hEuWW"
      },
      "source": [
        "Clasificacion de Multiples Etiquetas"
      ]
    },
    {
      "cell_type": "code",
      "execution_count": 71,
      "metadata": {
        "colab": {
          "base_uri": "https://localhost:8080/",
          "height": 75
        },
        "id": "WOhG1-4pkEWB",
        "outputId": "7503b03e-32eb-4947-85c8-87c5def97c41"
      },
      "outputs": [
        {
          "data": {
            "text/html": [
              "<style>#sk-container-id-2 {color: black;background-color: white;}#sk-container-id-2 pre{padding: 0;}#sk-container-id-2 div.sk-toggleable {background-color: white;}#sk-container-id-2 label.sk-toggleable__label {cursor: pointer;display: block;width: 100%;margin-bottom: 0;padding: 0.3em;box-sizing: border-box;text-align: center;}#sk-container-id-2 label.sk-toggleable__label-arrow:before {content: \"▸\";float: left;margin-right: 0.25em;color: #696969;}#sk-container-id-2 label.sk-toggleable__label-arrow:hover:before {color: black;}#sk-container-id-2 div.sk-estimator:hover label.sk-toggleable__label-arrow:before {color: black;}#sk-container-id-2 div.sk-toggleable__content {max-height: 0;max-width: 0;overflow: hidden;text-align: left;background-color: #f0f8ff;}#sk-container-id-2 div.sk-toggleable__content pre {margin: 0.2em;color: black;border-radius: 0.25em;background-color: #f0f8ff;}#sk-container-id-2 input.sk-toggleable__control:checked~div.sk-toggleable__content {max-height: 200px;max-width: 100%;overflow: auto;}#sk-container-id-2 input.sk-toggleable__control:checked~label.sk-toggleable__label-arrow:before {content: \"▾\";}#sk-container-id-2 div.sk-estimator input.sk-toggleable__control:checked~label.sk-toggleable__label {background-color: #d4ebff;}#sk-container-id-2 div.sk-label input.sk-toggleable__control:checked~label.sk-toggleable__label {background-color: #d4ebff;}#sk-container-id-2 input.sk-hidden--visually {border: 0;clip: rect(1px 1px 1px 1px);clip: rect(1px, 1px, 1px, 1px);height: 1px;margin: -1px;overflow: hidden;padding: 0;position: absolute;width: 1px;}#sk-container-id-2 div.sk-estimator {font-family: monospace;background-color: #f0f8ff;border: 1px dotted black;border-radius: 0.25em;box-sizing: border-box;margin-bottom: 0.5em;}#sk-container-id-2 div.sk-estimator:hover {background-color: #d4ebff;}#sk-container-id-2 div.sk-parallel-item::after {content: \"\";width: 100%;border-bottom: 1px solid gray;flex-grow: 1;}#sk-container-id-2 div.sk-label:hover label.sk-toggleable__label {background-color: #d4ebff;}#sk-container-id-2 div.sk-serial::before {content: \"\";position: absolute;border-left: 1px solid gray;box-sizing: border-box;top: 0;bottom: 0;left: 50%;z-index: 0;}#sk-container-id-2 div.sk-serial {display: flex;flex-direction: column;align-items: center;background-color: white;padding-right: 0.2em;padding-left: 0.2em;position: relative;}#sk-container-id-2 div.sk-item {position: relative;z-index: 1;}#sk-container-id-2 div.sk-parallel {display: flex;align-items: stretch;justify-content: center;background-color: white;position: relative;}#sk-container-id-2 div.sk-item::before, #sk-container-id-2 div.sk-parallel-item::before {content: \"\";position: absolute;border-left: 1px solid gray;box-sizing: border-box;top: 0;bottom: 0;left: 50%;z-index: -1;}#sk-container-id-2 div.sk-parallel-item {display: flex;flex-direction: column;z-index: 1;position: relative;background-color: white;}#sk-container-id-2 div.sk-parallel-item:first-child::after {align-self: flex-end;width: 50%;}#sk-container-id-2 div.sk-parallel-item:last-child::after {align-self: flex-start;width: 50%;}#sk-container-id-2 div.sk-parallel-item:only-child::after {width: 0;}#sk-container-id-2 div.sk-dashed-wrapped {border: 1px dashed gray;margin: 0 0.4em 0.5em 0.4em;box-sizing: border-box;padding-bottom: 0.4em;background-color: white;}#sk-container-id-2 div.sk-label label {font-family: monospace;font-weight: bold;display: inline-block;line-height: 1.2em;}#sk-container-id-2 div.sk-label-container {text-align: center;}#sk-container-id-2 div.sk-container {/* jupyter's `normalize.less` sets `[hidden] { display: none; }` but bootstrap.min.css set `[hidden] { display: none !important; }` so we also need the `!important` here to be able to override the default hidden behavior on the sphinx rendered scikit-learn.org. See: https://github.com/scikit-learn/scikit-learn/issues/21755 */display: inline-block !important;position: relative;}#sk-container-id-2 div.sk-text-repr-fallback {display: none;}</style><div id=\"sk-container-id-2\" class=\"sk-top-container\"><div class=\"sk-text-repr-fallback\"><pre>KNeighborsClassifier()</pre><b>In a Jupyter environment, please rerun this cell to show the HTML representation or trust the notebook. <br />On GitHub, the HTML representation is unable to render, please try loading this page with nbviewer.org.</b></div><div class=\"sk-container\" hidden><div class=\"sk-item\"><div class=\"sk-estimator sk-toggleable\"><input class=\"sk-toggleable__control sk-hidden--visually\" id=\"sk-estimator-id-2\" type=\"checkbox\" checked><label for=\"sk-estimator-id-2\" class=\"sk-toggleable__label sk-toggleable__label-arrow\">KNeighborsClassifier</label><div class=\"sk-toggleable__content\"><pre>KNeighborsClassifier()</pre></div></div></div></div></div>"
            ],
            "text/plain": [
              "KNeighborsClassifier()"
            ]
          },
          "execution_count": 71,
          "metadata": {},
          "output_type": "execute_result"
        }
      ],
      "source": [
        "# Evaluamos el desempeño de un clasificador multietiqueta.\n",
        "# Se quiere saber si un número es mayor a 7 e impar\n",
        "\n",
        "from sklearn.neighbors import KNeighborsClassifier\n",
        "\n",
        "y_train_large = (y_train >= 7)\n",
        "y_train_odd = (y_train % 2 == 1)\n",
        "y_multilabel = np.c_[y_train_large, y_train_odd]\n",
        "\n",
        "knn_clf = KNeighborsClassifier()\n",
        "knn_clf.fit(X_train, y_multilabel)"
      ]
    },
    {
      "cell_type": "code",
      "execution_count": 72,
      "metadata": {
        "colab": {
          "base_uri": "https://localhost:8080/"
        },
        "id": "RNP5ykxckER7",
        "outputId": "23f40bf3-d948-4303-fca0-d3de8c81c987"
      },
      "outputs": [
        {
          "data": {
            "text/plain": [
              "array([[False,  True]])"
            ]
          },
          "execution_count": 72,
          "metadata": {},
          "output_type": "execute_result"
        }
      ],
      "source": [
        "# El resultado que obtenemos es correcto, ya que el dígito 5 no es mayor\n",
        "# o igual que 7 (False) y es impar (True).\n",
        "\n",
        "knn_clf.predict([some_digit])"
      ]
    },
    {
      "cell_type": "code",
      "execution_count": 73,
      "metadata": {
        "colab": {
          "base_uri": "https://localhost:8080/"
        },
        "id": "0_oQV6XfkEMK",
        "outputId": "8d2bdffe-91c5-4cc6-81ce-a9cadb8f0af6"
      },
      "outputs": [
        {
          "data": {
            "text/plain": [
              "0.9762500417941165"
            ]
          },
          "execution_count": 73,
          "metadata": {},
          "output_type": "execute_result"
        }
      ],
      "source": [
        "#  El siguiente código calcula el F1 score promedio en todas las etiquetas\n",
        "\n",
        "y_train_knn_pred = cross_val_predict(knn_clf, X_train, y_multilabel, cv=3)\n",
        "f1_score(y_multilabel, y_train_knn_pred, average=\"macro\")\n",
        "\n",
        "#Cuidado, ejecucion muy pesada"
      ]
    },
    {
      "cell_type": "markdown",
      "metadata": {
        "id": "UomgLk9cEzAq"
      },
      "source": [
        "Clasificacion de Multiples Salidas"
      ]
    },
    {
      "cell_type": "code",
      "execution_count": 74,
      "metadata": {
        "id": "0AEPxaZ1kGbc"
      },
      "outputs": [],
      "source": [
        "import os\n",
        "\n",
        "def plot_digit(data):\n",
        "    image = data.reshape(28, 28)\n",
        "    plt.imshow(image, cmap = matplotlib.cm.binary,\n",
        "               interpolation=\"nearest\")\n",
        "    plt.axis(\"off\")\n",
        "\n",
        "def save_fig(fig_id, tight_layout=True, fig_extension=\"png\", resolution=300):\n",
        "    path = os.path.join(\".\", fig_id + \".\" + fig_extension)\n",
        "    print(\"Saving figure\", fig_id)\n",
        "    if tight_layout:\n",
        "        plt.tight_layout()\n",
        "    plt.savefig(path, format=fig_extension, dpi=resolution)"
      ]
    },
    {
      "cell_type": "code",
      "execution_count": 75,
      "metadata": {
        "id": "5tBmyvbHkGXA"
      },
      "outputs": [],
      "source": [
        "# Vamos a construir un sistema que elimine el ruido de las imágenes. \n",
        "# Tomará como entrada una imagen de dígito ruidosa y producirá como salida una \n",
        "# imagen del dígito limpia\n",
        "\n",
        "noise = np.random.randint(0, 100, (len(X_train), 784))\n",
        "X_train_mod = X_train + noise\n",
        "noise = np.random.randint(0, 100, (len(X_test), 784))\n",
        "X_test_mod = X_test + noise\n",
        "y_train_mod = X_train\n",
        "y_test_mod = X_test"
      ]
    },
    {
      "cell_type": "code",
      "execution_count": 76,
      "metadata": {
        "colab": {
          "base_uri": "https://localhost:8080/",
          "height": 351
        },
        "id": "uLptnCMlkGSL",
        "outputId": "d755a2c7-cd7b-4c0b-d71a-24d233b59309"
      },
      "outputs": [
        {
          "name": "stdout",
          "output_type": "stream",
          "text": [
            "Saving figure noisy_digit_example_plot\n"
          ]
        },
        {
          "data": {
            "image/png": "[encoded data removed]",
            "text/plain": [
              "<Figure size 640x480 with 2 Axes>"
            ]
          },
          "metadata": {},
          "output_type": "display_data"
        }
      ],
      "source": [
        "some_index = 0\n",
        "plt.subplot(121); plot_digit(X_test_mod[some_index])\n",
        "plt.subplot(122); plot_digit(y_test_mod[some_index])\n",
        "save_fig(\"noisy_digit_example_plot\")\n",
        "plt.show()\n",
        "\n",
        "# Vemos en la imagen de la izquierda, que obtenemos como resultado, que está la \n",
        "# imagen de entrada con ruido y en la de la derecha está la imagen objetivo limpia."
      ]
    },
    {
      "cell_type": "code",
      "execution_count": 77,
      "metadata": {
        "colab": {
          "base_uri": "https://localhost:8080/",
          "height": 406
        },
        "id": "ujcsJEePkGOP",
        "outputId": "3bc0ea13-51cd-4218-ebd3-cef4f8d77ec0"
      },
      "outputs": [
        {
          "data": {
            "image/png": "[encoded data removed]",
            "text/plain": [
              "<Figure size 640x480 with 1 Axes>"
            ]
          },
          "metadata": {},
          "output_type": "display_data"
        }
      ],
      "source": [
        "# Ahora entrenamos el clasificador y hacemos que limpie esta imagen\n",
        "\n",
        "knn_clf.fit(X_train_mod, y_train_mod)\n",
        "clean_digit = knn_clf.predict([X_test_mod[some_index]])\n",
        "plot_digit(clean_digit)"
      ]
    },
    {
      "cell_type": "markdown",
      "metadata": {
        "id": "-LlOAD58kFOI"
      },
      "source": [
        "2. Luego conteste las siguientes preguntas:\n",
        "- ¿Que es un clasificador Binario?\n",
        "- ¿Por qué un modelo con gran accuracy puede que no ser un buen modelo?\n",
        "- ¿Por qué existe un trade off entre presicion y recall?\n",
        "- ¿F1 es la mejor métrica que se puede utilizar al momento de optimizar un modelo? Justifique.\n",
        "- ¿Para que sirve la curva ROC?\n"
      ]
    },
    {
      "cell_type": "markdown",
      "metadata": {
        "id": "lny6_jPG11h8"
      },
      "source": [
        "3. Utilice el clasificador KNeighborsClassifier y optimice los hiperparámetros utilizando GridSearch. ¿Qué accuracy se alcanza en el test set?"
      ]
    },
    {
      "cell_type": "code",
      "execution_count": 78,
      "metadata": {
        "colab": {
          "base_uri": "https://localhost:8080/"
        },
        "id": "KGcWvggTj9nA",
        "outputId": "b9512442-722a-45b5-a0a2-9e2f1dfd8e34"
      },
      "outputs": [
        {
          "name": "stderr",
          "output_type": "stream",
          "text": [
            "/usr/local/lib/python3.9/dist-packages/sklearn/datasets/_openml.py:968: FutureWarning: The default value of `parser` will change from `'liac-arff'` to `'auto'` in 1.4. You can set `parser='auto'` to silence this warning. Therefore, an `ImportError` will be raised from 1.4 if the dataset is dense and pandas is not installed. Note that the pandas parser may return different data types. See the Notes Section in fetch_openml's API doc for details.\n",
            "  warn(\n"
          ]
        },
        {
          "name": "stdout",
          "output_type": "stream",
          "text": [
            "Fitting 5 folds for each of 6 candidates, totalling 30 fits\n",
            "[CV 1/5] END ....n_neighbors=3, weights=uniform;, score=0.969 total time=  35.8s\n",
            "[CV 2/5] END ....n_neighbors=3, weights=uniform;, score=0.969 total time=  30.9s\n",
            "[CV 3/5] END ....n_neighbors=3, weights=uniform;, score=0.972 total time=  32.4s\n",
            "[CV 4/5] END ....n_neighbors=3, weights=uniform;, score=0.971 total time=  30.9s\n",
            "[CV 5/5] END ....n_neighbors=3, weights=uniform;, score=0.970 total time=  30.9s\n",
            "[CV 1/5] END ...n_neighbors=3, weights=distance;, score=0.971 total time=  32.1s\n",
            "[CV 2/5] END ...n_neighbors=3, weights=distance;, score=0.970 total time=  30.9s\n",
            "[CV 3/5] END ...n_neighbors=3, weights=distance;, score=0.973 total time=  30.9s\n",
            "[CV 4/5] END ...n_neighbors=3, weights=distance;, score=0.972 total time=  32.3s\n",
            "[CV 5/5] END ...n_neighbors=3, weights=distance;, score=0.971 total time=  30.9s\n",
            "[CV 1/5] END ....n_neighbors=5, weights=uniform;, score=0.967 total time=  33.7s\n",
            "[CV 2/5] END ....n_neighbors=5, weights=uniform;, score=0.969 total time=  32.3s\n",
            "[CV 3/5] END ....n_neighbors=5, weights=uniform;, score=0.972 total time=  30.8s\n",
            "[CV 4/5] END ....n_neighbors=5, weights=uniform;, score=0.969 total time=  31.2s\n",
            "[CV 5/5] END ....n_neighbors=5, weights=uniform;, score=0.967 total time=  31.5s\n",
            "[CV 1/5] END ...n_neighbors=5, weights=distance;, score=0.968 total time=  30.5s\n",
            "[CV 2/5] END ...n_neighbors=5, weights=distance;, score=0.971 total time=  32.2s\n",
            "[CV 3/5] END ...n_neighbors=5, weights=distance;, score=0.973 total time=  37.0s\n",
            "[CV 4/5] END ...n_neighbors=5, weights=distance;, score=0.970 total time=  32.2s\n",
            "[CV 5/5] END ...n_neighbors=5, weights=distance;, score=0.968 total time=  32.1s\n",
            "[CV 1/5] END ....n_neighbors=7, weights=uniform;, score=0.966 total time=  31.4s\n",
            "[CV 2/5] END ....n_neighbors=7, weights=uniform;, score=0.970 total time=  32.8s\n",
            "[CV 3/5] END ....n_neighbors=7, weights=uniform;, score=0.970 total time=  31.1s\n",
            "[CV 4/5] END ....n_neighbors=7, weights=uniform;, score=0.967 total time=  31.3s\n",
            "[CV 5/5] END ....n_neighbors=7, weights=uniform;, score=0.968 total time=  31.4s\n",
            "[CV 1/5] END ...n_neighbors=7, weights=distance;, score=0.966 total time=  30.5s\n",
            "[CV 2/5] END ...n_neighbors=7, weights=distance;, score=0.970 total time=  30.6s\n",
            "[CV 3/5] END ...n_neighbors=7, weights=distance;, score=0.971 total time=  32.0s\n",
            "[CV 4/5] END ...n_neighbors=7, weights=distance;, score=0.968 total time=  31.3s\n",
            "[CV 5/5] END ...n_neighbors=7, weights=distance;, score=0.968 total time=  30.9s\n",
            "Precisión en el conjunto de prueba: 0.9728571428571429\n"
          ]
        }
      ],
      "source": [
        "from sklearn.datasets import fetch_openml\n",
        "from sklearn.model_selection import train_test_split, GridSearchCV\n",
        "from sklearn.neighbors import KNeighborsClassifier\n",
        "\n",
        "# cargar el conjunto de datos MNIST\n",
        "mnist = fetch_openml('mnist_784', version=1)\n",
        "X, y = mnist[\"data\"], mnist[\"target\"]\n",
        "\n",
        "# dividir el conjunto de datos en entrenamiento y prueba\n",
        "X_train, X_test, y_train, y_test = train_test_split(X, y, test_size=0.2, random_state=42)\n",
        "\n",
        "# crear un clasificador KNeighborsClassifier\n",
        "knn_clf = KNeighborsClassifier()\n",
        "\n",
        "# definir los hiperparámetros que se van a probar\n",
        "param_grid = {'n_neighbors': [3, 5, 7], 'weights': ['uniform', 'distance']}\n",
        "\n",
        "# utilizar GridSearchCV para optimizar los hiperparámetros\n",
        "grid_search = GridSearchCV(knn_clf, param_grid, cv=5, verbose=3)\n",
        "grid_search.fit(X_train, y_train)\n",
        "\n",
        "# obtener la precisión en el conjunto de prueba\n",
        "accuracy = grid_search.score(X_test, y_test)\n",
        "print(\"Precision en el conjunto de prueba:\", accuracy)"
      ]
    },
    {
      "cell_type": "markdown",
      "metadata": {
        "id": "IoOviG0K4UFG"
      },
      "source": [
        "Este código importa algunas funciones y clases de los módulos sklearn.datasets, sklearn.model_selection y sklearn.neighbors. Luego, carga el conjunto de datos MNIST utilizando la función fetch_openml, que devuelve una matriz X con las imágenes y un vector y con las etiquetas correspondientes. A continuación, divide el conjunto de datos en entrenamiento y prueba utilizando la función train_test_split.\n",
        "\n",
        "Luego, se crea un objeto de clasificador KNeighborsClassifier() y se definen los hiperparámetros que se van a probar utilizando un diccionario en param_grid. En este caso, se probarán los valores n_neighbors de 3, 5 y 7 y los valores weights de \"uniform\" y \"distance\".\n",
        "\n",
        "Después, se utiliza GridSearchCV para optimizar los hiperparámetros. GridSearchCV es una herramienta para buscar en una cuadrícula de posibles combinaciones de hiperparámetros y seleccionar la mejor combinación según una medida de rendimiento. En este caso, se utilizó una validación cruzada de 5 pliegues (cv=5) y se habilitó el modo de verbosidad (verbose=3) para obtener información detallada sobre el proceso de búsqueda.\n",
        "\n",
        "Finalmente, se evalúa el rendimiento o accuracy del modelo utilizando el conjunto de prueba y se imprime la precisión obtenida en el conjunto de prueba."
      ]
    }
  ],
  "metadata": {
    "colab": {
      "provenance": []
    },
    "kernelspec": {
      "display_name": "Python 3",
      "name": "python3"
    },
    "language_info": {
      "name": "python"
    }
  },
  "nbformat": 4,
  "nbformat_minor": 0
}
