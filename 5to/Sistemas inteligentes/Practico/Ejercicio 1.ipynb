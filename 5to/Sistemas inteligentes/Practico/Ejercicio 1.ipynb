{
 "cells": [
  {
   "cell_type": "markdown",
   "id": "941e8954",
   "metadata": {},
   "source": [
    "# Ejercicios de Tipos de Datos Simples\n",
    "\n",
    "0. Escribir un programa que muestre por pantalla la cadena ¡Hola Mundo!."
   ]
  },
  {
   "cell_type": "code",
   "execution_count": 1,
   "id": "9bbc1fd7",
   "metadata": {},
   "outputs": [
    {
     "name": "stdout",
     "output_type": "stream",
     "text": [
      "¡Hola Mundo!\n"
     ]
    }
   ],
   "source": [
    "print(\"¡Hola Mundo!\")"
   ]
  },
  {
   "cell_type": "markdown",
   "id": "f0519f5c",
   "metadata": {},
   "source": [
    "1. Escribir un programa que pregunte el nombre del usuario en la consola y después de que el usuario lo introduzca muestre por pantalla la cadena ¡Hola <nombre>!, donde <nombre> es el nombre que el usuario haya introducido."
   ]
  },
  {
   "cell_type": "code",
   "execution_count": 2,
   "id": "65f9ab97",
   "metadata": {},
   "outputs": [
    {
     "name": "stdout",
     "output_type": "stream",
     "text": [
      "¡Hola santiago!\n"
     ]
    }
   ],
   "source": [
    "nombre = input(\"¿Cual es tu nombre? \")\n",
    "print(\"¡Hola \" + nombre + \"!\")"
   ]
  },
  {
   "cell_type": "markdown",
   "id": "4ba0fe88",
   "metadata": {},
   "source": [
    "2. Escribir un programa que pregunte al usuario por el número de horas trabajadas y el coste por hora. Después debe mostrar por pantalla la paga que le corresponde."
   ]
  },
  {
   "cell_type": "code",
   "execution_count": 4,
   "id": "f5872dc8",
   "metadata": {},
   "outputs": [
    {
     "name": "stdout",
     "output_type": "stream",
     "text": [
      "La paga correspondiente es: $4000.0\n"
     ]
    }
   ],
   "source": [
    "horas_trabajadas = float(input(\"Ingrese el numero de horas trabajadas: \"))\n",
    "costo_por_hora = float(input(\"Ingrese el costo por hora: \"))\n",
    "pagar = horas_trabajadas * costo_por_hora\n",
    "print(\"El monto correspondiente a pagar es: $\" + str(pagar))\n"
   ]
  },
  {
   "cell_type": "markdown",
   "id": "e0c3c4b8",
   "metadata": {},
   "source": [
    "3. Escribir un programa que lea un entero positivo, **n**, introducido por el usuario y después muestre en pantalla la suma de todos los enteros desde 1 hasta **n**. La suma de los **n** primeros enteros positivos puede ser calculada de la siguiente forma: $$ suma = \\frac{n(n+1)}{2}$$"
   ]
  },
  {
   "cell_type": "code",
   "execution_count": 5,
   "id": "b65acefb",
   "metadata": {},
   "outputs": [
    {
     "name": "stdout",
     "output_type": "stream",
     "text": [
      "La suma de los enteros desde 1 hasta 5 es: 15.0\n"
     ]
    }
   ],
   "source": [
    "n = int(input(\"Ingrese un numero entero positivo: \"))\n",
    "suma = (n * (n + 1)) / 2\n",
    "print(\"La suma de los enteros desde 1 hasta \" + str(n) + \" es: \" + str(suma))\n"
   ]
  },
  {
   "cell_type": "markdown",
   "id": "37474619",
   "metadata": {},
   "source": [
    "4. Escribir un programa que pregunte al usuario una cantidad a invertir, el interés anual y el número de años, y muestre por pantalla el capital obtenido en la inversión."
   ]
  },
  {
   "cell_type": "code",
   "execution_count": 6,
   "id": "aa8524c9",
   "metadata": {},
   "outputs": [
    {
     "name": "stdout",
     "output_type": "stream",
     "text": [
      "El capital obtenido después de 2 años es de: $114490.0\n"
     ]
    }
   ],
   "source": [
    "cantidad = float(input(\"Ingrese la cantidad a invertir: \"))\n",
    "interes = float(input(\"Ingrese el interes anual: \"))\n",
    "años = int(input(\"Ingrese el numero de años: \"))\n",
    "\n",
    "capital = cantidad * (1 + interes / 100) ** años\n",
    "\n",
    "print(\"El capital obtenido después de \" + str(años) + \" años es de: $\" + str(capital))\n"
   ]
  },
  {
   "cell_type": "markdown",
   "id": "77758fb5",
   "metadata": {},
   "source": [
    "5. Una juguetería tiene mucho éxito en dos de sus productos: payasos y muñecas. Suele hacer venta por correo y la empresa de logística les cobra por peso de cada paquete así que deben calcular el peso de los payasos y muñecas que saldrán en cada paquete a demanda. Cada payaso pesa 112 g y cada muñeca 75 g. Escribir un programa que lea el número de payasos y muñecas vendidos en el último pedido y calcule el peso total del paquete que será enviado."
   ]
  },
  {
   "cell_type": "code",
   "execution_count": 7,
   "id": "556a77e6",
   "metadata": {},
   "outputs": [
    {
     "name": "stdout",
     "output_type": "stream",
     "text": [
      "El peso total del paquete a enviar es de: 673 gramos\n"
     ]
    }
   ],
   "source": [
    "payasos = int(input(\"Ingrese la cantidad de payasos vendidos: \"))\n",
    "muñecas = int(input(\"Ingrese la cantidad de muñecas vendidas: \"))\n",
    "\n",
    "peso_payasos = payasos * 112\n",
    "peso_muñecas = muñecas * 75\n",
    "\n",
    "peso_total = peso_payasos + peso_muñecas\n",
    "\n",
    "print(\"El peso total del paquete a enviar es de: \" + str(peso_total) + \" gramos\")"
   ]
  },
  {
   "cell_type": "markdown",
   "id": "9bd44acd",
   "metadata": {},
   "source": [
    "6. Imagina que acabas de abrir una nueva cuenta de ahorros que te ofrece el 4% de interés al año. Estos ahorros debido a intereses, que no se cobran hasta finales de año, se te añaden al balance final de tu cuenta de ahorros. Escribir un programa que comience leyendo la cantidad de dinero depositada en la cuenta de ahorros, introducida por el usuario. Después el programa debe calcular y mostrar por pantalla la cantidad de ahorros tras el primer, segundo y tercer años. Redondear cada cantidad a dos decimales."
   ]
  },
  {
   "cell_type": "code",
   "execution_count": 8,
   "id": "10766284",
   "metadata": {},
   "outputs": [
    {
     "name": "stdout",
     "output_type": "stream",
     "text": [
      "Después del primer año, tus ahorros serán de: 1040.0\n",
      "Después del segundo año, tus ahorros serán de: 1081.6\n",
      "Después del tercer año, tus ahorros serán de: 1124.86\n"
     ]
    }
   ],
   "source": [
    "deposito = float(input(\"Ingrese la cantidad de dinero depositada en la cuenta de ahorros: \"))\n",
    "\n",
    "# Cálculo de ahorros después de 1 año\n",
    "ahorros_1 = deposito * 1.04\n",
    "\n",
    "# Cálculo de ahorros después de 2 años\n",
    "ahorros_2 = ahorros_1 * 1.04\n",
    "\n",
    "# Cálculo de ahorros después de 3 años\n",
    "ahorros_3 = ahorros_2 * 1.04\n",
    "\n",
    "# Mostrar resultado redondeado a dos decimales\n",
    "print(\"Después del primer año, tus ahorros serán de: \" + str(round(ahorros_1, 2)))\n",
    "print(\"Después del segundo año, tus ahorros serán de: \" + str(round(ahorros_2, 2)))\n",
    "print(\"Después del tercer año, tus ahorros serán de: \" + str(round(ahorros_3, 2)))"
   ]
  },
  {
   "cell_type": "markdown",
   "id": "6f64880a",
   "metadata": {},
   "source": [
    "7. Una panadería vende barras de pan a 3.49€ cada una. El pan que no es el día tiene un descuento del 60%. Escribir un programa que comience leyendo el número de barras vendidas que no son del día. Después el programa debe mostrar el precio habitual de una barra de pan, el descuento que se le hace por no ser fresca y el coste final total."
   ]
  },
  {
   "cell_type": "code",
   "execution_count": 11,
   "id": "70e081d4",
   "metadata": {},
   "outputs": [
    {
     "name": "stdout",
     "output_type": "stream",
     "text": [
      "Precio habitual de una barra de pan: €3.49\n",
      "Descuento por barras que no son del dia: 60%\n",
      "Coste total de las barras, que no son del dia, que fueron vendidas: €13.96\n"
     ]
    }
   ],
   "source": [
    "precio = 3.49  # Precio habitual de una barra de pan\n",
    "descuento = 0.6  # Descuento por barras de pan que no son del día\n",
    "\n",
    "barras_viejas = int(input(\"Ingrese el número de barras de pan, que no son del dia, que fueron vendidas: \"))\n",
    "\n",
    "precio_viejo = precio * (1 - descuento)  # Precio de una barra que no es del dia\n",
    "coste_total = barras_viejas * precio_viejo  # Coste total de barras que no son del dia\n",
    "\n",
    "print(\"Precio habitual de una barra de pan: €\" + str(precio))\n",
    "print(\"Descuento por barras que no son del dia: \" + str(int(descuento * 100)) + \"%\")\n",
    "print(\"Coste total de las barras, que no son del dia, que fueron vendidas: €\" + str(round(coste_total, 2)))"
   ]
  },
  {
   "cell_type": "markdown",
   "id": "7746f986",
   "metadata": {},
   "source": [
    "# Ejercicios de Condicionales\n",
    "\n",
    "0. Escribir un programa que pregunte al usuario su edad y muestre por pantalla si es mayor de edad o no."
   ]
  },
  {
   "cell_type": "code",
   "execution_count": 13,
   "id": "1f904a9a",
   "metadata": {},
   "outputs": [
    {
     "name": "stdout",
     "output_type": "stream",
     "text": [
      "El usuario es menor de edad\n"
     ]
    }
   ],
   "source": [
    "edad = int(input(\"Ingresar edad: \"))\n",
    "\n",
    "if edad >= 18:\n",
    "    print(\"El usuario es mayor de edad\")\n",
    "else:\n",
    "    print(\"El usuario es menor de edad\")"
   ]
  },
  {
   "cell_type": "markdown",
   "id": "ba028cf3",
   "metadata": {},
   "source": [
    "1. En una determinada empresa, sus empleados son evaluados al final de cada año. Los puntos que pueden obtener en la evaluación comienzan en 0.0 y pueden ir aumentando, traduciéndose en mejores beneficios. Los puntos que pueden conseguir los empleados pueden ser 0.0, 0.4, 0.6 o más, pero no valores intermedios entre las cifras mencionadas. A continuación se muestra una tabla con los niveles correspondientes a cada puntuación. La cantidad de dinero conseguida en cada nivel es de 2.400€ multiplicada por la puntuación del nivel.\n",
    "\n",
    "| Nivel | Puntuación |\n",
    "| --- | --- |\n",
    "| Inaceptable | 0.0 |\n",
    "| Aceptable | 0.4 |\n",
    "| Meritorio | 0.6 o más |\n",
    "\n",
    "Escribir un programa que lea la puntuación del usuario e indique su nivel de rendimiento, así como la cantidad de dinero que recibirá el usuario."
   ]
  },
  {
   "cell_type": "code",
   "execution_count": 15,
   "id": "46ba98d2",
   "metadata": {},
   "outputs": [
    {
     "name": "stdout",
     "output_type": "stream",
     "text": [
      "El nivel de rendimiento del empleado es Meritorio\n",
      "El empleado recibirá 1440.0 euros\n"
     ]
    }
   ],
   "source": [
    "# En Python no existe el operador switch case como en otros lenguajes de programación. \n",
    "# Sin embargo, se puede emular su funcionalidad utilizando estructuras como if-elif-else.\n",
    "\n",
    "puntuacion = float(input(\"Ingresar la puntuacion del empleado: \"))\n",
    "\n",
    "if puntuacion == 0.0:\n",
    "    nivel = \"Inaceptable\"\n",
    "    dinero = 0\n",
    "elif puntuacion == 0.4:\n",
    "    nivel = \"Aceptable\"\n",
    "    dinero = 2400 * 0.4\n",
    "elif puntuacion >= 0.6:\n",
    "    nivel = \"Meritorio\"\n",
    "    dinero = 2400 * puntuacion\n",
    "else:\n",
    "    print(\"Puntuacion ingresada incorrecta\")\n",
    "    nivel = \"\"\n",
    "    dinero = 0\n",
    "\n",
    "if nivel != \"\":\n",
    "    print(\"El nivel de rendimiento del empleado es\", nivel)\n",
    "    print(\"El empleado recibira\", dinero, \"euros\")\n"
   ]
  },
  {
   "cell_type": "markdown",
   "id": "5ee09454",
   "metadata": {},
   "source": [
    "2. Escribir un programa para una empresa que tiene salas de juegos para todas las edades y quiere calcular de forma automática el precio que debe cobrar a sus clientes por entrar. El programa debe preguntar al usuario la edad del cliente y mostrar el precio de la entrada. Si el cliente es menor de 4 años puede entrar gratis, si tiene entre 4 y 18 años debe pagar 5€ y si es mayor de 18 años, 10€."
   ]
  },
  {
   "cell_type": "code",
   "execution_count": 20,
   "id": "a0dc2457",
   "metadata": {},
   "outputs": [
    {
     "name": "stdout",
     "output_type": "stream",
     "text": [
      "El precio de la entrada es de 10€\n"
     ]
    }
   ],
   "source": [
    "edad = int(input(\"Ingresar edad: \"))\n",
    "\n",
    "if edad < 4:\n",
    "    print(\"La entrada es gratuita\")\n",
    "elif edad >= 4 and edad <= 18:\n",
    "    print(\"El precio de la entrada es de 5€\")\n",
    "else:\n",
    "    print(\"El precio de la entrada es de 10€\")"
   ]
  },
  {
   "cell_type": "markdown",
   "id": "6b1400f2",
   "metadata": {},
   "source": [
    "3. La pizzería Bella Napoli ofrece pizzas vegetarianas y no vegetarianas a sus clientes. Los ingredientes para cada tipo de pizza aparecen a continuación.\n",
    "\n",
    "Ingredientes vegetarianos: Pimiento y tofu.\n",
    "Ingredientes no vegetarianos: Peperoni, Jamón y Salmón.\n",
    "Escribir un programa que pregunte al usuario si quiere una pizza vegetariana o no, y en función de su respuesta le muestre un menú con los ingredientes disponibles para que elija. Solo se puede eligir un ingrediente además de la mozzarella y el tomate que están en todas la pizzas. Al final se debe mostrar por pantalla si la pizza elegida es vegetariana o no y todos los ingredientes que lleva."
   ]
  },
  {
   "cell_type": "code",
   "execution_count": 24,
   "id": "bde97b92",
   "metadata": {},
   "outputs": [
    {
     "name": "stdout",
     "output_type": "stream",
     "text": [
      "Bienvenido a la pizzería Bella Napoli\n",
      "¿Qué tipo de pizza desea?\n",
      "1 - Vegetariana\n",
      "2 - No vegetariana\n",
      "Ingredientes disponibles:\n",
      "1 - Peperoni\n",
      "2 - Jamon\n",
      "3 - Salmon\n",
      "Pizza elegida no vegetariana\n",
      "La pizza Peperoni ha sido añadida a su orden.\n"
     ]
    }
   ],
   "source": [
    "print(\"Bienvenido a la pizzería Bella Napoli\")\n",
    "print(\"¿Qué tipo de pizza desea?\")\n",
    "print(\"1 - Vegetariana\")\n",
    "print(\"2 - No vegetariana\")\n",
    "tipo_pizza = int(input(\"Seleccione el tipo de pizza (1 o 2): \"))\n",
    "\n",
    "if tipo_pizza == 1:\n",
    "    print(\"Ingredientes disponibles:\")\n",
    "    print(\"1 - Pimiento\")\n",
    "    print(\"2 - Tofu\")\n",
    "    ingrediente = int(input(\"Seleccione un ingrediente (1 o 2): \"))\n",
    "    if ingrediente == 1:\n",
    "        pizza = \"Vegetariana de Pimiento\"\n",
    "    elif ingrediente == 2:\n",
    "        pizza = \"Vegetariana de Tofu\"\n",
    "    else:\n",
    "        print(\"Opcion ingresada incorrecta\")\n",
    "        exit()\n",
    "else:\n",
    "    print(\"Ingredientes disponibles:\")\n",
    "    print(\"1 - Peperoni\")\n",
    "    print(\"2 - Jamon\")\n",
    "    print(\"3 - Salmon\")\n",
    "    ingrediente = int(input(\"Seleccione un ingrediente (1, 2 o 3): \"))\n",
    "    if ingrediente == 1:\n",
    "        pizza = \"Peperoni\"\n",
    "    elif ingrediente == 2:\n",
    "        pizza = \"Jamon\"\n",
    "    elif ingrediente == 3:\n",
    "        pizza = \"Salmon\"\n",
    "    else:\n",
    "        print(\"Opcion ingresada incorrecta\")\n",
    "        exit()\n",
    "\n",
    "print(\"Pizza elegida\", end=\" \")\n",
    "if tipo_pizza == 1:\n",
    "    print(\"vegetariana\")\n",
    "else:\n",
    "    print(\"no vegetariana\")\n",
    "print(\"La pizza\", pizza, \"ha sido añadida a su orden.\")\n"
   ]
  },
  {
   "cell_type": "markdown",
   "id": "6a9c0c7b",
   "metadata": {},
   "source": [
    "# Ejercicios de Bucles\n",
    "Realizar los ejercicios utilizando **for** y **while**\n",
    "\n",
    "0. Escribir un programa que pida al usuario una palabra y la muestre por pantalla 10 veces."
   ]
  },
  {
   "cell_type": "code",
   "execution_count": 26,
   "id": "9f57d8d9",
   "metadata": {},
   "outputs": [
    {
     "name": "stdout",
     "output_type": "stream",
     "text": [
      "Boca Jr\n",
      "Boca Jr\n",
      "Boca Jr\n",
      "Boca Jr\n",
      "Boca Jr\n",
      "Boca Jr\n",
      "Boca Jr\n",
      "Boca Jr\n",
      "Boca Jr\n",
      "Boca Jr\n"
     ]
    }
   ],
   "source": [
    "palabra = input(\"Ingresar una palabra: \")\n",
    "contador = 0\n",
    "\n",
    "while contador < 10:\n",
    "    print(palabra)\n",
    "    contador += 1"
   ]
  },
  {
   "attachments": {},
   "cell_type": "markdown",
   "id": "6f41451c",
   "metadata": {},
   "source": [
    "1. Escribir un programa que muestre por pantalla la tabla de multiplicar del 1 al 10."
   ]
  },
  {
   "cell_type": "code",
   "execution_count": 27,
   "id": "67cd29cc",
   "metadata": {},
   "outputs": [
    {
     "name": "stdout",
     "output_type": "stream",
     "text": [
      "1\t2\t3\t4\t5\t6\t7\t8\t9\t10\t\n",
      "2\t4\t6\t8\t10\t12\t14\t16\t18\t20\t\n",
      "3\t6\t9\t12\t15\t18\t21\t24\t27\t30\t\n",
      "4\t8\t12\t16\t20\t24\t28\t32\t36\t40\t\n",
      "5\t10\t15\t20\t25\t30\t35\t40\t45\t50\t\n",
      "6\t12\t18\t24\t30\t36\t42\t48\t54\t60\t\n",
      "7\t14\t21\t28\t35\t42\t49\t56\t63\t70\t\n",
      "8\t16\t24\t32\t40\t48\t56\t64\t72\t80\t\n",
      "9\t18\t27\t36\t45\t54\t63\t72\t81\t90\t\n",
      "10\t20\t30\t40\t50\t60\t70\t80\t90\t100\t\n"
     ]
    }
   ],
   "source": [
    "for i in range(1, 11):  # Recorre las filas\n",
    "    for j in range(1, 11):  # Recorre las columnas\n",
    "        print(i * j, end='\\t')  # Muestra el resultado separado por tabs\n",
    "    print()  # Salto de línea para pasar a la siguiente fila\n"
   ]
  },
  {
   "cell_type": "markdown",
   "id": "6dcbf56e",
   "metadata": {},
   "source": [
    "2. Escribir un programa en el que se pregunte al usuario por una frase y una letra, y muestre por pantalla el número de veces que aparece la letra en la frase."
   ]
  },
  {
   "cell_type": "code",
   "execution_count": 30,
   "id": "250caf3f",
   "metadata": {},
   "outputs": [
    {
     "name": "stdout",
     "output_type": "stream",
     "text": [
      "La frase ingresada es Hola Mundo\n",
      "La letra o aparece 2 veces en dicha frase\n"
     ]
    }
   ],
   "source": [
    "frase = input(\"Ingresar frase: \")\n",
    "letra = input(\"Ingresar letra: \")\n",
    "\n",
    "contador = 0\n",
    "\n",
    "for caracter in frase:\n",
    "    if caracter == letra:\n",
    "        contador += 1\n",
    "\n",
    "print(\"La frase ingresada es\", frase)\n",
    "print(\"La letra\", letra, \"aparece\", contador, \"veces en dicha frase\")\n"
   ]
  },
  {
   "cell_type": "markdown",
   "id": "437b4a42",
   "metadata": {},
   "source": [
    "3. Escribir un programa que muestre el eco de todo lo que el usuario introduzca hasta que el usuario escriba “salir” que terminará."
   ]
  },
  {
   "cell_type": "code",
   "execution_count": 31,
   "id": "6201580a",
   "metadata": {},
   "outputs": [
    {
     "name": "stdout",
     "output_type": "stream",
     "text": [
      "Boca Jr es el mejor club del mundo \n"
     ]
    }
   ],
   "source": [
    "# El siguiente es un loop infinito que se ejecuta hasta que se encuentre un break\n",
    "\n",
    "while True:\n",
    "    frase = input(\"Introduzca una frase (escriba 'salir' para terminar): \")\n",
    "    if frase == \"salir\":\n",
    "        break\n",
    "    print(frase)"
   ]
  },
  {
   "cell_type": "markdown",
   "id": "21dc00dd",
   "metadata": {},
   "source": [
    "# Ejercicios de Listas y Tuplas\n",
    "\n",
    "1. Escribir un programa que almacene las asignaturas de un curso (por ejemplo Matemáticas, Física, Química, Historia y Lengua) en una lista y la muestre por pantalla."
   ]
  },
  {
   "cell_type": "code",
   "execution_count": 32,
   "id": "f9714c83",
   "metadata": {},
   "outputs": [
    {
     "name": "stdout",
     "output_type": "stream",
     "text": [
      "Las asignaturas del curso son:\n",
      "Matematica\n",
      "Fisica\n",
      "Quimica\n",
      "Historia\n",
      "Lengua\n"
     ]
    }
   ],
   "source": [
    "asignaturas = [\"Matematica\", \"Fisica\", \"Quimica\", \"Historia\", \"Lengua\"]\n",
    "\n",
    "print(\"Las asignaturas del curso son:\")\n",
    "for asignatura in asignaturas:\n",
    "    print(asignatura)"
   ]
  },
  {
   "cell_type": "markdown",
   "id": "9dc8de65",
   "metadata": {},
   "source": [
    "2. Escribir un programa que almacene las asignaturas de un curso (por ejemplo Matemáticas, Física, Química, Historia y Lengua) en una lista y la muestre por pantalla el mensaje Yo estudio <asignatura>, donde <asignatura> es cada una de las asignaturas de la lista."
   ]
  },
  {
   "cell_type": "code",
   "execution_count": 34,
   "id": "7cff1152",
   "metadata": {},
   "outputs": [
    {
     "name": "stdout",
     "output_type": "stream",
     "text": [
      "Yo estudio Matematica\n",
      "Yo estudio Fisica\n",
      "Yo estudio Quimica\n",
      "Yo estudio Historia\n",
      "Yo estudio Lengua\n"
     ]
    }
   ],
   "source": [
    "asignaturas = [\"Matematica\", \"Fisica\", \"Quimica\", \"Historia\", \"Lengua\"]\n",
    "\n",
    "for asignatura in asignaturas:\n",
    "    print(\"Yo estudio\", asignatura)"
   ]
  },
  {
   "cell_type": "markdown",
   "id": "f3160dad",
   "metadata": {},
   "source": [
    "3. Escribir un programa que almacene las asignaturas de un curso (por ejemplo Matemáticas, Física, Química, Historia y Lengua) en una lista, pregunte al usuario la nota que ha sacado en cada asignatura, y después las muestre por pantalla con el mensaje En <asignatura> has sacado <nota> donde <asignatura> es cada una des las asignaturas de la lista y <nota> cada una de las correspondientes notas introducidas por el usuario."
   ]
  },
  {
   "cell_type": "code",
   "execution_count": 36,
   "id": "33826738",
   "metadata": {},
   "outputs": [
    {
     "name": "stdout",
     "output_type": "stream",
     "text": [
      "La nota sacada en Matematica es 8.5\n",
      "La nota sacada en Fisica es 10.0\n",
      "La nota sacada en Quimica es 7.5\n",
      "La nota sacada en Historia es 10.0\n",
      "La nota sacada en Lengua es 9.75\n"
     ]
    }
   ],
   "source": [
    "asignaturas = [\"Matematica\", \"Fisica\", \"Quimica\", \"Historia\", \"Lengua\"]\n",
    "notas = []\n",
    "\n",
    "for asignatura in asignaturas:\n",
    "    nota = float(input(f\"Ingresar la nota de {asignatura}: \"))\n",
    "    notas.append(nota)\n",
    "\n",
    "for i in range(len(asignaturas)):\n",
    "    print(f\"La nota sacada en {asignaturas[i]} es {notas[i]}\")\n"
   ]
  },
  {
   "cell_type": "markdown",
   "id": "dd72817d",
   "metadata": {},
   "source": [
    "4. Escribir un programa que pregunte al usuario los números ganadores de la lotería primitiva, los almacene en una lista y los muestre por pantalla ordenados de menor a mayor."
   ]
  },
  {
   "cell_type": "code",
   "execution_count": 38,
   "id": "625cb744",
   "metadata": {},
   "outputs": [
    {
     "name": "stdout",
     "output_type": "stream",
     "text": [
      "Los numeros ganadores de la loteria ordenados de menor a mayor son:\n",
      "21\n",
      "34\n",
      "52\n",
      "72\n",
      "96\n",
      "100\n"
     ]
    }
   ],
   "source": [
    "# Se pregunta al usuario por los numeros ganadores\n",
    "\n",
    "numeros = []\n",
    "for i in range(6):\n",
    "    num = int(input(\"Ingresar numero ganador: \"))\n",
    "    numeros.append(num)\n",
    "\n",
    "# Ordenamos la lista de numeros ganadores de menor a mayor\n",
    "\n",
    "numeros.sort()\n",
    "\n",
    "# Mostrar los numeros ganadores ordenados\n",
    "\n",
    "print(\"Los numeros ganadores de la loteria ordenados de menor a mayor son:\")\n",
    "for num in numeros:\n",
    "    print(num)"
   ]
  },
  {
   "cell_type": "markdown",
   "id": "f47179e6",
   "metadata": {},
   "source": [
    "5. Escribir un programa que almacene en una lista los números del 1 al 10 y los muestre por pantalla en orden inverso separados por comas."
   ]
  },
  {
   "cell_type": "code",
   "execution_count": 40,
   "id": "e6bc38f3",
   "metadata": {},
   "outputs": [
    {
     "name": "stdout",
     "output_type": "stream",
     "text": [
      "10,9,8,7,6,5,4,3,2,1\n"
     ]
    }
   ],
   "source": [
    "numeros = list(range(1, 11))\n",
    "numeros_inverso = list(reversed(numeros))\n",
    "\n",
    "print(','.join(str(numero) for numero in numeros_inverso))\n"
   ]
  },
  {
   "cell_type": "markdown",
   "id": "4ca73a38",
   "metadata": {},
   "source": [
    "6. Escribir un programa que almacene las asignaturas de un curso (por ejemplo Matemáticas, Física, Química, Historia y Lengua) en una lista, pregunte al usuario la nota que ha sacado en cada asignatura y elimine de la lista las asignaturas aprobadas. Al final el programa debe mostrar por pantalla las asignaturas que el usuario tiene que repetir."
   ]
  },
  {
   "cell_type": "code",
   "execution_count": 42,
   "id": "4bc0f050",
   "metadata": {},
   "outputs": [
    {
     "name": "stdout",
     "output_type": "stream",
     "text": [
      "Tienes que repetir las siguientes asignaturas: \n",
      "Matematica\n",
      "Quimica\n"
     ]
    }
   ],
   "source": [
    "asignaturas = [\"Matematica\", \"Fisica\", \"Quimica\", \"Historia\", \"Lengua\"]\n",
    "notas = []\n",
    "\n",
    "for asignatura in asignaturas:\n",
    "    nota = float(input(f\"Ingresar la nota de {asignatura}: \"))\n",
    "    notas.append(nota)\n",
    "\n",
    "i = 0\n",
    "while i < len(asignaturas):\n",
    "    if notas[i] >= 5:\n",
    "        asignaturas.pop(i)\n",
    "        notas.pop(i)\n",
    "    else:\n",
    "        i += 1\n",
    "\n",
    "print(\"Tienes que repetir las siguientes asignaturas: \")\n",
    "for asignatura in asignaturas:\n",
    "    print(asignatura)\n"
   ]
  },
  {
   "cell_type": "markdown",
   "id": "e422be26",
   "metadata": {},
   "source": [
    "7. Escribir un programa que almacene el abecedario en una lista, elimine de la lista las letras que ocupen posiciones múltiplos de 3, y muestre por pantalla la lista resultante."
   ]
  },
  {
   "cell_type": "code",
   "execution_count": 54,
   "id": "f99b3cab",
   "metadata": {},
   "outputs": [
    {
     "name": "stdout",
     "output_type": "stream",
     "text": [
      "['a', 'b', 'd', 'e', 'g', 'h', 'j', 'k', 'm', 'n', 'p', 'q', 's', 't', 'v', 'w', 'y', 'z']\n"
     ]
    }
   ],
   "source": [
    "abecedario = list(\"abcdefghijklmnopqrstuvwxyz\")\n",
    "nueva_lista = []\n",
    "\n",
    "for i in range(len(abecedario)):\n",
    "    if (i+1) % 3 != 0:\n",
    "        nueva_lista.append(abecedario[i])\n",
    "\n",
    "print(nueva_lista)\n"
   ]
  },
  {
   "cell_type": "markdown",
   "id": "7b85561a",
   "metadata": {},
   "source": [
    "8. Escribir un programa que pida al usuario una palabra y muestre por pantalla si es un palíndromo."
   ]
  },
  {
   "cell_type": "code",
   "execution_count": 55,
   "id": "afaba32d",
   "metadata": {},
   "outputs": [
    {
     "name": "stdout",
     "output_type": "stream",
     "text": [
      "La palabra es un palindromo\n"
     ]
    }
   ],
   "source": [
    "# Un palíndromo es una palabra o frase que se lee igual de izquierda a derecha que de derecha a izquierda. \n",
    "# Para comprobar si una palabra es un palíndromo, se puede comparar la palabra original con su reverso.\n",
    "\n",
    "palabra = input(\"Ingrese una palabra: \")\n",
    "palabra_invertida = \"\".join(reversed(palabra))\n",
    "\n",
    "if palabra == palabra_invertida:\n",
    "    print(\"La palabra es un palindromo\")\n",
    "else:\n",
    "    print(\"La palabra no es un palindromo\")\n"
   ]
  },
  {
   "cell_type": "markdown",
   "id": "9a53e8de",
   "metadata": {},
   "source": [
    "9. Escribir un programa que pida al usuario una palabra y muestre por pantalla el número de veces que contiene cada vocal."
   ]
  },
  {
   "cell_type": "code",
   "execution_count": 57,
   "id": "b1dfc2e7",
   "metadata": {},
   "outputs": [
    {
     "name": "stdout",
     "output_type": "stream",
     "text": [
      "Palabra ingresada Santiago Vietto\n",
      "La vocal a aparece 2 veces en la palabra ingresada\n",
      "La vocal e aparece 1 veces en la palabra ingresada\n",
      "La vocal i aparece 2 veces en la palabra ingresada\n",
      "La vocal o aparece 2 veces en la palabra ingresada\n",
      "La vocal u aparece 0 veces en la palabra ingresada\n"
     ]
    }
   ],
   "source": [
    "palabra = input(\"Ingrese una palabra: \")\n",
    "vocales = {'a':0, 'e':0, 'i':0, 'o':0, 'u':0}\n",
    "\n",
    "for letra in palabra:\n",
    "    if letra.lower() in vocales:\n",
    "        vocales[letra.lower()] += 1\n",
    "\n",
    "print(\"Palabra ingresada\", palabra)\n",
    "for vocal, contador in vocales.items():\n",
    "    print(\"La vocal\", vocal, \"aparece\", contador, \"veces en la palabra ingresada\")\n"
   ]
  },
  {
   "cell_type": "markdown",
   "id": "55cdccd9",
   "metadata": {},
   "source": [
    "10. Escribir un programa que almacene en una lista los siguientes precios, 50, 75, 46, 22, 80, 65, 8, y muestre por pantalla el menor y el mayor de los precios."
   ]
  },
  {
   "cell_type": "code",
   "execution_count": 60,
   "id": "9451e30c",
   "metadata": {},
   "outputs": [
    {
     "name": "stdout",
     "output_type": "stream",
     "text": [
      "El precio mas bajo es: 8\n",
      "El precio mas alto es: 80\n"
     ]
    }
   ],
   "source": [
    "precios = [50, 75, 46, 22, 80, 65, 8]\n",
    "\n",
    "menor_precio = min(precios)\n",
    "mayor_precio = max(precios)\n",
    "\n",
    "print(\"El precio mas bajo es:\", menor_precio)\n",
    "print(\"El precio mas alto es:\", mayor_precio)"
   ]
  },
  {
   "cell_type": "markdown",
   "id": "8032a13d",
   "metadata": {},
   "source": [
    "11. Escribir un programa que almacene los vectores (1,2,3) y (-1,0,2) en dos listas y muestre por pantalla su producto escalar."
   ]
  },
  {
   "cell_type": "code",
   "execution_count": 61,
   "id": "7f82d37a",
   "metadata": {},
   "outputs": [
    {
     "name": "stdout",
     "output_type": "stream",
     "text": [
      "El producto escalar de [1, 2, 3] y [-1, 0, 2] es 5\n"
     ]
    }
   ],
   "source": [
    "v1 = [1, 2, 3]\n",
    "v2 = [-1, 0, 2]\n",
    "\n",
    "producto_escalar = 0\n",
    "\n",
    "for i in range(len(v1)):\n",
    "    producto_escalar += v1[i] * v2[i]\n",
    "\n",
    "print(\"El producto escalar de\", v1, \"y\", v2, \"es\", producto_escalar)"
   ]
  },
  {
   "cell_type": "markdown",
   "id": "350472f1",
   "metadata": {},
   "source": [
    "12. Escribir un programa que almacene las matrices\n",
    "$$ A =\\left(\\begin{array}{cc} \n",
    "1 & 2 & 3\\\\\n",
    "4 & 5 & 6\n",
    "\\end{array}\\right)\n",
    "B = \\left(\\begin{array}{cc} \n",
    "-1 & 0\\\\ \n",
    "0 & 1\\\\ \n",
    "1 & 1\n",
    "\\end{array}\\right)\n",
    "$$\n",
    "en una lista y muestre por pantalla su producto.\n",
    "Nota: Para representar matrices mediante listas usar listas anidadas, representando cada vector fila en una lista."
   ]
  },
  {
   "cell_type": "code",
   "execution_count": 64,
   "id": "8d318963",
   "metadata": {},
   "outputs": [
    {
     "name": "stdout",
     "output_type": "stream",
     "text": [
      "El producto entre ambas matrices es: \n",
      "[[ 2  5]\n",
      " [ 2 11]]\n"
     ]
    }
   ],
   "source": [
    "import numpy as np\n",
    "\n",
    "# Definimos las matrices A y B como listas anidadas\n",
    "A = [[1, 2, 3], [4, 5, 6]]\n",
    "B = [[-1, 0], [0, 1], [1, 1]]\n",
    "\n",
    "# Convertimos las listas en arrays de NumPy\n",
    "A_np = np.array(A)\n",
    "B_np = np.array(B)\n",
    "\n",
    "# Realizamos el producto de las dos matrices usando la función dot()\n",
    "C_np = np.dot(A_np, B_np)\n",
    "\n",
    "print(\"El producto entre ambas matrices es: \")\n",
    "print(C_np)"
   ]
  },
  {
   "cell_type": "markdown",
   "id": "d3871ff8",
   "metadata": {},
   "source": [
    "13. Escribir un programa que pregunte por una muestra de números, separados por comas, los guarde en una lista y muestre por pantalla su media y desviación típica."
   ]
  },
  {
   "cell_type": "code",
   "execution_count": 66,
   "id": "fbf6b9e5",
   "metadata": {},
   "outputs": [
    {
     "name": "stdout",
     "output_type": "stream",
     "text": [
      "La media es: 5.0\n",
      "La desviación típica es: 2.7386127875258306\n"
     ]
    }
   ],
   "source": [
    "# La función \"split\" se utiliza para dividir la cadena en una lista de subcadenas separadas por comas. \n",
    "# La comprensión de listas se utiliza para convertir esta lista de subcadenas en una lista de números de coma flotante.\n",
    "\n",
    "import statistics\n",
    "\n",
    "# Ingresamos la lista de numeros\n",
    "numeros = input(\"Introduce una lista de números separados por comas: \")\n",
    "\n",
    "# Convertimos la cadena de texto en una lista de numeros flotantes\n",
    "numeros_lista = [float(n) for n in numeros.split(\",\")]\n",
    "\n",
    "# Calcular la media y la desviación tipica\n",
    "media = statistics.mean(numeros_lista)\n",
    "desviacion_tipica = statistics.stdev(numeros_lista)\n",
    "\n",
    "# Mostrar los resultados\n",
    "print(\"La media es:\", media)\n",
    "print(\"La desviación típica es:\", desviacion_tipica)\n"
   ]
  },
  {
   "attachments": {},
   "cell_type": "markdown",
   "id": "27fa0945",
   "metadata": {},
   "source": [
    "# Ejercicios de Diccionarios\n",
    "\n",
    "1. Escribir un programa que guarde en una variable el diccionario `{'Euro':'€', 'Dollar':'$', 'Yen':'¥'}`, pregunte al usuario por una divisa y muestre su símbolo o un mensaje de aviso si la divisa no está en el diccionario.\n"
   ]
  },
  {
   "cell_type": "code",
   "execution_count": 70,
   "id": "4f4c9941",
   "metadata": {},
   "outputs": [
    {
     "name": "stdout",
     "output_type": "stream",
     "text": [
      "El simbolo de Yen es ¥\n"
     ]
    }
   ],
   "source": [
    "# Definimos el diccionario\n",
    "divisas = {'Euro':'€', 'Dollar':'$', 'Yen':'¥'}\n",
    "\n",
    "# Solicitamos al usuario que ingrese una divisa\n",
    "divisa = input(\"Introduce una divisa: \")\n",
    "\n",
    "# Se muestra el símbolo de la divisa o un mensaje de aviso\n",
    "if divisa in divisas:\n",
    "    print(\"El simbolo de\", divisa, \"es\", divisas[divisa])\n",
    "else:\n",
    "    print(\"La divisa\", divisa, \"no está en el diccionario.\")"
   ]
  },
  {
   "attachments": {},
   "cell_type": "markdown",
   "id": "47378cc9",
   "metadata": {},
   "source": [
    "2. Escribir un programa que guarde en un diccionario los precios de las frutas de la tabla, pregunte al usuario por una fruta, un número de kilos y muestre por pantalla el precio de ese número de kilos de fruta. Si la fruta no está en el diccionario debe mostrar un mensaje informando de ello.\n",
    "\n",
    "| Fruta | Precio |\n",
    "| --- | --- |\n",
    "| Plátano | 1.35 |\n",
    "| Manzana | 0.80 |\n",
    "| Pera | 0.85 |\n",
    "| Naranja | 0.70 |"
   ]
  },
  {
   "cell_type": "code",
   "execution_count": 72,
   "id": "6acda3c7",
   "metadata": {},
   "outputs": [
    {
     "name": "stdout",
     "output_type": "stream",
     "text": [
      "El precio de 2.0 kilos de Manzana es: 1.6 €\n"
     ]
    }
   ],
   "source": [
    "# Definimos el diccionario con los precios de las frutas\n",
    "precios = {\"Platano\": 1.35, \"Manzana\": 0.80, \"Pera\": 0.85, \"Naranja\": 0.70}\n",
    "\n",
    "# Ingresamos la fruta y la cantidad\n",
    "fruta = input(\"Introduce una fruta: \")\n",
    "kilos = float(input(\"Introduce el número de kilos: \"))\n",
    "\n",
    "# Comprobamos si la fruta esta en el diccionario\n",
    "if fruta in precios:\n",
    "    # Si esta, se calcula el precio y se lo muestra por pantalla\n",
    "    precio = precios[fruta] * kilos\n",
    "    print(\"El precio de\", kilos, \"kilos de\", fruta, \"es:\", precio, \"€\")\n",
    "else:\n",
    "    # Pero si la fruta no está en el diccionario, se muestra un mensaje de error\n",
    "    print(\"La fruta\", fruta, \"no está en la lista de precios.\")\n"
   ]
  },
  {
   "cell_type": "markdown",
   "id": "6b9f8757",
   "metadata": {},
   "source": [
    "3. Escribir un programa que cree un diccionario vacío y lo vaya llenado con información sobre una persona (por ejemplo nombre, edad, sexo, teléfono, correo electrónico, etc.) que se le pida al usuario. Cada vez que se añada un nuevo dato debe imprimirse el contenido del diccionario."
   ]
  },
  {
   "cell_type": "code",
   "execution_count": 74,
   "id": "e2024afa",
   "metadata": {},
   "outputs": [
    {
     "name": "stdout",
     "output_type": "stream",
     "text": [
      "{'Nombre': 'Santiago'}\n",
      "{'Nombre': 'Santiago', 'Apellido': 'Vietto'}\n",
      "{'Nombre': 'Santiago', 'Apellido': 'Vietto', 'Edad': '22'}\n"
     ]
    }
   ],
   "source": [
    "# Definimos un diccionario vacío\n",
    "persona = {}\n",
    "\n",
    "# Ingresamos los datos de la persona\n",
    "while True:\n",
    "    clave = input(\"Introduce el nombre del dato: \")\n",
    "    valor = input(\"Introduce el valor del dato: \")\n",
    "    persona[clave] = valor\n",
    "    print(persona)\n",
    "    \n",
    "    # Preguntamos si el usuario quiere seguir añadiendo datos\n",
    "    continuar = input(\"Desea agregar mas datos ? (s/n): \")\n",
    "    if continuar.lower() == 'n':\n",
    "        break"
   ]
  },
  {
   "cell_type": "markdown",
   "id": "846125b8",
   "metadata": {},
   "source": [
    "4. Escribir un programa que gestione las facturas pendientes de cobro de una empresa. Las facturas se almacenarán en un diccionario donde la clave de cada factura será el número de factura y el valor el coste de la factura. El programa debe preguntar al usuario si quiere añadir una nueva factura, pagar una existente o terminar. Si desea añadir una nueva factura se preguntará por el número de factura y su coste y se añadirá al diccionario. Si se desea pagar una factura se preguntará por el número de factura y se eliminará del diccionario. Después de cada operación el programa debe mostrar por pantalla la cantidad cobrada hasta el momento y la cantidad pendiente de cobro."
   ]
  },
  {
   "cell_type": "code",
   "execution_count": 75,
   "id": "b17397aa",
   "metadata": {},
   "outputs": [
    {
     "name": "stdout",
     "output_type": "stream",
     "text": [
      "Cantidad cobrada hasta el momento:  0\n",
      "Cantidad pendiente de cobro:  10000.0\n",
      "Cantidad cobrada hasta el momento:  0\n",
      "Cantidad pendiente de cobro:  35000.0\n",
      "Cantidad cobrada hasta el momento:  0\n",
      "Cantidad pendiente de cobro:  50000.0\n",
      "Cantidad cobrada hasta el momento:  15000.0\n",
      "Cantidad pendiente de cobro:  35000.0\n"
     ]
    }
   ],
   "source": [
    "facturas = {}\n",
    "cobrado = 0\n",
    "pendiente = 0\n",
    "\n",
    "while True:\n",
    "    accion = input(\"Ingrese una opcion ( Añadir una factura (a), pagar una factura (p), o terminar (t) ): \")\n",
    "    if accion == \"a\":\n",
    "        num_factura = input(\"Ingrese el numero de factura: \")\n",
    "        coste = float(input(\"Ingrese el coste de la factura: \"))\n",
    "        facturas[num_factura] = coste\n",
    "        pendiente += coste\n",
    "    elif accion == \"p\":\n",
    "        num_factura = input(\"Ingrese el numero de factura a pagar: \")\n",
    "        if num_factura in facturas:\n",
    "            cobrado += facturas[num_factura]\n",
    "            pendiente -= facturas[num_factura]\n",
    "            del facturas[num_factura]\n",
    "        else:\n",
    "            print(\"La factura no existe\")\n",
    "    elif accion == \"t\":\n",
    "        break\n",
    "    else:\n",
    "        print(\"Acción no válida\")\n",
    "\n",
    "    print(\"Cantidad cobrada hasta el momento: \", cobrado)\n",
    "    print(\"Cantidad pendiente de cobro: \", pendiente)\n"
   ]
  },
  {
   "cell_type": "markdown",
   "id": "375ac7fc",
   "metadata": {},
   "source": [
    "5. El directorio de los clientes de una empresa está organizado en una cadena de texto como la de más abajo, donde cada línea contiene la información del nombre, email, teléfono, nif, y el descuento que se le aplica. Las líneas se separan con el carácter de cambio de línea \\n y la primera línea contiene los nombres de los campos con la información contenida en el directorio.\n",
    "\n",
    "`\"nif;nombre;email;teléfono;descuento\\n01234567L;Luis González;luisgonzalez@mail.com;656343576;12.5\\n71476342J;Macarena Ramírez;macarena@mail.com;692839321;8\\n63823376M;Juan José Martínez;juanjo@mail.com;664888233;5.2\\n98376547F;Carmen Sánchez;carmen@mail.com;667677855;15.7\"`\n",
    "\n",
    "Escribir un programa que genere un diccionario con la información del directorio, donde cada elemento corresponda a un cliente y tenga por clave su nif y por valor otro diccionario con el resto de la información del cliente. Los diccionarios con la información de cada cliente tendrán como claves los nombres de los campos y como valores la información de cada cliente correspondientes a los campos. Es decir, un diccionario como el siguiente\n",
    "\n",
    "`{'01234567L': {'nombre': 'Luis González', 'email': 'luisgonzalez@mail.com', 'teléfono': '656343576', 'descuento': 12.5}, '71476342J': {'nombre': 'Macarena Ramírez', 'email': 'macarena@mail.com', 'teléfono': '692839321', 'descuento': 8.0}, '63823376M': {'nombre': 'Juan José Martínez', 'email': 'juanjo@mail.com', 'teléfono': '664888233', 'descuento': 5.2}, '98376547F': {'nombre': 'Carmen Sánchez', 'email': 'carmen@mail.com', 'teléfono': '667677855', 'descuento': 15.7}}`"
   ]
  },
  {
   "cell_type": "code",
   "execution_count": 89,
   "id": "bd457983",
   "metadata": {},
   "outputs": [
    {
     "name": "stdout",
     "output_type": "stream",
     "text": [
      "{'01234567L': {'nombre': 'Luis González', 'email': 'luisgonzalez@mail.com', 'teléfono': '656343576', 'descuento': 12.5}, '71476342J': {'nombre': 'Macarena Ramírez', 'email': 'macarena@mail.com', 'teléfono': '692839321', 'descuento': 8.0}, '63823376M': {'nombre': 'Juan José Martínez', 'email': 'juanjo@mail.com', 'teléfono': '664888233', 'descuento': 5.2}, '98376547F': {'nombre': 'Carmen Sánchez', 'email': 'carmen@mail.com', 'teléfono': '667677855', 'descuento': 15.7}}\n"
     ]
    }
   ],
   "source": [
    "directorio = \"nif;nombre;email;teléfono;descuento\\n01234567L;Luis González;luisgonzalez@mail.com;656343576;12.5\\n71476342J;Macarena Ramírez;macarena@mail.com;692839321;8\\n63823376M;Juan José Martínez;juanjo@mail.com;664888233;5.2\\n98376547F;Carmen Sánchez;carmen@mail.com;667677855;15.7\"\n",
    "\n",
    "# Separamos las lineas del directorio\n",
    "lineas = directorio.split(\"\\n\")\n",
    "\n",
    "# Obtenemos los nombres de los campos\n",
    "campos = lineas[0].split(\";\")\n",
    "\n",
    "# Eliminamos la primera linea (nombres de campos)\n",
    "lineas.pop(0)\n",
    "\n",
    "# Creamos el diccionario de clientes\n",
    "clientes = {}\n",
    "for linea in lineas:\n",
    "    datos = linea.split(\";\")\n",
    "    nif = datos[0]\n",
    "    cliente = {}\n",
    "    for i in range(1, len(campos)):\n",
    "        cliente[campos[i]] = datos[i]\n",
    "        if campos[i] == \"descuento\":\n",
    "            cliente[campos[i]] = float(cliente[campos[i]])\n",
    "    clientes[nif] = cliente\n",
    "\n",
    "# Mostramos el diccionario de clientes\n",
    "print(clientes)\n",
    " "
   ]
  },
  {
   "cell_type": "markdown",
   "id": "63e74656",
   "metadata": {},
   "source": [
    "# Ejercicios de Funciones\n",
    "1. Escribir una función a la que se le pase una cadena `<nombre>` y muestre por pantalla el saludo ¡hola `<nombre>`!."
   ]
  },
  {
   "cell_type": "code",
   "execution_count": 84,
   "id": "2dd2c638",
   "metadata": {},
   "outputs": [
    {
     "name": "stdout",
     "output_type": "stream",
     "text": [
      "¡Hola Santiago!\n"
     ]
    }
   ],
   "source": [
    "def saludar(nombre):\n",
    "    print(f\"¡Hola {nombre}!\")\n",
    "\n",
    "\n",
    "saludar(\"Santiago\")"
   ]
  },
  {
   "cell_type": "markdown",
   "id": "722b0a26",
   "metadata": {},
   "source": [
    "2. Escribir una función que reciba un número entero positivo y devuelva su factorial."
   ]
  },
  {
   "cell_type": "code",
   "execution_count": 90,
   "id": "4267cf24",
   "metadata": {},
   "outputs": [
    {
     "name": "stdout",
     "output_type": "stream",
     "text": [
      "120\n"
     ]
    }
   ],
   "source": [
    "def factorial(n):\n",
    "\n",
    "    resultado = 1\n",
    "    for i in range(1, n+1):\n",
    "        resultado *= i\n",
    "    return resultado\n",
    "\n",
    "n = 5\n",
    "resultado = factorial(n)\n",
    "print(resultado)"
   ]
  },
  {
   "cell_type": "markdown",
   "id": "47d396f8",
   "metadata": {},
   "source": [
    "3. Escribir una función que calcule el total de una factura tras aplicarle el IVA. La función debe recibir la cantidad sin IVA y el porcentaje de IVA a aplicar, y devolver el total de la factura. Si se invoca la función sin pasarle el porcentaje de IVA, deberá aplicar un 21%."
   ]
  },
  {
   "cell_type": "code",
   "execution_count": 92,
   "id": "5b1d3403",
   "metadata": {},
   "outputs": [
    {
     "name": "stdout",
     "output_type": "stream",
     "text": [
      "Total con IVA: 121.0\n"
     ]
    }
   ],
   "source": [
    "def calcular_total_con_iva(cantidad, porcentaje_iva=21):\n",
    "\n",
    "    total = cantidad * (1 + porcentaje_iva / 100)\n",
    "    return total\n",
    "\n",
    "\n",
    "total = calcular_total_con_iva(100)\n",
    "print(\"Total con IVA:\", total)"
   ]
  },
  {
   "cell_type": "markdown",
   "id": "2adda5aa",
   "metadata": {},
   "source": [
    "4. Escribir una función que calcule el área de un círculo y otra que calcule el volumen de un cilindro usando la primera función."
   ]
  },
  {
   "cell_type": "code",
   "execution_count": 98,
   "id": "1ea2788a",
   "metadata": {},
   "outputs": [
    {
     "name": "stdout",
     "output_type": "stream",
     "text": [
      "28.27431\n",
      "141.37155\n"
     ]
    }
   ],
   "source": [
    "def area_circulo(radio):\n",
    "    pi = 3.14159\n",
    "    return pi * radio**2\n",
    "\n",
    "def volumen_cilindro(radio, altura):\n",
    "    area_base = area_circulo(radio)\n",
    "    return area_base * altura\n",
    "\n",
    "print(area_circulo(3))\n",
    "print(volumen_cilindro(3, 5))\n"
   ]
  },
  {
   "cell_type": "markdown",
   "id": "8399cb23",
   "metadata": {},
   "source": [
    "5. Escribir una función que reciba una muestra de números en una lista y devuelva su media."
   ]
  },
  {
   "cell_type": "code",
   "execution_count": 101,
   "id": "cf3fa76b",
   "metadata": {},
   "outputs": [
    {
     "name": "stdout",
     "output_type": "stream",
     "text": [
      "La media es: 6.2\n"
     ]
    }
   ],
   "source": [
    "def media(lista):\n",
    "\n",
    "    return sum(lista) / len(lista)\n",
    "\n",
    "numeros = [10, 2, 10, 4, 5]\n",
    "print(\"La media es:\", media(numeros))"
   ]
  },
  {
   "cell_type": "markdown",
   "id": "0549988a",
   "metadata": {},
   "source": [
    "6. Escribir una función que reciba una muestra de números en una lista y devuelva otra lista con sus cuadrados."
   ]
  },
  {
   "cell_type": "code",
   "execution_count": 104,
   "id": "296a235c",
   "metadata": {},
   "outputs": [
    {
     "data": {
      "text/plain": [
       "[1, 4, 9, 16, 25]"
      ]
     },
     "execution_count": 104,
     "metadata": {},
     "output_type": "execute_result"
    }
   ],
   "source": [
    "def cuadrados(lista):\n",
    "    return [x**2 for x in lista]\n",
    "\n",
    "\n",
    "lista = [1, 2, 3, 4, 5]\n",
    "cuadrados(lista)"
   ]
  },
  {
   "cell_type": "markdown",
   "id": "957f415a",
   "metadata": {},
   "source": [
    "7. Escribir una función que reciba una muestra de números en una lista y devuelva un diccionario con su media, varianza y desviación típica."
   ]
  },
  {
   "cell_type": "code",
   "execution_count": 106,
   "id": "7d18dd65",
   "metadata": {},
   "outputs": [
    {
     "name": "stdout",
     "output_type": "stream",
     "text": [
      "{'Media': 6.0, 'Varianza': 10.0, 'Desviacion_tipica': 3.1622776601683795}\n"
     ]
    }
   ],
   "source": [
    "def estadisticas(lista):\n",
    "    n = len(lista)\n",
    "    media = sum(lista) / n\n",
    "    varianza = sum((x - media) ** 2 for x in lista) / (n - 1)\n",
    "    desviacion_tipica = varianza ** 0.5\n",
    "    return {\"Media\": media, \"Varianza\": varianza, \"Desviacion_tipica\": desviacion_tipica}\n",
    "\n",
    "\n",
    "lista = [2, 4, 6, 8, 10]\n",
    "estadisticas_lista = estadisticas(lista)\n",
    "print(estadisticas_lista)"
   ]
  },
  {
   "cell_type": "markdown",
   "id": "a398d9f2",
   "metadata": {},
   "source": [
    "8. Escribir una función que calcule el máximo común divisor de dos números y otra que calcule el mínimo común múltiplo."
   ]
  },
  {
   "cell_type": "code",
   "execution_count": 108,
   "id": "5d4145e8",
   "metadata": {},
   "outputs": [
    {
     "name": "stdout",
     "output_type": "stream",
     "text": [
      "El maximo comun divisor de 24 y 36 es 12\n",
      "El minimo comun multiplo de 24 y 36 es 72\n"
     ]
    }
   ],
   "source": [
    "def mcd(a, b):\n",
    "    while b != 0:\n",
    "        a, b = b, a % b\n",
    "    return a\n",
    "\n",
    "\n",
    "def mcm(a, b):\n",
    "    return a * b // mcd(a, b)\n",
    "\n",
    "\n",
    "num1 = 24\n",
    "num2 = 36\n",
    "print(\"El maximo comun divisor de\", num1, \"y\", num2, \"es\", mcd(num1, num2))\n",
    "print(\"El minimo comun multiplo de\", num1, \"y\", num2, \"es\", mcm(num1, num2))"
   ]
  },
  {
   "cell_type": "markdown",
   "id": "dd92251a",
   "metadata": {},
   "source": [
    "9. Escribir una función que convierta un número decimal en binario y otra que convierta un número binario en decimal."
   ]
  },
  {
   "cell_type": "code",
   "execution_count": 115,
   "id": "65361ad8",
   "metadata": {},
   "outputs": [
    {
     "name": "stdout",
     "output_type": "stream",
     "text": [
      "0b1010\n",
      "37\n"
     ]
    }
   ],
   "source": [
    "def decimal_a_binario(decimal):\n",
    "    if decimal == 0:\n",
    "        return '0b0'\n",
    "    binario = ''\n",
    "    while decimal > 0:\n",
    "        resto = decimal % 2\n",
    "        decimal //= 2\n",
    "        binario = str(resto) + binario\n",
    "    return '0b' + binario\n",
    "\n",
    "def binario_a_decimal(binario):\n",
    "    if binario[:2] != '0b':\n",
    "        return None\n",
    "    decimal = 0\n",
    "    potencia = 0\n",
    "    for digito in binario[2:][::-1]:\n",
    "        if digito == '1':\n",
    "            decimal += 2**potencia\n",
    "        potencia += 1\n",
    "    return decimal\n",
    "\n",
    "\n",
    "decimal = 10\n",
    "binario = \"0b100101\"\n",
    "print(decimal_a_binario(decimal))\n",
    "print(binario_a_decimal(binario))\n"
   ]
  },
  {
   "cell_type": "markdown",
   "id": "31f0a4da",
   "metadata": {},
   "source": [
    "10. Escribir un programa que reciba una cadena de caracteres y devuelva un diccionario con cada palabra que contiene y su frecuencia. Escribir otra función que reciba el diccionario generado con la función anterior y devuelva una tupla con la palabra más repetida y su frecuencia."
   ]
  },
  {
   "cell_type": "code",
   "execution_count": 116,
   "id": "01eb5cd3",
   "metadata": {},
   "outputs": [
    {
     "name": "stdout",
     "output_type": "stream",
     "text": [
      "{'Hola': 1, 'mundo': 2, 'hola': 1, 'python': 4}\n",
      "La palabra mas repetida es python con una frecuencia de 4\n"
     ]
    }
   ],
   "source": [
    "def contar_palabras(cadena):\n",
    "    palabras = cadena.split()\n",
    "    frecuencia = {}\n",
    "    for palabra in palabras:\n",
    "        if palabra in frecuencia:\n",
    "            frecuencia[palabra] += 1\n",
    "        else:\n",
    "            frecuencia[palabra] = 1\n",
    "    return frecuencia\n",
    "\n",
    "def palabra_mas_repetida(frecuencia):\n",
    "    max_frecuencia = 0\n",
    "    palabra_max_frecuencia = None\n",
    "    for palabra, frec in frecuencia.items():\n",
    "        if frec > max_frecuencia:\n",
    "            max_frecuencia = frec\n",
    "            palabra_max_frecuencia = palabra\n",
    "    return (palabra_max_frecuencia, max_frecuencia)\n",
    "\n",
    "\n",
    "cadena = \"Hola mundo hola python mundo python python python\"\n",
    "frecuencia = contar_palabras(cadena)\n",
    "print(frecuencia)\n",
    "palabra, frec = palabra_mas_repetida(frecuencia)\n",
    "print(\"La palabra mas repetida es {} con una frecuencia de {}\".format(palabra, frec))"
   ]
  }
 ],
 "metadata": {
  "kernelspec": {
   "display_name": "Python 3 (ipykernel)",
   "language": "python",
   "name": "python3"
  },
  "language_info": {
   "codemirror_mode": {
    "name": "ipython",
    "version": 3
   },
   "file_extension": ".py",
   "mimetype": "text/x-python",
   "name": "python",
   "nbconvert_exporter": "python",
   "pygments_lexer": "ipython3",
   "version": "3.10.5"
  }
 },
 "nbformat": 4,
 "nbformat_minor": 5
}
