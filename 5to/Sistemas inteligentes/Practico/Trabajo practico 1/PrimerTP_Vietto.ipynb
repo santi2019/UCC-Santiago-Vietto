{
  "cells": [
    {
      "cell_type": "markdown",
      "id": "08d81568",
      "metadata": {
        "id": "08d81568"
      },
      "source": [
        "# 1er TP de sistemas inteligentes\n",
        "\n",
        "Nombre: Santiago Vietto - 1802890\n",
        "\n",
        "Este trabajo práctico se aprueba completando más del 70% del mismo. Una vez completado el notebook y reenvielo al email 2329034@ucc.edu.ar. Importante: Asegurese que su correo haya llegado."
      ]
    },
    {
      "cell_type": "markdown",
      "id": "327c0583",
      "metadata": {
        "id": "327c0583"
      },
      "source": [
        "### Entender el problema\n",
        "\n",
        "Este conjunto de datos describe los hongos en términos de sus características físicas. Se clasifican como venenosos o comestibles.\n",
        "\n",
        "Este conjunto de datos incluye descripciones de muestras hipotéticas correspondientes a 23 especies de hongos de láminas en las familias Agaricus y Lepiota. Cada especie se identifica como definitivamente comestible, definitivamente venenosa o de comestibilidad desconocida y no recomendada. Esta última clase se combinó con la venenosa. La guía establece claramente que no hay una regla simple para determinar la comestibilidad de un hongo. Con esa informacion:\n",
        "\n",
        "Siendo la clase positiva la indicación que el hongo es venenoso ¿Qué le estaría pidiendo a mi clasificador qué tenga en cuenta si le pido un puntaje de precision alto?\n",
        "\n",
        "url = 'https://gitlab.com/francisco.arduh/datasets/-/raw/main/mushroom.csv'"
      ]
    },
    {
      "cell_type": "markdown",
      "id": "2dbe88e8",
      "metadata": {
        "id": "2dbe88e8"
      },
      "source": [
        "<10%>\n",
        "Respuesta: En resumen, si se pide un puntaje de precisión alto para la clasificación de hongos venenosos, lo que se le pide al clasificador es que basicamente detecte correctamente los hongos venenosos. En donde el clasificador debe tener una alta sensibilidad y especificidad para la clase positiva, que son los hongos venenoso, pudiendo identificarlos correctamente y a su vez que minimice el número de hongos comestibles que fueron clasificados por error como venenosos."
      ]
    },
    {
      "cell_type": "markdown",
      "id": "2cce0937",
      "metadata": {
        "id": "2cce0937"
      },
      "source": [
        "### Obtención de datos\n",
        "Importe las librerías a utilizar:"
      ]
    },
    {
      "cell_type": "code",
      "execution_count": 31,
      "id": "09c7afae",
      "metadata": {
        "id": "09c7afae"
      },
      "outputs": [],
      "source": [
        "import pandas as pd\n",
        "import os\n",
        "import tarfile\n",
        "import urllib\n",
        "import matplotlib.pyplot as plt\n",
        "import numpy as np\n",
        "from sklearn.model_selection import train_test_split, cross_val_predict, GridSearchCV\n",
        "from sklearn.preprocessing import OneHotEncoder, StandardScaler\n",
        "from sklearn.metrics import roc_auc_score, accuracy_score, recall_score, precision_score, f1_score\n",
        "from sklearn.compose import ColumnTransformer"
      ]
    },
    {
      "cell_type": "markdown",
      "id": "7V875nD6Axm5",
      "metadata": {
        "id": "7V875nD6Axm5"
      },
      "source": [
        "Respuesta: Las siguientes librerias a importar son aquellas que nos ayudaran a correr las funciones que seran utilizadas a lo largo del proyecto:\n",
        "\n",
        "\n",
        "* Las 6 primeras nos serviran para proporcionar estructuras de datos y herramientas para la manipulacion y analisis de datos, interactuar con el sistema operativo, como crear directorios, obtener info sobre el sistema, trabajar con archivos de formato tar, y por ej. comprimir y descomprimir archivos, descarga de archivos de internet, vizualizar de datos en 2D en forma de graficos, histogramas, etc.\n",
        "* Las demas importan diversas herramientas de la biblioteca scikit-learn (sklearn) para procesamiento de datos y modelado de ML, como por ejemplo para dividir un conjunto de datos en conjuntos de entrenamiento y prueba, de manera aleatoria, hacer validacion cruzada para evaluar el rendimiento, realizar una busqueda exhaustiva de los mejores hiperparametros, transformar variables categoricas en variables numericas, calcular diferentes metricas de evaluacion, etc."
      ]
    },
    {
      "cell_type": "markdown",
      "id": "8904aa72",
      "metadata": {
        "id": "8904aa72"
      },
      "source": [
        "Importe los datos:"
      ]
    },
    {
      "cell_type": "code",
      "execution_count": 2,
      "id": "0910c962",
      "metadata": {
        "colab": {
          "base_uri": "https://localhost:8080/",
          "height": 300
        },
        "id": "0910c962",
        "outputId": "8e1851db-8102-4c13-e0d9-e0c9ead12be0"
      },
      "outputs": [
        {
          "data": {
            "text/html": [
              "\n",
              "  <div id=\"df-e3c0cc94-3df8-4fcd-8f11-85e175c40a5e\">\n",
              "    <div class=\"colab-df-container\">\n",
              "      <div>\n",
              "<style scoped>\n",
              "    .dataframe tbody tr th:only-of-type {\n",
              "        vertical-align: middle;\n",
              "    }\n",
              "\n",
              "    .dataframe tbody tr th {\n",
              "        vertical-align: top;\n",
              "    }\n",
              "\n",
              "    .dataframe thead th {\n",
              "        text-align: right;\n",
              "    }\n",
              "</style>\n",
              "<table border=\"1\" class=\"dataframe\">\n",
              "  <thead>\n",
              "    <tr style=\"text-align: right;\">\n",
              "      <th></th>\n",
              "      <th>cap-shape</th>\n",
              "      <th>cap-surface</th>\n",
              "      <th>cap-color</th>\n",
              "      <th>bruises%3F</th>\n",
              "      <th>odor</th>\n",
              "      <th>gill-attachment</th>\n",
              "      <th>gill-spacing</th>\n",
              "      <th>gill-size</th>\n",
              "      <th>gill-color</th>\n",
              "      <th>stalk-shape</th>\n",
              "      <th>...</th>\n",
              "      <th>stalk-color-above-ring</th>\n",
              "      <th>stalk-color-below-ring</th>\n",
              "      <th>veil-type</th>\n",
              "      <th>veil-color</th>\n",
              "      <th>ring-number</th>\n",
              "      <th>ring-type</th>\n",
              "      <th>spore-print-color</th>\n",
              "      <th>population</th>\n",
              "      <th>habitat</th>\n",
              "      <th>class</th>\n",
              "    </tr>\n",
              "  </thead>\n",
              "  <tbody>\n",
              "    <tr>\n",
              "      <th>count</th>\n",
              "      <td>8124</td>\n",
              "      <td>8124</td>\n",
              "      <td>8124</td>\n",
              "      <td>8124</td>\n",
              "      <td>8124</td>\n",
              "      <td>8124</td>\n",
              "      <td>8124</td>\n",
              "      <td>8124</td>\n",
              "      <td>8124</td>\n",
              "      <td>8124</td>\n",
              "      <td>...</td>\n",
              "      <td>8124</td>\n",
              "      <td>8124</td>\n",
              "      <td>8124</td>\n",
              "      <td>8124</td>\n",
              "      <td>8124</td>\n",
              "      <td>8124</td>\n",
              "      <td>8124</td>\n",
              "      <td>8124</td>\n",
              "      <td>8124</td>\n",
              "      <td>8124</td>\n",
              "    </tr>\n",
              "    <tr>\n",
              "      <th>unique</th>\n",
              "      <td>6</td>\n",
              "      <td>4</td>\n",
              "      <td>10</td>\n",
              "      <td>2</td>\n",
              "      <td>9</td>\n",
              "      <td>2</td>\n",
              "      <td>2</td>\n",
              "      <td>2</td>\n",
              "      <td>12</td>\n",
              "      <td>2</td>\n",
              "      <td>...</td>\n",
              "      <td>9</td>\n",
              "      <td>9</td>\n",
              "      <td>1</td>\n",
              "      <td>4</td>\n",
              "      <td>3</td>\n",
              "      <td>5</td>\n",
              "      <td>9</td>\n",
              "      <td>6</td>\n",
              "      <td>7</td>\n",
              "      <td>2</td>\n",
              "    </tr>\n",
              "    <tr>\n",
              "      <th>top</th>\n",
              "      <td>b'x'</td>\n",
              "      <td>b'y'</td>\n",
              "      <td>b'n'</td>\n",
              "      <td>b'f'</td>\n",
              "      <td>b'n'</td>\n",
              "      <td>b'f'</td>\n",
              "      <td>b'c'</td>\n",
              "      <td>b'b'</td>\n",
              "      <td>b'b'</td>\n",
              "      <td>b't'</td>\n",
              "      <td>...</td>\n",
              "      <td>b'w'</td>\n",
              "      <td>b'w'</td>\n",
              "      <td>b'p'</td>\n",
              "      <td>b'w'</td>\n",
              "      <td>b'o'</td>\n",
              "      <td>b'p'</td>\n",
              "      <td>b'w'</td>\n",
              "      <td>b'v'</td>\n",
              "      <td>b'd'</td>\n",
              "      <td>b'e'</td>\n",
              "    </tr>\n",
              "    <tr>\n",
              "      <th>freq</th>\n",
              "      <td>3656</td>\n",
              "      <td>3244</td>\n",
              "      <td>2284</td>\n",
              "      <td>4748</td>\n",
              "      <td>3528</td>\n",
              "      <td>7914</td>\n",
              "      <td>6812</td>\n",
              "      <td>5612</td>\n",
              "      <td>1728</td>\n",
              "      <td>4608</td>\n",
              "      <td>...</td>\n",
              "      <td>4464</td>\n",
              "      <td>4384</td>\n",
              "      <td>8124</td>\n",
              "      <td>7924</td>\n",
              "      <td>7488</td>\n",
              "      <td>3968</td>\n",
              "      <td>2388</td>\n",
              "      <td>4040</td>\n",
              "      <td>3148</td>\n",
              "      <td>4208</td>\n",
              "    </tr>\n",
              "  </tbody>\n",
              "</table>\n",
              "<p>4 rows × 23 columns</p>\n",
              "</div>\n",
              "      <button class=\"colab-df-convert\" onclick=\"convertToInteractive('df-e3c0cc94-3df8-4fcd-8f11-85e175c40a5e')\"\n",
              "              title=\"Convert this dataframe to an interactive table.\"\n",
              "              style=\"display:none;\">\n",
              "        \n",
              "  <svg xmlns=\"http://www.w3.org/2000/svg\" height=\"24px\"viewBox=\"0 0 24 24\"\n",
              "       width=\"24px\">\n",
              "    <path d=\"M0 0h24v24H0V0z\" fill=\"none\"/>\n",
              "    <path d=\"M18.56 5.44l.94 2.06.94-2.06 2.06-.94-2.06-.94-.94-2.06-.94 2.06-2.06.94zm-11 1L8.5 8.5l.94-2.06 2.06-.94-2.06-.94L8.5 2.5l-.94 2.06-2.06.94zm10 10l.94 2.06.94-2.06 2.06-.94-2.06-.94-.94-2.06-.94 2.06-2.06.94z\"/><path d=\"M17.41 7.96l-1.37-1.37c-.4-.4-.92-.59-1.43-.59-.52 0-1.04.2-1.43.59L10.3 9.45l-7.72 7.72c-.78.78-.78 2.05 0 2.83L4 21.41c.39.39.9.59 1.41.59.51 0 1.02-.2 1.41-.59l7.78-7.78 2.81-2.81c.8-.78.8-2.07 0-2.86zM5.41 20L4 18.59l7.72-7.72 1.47 1.35L5.41 20z\"/>\n",
              "  </svg>\n",
              "      </button>\n",
              "      \n",
              "  <style>\n",
              "    .colab-df-container {\n",
              "      display:flex;\n",
              "      flex-wrap:wrap;\n",
              "      gap: 12px;\n",
              "    }\n",
              "\n",
              "    .colab-df-convert {\n",
              "      background-color: #E8F0FE;\n",
              "      border: none;\n",
              "      border-radius: 50%;\n",
              "      cursor: pointer;\n",
              "      display: none;\n",
              "      fill: #1967D2;\n",
              "      height: 32px;\n",
              "      padding: 0 0 0 0;\n",
              "      width: 32px;\n",
              "    }\n",
              "\n",
              "    .colab-df-convert:hover {\n",
              "      background-color: #E2EBFA;\n",
              "      box-shadow: 0px 1px 2px rgba(60, 64, 67, 0.3), 0px 1px 3px 1px rgba(60, 64, 67, 0.15);\n",
              "      fill: #174EA6;\n",
              "    }\n",
              "\n",
              "    [theme=dark] .colab-df-convert {\n",
              "      background-color: #3B4455;\n",
              "      fill: #D2E3FC;\n",
              "    }\n",
              "\n",
              "    [theme=dark] .colab-df-convert:hover {\n",
              "      background-color: #434B5C;\n",
              "      box-shadow: 0px 1px 3px 1px rgba(0, 0, 0, 0.15);\n",
              "      filter: drop-shadow(0px 1px 2px rgba(0, 0, 0, 0.3));\n",
              "      fill: #FFFFFF;\n",
              "    }\n",
              "  </style>\n",
              "\n",
              "      <script>\n",
              "        const buttonEl =\n",
              "          document.querySelector('#df-e3c0cc94-3df8-4fcd-8f11-85e175c40a5e button.colab-df-convert');\n",
              "        buttonEl.style.display =\n",
              "          google.colab.kernel.accessAllowed ? 'block' : 'none';\n",
              "\n",
              "        async function convertToInteractive(key) {\n",
              "          const element = document.querySelector('#df-e3c0cc94-3df8-4fcd-8f11-85e175c40a5e');\n",
              "          const dataTable =\n",
              "            await google.colab.kernel.invokeFunction('convertToInteractive',\n",
              "                                                     [key], {});\n",
              "          if (!dataTable) return;\n",
              "\n",
              "          const docLinkHtml = 'Like what you see? Visit the ' +\n",
              "            '<a target=\"_blank\" href=https://colab.research.google.com/notebooks/data_table.ipynb>data table notebook</a>'\n",
              "            + ' to learn more about interactive tables.';\n",
              "          element.innerHTML = '';\n",
              "          dataTable['output_type'] = 'display_data';\n",
              "          await google.colab.output.renderOutput(dataTable, element);\n",
              "          const docLink = document.createElement('div');\n",
              "          docLink.innerHTML = docLinkHtml;\n",
              "          element.appendChild(docLink);\n",
              "        }\n",
              "      </script>\n",
              "    </div>\n",
              "  </div>\n",
              "  "
            ],
            "text/plain": [
              "       cap-shape cap-surface cap-color bruises%3F  odor gill-attachment  \\\n",
              "count       8124        8124      8124       8124  8124            8124   \n",
              "unique         6           4        10          2     9               2   \n",
              "top         b'x'        b'y'      b'n'       b'f'  b'n'            b'f'   \n",
              "freq        3656        3244      2284       4748  3528            7914   \n",
              "\n",
              "       gill-spacing gill-size gill-color stalk-shape  ...  \\\n",
              "count          8124      8124       8124        8124  ...   \n",
              "unique            2         2         12           2  ...   \n",
              "top            b'c'      b'b'       b'b'        b't'  ...   \n",
              "freq           6812      5612       1728        4608  ...   \n",
              "\n",
              "       stalk-color-above-ring stalk-color-below-ring veil-type veil-color  \\\n",
              "count                    8124                   8124      8124       8124   \n",
              "unique                      9                      9         1          4   \n",
              "top                      b'w'                   b'w'      b'p'       b'w'   \n",
              "freq                     4464                   4384      8124       7924   \n",
              "\n",
              "       ring-number ring-type spore-print-color population habitat class  \n",
              "count         8124      8124              8124       8124    8124  8124  \n",
              "unique           3         5                 9          6       7     2  \n",
              "top           b'o'      b'p'              b'w'       b'v'    b'd'  b'e'  \n",
              "freq          7488      3968              2388       4040    3148  4208  \n",
              "\n",
              "[4 rows x 23 columns]"
            ]
          },
          "execution_count": 2,
          "metadata": {},
          "output_type": "execute_result"
        }
      ],
      "source": [
        "# Descargamos los datos de la siguiente URL\n",
        "\n",
        "MUSHROOM_PATH= \"https://gitlab.com/francisco.arduh/datasets/-/raw/main/mushroom.csv\"\n",
        "\n",
        "# Cargamos los datos\n",
        "\n",
        "def load_mushroom_data(mushroom_path = MUSHROOM_PATH):\n",
        "    csv_path = os.path.join(mushroom_path)\n",
        "    return pd.read_csv(csv_path)\n",
        "\n",
        "# Vizualizamos los datos\n",
        "\n",
        "mushroom = load_mushroom_data()\n",
        "mushroom.describe()\n"
      ]
    },
    {
      "cell_type": "markdown",
      "id": "fFWPxkFZF68-",
      "metadata": {
        "id": "fFWPxkFZF68-"
      },
      "source": [
        "Respuesta: Entonces, como primera medida desacrgamos los datos. Podemos ver que la URL ya contiene el archivo CSV, por lo que simplemente debemos cargar los datos, y no crear el archivo comprimido para luego descomprimirlo en el CSV. Creamos la ruta o path del archivo, y por ultimo vizualizamos de forma ordenada el conjunto de datos que posee."
      ]
    },
    {
      "cell_type": "markdown",
      "id": "ed9ec84a",
      "metadata": {
        "id": "ed9ec84a"
      },
      "source": [
        "<10%> Realice una exploración de los datos, compruebe si existe faltante de datos en alguna columna, que tipo de distribución tienen los datos, si alguna columna tiene muchos datos únicos."
      ]
    },
    {
      "cell_type": "code",
      "execution_count": 3,
      "id": "7b115e26",
      "metadata": {
        "colab": {
          "base_uri": "https://localhost:8080/"
        },
        "id": "7b115e26",
        "outputId": "859ab71d-bbe8-4640-a41f-17b38112e843"
      },
      "outputs": [
        {
          "name": "stdout",
          "output_type": "stream",
          "text": [
            "<class 'pandas.core.frame.DataFrame'>\n",
            "RangeIndex: 8124 entries, 0 to 8123\n",
            "Data columns (total 23 columns):\n",
            " #   Column                    Non-Null Count  Dtype \n",
            "---  ------                    --------------  ----- \n",
            " 0   cap-shape                 8124 non-null   object\n",
            " 1   cap-surface               8124 non-null   object\n",
            " 2   cap-color                 8124 non-null   object\n",
            " 3   bruises%3F                8124 non-null   object\n",
            " 4   odor                      8124 non-null   object\n",
            " 5   gill-attachment           8124 non-null   object\n",
            " 6   gill-spacing              8124 non-null   object\n",
            " 7   gill-size                 8124 non-null   object\n",
            " 8   gill-color                8124 non-null   object\n",
            " 9   stalk-shape               8124 non-null   object\n",
            " 10  stalk-root                8124 non-null   object\n",
            " 11  stalk-surface-above-ring  8124 non-null   object\n",
            " 12  stalk-surface-below-ring  8124 non-null   object\n",
            " 13  stalk-color-above-ring    8124 non-null   object\n",
            " 14  stalk-color-below-ring    8124 non-null   object\n",
            " 15  veil-type                 8124 non-null   object\n",
            " 16  veil-color                8124 non-null   object\n",
            " 17  ring-number               8124 non-null   object\n",
            " 18  ring-type                 8124 non-null   object\n",
            " 19  spore-print-color         8124 non-null   object\n",
            " 20  population                8124 non-null   object\n",
            " 21  habitat                   8124 non-null   object\n",
            " 22  class                     8124 non-null   object\n",
            "dtypes: object(23)\n",
            "memory usage: 1.4+ MB\n",
            "None\n"
          ]
        }
      ],
      "source": [
        "# Obtenemos informacion del conjunto de datos, mediante la funcion info()\n",
        "\n",
        "print(mushroom.info())"
      ]
    },
    {
      "cell_type": "code",
      "execution_count": 4,
      "id": "wAFryCSEGqjt",
      "metadata": {
        "colab": {
          "base_uri": "https://localhost:8080/"
        },
        "id": "wAFryCSEGqjt",
        "outputId": "fbda39c4-1bc5-410e-d11a-00b27eda54b1"
      },
      "outputs": [
        {
          "name": "stdout",
          "output_type": "stream",
          "text": [
            "cap-shape                   0\n",
            "cap-surface                 0\n",
            "cap-color                   0\n",
            "bruises%3F                  0\n",
            "odor                        0\n",
            "gill-attachment             0\n",
            "gill-spacing                0\n",
            "gill-size                   0\n",
            "gill-color                  0\n",
            "stalk-shape                 0\n",
            "stalk-root                  0\n",
            "stalk-surface-above-ring    0\n",
            "stalk-surface-below-ring    0\n",
            "stalk-color-above-ring      0\n",
            "stalk-color-below-ring      0\n",
            "veil-type                   0\n",
            "veil-color                  0\n",
            "ring-number                 0\n",
            "ring-type                   0\n",
            "spore-print-color           0\n",
            "population                  0\n",
            "habitat                     0\n",
            "class                       0\n",
            "dtype: int64\n"
          ]
        }
      ],
      "source": [
        "# Comprobamos si hay de valores nulos o faltantes en alguna columna\n",
        "\n",
        "print(mushroom.isnull().sum())"
      ]
    },
    {
      "cell_type": "code",
      "execution_count": 5,
      "id": "WkIcEsyGGqdo",
      "metadata": {
        "colab": {
          "base_uri": "https://localhost:8080/"
        },
        "id": "WkIcEsyGGqdo",
        "outputId": "91bc1256-cb31-4fb7-fdd7-ae2857c46b66"
      },
      "outputs": [
        {
          "name": "stdout",
          "output_type": "stream",
          "text": [
            "cap-shape 6\n",
            "cap-surface 4\n",
            "cap-color 10\n",
            "bruises%3F 2\n",
            "odor 9\n",
            "gill-attachment 2\n",
            "gill-spacing 2\n",
            "gill-size 2\n",
            "gill-color 12\n",
            "stalk-shape 2\n",
            "stalk-root 5\n",
            "stalk-surface-above-ring 4\n",
            "stalk-surface-below-ring 4\n",
            "stalk-color-above-ring 9\n",
            "stalk-color-below-ring 9\n",
            "veil-type 1\n",
            "veil-color 4\n",
            "ring-number 3\n",
            "ring-type 5\n",
            "spore-print-color 9\n",
            "population 6\n",
            "habitat 7\n",
            "class 2\n"
          ]
        }
      ],
      "source": [
        "# Vemos la cantidad de valores unicos en cada columna\n",
        "\n",
        "for column in mushroom.columns:\n",
        "    print(column, mushroom[column].nunique())"
      ]
    },
    {
      "cell_type": "markdown",
      "id": "D8EDAJyDHyMW",
      "metadata": {
        "id": "D8EDAJyDHyMW"
      },
      "source": [
        "Respuesta: Una vez obtenido los resultados en estas 3 ejecuciones, podemos observar que:\n",
        "* Todas las columnas del conjunto de datos son objetos o variables categoricas, estos son diferentes a los atributos numericos, ya que son variables que pueden \n",
        "tomar valores continuos o discretos, similar a texto o string.\n",
        "* Comprobamos que no hay valores faltantes en ninguna columna.\n",
        "* Comprobamos que todas las columnas tienen mas de un valor unico."
      ]
    },
    {
      "cell_type": "markdown",
      "id": "857e6fb9",
      "metadata": {
        "id": "857e6fb9"
      },
      "source": [
        "<5%> Separar X_train, y_train, X_test, y_test"
      ]
    },
    {
      "cell_type": "code",
      "execution_count": 6,
      "id": "8o-p3nPSKVpt",
      "metadata": {
        "colab": {
          "base_uri": "https://localhost:8080/"
        },
        "id": "8o-p3nPSKVpt",
        "outputId": "bdc5b49c-6f4d-49ce-977b-6f3aa87fd642"
      },
      "outputs": [
        {
          "name": "stdout",
          "output_type": "stream",
          "text": [
            "[1 0 0 ... 0 1 0]\n"
          ]
        }
      ],
      "source": [
        "# Dividimos los datos segun train y test: \n",
        "\n",
        "X = mushroom.drop('class', axis=1)     # Todas las columnas excepto la clase son características\n",
        "y = mushroom['class']                  # La columna \"class\" es la etiqueta\n",
        "\n",
        "y = pd.Categorical(mushroom['class']).codes.astype(np.uint8)  # Transformamos la columna \"class\" en numerica\n",
        "print(y)"
      ]
    },
    {
      "cell_type": "code",
      "execution_count": 7,
      "id": "IqTu5lclKVib",
      "metadata": {
        "id": "IqTu5lclKVib"
      },
      "outputs": [],
      "source": [
        "# Separamos el conjuntos de entrenamiento (80%) y prueba (20%)\n",
        "\n",
        "X_train, X_test, y_train, y_test = train_test_split(X, y, test_size=0.2, random_state=42)"
      ]
    },
    {
      "cell_type": "code",
      "execution_count": 8,
      "id": "e0vragv7Komc",
      "metadata": {
        "colab": {
          "base_uri": "https://localhost:8080/"
        },
        "id": "e0vragv7Komc",
        "outputId": "d90b7371-294f-45cb-a859-7f6881bda243"
      },
      "outputs": [
        {
          "name": "stdout",
          "output_type": "stream",
          "text": [
            "Tamaño de X_train: (6499, 22)\n",
            "Tamaño de X_test: (1625, 22)\n",
            "Tamaño de y_train: (6499,)\n",
            "Tamaño de y_test: (1625,)\n"
          ]
        }
      ],
      "source": [
        "# Vemos las variables\n",
        "\n",
        "print(\"Tamaño de X_train:\", X_train.shape)\n",
        "print(\"Tamaño de X_test:\", X_test.shape)\n",
        "print(\"Tamaño de y_train:\", y_train.shape)\n",
        "print(\"Tamaño de y_test:\", y_test.shape)"
      ]
    },
    {
      "cell_type": "markdown",
      "id": "SfDmgIH5KWsP",
      "metadata": {
        "id": "SfDmgIH5KWsP"
      },
      "source": [
        "Respuesta: Analizando estas lineas tenemos que:\n",
        "\n",
        "* Primero preparamos los datos para un analisis de clasificacion de hongos comestibles o venenosos. Vemos que en X guardamos todas las columnas, menos la columna \"class\", porque X es una matriz de características que se va a usar para predecir la etiqueta \"class\", y esta ultima se almacena en la variable \"y\" que es una serie de etiquetas \"class\" correspondientes a cada instancia de la matriz X. Ademas, se convertimos la columna \"class\" de los datos de hongos a numeros enteros para facilitar su manejo y asi no manipular strings.\n",
        "* Luego lo que hacemos es dividir el conjunto de datos en un conjunto de entrenamiento y otro de prueba, en donde X es el conjunto de características o variables explicativas, y es el conjunto de etiquetas o variable objetivo, indicamos que el conjunto de prueba tendra el 20% de los datos y el conjunto de entrenamiento tendra el 80% restante, y random_state=42 es una semilla que se utiliza para asegurar que la division sea reproducible.\n",
        "* Por ultimo visualizamos las variables creadas."
      ]
    },
    {
      "cell_type": "markdown",
      "id": "ab1cc3bf",
      "metadata": {
        "id": "ab1cc3bf"
      },
      "source": [
        "### Procesado y transformación de datos\n",
        "<10%> ¿Qué transformaciones debería aplicar? Especifique y justifique por grupo de columnas.\n",
        "\n",
        "Por ejemplo: columna A, B y C aplicaría transformación X porque ...\n",
        "\n",
        "Escriba los nombres de las columna en una lista por cada grupo:"
      ]
    },
    {
      "cell_type": "markdown",
      "id": "PUKnpK92Pzh9",
      "metadata": {
        "id": "PUKnpK92Pzh9"
      },
      "source": [
        "Respuesta: Dado a que todas las columnas del conjunto de datos mushroom son de tipo categoricas, se pueden aplicar las siguientes transformaciones:\n",
        "\n",
        "* Columnas categoricas: en todas estas columnas deberiamos aplicar una codificacion \"one-hot\", ya que todas estas columnas tienen valores discretos. Las columnas son, 'cap-shape', 'cap-surface', 'cap-color', 'bruises%3F', 'odor', 'gill-attachment, 'gill-spacing', 'gill-size', 'gill-color', 'stalk-shape', 'stalk-root', 'stalk-surface-above-ring', 'stalk-surface-below-ring', 'stalk-color-above-ring', 'stalk-color-below-ring', 'veil-type', 'veil-color', 'ring-number', 'ring-type', 'spore-print-color', 'population', 'habitat'."
      ]
    },
    {
      "cell_type": "markdown",
      "id": "af6cc0c0",
      "metadata": {
        "id": "af6cc0c0"
      },
      "source": [
        "<15%> A continuación escriba el código para realizar las transformaciones transformaciones:"
      ]
    },
    {
      "cell_type": "code",
      "execution_count": 9,
      "id": "4a623b1f",
      "metadata": {
        "colab": {
          "base_uri": "https://localhost:8080/"
        },
        "id": "4a623b1f",
        "outputId": "06518ddf-219a-42fb-b6f9-a383c8e884e7"
      },
      "outputs": [
        {
          "data": {
            "text/plain": [
              "<6499x117 sparse matrix of type '<class 'numpy.float64'>'\n",
              "\twith 142978 stored elements in Compressed Sparse Row format>"
            ]
          },
          "execution_count": 9,
          "metadata": {},
          "output_type": "execute_result"
        }
      ],
      "source": [
        "# Separar variables numericas y categoricas\n",
        "\n",
        "mushroom_cat = X_train[['cap-shape', 'cap-surface', 'cap-color', 'bruises%3F', 'odor', 'gill-attachment', \n",
        "                'gill-spacing', 'gill-size', 'gill-color', 'stalk-shape', 'stalk-root', \n",
        "                'stalk-surface-above-ring', 'stalk-surface-below-ring', 'stalk-color-above-ring', \n",
        "                'stalk-color-below-ring', 'veil-type', 'veil-color', 'ring-number', 'ring-type', \n",
        "                'spore-print-color', 'population', 'habitat']]\n",
        "\n",
        "cat_encoder = OneHotEncoder()\n",
        "mushroom_cat_X_train_1hot = cat_encoder.fit_transform(mushroom_cat)\n",
        "mushroom_cat_X_test_1hot = cat_encoder.transform(X_test)\n",
        "mushroom_cat_X_train_1hot"
      ]
    },
    {
      "cell_type": "code",
      "execution_count": 10,
      "id": "M9OvWdUMSSmi",
      "metadata": {
        "colab": {
          "base_uri": "https://localhost:8080/"
        },
        "id": "M9OvWdUMSSmi",
        "outputId": "ae2d9c85-9b4a-41ce-b86a-e103e060a7cf"
      },
      "outputs": [
        {
          "data": {
            "text/plain": [
              "array([[0., 0., 0., ..., 0., 0., 0.],\n",
              "       [0., 0., 0., ..., 1., 0., 0.],\n",
              "       [0., 0., 1., ..., 0., 0., 0.],\n",
              "       ...,\n",
              "       [0., 0., 1., ..., 1., 0., 0.],\n",
              "       [0., 0., 0., ..., 1., 0., 0.],\n",
              "       [0., 0., 0., ..., 0., 0., 0.]])"
            ]
          },
          "execution_count": 10,
          "metadata": {},
          "output_type": "execute_result"
        }
      ],
      "source": [
        "# Convertimos la matriz dispersa en densa\n",
        "\n",
        "mushroom_cat_X_train_1hot.toarray()"
      ]
    },
    {
      "cell_type": "code",
      "execution_count": 11,
      "id": "nIOPGzXvSac5",
      "metadata": {
        "colab": {
          "base_uri": "https://localhost:8080/"
        },
        "id": "nIOPGzXvSac5",
        "outputId": "0e20380b-a940-47d5-ae63-e226b04b023b"
      },
      "outputs": [
        {
          "data": {
            "text/plain": [
              "[array([\"b'b'\", \"b'c'\", \"b'f'\", \"b'k'\", \"b's'\", \"b'x'\"], dtype=object),\n",
              " array([\"b'f'\", \"b'g'\", \"b's'\", \"b'y'\"], dtype=object),\n",
              " array([\"b'b'\", \"b'c'\", \"b'e'\", \"b'g'\", \"b'n'\", \"b'p'\", \"b'r'\", \"b'u'\",\n",
              "        \"b'w'\", \"b'y'\"], dtype=object),\n",
              " array([\"b'f'\", \"b't'\"], dtype=object),\n",
              " array([\"b'a'\", \"b'c'\", \"b'f'\", \"b'l'\", \"b'm'\", \"b'n'\", \"b'p'\", \"b's'\",\n",
              "        \"b'y'\"], dtype=object),\n",
              " array([\"b'a'\", \"b'f'\"], dtype=object),\n",
              " array([\"b'c'\", \"b'w'\"], dtype=object),\n",
              " array([\"b'b'\", \"b'n'\"], dtype=object),\n",
              " array([\"b'b'\", \"b'e'\", \"b'g'\", \"b'h'\", \"b'k'\", \"b'n'\", \"b'o'\", \"b'p'\",\n",
              "        \"b'r'\", \"b'u'\", \"b'w'\", \"b'y'\"], dtype=object),\n",
              " array([\"b'e'\", \"b't'\"], dtype=object),\n",
              " array([\"b'?'\", \"b'b'\", \"b'c'\", \"b'e'\", \"b'r'\"], dtype=object),\n",
              " array([\"b'f'\", \"b'k'\", \"b's'\", \"b'y'\"], dtype=object),\n",
              " array([\"b'f'\", \"b'k'\", \"b's'\", \"b'y'\"], dtype=object),\n",
              " array([\"b'b'\", \"b'c'\", \"b'e'\", \"b'g'\", \"b'n'\", \"b'o'\", \"b'p'\", \"b'w'\",\n",
              "        \"b'y'\"], dtype=object),\n",
              " array([\"b'b'\", \"b'c'\", \"b'e'\", \"b'g'\", \"b'n'\", \"b'o'\", \"b'p'\", \"b'w'\",\n",
              "        \"b'y'\"], dtype=object),\n",
              " array([\"b'p'\"], dtype=object),\n",
              " array([\"b'n'\", \"b'o'\", \"b'w'\", \"b'y'\"], dtype=object),\n",
              " array([\"b'n'\", \"b'o'\", \"b't'\"], dtype=object),\n",
              " array([\"b'e'\", \"b'f'\", \"b'l'\", \"b'n'\", \"b'p'\"], dtype=object),\n",
              " array([\"b'b'\", \"b'h'\", \"b'k'\", \"b'n'\", \"b'o'\", \"b'r'\", \"b'u'\", \"b'w'\",\n",
              "        \"b'y'\"], dtype=object),\n",
              " array([\"b'a'\", \"b'c'\", \"b'n'\", \"b's'\", \"b'v'\", \"b'y'\"], dtype=object),\n",
              " array([\"b'd'\", \"b'g'\", \"b'l'\", \"b'm'\", \"b'p'\", \"b'u'\", \"b'w'\"],\n",
              "       dtype=object)]"
            ]
          },
          "execution_count": 11,
          "metadata": {},
          "output_type": "execute_result"
        }
      ],
      "source": [
        "# Obtenemos la lista de categorías\n",
        "\n",
        "cat_encoder.categories_"
      ]
    },
    {
      "cell_type": "markdown",
      "id": "6Y01LeEtSm9e",
      "metadata": {
        "id": "6Y01LeEtSm9e"
      },
      "source": [
        "Respuesta: Analizamos las lineas de codigo anteriores y comentamos que:\n",
        "\n",
        "* Primero convertimos las variables categoricas que estan en el arreglo de X_tarin, en vectores one-hot. Con esta transofrmacion se crea una nueva columna para cada categoria posible y se le asigna un valor binario de 1 o 0 para indicar si esa categoria esta presente o no en la observacion. Entonces, estas nuevas columnas se llaman \"atributos ficticios\" porque no representan una medida real de la variable original, sino que son simplemente una forma de representar categoricamente las observaciones en un formato que puede ser entendido por los algoritmos de ML. Pero en primer lugar, luego de aplicar la codificadion, el resultado que obtenemos es una matriz dispersa con miles de columnas que representa los vectores one-hot.\n",
        "* En terminos de memoria esta matriz es ineficiente, ya que se utiliza una matriz dispersa que solo almacena la ubicacion de los elementos no nulos. Entonces lo que hacemos es convertir esta matriz dispersa en una matriz NumPy densa para poder manipularla como una matriz normal.\n",
        "* Por ultimo retornamos las categorias de las variables categoricas depsues de \n",
        "haber sido transformadas por el codificador One-Hot y almacenadas en el objeto cat_encoder."
      ]
    },
    {
      "cell_type": "markdown",
      "id": "76693b97",
      "metadata": {
        "id": "76693b97"
      },
      "source": [
        "### Selección de modelo y entrenamiento\n",
        " \n"
      ]
    },
    {
      "cell_type": "code",
      "execution_count": 12,
      "id": "8a371dfd",
      "metadata": {
        "colab": {
          "base_uri": "https://localhost:8080/",
          "height": 75
        },
        "id": "8a371dfd",
        "outputId": "749d1909-ad62-43ee-f256-cdab848045fd"
      },
      "outputs": [
        {
          "data": {
            "text/html": [
              "<style>#sk-container-id-1 {color: black;background-color: white;}#sk-container-id-1 pre{padding: 0;}#sk-container-id-1 div.sk-toggleable {background-color: white;}#sk-container-id-1 label.sk-toggleable__label {cursor: pointer;display: block;width: 100%;margin-bottom: 0;padding: 0.3em;box-sizing: border-box;text-align: center;}#sk-container-id-1 label.sk-toggleable__label-arrow:before {content: \"▸\";float: left;margin-right: 0.25em;color: #696969;}#sk-container-id-1 label.sk-toggleable__label-arrow:hover:before {color: black;}#sk-container-id-1 div.sk-estimator:hover label.sk-toggleable__label-arrow:before {color: black;}#sk-container-id-1 div.sk-toggleable__content {max-height: 0;max-width: 0;overflow: hidden;text-align: left;background-color: #f0f8ff;}#sk-container-id-1 div.sk-toggleable__content pre {margin: 0.2em;color: black;border-radius: 0.25em;background-color: #f0f8ff;}#sk-container-id-1 input.sk-toggleable__control:checked~div.sk-toggleable__content {max-height: 200px;max-width: 100%;overflow: auto;}#sk-container-id-1 input.sk-toggleable__control:checked~label.sk-toggleable__label-arrow:before {content: \"▾\";}#sk-container-id-1 div.sk-estimator input.sk-toggleable__control:checked~label.sk-toggleable__label {background-color: #d4ebff;}#sk-container-id-1 div.sk-label input.sk-toggleable__control:checked~label.sk-toggleable__label {background-color: #d4ebff;}#sk-container-id-1 input.sk-hidden--visually {border: 0;clip: rect(1px 1px 1px 1px);clip: rect(1px, 1px, 1px, 1px);height: 1px;margin: -1px;overflow: hidden;padding: 0;position: absolute;width: 1px;}#sk-container-id-1 div.sk-estimator {font-family: monospace;background-color: #f0f8ff;border: 1px dotted black;border-radius: 0.25em;box-sizing: border-box;margin-bottom: 0.5em;}#sk-container-id-1 div.sk-estimator:hover {background-color: #d4ebff;}#sk-container-id-1 div.sk-parallel-item::after {content: \"\";width: 100%;border-bottom: 1px solid gray;flex-grow: 1;}#sk-container-id-1 div.sk-label:hover label.sk-toggleable__label {background-color: #d4ebff;}#sk-container-id-1 div.sk-serial::before {content: \"\";position: absolute;border-left: 1px solid gray;box-sizing: border-box;top: 0;bottom: 0;left: 50%;z-index: 0;}#sk-container-id-1 div.sk-serial {display: flex;flex-direction: column;align-items: center;background-color: white;padding-right: 0.2em;padding-left: 0.2em;position: relative;}#sk-container-id-1 div.sk-item {position: relative;z-index: 1;}#sk-container-id-1 div.sk-parallel {display: flex;align-items: stretch;justify-content: center;background-color: white;position: relative;}#sk-container-id-1 div.sk-item::before, #sk-container-id-1 div.sk-parallel-item::before {content: \"\";position: absolute;border-left: 1px solid gray;box-sizing: border-box;top: 0;bottom: 0;left: 50%;z-index: -1;}#sk-container-id-1 div.sk-parallel-item {display: flex;flex-direction: column;z-index: 1;position: relative;background-color: white;}#sk-container-id-1 div.sk-parallel-item:first-child::after {align-self: flex-end;width: 50%;}#sk-container-id-1 div.sk-parallel-item:last-child::after {align-self: flex-start;width: 50%;}#sk-container-id-1 div.sk-parallel-item:only-child::after {width: 0;}#sk-container-id-1 div.sk-dashed-wrapped {border: 1px dashed gray;margin: 0 0.4em 0.5em 0.4em;box-sizing: border-box;padding-bottom: 0.4em;background-color: white;}#sk-container-id-1 div.sk-label label {font-family: monospace;font-weight: bold;display: inline-block;line-height: 1.2em;}#sk-container-id-1 div.sk-label-container {text-align: center;}#sk-container-id-1 div.sk-container {/* jupyter's `normalize.less` sets `[hidden] { display: none; }` but bootstrap.min.css set `[hidden] { display: none !important; }` so we also need the `!important` here to be able to override the default hidden behavior on the sphinx rendered scikit-learn.org. See: https://github.com/scikit-learn/scikit-learn/issues/21755 */display: inline-block !important;position: relative;}#sk-container-id-1 div.sk-text-repr-fallback {display: none;}</style><div id=\"sk-container-id-1\" class=\"sk-top-container\"><div class=\"sk-text-repr-fallback\"><pre>LogisticRegression()</pre><b>In a Jupyter environment, please rerun this cell to show the HTML representation or trust the notebook. <br />On GitHub, the HTML representation is unable to render, please try loading this page with nbviewer.org.</b></div><div class=\"sk-container\" hidden><div class=\"sk-item\"><div class=\"sk-estimator sk-toggleable\"><input class=\"sk-toggleable__control sk-hidden--visually\" id=\"sk-estimator-id-1\" type=\"checkbox\" checked><label for=\"sk-estimator-id-1\" class=\"sk-toggleable__label sk-toggleable__label-arrow\">LogisticRegression</label><div class=\"sk-toggleable__content\"><pre>LogisticRegression()</pre></div></div></div></div></div>"
            ],
            "text/plain": [
              "LogisticRegression()"
            ]
          },
          "execution_count": 12,
          "metadata": {},
          "output_type": "execute_result"
        }
      ],
      "source": [
        "# Entrenamos el modelo con regresion logistica\n",
        "\n",
        "from sklearn.linear_model import LogisticRegression\n",
        "\n",
        "cla_log = LogisticRegression()\n",
        "cla_log.fit(mushroom_cat_X_train_1hot, y_train)"
      ]
    },
    {
      "cell_type": "code",
      "execution_count": 13,
      "id": "Ri0oxUAfgYom",
      "metadata": {
        "colab": {
          "base_uri": "https://localhost:8080/",
          "height": 75
        },
        "id": "Ri0oxUAfgYom",
        "outputId": "6f200fb5-0dd8-4e7c-ed79-d76528da4af6"
      },
      "outputs": [
        {
          "data": {
            "text/html": [
              "<style>#sk-container-id-2 {color: black;background-color: white;}#sk-container-id-2 pre{padding: 0;}#sk-container-id-2 div.sk-toggleable {background-color: white;}#sk-container-id-2 label.sk-toggleable__label {cursor: pointer;display: block;width: 100%;margin-bottom: 0;padding: 0.3em;box-sizing: border-box;text-align: center;}#sk-container-id-2 label.sk-toggleable__label-arrow:before {content: \"▸\";float: left;margin-right: 0.25em;color: #696969;}#sk-container-id-2 label.sk-toggleable__label-arrow:hover:before {color: black;}#sk-container-id-2 div.sk-estimator:hover label.sk-toggleable__label-arrow:before {color: black;}#sk-container-id-2 div.sk-toggleable__content {max-height: 0;max-width: 0;overflow: hidden;text-align: left;background-color: #f0f8ff;}#sk-container-id-2 div.sk-toggleable__content pre {margin: 0.2em;color: black;border-radius: 0.25em;background-color: #f0f8ff;}#sk-container-id-2 input.sk-toggleable__control:checked~div.sk-toggleable__content {max-height: 200px;max-width: 100%;overflow: auto;}#sk-container-id-2 input.sk-toggleable__control:checked~label.sk-toggleable__label-arrow:before {content: \"▾\";}#sk-container-id-2 div.sk-estimator input.sk-toggleable__control:checked~label.sk-toggleable__label {background-color: #d4ebff;}#sk-container-id-2 div.sk-label input.sk-toggleable__control:checked~label.sk-toggleable__label {background-color: #d4ebff;}#sk-container-id-2 input.sk-hidden--visually {border: 0;clip: rect(1px 1px 1px 1px);clip: rect(1px, 1px, 1px, 1px);height: 1px;margin: -1px;overflow: hidden;padding: 0;position: absolute;width: 1px;}#sk-container-id-2 div.sk-estimator {font-family: monospace;background-color: #f0f8ff;border: 1px dotted black;border-radius: 0.25em;box-sizing: border-box;margin-bottom: 0.5em;}#sk-container-id-2 div.sk-estimator:hover {background-color: #d4ebff;}#sk-container-id-2 div.sk-parallel-item::after {content: \"\";width: 100%;border-bottom: 1px solid gray;flex-grow: 1;}#sk-container-id-2 div.sk-label:hover label.sk-toggleable__label {background-color: #d4ebff;}#sk-container-id-2 div.sk-serial::before {content: \"\";position: absolute;border-left: 1px solid gray;box-sizing: border-box;top: 0;bottom: 0;left: 50%;z-index: 0;}#sk-container-id-2 div.sk-serial {display: flex;flex-direction: column;align-items: center;background-color: white;padding-right: 0.2em;padding-left: 0.2em;position: relative;}#sk-container-id-2 div.sk-item {position: relative;z-index: 1;}#sk-container-id-2 div.sk-parallel {display: flex;align-items: stretch;justify-content: center;background-color: white;position: relative;}#sk-container-id-2 div.sk-item::before, #sk-container-id-2 div.sk-parallel-item::before {content: \"\";position: absolute;border-left: 1px solid gray;box-sizing: border-box;top: 0;bottom: 0;left: 50%;z-index: -1;}#sk-container-id-2 div.sk-parallel-item {display: flex;flex-direction: column;z-index: 1;position: relative;background-color: white;}#sk-container-id-2 div.sk-parallel-item:first-child::after {align-self: flex-end;width: 50%;}#sk-container-id-2 div.sk-parallel-item:last-child::after {align-self: flex-start;width: 50%;}#sk-container-id-2 div.sk-parallel-item:only-child::after {width: 0;}#sk-container-id-2 div.sk-dashed-wrapped {border: 1px dashed gray;margin: 0 0.4em 0.5em 0.4em;box-sizing: border-box;padding-bottom: 0.4em;background-color: white;}#sk-container-id-2 div.sk-label label {font-family: monospace;font-weight: bold;display: inline-block;line-height: 1.2em;}#sk-container-id-2 div.sk-label-container {text-align: center;}#sk-container-id-2 div.sk-container {/* jupyter's `normalize.less` sets `[hidden] { display: none; }` but bootstrap.min.css set `[hidden] { display: none !important; }` so we also need the `!important` here to be able to override the default hidden behavior on the sphinx rendered scikit-learn.org. See: https://github.com/scikit-learn/scikit-learn/issues/21755 */display: inline-block !important;position: relative;}#sk-container-id-2 div.sk-text-repr-fallback {display: none;}</style><div id=\"sk-container-id-2\" class=\"sk-top-container\"><div class=\"sk-text-repr-fallback\"><pre>RandomForestClassifier()</pre><b>In a Jupyter environment, please rerun this cell to show the HTML representation or trust the notebook. <br />On GitHub, the HTML representation is unable to render, please try loading this page with nbviewer.org.</b></div><div class=\"sk-container\" hidden><div class=\"sk-item\"><div class=\"sk-estimator sk-toggleable\"><input class=\"sk-toggleable__control sk-hidden--visually\" id=\"sk-estimator-id-2\" type=\"checkbox\" checked><label for=\"sk-estimator-id-2\" class=\"sk-toggleable__label sk-toggleable__label-arrow\">RandomForestClassifier</label><div class=\"sk-toggleable__content\"><pre>RandomForestClassifier()</pre></div></div></div></div></div>"
            ],
            "text/plain": [
              "RandomForestClassifier()"
            ]
          },
          "execution_count": 13,
          "metadata": {},
          "output_type": "execute_result"
        }
      ],
      "source": [
        "# Entrenamos el modelo con RandomForestClassifier\n",
        "\n",
        "from sklearn.ensemble import RandomForestClassifier\n",
        "\n",
        "cla_rf = RandomForestClassifier()\n",
        "cla_rf.fit(mushroom_cat_X_train_1hot, y_train)"
      ]
    },
    {
      "cell_type": "markdown",
      "id": "SHHMfT0niBxq",
      "metadata": {
        "id": "SHHMfT0niBxq"
      },
      "source": [
        "Respuesta: Dado los resultados anteriores, lo que hacemos en estas lineas es:\n",
        "\n",
        "* Aplicamos un modelo de regresion logistica en el conjunto de datos de entrenamiento. Usamos el conjunto de datos de caracteristicas de entrenamiento (mushroom_cat_X_train_1hot) y el conjunto de datos de etiquetas de entrenamiento (y_train). Y entrenamos el modelo con estos datos proporcionados.\n",
        "* Luego aplicamos un modelo RandomForestClassifier en el conjunto de datos de entrenamiento. Usamos el conjunto de datos de caracteristicas de entrenamiento (mushroom_cat_X_train_1hot) y el conjunto de datos de etiquetas de entrenamiento (y_train). Y entrenamos el modelo con estos datos proporcionados."
      ]
    },
    {
      "cell_type": "markdown",
      "id": "qtc-LMxfb3Zi",
      "metadata": {
        "id": "qtc-LMxfb3Zi"
      },
      "source": [
        "<15%>Utilice validación cruzada para evaluar los modelos que se importaron. Utilice el de area bajo la curva roc mas alto.\n",
        "Utilizar el metodo \"cross_val_predict\", tenga en cuenta que la variable, \"method\" para el LogisticRegression es \"decision_function\" y para RandomForestClassifier es \"predict_proba\" (ver clase o libro)"
      ]
    },
    {
      "cell_type": "code",
      "execution_count": 14,
      "id": "9kPk--KHjlk9",
      "metadata": {
        "colab": {
          "base_uri": "https://localhost:8080/"
        },
        "id": "9kPk--KHjlk9",
        "outputId": "f18d59d9-56d5-41c0-8185-440c05f12ea2"
      },
      "outputs": [
        {
          "name": "stdout",
          "output_type": "stream",
          "text": [
            "Logistic Regression AUC: 1.0\n"
          ]
        }
      ],
      "source": [
        "# Aplicamos validacion cruzada para Logistic Regression\n",
        "\n",
        "# Realizamos la validacion cruzada con 3 particiones\n",
        "y_df_log = cross_val_predict(cla_log, mushroom_cat_X_train_1hot, y_train, cv=3, method='decision_function')\n",
        "\n",
        "# Calculamos el area bajo la curva ROC\n",
        "auc_roc = roc_auc_score(y_train, y_df_log)\n",
        "\n",
        "# Vemos el resultado\n",
        "print(\"Logistic Regression AUC:\", auc_roc)"
      ]
    },
    {
      "cell_type": "code",
      "execution_count": 15,
      "id": "ktSsyUAqb70S",
      "metadata": {
        "colab": {
          "base_uri": "https://localhost:8080/"
        },
        "id": "ktSsyUAqb70S",
        "outputId": "967c5872-60ca-41a3-d588-d940c52953e3"
      },
      "outputs": [
        {
          "name": "stdout",
          "output_type": "stream",
          "text": [
            "Random Forest Classifier AUC: 1.0\n"
          ]
        }
      ],
      "source": [
        "# Aplicamos validacion cruzada para Random Forest Classifier\n",
        "\n",
        "# Realizamos la validacion cruzada con 3 particiones\n",
        "y_probas_rf = cross_val_predict(cla_rf, mushroom_cat_X_train_1hot, y_train, cv=3, method='predict_proba')\n",
        "\n",
        "# Calculamos el area bajo la curva ROC\n",
        "aur_roc = roc_auc_score(y_train, y_probas_rf[:,1])\n",
        "\n",
        "# Vemos el resultado\n",
        "print(\"Random Forest Classifier AUC:\", aur_roc)"
      ]
    },
    {
      "cell_type": "markdown",
      "id": "0CrTOHo9mjz0",
      "metadata": {
        "id": "0CrTOHo9mjz0"
      },
      "source": [
        "Respuesta: En terminos generales usamos la función cross_val_predict para realizar una validacion cruzada con 3 particiones y obtener las decisiones de los dos clasificadores para cada particion de prueba. \n",
        "\n",
        "* Para Logistic Regression las decisiones son retornadas por el método decision_function(), luego se calcula el area bajo la curva ROC utilizando la funcion roc_auc_score, y por ultimo vemos el resultado. \n",
        "* Para RandomForest, el metodo predict_proba() indica que se deben obtener las probabilidades de las predicciones en lugar de las predicciones reales, luego se calcula el area bajo la curva ROC utilizando la funcion roc_auc_score, el valor de y_probas_rf[:,1] es un array que contiene las probabilidades predichas para la clase positiva, por lo que se selecciona la segunda columna del array para el calculo del area bajo la curva ROC, y por ultimo vemos el resultado. \n"
      ]
    },
    {
      "cell_type": "markdown",
      "id": "63386e19",
      "metadata": {
        "id": "63386e19"
      },
      "source": [
        "<10%>¿Por qué lo eligiria el modelo por el area bajo la curva roc?"
      ]
    },
    {
      "attachments": {},
      "cell_type": "markdown",
      "id": "m5gHN7dJoS2B",
      "metadata": {
        "id": "m5gHN7dJoS2B"
      },
      "source": [
        "\n",
        "Respuesta: El area bajo la curva ROC es una metmetrica que se utiliza para evaluar la calidad de un modelo de clasificacion binaria. Cuanto mas cercano a 1 sea el valor del area, mejor sera el modelo en terminos de su capacidad para distinguir correctamente entre las clases.\n",
        "\n",
        "Podemos observar que en ambos modelos el resultado del area es 1.0, lo que indica que ambos modelos tienen una capacidad perfecta para distinguir entre las clases positivas y negativas. En este caso seria indistinto seleccionar cualquiera de los dos, pero destacamos situaciones en las que convendria usar uno u otro:\n",
        "\n",
        "* La Regresion logistica es utilizada para predecir una variable categorica binaria (dos clases), a partir de un conjunto de variables predictoras. Es un modelo simple y rapido, que funciona bien cuando se trabaja con un conjunto de datos pequeño, y cuando la relacion entre las variables predictoras y la variable de respuesta es lineal o logica.\n",
        "\n",
        "* Random Forest es un modelo que puede utilizarse tanto para clasificacion como para regresion. Es un modelo mas complejo y potente que la Regresion logistica, capaz de manejar un gran numero de características (variables predictoras) y de detectar interacciones no lineales entre ellas. Funciona mejor cuando hay una gran cantidad de datos disponibles y cuando las relaciones entre las variables son mas complejas. Por lo que considero que para este caso de analisis, este metodo es el indicado."
      ]
    },
    {
      "cell_type": "markdown",
      "id": "13659879",
      "metadata": {
        "id": "13659879"
      },
      "source": [
        "<15>Utilice el metodo grid search sobre el modelo elegido:"
      ]
    },
    {
      "cell_type": "code",
      "execution_count": 16,
      "id": "D_pVRb6HrX9R",
      "metadata": {
        "colab": {
          "base_uri": "https://localhost:8080/"
        },
        "id": "D_pVRb6HrX9R",
        "outputId": "67f4585a-8d2b-4b58-cec4-82104a9399e2"
      },
      "outputs": [
        {
          "name": "stdout",
          "output_type": "stream",
          "text": [
            "Mejores hiperparametros:  {'C': 1}\n",
            "Mejor puntaje:  1.0\n"
          ]
        }
      ],
      "source": [
        "# Aplicamos el metodo Grid Search en el modelo de Regresion logistica\n",
        "\n",
        "# Creamos un diccionario de hiperparametros para probar\n",
        "param_grid = {'C': [0.1, 1, 10]}\n",
        "\n",
        "# Creamos un objeto GridSearchCV\n",
        "grid_log = GridSearchCV(cla_log, param_grid, cv=3)\n",
        "\n",
        "# Ajustamos el modelo con la busqueda de cuadricula\n",
        "grid_log.fit(mushroom_cat_X_train_1hot, y_train)\n",
        "\n",
        "# Vemos los resultados\n",
        "print(\"Mejores hiperparametros: \", grid_log.best_params_)\n",
        "print(\"Mejor puntaje: \", grid_log.best_score_)"
      ]
    },
    {
      "cell_type": "code",
      "execution_count": 17,
      "id": "TiemY_0arXze",
      "metadata": {
        "colab": {
          "base_uri": "https://localhost:8080/"
        },
        "id": "TiemY_0arXze",
        "outputId": "16606ba4-43f2-4cad-ecf4-debd8c1f7fd4"
      },
      "outputs": [
        {
          "name": "stdout",
          "output_type": "stream",
          "text": [
            "Mejores hiperparametros: {'max_features': 2, 'n_estimators': 30}\n",
            "Mejor puntaje: 1.0\n"
          ]
        }
      ],
      "source": [
        "# Aplicamos el metodo Grid Search en el modelo RandomForest\n",
        "\n",
        "# Creamos un diccionario de hiperparametros para probar\n",
        "param_grid = { 'n_estimators': [30, 100], 'max_features': [2, 4, 6, 8] }\n",
        "\n",
        "# Creamos un objeto GridSearchCV\n",
        "grid_rf = GridSearchCV(cla_rf, param_grid, cv=3, scoring='roc_auc')\n",
        "\n",
        "# Ajustamos el modelo con la busqueda de cuadricula\n",
        "grid_rf.fit(mushroom_cat_X_train_1hot, y_train)\n",
        "\n",
        "# Vemos los resultados\n",
        "print('Mejores hiperparametros:', grid_rf.best_params_)\n",
        "print('Mejor puntaje:', grid_rf.best_score_)"
      ]
    },
    {
      "cell_type": "markdown",
      "id": "Ku8xCu-urgZ-",
      "metadata": {
        "id": "Ku8xCu-urgZ-"
      },
      "source": [
        "Respuesta: Aplicamos el metodo Grid Search en ambos modelos para tener una referencia. A continuacion se explica un poco el procedimiento:\n",
        "\n",
        "* Para el caso de la Regresion logistica, C es el parametro de regularizacion de la Regresion logistica. Despues de definir y ajustar el objeto GridSearchCV, el modelo se ajusta con la búsqueda de cuadricula mediante la llamada al metodo fit() con los datos de entrenamiento mushroom_cat_X_train_1hot y y_train. Y por ultimo, se imprimen los mejores hiperparametros encontrados por la busqueda de cuadricula y el puntaje de la validación cruzada en el conjunto de entrenamiento utilizando los mejores hiperparametros.\n",
        "* Para el caso de RandomForest, se define un diccionario que contiene los valores que se quieren probar para cada hiperparametro, el numero de arboles a considerar (n_estimators) y el numero maximo de variables a considerar en cada arbol (max_features). Despues de definir y ajustar el objeto GridSearchCV, el modelo se ajusta con el metodo fit, y realiza una busqueda exhaustiva de todas las combinaciones de hiperparametros y devuelve la combinación con mejor desempeño en la metrica de evaluación especificada. Entonces vemos como resultado los mejores hiperparametros encontrados y el mejor puntaje obtenido en la evaluacion cruzada."
      ]
    },
    {
      "cell_type": "markdown",
      "id": "Ejl6XJmhrZDR",
      "metadata": {
        "id": "Ejl6XJmhrZDR"
      },
      "source": [
        "¿Cuál es el sentido de hacer esto?"
      ]
    },
    {
      "cell_type": "markdown",
      "id": "Xpts0iwKrc_H",
      "metadata": {
        "id": "Xpts0iwKrc_H"
      },
      "source": [
        "Respuesta: Tenemos que saber que Grid Search es una tecnica utilizada en ML para buscar los mejores valores de hiperparametros de un modelo, que resultan en el mejor rendimiento de prediccion, con el objetivo de maximizar su rendimiento. Los hiperparametros son parametros del modelo que no se aprenden automaticamente durante el entrenamiento y que deben ser establecidos por el usuario antes de entrenar el modelo. Algunos ejemplos de hiperparametros son la tasa de aprendizaje, la profundidad maxima del arbol de decisiones, el numero de estimadores en un modelo de bosques aleatorios, etc.\n",
        "\n",
        "Es importante seleccionar cuidadosamente los hiperparametros y valores a incluir en la cuadricula, y se pueden utilizar tacnicas como la busqueda aleatoria o la búsqueda exhaustiva para hacer el proceso mas eficiente."
      ]
    },
    {
      "cell_type": "markdown",
      "id": "74e145bf",
      "metadata": {
        "id": "74e145bf"
      },
      "source": [
        "<5%>Imprima el valor de accuracy, recall, precision, f1 y auc_roc, en las regiones de validación"
      ]
    },
    {
      "cell_type": "code",
      "execution_count": 34,
      "id": "6a05fc0a",
      "metadata": {
        "colab": {
          "base_uri": "https://localhost:8080/"
        },
        "id": "6a05fc0a",
        "outputId": "cb0270c2-4c9d-4803-d0b0-de44040dd573"
      },
      "outputs": [
        {
          "name": "stdout",
          "output_type": "stream",
          "text": [
            "Accuracy: 1.0\n",
            "Recall: 1.0\n",
            "Precision: 1.0\n",
            "F1 Score: 1.0\n",
            "AUC-ROC: 1.0\n"
          ]
        }
      ],
      "source": [
        "# Modelo de Regresion Logistica\n",
        "\n",
        "# Realizamos la validacion cruzada con 3 particiones\n",
        "y_pred_log = cross_val_predict(cla_log, mushroom_cat_X_train_1hot, y_train, cv=3)\n",
        "\n",
        "# Calculamos las metricas de evaluacion\n",
        "accuracy = accuracy_score(y_train, y_pred_log)\n",
        "recall = recall_score(y_train, y_pred_log)\n",
        "precision = precision_score(y_train, y_pred_log)\n",
        "f1 = f1_score(y_train, y_pred_log)\n",
        "auc_roc = roc_auc_score(y_train, y_df_log)\n",
        "\n",
        "# Vemos los resultados\n",
        "print(\"Accuracy:\", accuracy)\n",
        "print(\"Recall:\", recall)\n",
        "print(\"Precision:\", precision)\n",
        "print(\"F1 Score:\", f1)\n",
        "print(\"AUC-ROC:\", auc_roc)"
      ]
    },
    {
      "cell_type": "code",
      "execution_count": 35,
      "id": "BgyVEdlpQBBS",
      "metadata": {
        "colab": {
          "base_uri": "https://localhost:8080/"
        },
        "id": "BgyVEdlpQBBS",
        "outputId": "5839f887-45ce-44d4-af1f-93eb9f4bf871"
      },
      "outputs": [
        {
          "name": "stdout",
          "output_type": "stream",
          "text": [
            "Accuracy: 1.0\n",
            "Recall: 1.0\n",
            "Precision: 1.0\n",
            "F1 Score: 1.0\n",
            "AUC-ROC: 1.0\n"
          ]
        }
      ],
      "source": [
        "# Modelo RandomForest\n",
        "\n",
        "# Realizamos la validacion cruzada con 3 particiones\n",
        "y_pred_rf = cross_val_predict(cla_rf, mushroom_cat_X_train_1hot, y_train, cv=3)\n",
        "\n",
        "# Calculamos las metricas de evaluacion\n",
        "accuracy = accuracy_score(y_train, y_pred_rf)\n",
        "recall = recall_score(y_train, y_pred_rf)\n",
        "precision = precision_score(y_train, y_pred_rf)\n",
        "f1 = f1_score(y_train, y_pred_rf)\n",
        "aur_roc = roc_auc_score(y_train, y_probas_rf[:,1])\n",
        "\n",
        "# Vemos los resultados\n",
        "print(\"Accuracy:\", accuracy)\n",
        "print(\"Recall:\", recall)\n",
        "print(\"Precision:\", precision)\n",
        "print(\"F1 Score:\", f1)\n",
        "print(\"AUC-ROC:\", auc_roc)"
      ]
    },
    {
      "cell_type": "markdown",
      "id": "TNdXfg8eXUy_",
      "metadata": {
        "id": "TNdXfg8eXUy_"
      },
      "source": [
        "Respuesta: Podemos observar que las metricas dan como resultado 1.0, y esto significa que ambos modelos estan prediciendo perfectamente los resultados en esta region. Esto puede darse ya que el modelo se ajusto demasiado bien a los datos de entrenamiento y por lo tanto, no es capaz de generalizar a datos nuevos.\n",
        "\n"
      ]
    },
    {
      "cell_type": "markdown",
      "id": "d1c88337",
      "metadata": {
        "id": "d1c88337"
      },
      "source": [
        "<5%>Imprima el valor de accuracy, recall, precision, f1 y auc_roc, en las regiones de test, \n",
        "¿Los números son parecido a lo obtenido en las regiones de validación? ¿A qué puede deberse?"
      ]
    },
    {
      "cell_type": "code",
      "execution_count": 39,
      "id": "733a2f15",
      "metadata": {
        "colab": {
          "base_uri": "https://localhost:8080/"
        },
        "id": "733a2f15",
        "outputId": "d8150c5f-a5bc-41ef-e90e-08c5e7b39c27"
      },
      "outputs": [
        {
          "name": "stdout",
          "output_type": "stream",
          "text": [
            "Accuracy: 0.9987692307692307\n",
            "Recall: 0.9974424552429667\n",
            "Precision: 1.0\n",
            "F1 Score: 0.998719590268886\n",
            "AUC-ROC: 1.0\n"
          ]
        }
      ],
      "source": [
        "# Modelo de Regresion Logistica\n",
        "\n",
        "# Realizamos la validacion cruzada con 3 particiones\n",
        "y_pred_log = cross_val_predict(cla_log, mushroom_cat_X_test_1hot, y_test, cv=3)\n",
        "\n",
        "# Calculamos las metricas de evaluacion\n",
        "accuracy = accuracy_score(y_test, y_pred_log)\n",
        "recall = recall_score(y_test, y_pred_log)\n",
        "precision = precision_score(y_test, y_pred_log)\n",
        "f1 = f1_score(y_test, y_pred_log)\n",
        "auc_roc = roc_auc_score(y_test, grid_log.decision_function(mushroom_cat_X_test_1hot))\n",
        "\n",
        "# Vemos los resultados\n",
        "print(\"Accuracy:\", accuracy)\n",
        "print(\"Recall:\", recall)\n",
        "print(\"Precision:\", precision)\n",
        "print(\"F1 Score:\", f1)\n",
        "print(\"AUC-ROC:\", auc_roc)"
      ]
    },
    {
      "cell_type": "code",
      "execution_count": 38,
      "id": "dUWm23qtXT-I",
      "metadata": {
        "colab": {
          "base_uri": "https://localhost:8080/"
        },
        "id": "dUWm23qtXT-I",
        "outputId": "5617acdd-56c5-40b3-fda0-43e6eb28a280"
      },
      "outputs": [
        {
          "name": "stdout",
          "output_type": "stream",
          "text": [
            "Accuracy: 0.9987692307692307\n",
            "Recall: 0.9974424552429667\n",
            "Precision: 1.0\n",
            "F1 Score: 0.998719590268886\n",
            "AUC-ROC: 1.0\n"
          ]
        }
      ],
      "source": [
        "# Modelo RandomForest\n",
        "\n",
        "# Realizamos la validacion cruzada con 3 particiones\n",
        "y_pred_rf = cross_val_predict(cla_rf, mushroom_cat_X_test_1hot, y_test, cv=3)\n",
        "\n",
        "# Calculamos las metricas de evaluacion\n",
        "accuracy = accuracy_score(y_test, y_pred_rf)\n",
        "recall = recall_score(y_test, y_pred_rf)\n",
        "precision = precision_score(y_test, y_pred_rf)\n",
        "f1 = f1_score(y_test, y_pred_rf)\n",
        "aur_roc = roc_auc_score(y_test, grid_rf.predict_proba(mushroom_cat_X_test_1hot)[:,1])\n",
        "\n",
        "# Vemos los resultados\n",
        "print(\"Accuracy:\", accuracy)\n",
        "print(\"Recall:\", recall)\n",
        "print(\"Precision:\", precision)\n",
        "print(\"F1 Score:\", f1)\n",
        "print(\"AUC-ROC:\", auc_roc)"
      ]
    },
    {
      "cell_type": "markdown",
      "id": "nwXCHHNYYlK6",
      "metadata": {
        "id": "nwXCHHNYYlK6"
      },
      "source": [
        "Respuesta: Los numeros obtenidos en las regiones de test son muy similares a los obtenidos en las regiones de validacion, y esto significa que ambos modelos no han sufrido de sobreajuste (overfitting) durante el entrenamiento, es decir, ambos han aprendido a generalizar bien a nuevos datos y no han memorizado los datos de entrenamiento.\n",
        "\n",
        "La razon por la que las metricas son cercanas a 1.0 en ambas regiones puede deberse a que los modelos son muy buenos en la tarea de clasificacion de los hongos. Y tambien puede ser que los datos en si mismos sean faciles de clasificar, es decir, que las caracteristicas de los hongos comestibles y venenosos sean muy distintas y faciles de distinguir."
      ]
    }
  ],
  "metadata": {
    "colab": {
      "provenance": []
    },
    "kernelspec": {
      "display_name": "Python 3 (ipykernel)",
      "language": "python",
      "name": "python3"
    },
    "language_info": {
      "codemirror_mode": {
        "name": "ipython",
        "version": 3
      },
      "file_extension": ".py",
      "mimetype": "text/x-python",
      "name": "python",
      "nbconvert_exporter": "python",
      "pygments_lexer": "ipython3",
      "version": "3.9.12"
    }
  },
  "nbformat": 4,
  "nbformat_minor": 5
}
