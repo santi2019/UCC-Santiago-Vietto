{
  "nbformat": 4,
  "nbformat_minor": 0,
  "metadata": {
    "colab": {
      "provenance": []
    },
    "kernelspec": {
      "name": "python3",
      "display_name": "Python 3"
    },
    "language_info": {
      "name": "python"
    },
    "widgets": {
      "application/vnd.jupyter.widget-state+json": {
        "1bab0a0843074760827973fd4ecbb65f": {
          "model_module": "@jupyter-widgets/controls",
          "model_name": "HBoxModel",
          "model_module_version": "1.5.0",
          "state": {
            "_dom_classes": [],
            "_model_module": "@jupyter-widgets/controls",
            "_model_module_version": "1.5.0",
            "_model_name": "HBoxModel",
            "_view_count": null,
            "_view_module": "@jupyter-widgets/controls",
            "_view_module_version": "1.5.0",
            "_view_name": "HBoxView",
            "box_style": "",
            "children": [
              "IPY_MODEL_c6c8dbff9a2d452b83426e51f214ffa8",
              "IPY_MODEL_dd158c12c98e4c2e9e5eb7b257841888",
              "IPY_MODEL_419f38674fc64c4f8ec38a2f1dde52bd"
            ],
            "layout": "IPY_MODEL_1cbb50e9dbc443dcbb0fdc409b797e15"
          }
        },
        "c6c8dbff9a2d452b83426e51f214ffa8": {
          "model_module": "@jupyter-widgets/controls",
          "model_name": "HTMLModel",
          "model_module_version": "1.5.0",
          "state": {
            "_dom_classes": [],
            "_model_module": "@jupyter-widgets/controls",
            "_model_module_version": "1.5.0",
            "_model_name": "HTMLModel",
            "_view_count": null,
            "_view_module": "@jupyter-widgets/controls",
            "_view_module_version": "1.5.0",
            "_view_name": "HTMLView",
            "description": "",
            "description_tooltip": null,
            "layout": "IPY_MODEL_3b167a5c447045358fb49deb31914ce1",
            "placeholder": "​",
            "style": "IPY_MODEL_84d848f671e9402db0cae3cc0820d9ed",
            "value": "Dl Completed...: 100%"
          }
        },
        "dd158c12c98e4c2e9e5eb7b257841888": {
          "model_module": "@jupyter-widgets/controls",
          "model_name": "FloatProgressModel",
          "model_module_version": "1.5.0",
          "state": {
            "_dom_classes": [],
            "_model_module": "@jupyter-widgets/controls",
            "_model_module_version": "1.5.0",
            "_model_name": "FloatProgressModel",
            "_view_count": null,
            "_view_module": "@jupyter-widgets/controls",
            "_view_module_version": "1.5.0",
            "_view_name": "ProgressView",
            "bar_style": "success",
            "description": "",
            "description_tooltip": null,
            "layout": "IPY_MODEL_a37b45ab79fd4b5092c93c064a944392",
            "max": 1,
            "min": 0,
            "orientation": "horizontal",
            "style": "IPY_MODEL_8d6e4fcfd0434eb4bc954c76285d643f",
            "value": 1
          }
        },
        "419f38674fc64c4f8ec38a2f1dde52bd": {
          "model_module": "@jupyter-widgets/controls",
          "model_name": "HTMLModel",
          "model_module_version": "1.5.0",
          "state": {
            "_dom_classes": [],
            "_model_module": "@jupyter-widgets/controls",
            "_model_module_version": "1.5.0",
            "_model_name": "HTMLModel",
            "_view_count": null,
            "_view_module": "@jupyter-widgets/controls",
            "_view_module_version": "1.5.0",
            "_view_name": "HTMLView",
            "description": "",
            "description_tooltip": null,
            "layout": "IPY_MODEL_b63725793b6a40bca4490aa60da5a3e2",
            "placeholder": "​",
            "style": "IPY_MODEL_d543ce08867b4d198427d82db7c86dbe",
            "value": " 1/1 [00:10&lt;00:00, 10.02s/ url]"
          }
        },
        "1cbb50e9dbc443dcbb0fdc409b797e15": {
          "model_module": "@jupyter-widgets/base",
          "model_name": "LayoutModel",
          "model_module_version": "1.2.0",
          "state": {
            "_model_module": "@jupyter-widgets/base",
            "_model_module_version": "1.2.0",
            "_model_name": "LayoutModel",
            "_view_count": null,
            "_view_module": "@jupyter-widgets/base",
            "_view_module_version": "1.2.0",
            "_view_name": "LayoutView",
            "align_content": null,
            "align_items": null,
            "align_self": null,
            "border": null,
            "bottom": null,
            "display": null,
            "flex": null,
            "flex_flow": null,
            "grid_area": null,
            "grid_auto_columns": null,
            "grid_auto_flow": null,
            "grid_auto_rows": null,
            "grid_column": null,
            "grid_gap": null,
            "grid_row": null,
            "grid_template_areas": null,
            "grid_template_columns": null,
            "grid_template_rows": null,
            "height": null,
            "justify_content": null,
            "justify_items": null,
            "left": null,
            "margin": null,
            "max_height": null,
            "max_width": null,
            "min_height": null,
            "min_width": null,
            "object_fit": null,
            "object_position": null,
            "order": null,
            "overflow": null,
            "overflow_x": null,
            "overflow_y": null,
            "padding": null,
            "right": null,
            "top": null,
            "visibility": null,
            "width": null
          }
        },
        "3b167a5c447045358fb49deb31914ce1": {
          "model_module": "@jupyter-widgets/base",
          "model_name": "LayoutModel",
          "model_module_version": "1.2.0",
          "state": {
            "_model_module": "@jupyter-widgets/base",
            "_model_module_version": "1.2.0",
            "_model_name": "LayoutModel",
            "_view_count": null,
            "_view_module": "@jupyter-widgets/base",
            "_view_module_version": "1.2.0",
            "_view_name": "LayoutView",
            "align_content": null,
            "align_items": null,
            "align_self": null,
            "border": null,
            "bottom": null,
            "display": null,
            "flex": null,
            "flex_flow": null,
            "grid_area": null,
            "grid_auto_columns": null,
            "grid_auto_flow": null,
            "grid_auto_rows": null,
            "grid_column": null,
            "grid_gap": null,
            "grid_row": null,
            "grid_template_areas": null,
            "grid_template_columns": null,
            "grid_template_rows": null,
            "height": null,
            "justify_content": null,
            "justify_items": null,
            "left": null,
            "margin": null,
            "max_height": null,
            "max_width": null,
            "min_height": null,
            "min_width": null,
            "object_fit": null,
            "object_position": null,
            "order": null,
            "overflow": null,
            "overflow_x": null,
            "overflow_y": null,
            "padding": null,
            "right": null,
            "top": null,
            "visibility": null,
            "width": null
          }
        },
        "84d848f671e9402db0cae3cc0820d9ed": {
          "model_module": "@jupyter-widgets/controls",
          "model_name": "DescriptionStyleModel",
          "model_module_version": "1.5.0",
          "state": {
            "_model_module": "@jupyter-widgets/controls",
            "_model_module_version": "1.5.0",
            "_model_name": "DescriptionStyleModel",
            "_view_count": null,
            "_view_module": "@jupyter-widgets/base",
            "_view_module_version": "1.2.0",
            "_view_name": "StyleView",
            "description_width": ""
          }
        },
        "a37b45ab79fd4b5092c93c064a944392": {
          "model_module": "@jupyter-widgets/base",
          "model_name": "LayoutModel",
          "model_module_version": "1.2.0",
          "state": {
            "_model_module": "@jupyter-widgets/base",
            "_model_module_version": "1.2.0",
            "_model_name": "LayoutModel",
            "_view_count": null,
            "_view_module": "@jupyter-widgets/base",
            "_view_module_version": "1.2.0",
            "_view_name": "LayoutView",
            "align_content": null,
            "align_items": null,
            "align_self": null,
            "border": null,
            "bottom": null,
            "display": null,
            "flex": null,
            "flex_flow": null,
            "grid_area": null,
            "grid_auto_columns": null,
            "grid_auto_flow": null,
            "grid_auto_rows": null,
            "grid_column": null,
            "grid_gap": null,
            "grid_row": null,
            "grid_template_areas": null,
            "grid_template_columns": null,
            "grid_template_rows": null,
            "height": null,
            "justify_content": null,
            "justify_items": null,
            "left": null,
            "margin": null,
            "max_height": null,
            "max_width": null,
            "min_height": null,
            "min_width": null,
            "object_fit": null,
            "object_position": null,
            "order": null,
            "overflow": null,
            "overflow_x": null,
            "overflow_y": null,
            "padding": null,
            "right": null,
            "top": null,
            "visibility": null,
            "width": "20px"
          }
        },
        "8d6e4fcfd0434eb4bc954c76285d643f": {
          "model_module": "@jupyter-widgets/controls",
          "model_name": "ProgressStyleModel",
          "model_module_version": "1.5.0",
          "state": {
            "_model_module": "@jupyter-widgets/controls",
            "_model_module_version": "1.5.0",
            "_model_name": "ProgressStyleModel",
            "_view_count": null,
            "_view_module": "@jupyter-widgets/base",
            "_view_module_version": "1.2.0",
            "_view_name": "StyleView",
            "bar_color": null,
            "description_width": ""
          }
        },
        "b63725793b6a40bca4490aa60da5a3e2": {
          "model_module": "@jupyter-widgets/base",
          "model_name": "LayoutModel",
          "model_module_version": "1.2.0",
          "state": {
            "_model_module": "@jupyter-widgets/base",
            "_model_module_version": "1.2.0",
            "_model_name": "LayoutModel",
            "_view_count": null,
            "_view_module": "@jupyter-widgets/base",
            "_view_module_version": "1.2.0",
            "_view_name": "LayoutView",
            "align_content": null,
            "align_items": null,
            "align_self": null,
            "border": null,
            "bottom": null,
            "display": null,
            "flex": null,
            "flex_flow": null,
            "grid_area": null,
            "grid_auto_columns": null,
            "grid_auto_flow": null,
            "grid_auto_rows": null,
            "grid_column": null,
            "grid_gap": null,
            "grid_row": null,
            "grid_template_areas": null,
            "grid_template_columns": null,
            "grid_template_rows": null,
            "height": null,
            "justify_content": null,
            "justify_items": null,
            "left": null,
            "margin": null,
            "max_height": null,
            "max_width": null,
            "min_height": null,
            "min_width": null,
            "object_fit": null,
            "object_position": null,
            "order": null,
            "overflow": null,
            "overflow_x": null,
            "overflow_y": null,
            "padding": null,
            "right": null,
            "top": null,
            "visibility": null,
            "width": null
          }
        },
        "d543ce08867b4d198427d82db7c86dbe": {
          "model_module": "@jupyter-widgets/controls",
          "model_name": "DescriptionStyleModel",
          "model_module_version": "1.5.0",
          "state": {
            "_model_module": "@jupyter-widgets/controls",
            "_model_module_version": "1.5.0",
            "_model_name": "DescriptionStyleModel",
            "_view_count": null,
            "_view_module": "@jupyter-widgets/base",
            "_view_module_version": "1.2.0",
            "_view_name": "StyleView",
            "description_width": ""
          }
        },
        "0052b77ca7c048f680ec0e1f01c7c9ce": {
          "model_module": "@jupyter-widgets/controls",
          "model_name": "HBoxModel",
          "model_module_version": "1.5.0",
          "state": {
            "_dom_classes": [],
            "_model_module": "@jupyter-widgets/controls",
            "_model_module_version": "1.5.0",
            "_model_name": "HBoxModel",
            "_view_count": null,
            "_view_module": "@jupyter-widgets/controls",
            "_view_module_version": "1.5.0",
            "_view_name": "HBoxView",
            "box_style": "",
            "children": [
              "IPY_MODEL_d888b88606a64f75953dd577ab6ecc8e",
              "IPY_MODEL_8c8c8406ab3748f98a144c7b71e1e02c",
              "IPY_MODEL_8f41867ada25451596eb1925722965ee"
            ],
            "layout": "IPY_MODEL_3f402439b0184f4892edbf7526700f0a"
          }
        },
        "d888b88606a64f75953dd577ab6ecc8e": {
          "model_module": "@jupyter-widgets/controls",
          "model_name": "HTMLModel",
          "model_module_version": "1.5.0",
          "state": {
            "_dom_classes": [],
            "_model_module": "@jupyter-widgets/controls",
            "_model_module_version": "1.5.0",
            "_model_name": "HTMLModel",
            "_view_count": null,
            "_view_module": "@jupyter-widgets/controls",
            "_view_module_version": "1.5.0",
            "_view_name": "HTMLView",
            "description": "",
            "description_tooltip": null,
            "layout": "IPY_MODEL_3bce3f581b3d458fa174356e7adcecda",
            "placeholder": "​",
            "style": "IPY_MODEL_1f37f9ba67204f88a2604f57ff1635ca",
            "value": "Dl Size...: 100%"
          }
        },
        "8c8c8406ab3748f98a144c7b71e1e02c": {
          "model_module": "@jupyter-widgets/controls",
          "model_name": "FloatProgressModel",
          "model_module_version": "1.5.0",
          "state": {
            "_dom_classes": [],
            "_model_module": "@jupyter-widgets/controls",
            "_model_module_version": "1.5.0",
            "_model_name": "FloatProgressModel",
            "_view_count": null,
            "_view_module": "@jupyter-widgets/controls",
            "_view_module_version": "1.5.0",
            "_view_name": "ProgressView",
            "bar_style": "success",
            "description": "",
            "description_tooltip": null,
            "layout": "IPY_MODEL_bec72f4bc5d846cb92135763d46b6358",
            "max": 1,
            "min": 0,
            "orientation": "horizontal",
            "style": "IPY_MODEL_6451ae9645904f5ebc1a8b859ecb0668",
            "value": 1
          }
        },
        "8f41867ada25451596eb1925722965ee": {
          "model_module": "@jupyter-widgets/controls",
          "model_name": "HTMLModel",
          "model_module_version": "1.5.0",
          "state": {
            "_dom_classes": [],
            "_model_module": "@jupyter-widgets/controls",
            "_model_module_version": "1.5.0",
            "_model_name": "HTMLModel",
            "_view_count": null,
            "_view_module": "@jupyter-widgets/controls",
            "_view_module_version": "1.5.0",
            "_view_name": "HTMLView",
            "description": "",
            "description_tooltip": null,
            "layout": "IPY_MODEL_9d405dc7c061430fa9b96b7a77da53ba",
            "placeholder": "​",
            "style": "IPY_MODEL_10b236168c814e3393384eb27199c25e",
            "value": " 80/80 [00:09&lt;00:00, 19.46 MiB/s]"
          }
        },
        "3f402439b0184f4892edbf7526700f0a": {
          "model_module": "@jupyter-widgets/base",
          "model_name": "LayoutModel",
          "model_module_version": "1.2.0",
          "state": {
            "_model_module": "@jupyter-widgets/base",
            "_model_module_version": "1.2.0",
            "_model_name": "LayoutModel",
            "_view_count": null,
            "_view_module": "@jupyter-widgets/base",
            "_view_module_version": "1.2.0",
            "_view_name": "LayoutView",
            "align_content": null,
            "align_items": null,
            "align_self": null,
            "border": null,
            "bottom": null,
            "display": null,
            "flex": null,
            "flex_flow": null,
            "grid_area": null,
            "grid_auto_columns": null,
            "grid_auto_flow": null,
            "grid_auto_rows": null,
            "grid_column": null,
            "grid_gap": null,
            "grid_row": null,
            "grid_template_areas": null,
            "grid_template_columns": null,
            "grid_template_rows": null,
            "height": null,
            "justify_content": null,
            "justify_items": null,
            "left": null,
            "margin": null,
            "max_height": null,
            "max_width": null,
            "min_height": null,
            "min_width": null,
            "object_fit": null,
            "object_position": null,
            "order": null,
            "overflow": null,
            "overflow_x": null,
            "overflow_y": null,
            "padding": null,
            "right": null,
            "top": null,
            "visibility": null,
            "width": null
          }
        },
        "3bce3f581b3d458fa174356e7adcecda": {
          "model_module": "@jupyter-widgets/base",
          "model_name": "LayoutModel",
          "model_module_version": "1.2.0",
          "state": {
            "_model_module": "@jupyter-widgets/base",
            "_model_module_version": "1.2.0",
            "_model_name": "LayoutModel",
            "_view_count": null,
            "_view_module": "@jupyter-widgets/base",
            "_view_module_version": "1.2.0",
            "_view_name": "LayoutView",
            "align_content": null,
            "align_items": null,
            "align_self": null,
            "border": null,
            "bottom": null,
            "display": null,
            "flex": null,
            "flex_flow": null,
            "grid_area": null,
            "grid_auto_columns": null,
            "grid_auto_flow": null,
            "grid_auto_rows": null,
            "grid_column": null,
            "grid_gap": null,
            "grid_row": null,
            "grid_template_areas": null,
            "grid_template_columns": null,
            "grid_template_rows": null,
            "height": null,
            "justify_content": null,
            "justify_items": null,
            "left": null,
            "margin": null,
            "max_height": null,
            "max_width": null,
            "min_height": null,
            "min_width": null,
            "object_fit": null,
            "object_position": null,
            "order": null,
            "overflow": null,
            "overflow_x": null,
            "overflow_y": null,
            "padding": null,
            "right": null,
            "top": null,
            "visibility": null,
            "width": null
          }
        },
        "1f37f9ba67204f88a2604f57ff1635ca": {
          "model_module": "@jupyter-widgets/controls",
          "model_name": "DescriptionStyleModel",
          "model_module_version": "1.5.0",
          "state": {
            "_model_module": "@jupyter-widgets/controls",
            "_model_module_version": "1.5.0",
            "_model_name": "DescriptionStyleModel",
            "_view_count": null,
            "_view_module": "@jupyter-widgets/base",
            "_view_module_version": "1.2.0",
            "_view_name": "StyleView",
            "description_width": ""
          }
        },
        "bec72f4bc5d846cb92135763d46b6358": {
          "model_module": "@jupyter-widgets/base",
          "model_name": "LayoutModel",
          "model_module_version": "1.2.0",
          "state": {
            "_model_module": "@jupyter-widgets/base",
            "_model_module_version": "1.2.0",
            "_model_name": "LayoutModel",
            "_view_count": null,
            "_view_module": "@jupyter-widgets/base",
            "_view_module_version": "1.2.0",
            "_view_name": "LayoutView",
            "align_content": null,
            "align_items": null,
            "align_self": null,
            "border": null,
            "bottom": null,
            "display": null,
            "flex": null,
            "flex_flow": null,
            "grid_area": null,
            "grid_auto_columns": null,
            "grid_auto_flow": null,
            "grid_auto_rows": null,
            "grid_column": null,
            "grid_gap": null,
            "grid_row": null,
            "grid_template_areas": null,
            "grid_template_columns": null,
            "grid_template_rows": null,
            "height": null,
            "justify_content": null,
            "justify_items": null,
            "left": null,
            "margin": null,
            "max_height": null,
            "max_width": null,
            "min_height": null,
            "min_width": null,
            "object_fit": null,
            "object_position": null,
            "order": null,
            "overflow": null,
            "overflow_x": null,
            "overflow_y": null,
            "padding": null,
            "right": null,
            "top": null,
            "visibility": null,
            "width": "20px"
          }
        },
        "6451ae9645904f5ebc1a8b859ecb0668": {
          "model_module": "@jupyter-widgets/controls",
          "model_name": "ProgressStyleModel",
          "model_module_version": "1.5.0",
          "state": {
            "_model_module": "@jupyter-widgets/controls",
            "_model_module_version": "1.5.0",
            "_model_name": "ProgressStyleModel",
            "_view_count": null,
            "_view_module": "@jupyter-widgets/base",
            "_view_module_version": "1.2.0",
            "_view_name": "StyleView",
            "bar_color": null,
            "description_width": ""
          }
        },
        "9d405dc7c061430fa9b96b7a77da53ba": {
          "model_module": "@jupyter-widgets/base",
          "model_name": "LayoutModel",
          "model_module_version": "1.2.0",
          "state": {
            "_model_module": "@jupyter-widgets/base",
            "_model_module_version": "1.2.0",
            "_model_name": "LayoutModel",
            "_view_count": null,
            "_view_module": "@jupyter-widgets/base",
            "_view_module_version": "1.2.0",
            "_view_name": "LayoutView",
            "align_content": null,
            "align_items": null,
            "align_self": null,
            "border": null,
            "bottom": null,
            "display": null,
            "flex": null,
            "flex_flow": null,
            "grid_area": null,
            "grid_auto_columns": null,
            "grid_auto_flow": null,
            "grid_auto_rows": null,
            "grid_column": null,
            "grid_gap": null,
            "grid_row": null,
            "grid_template_areas": null,
            "grid_template_columns": null,
            "grid_template_rows": null,
            "height": null,
            "justify_content": null,
            "justify_items": null,
            "left": null,
            "margin": null,
            "max_height": null,
            "max_width": null,
            "min_height": null,
            "min_width": null,
            "object_fit": null,
            "object_position": null,
            "order": null,
            "overflow": null,
            "overflow_x": null,
            "overflow_y": null,
            "padding": null,
            "right": null,
            "top": null,
            "visibility": null,
            "width": null
          }
        },
        "10b236168c814e3393384eb27199c25e": {
          "model_module": "@jupyter-widgets/controls",
          "model_name": "DescriptionStyleModel",
          "model_module_version": "1.5.0",
          "state": {
            "_model_module": "@jupyter-widgets/controls",
            "_model_module_version": "1.5.0",
            "_model_name": "DescriptionStyleModel",
            "_view_count": null,
            "_view_module": "@jupyter-widgets/base",
            "_view_module_version": "1.2.0",
            "_view_name": "StyleView",
            "description_width": ""
          }
        },
        "4fda7fbce77c463cb0319586216e48ec": {
          "model_module": "@jupyter-widgets/controls",
          "model_name": "HBoxModel",
          "model_module_version": "1.5.0",
          "state": {
            "_dom_classes": [],
            "_model_module": "@jupyter-widgets/controls",
            "_model_module_version": "1.5.0",
            "_model_name": "HBoxModel",
            "_view_count": null,
            "_view_module": "@jupyter-widgets/controls",
            "_view_module_version": "1.5.0",
            "_view_name": "HBoxView",
            "box_style": "",
            "children": [
              "IPY_MODEL_51c1345f0d7e43d888ffa80bbe6c4d50",
              "IPY_MODEL_a093e52553654944b0eaf7d839142a9b",
              "IPY_MODEL_d363ad9873e449bfa64b0658c417b857"
            ],
            "layout": "IPY_MODEL_951d8ab5beaf4f59aedef77b934e7f57"
          }
        },
        "51c1345f0d7e43d888ffa80bbe6c4d50": {
          "model_module": "@jupyter-widgets/controls",
          "model_name": "HTMLModel",
          "model_module_version": "1.5.0",
          "state": {
            "_dom_classes": [],
            "_model_module": "@jupyter-widgets/controls",
            "_model_module_version": "1.5.0",
            "_model_name": "HTMLModel",
            "_view_count": null,
            "_view_module": "@jupyter-widgets/controls",
            "_view_module_version": "1.5.0",
            "_view_name": "HTMLView",
            "description": "",
            "description_tooltip": null,
            "layout": "IPY_MODEL_cd1ac8a2308441c2865f1f16c6cdf526",
            "placeholder": "​",
            "style": "IPY_MODEL_278b8595915842caa849f2829de549b6",
            "value": "Generating splits...: 100%"
          }
        },
        "a093e52553654944b0eaf7d839142a9b": {
          "model_module": "@jupyter-widgets/controls",
          "model_name": "FloatProgressModel",
          "model_module_version": "1.5.0",
          "state": {
            "_dom_classes": [],
            "_model_module": "@jupyter-widgets/controls",
            "_model_module_version": "1.5.0",
            "_model_name": "FloatProgressModel",
            "_view_count": null,
            "_view_module": "@jupyter-widgets/controls",
            "_view_module_version": "1.5.0",
            "_view_name": "ProgressView",
            "bar_style": "",
            "description": "",
            "description_tooltip": null,
            "layout": "IPY_MODEL_4a245f5f59f04ded956fa3bfb5d2d9d7",
            "max": 3,
            "min": 0,
            "orientation": "horizontal",
            "style": "IPY_MODEL_45c72d19e26b4d32b1b96cb226041be3",
            "value": 3
          }
        },
        "d363ad9873e449bfa64b0658c417b857": {
          "model_module": "@jupyter-widgets/controls",
          "model_name": "HTMLModel",
          "model_module_version": "1.5.0",
          "state": {
            "_dom_classes": [],
            "_model_module": "@jupyter-widgets/controls",
            "_model_module_version": "1.5.0",
            "_model_name": "HTMLModel",
            "_view_count": null,
            "_view_module": "@jupyter-widgets/controls",
            "_view_module_version": "1.5.0",
            "_view_name": "HTMLView",
            "description": "",
            "description_tooltip": null,
            "layout": "IPY_MODEL_e336d0b387de4ef49324557f0987cb00",
            "placeholder": "​",
            "style": "IPY_MODEL_985b6a82efc14bddaa4a81c156043908",
            "value": " 3/3 [00:53&lt;00:00, 18.47s/ splits]"
          }
        },
        "951d8ab5beaf4f59aedef77b934e7f57": {
          "model_module": "@jupyter-widgets/base",
          "model_name": "LayoutModel",
          "model_module_version": "1.2.0",
          "state": {
            "_model_module": "@jupyter-widgets/base",
            "_model_module_version": "1.2.0",
            "_model_name": "LayoutModel",
            "_view_count": null,
            "_view_module": "@jupyter-widgets/base",
            "_view_module_version": "1.2.0",
            "_view_name": "LayoutView",
            "align_content": null,
            "align_items": null,
            "align_self": null,
            "border": null,
            "bottom": null,
            "display": null,
            "flex": null,
            "flex_flow": null,
            "grid_area": null,
            "grid_auto_columns": null,
            "grid_auto_flow": null,
            "grid_auto_rows": null,
            "grid_column": null,
            "grid_gap": null,
            "grid_row": null,
            "grid_template_areas": null,
            "grid_template_columns": null,
            "grid_template_rows": null,
            "height": null,
            "justify_content": null,
            "justify_items": null,
            "left": null,
            "margin": null,
            "max_height": null,
            "max_width": null,
            "min_height": null,
            "min_width": null,
            "object_fit": null,
            "object_position": null,
            "order": null,
            "overflow": null,
            "overflow_x": null,
            "overflow_y": null,
            "padding": null,
            "right": null,
            "top": null,
            "visibility": "hidden",
            "width": null
          }
        },
        "cd1ac8a2308441c2865f1f16c6cdf526": {
          "model_module": "@jupyter-widgets/base",
          "model_name": "LayoutModel",
          "model_module_version": "1.2.0",
          "state": {
            "_model_module": "@jupyter-widgets/base",
            "_model_module_version": "1.2.0",
            "_model_name": "LayoutModel",
            "_view_count": null,
            "_view_module": "@jupyter-widgets/base",
            "_view_module_version": "1.2.0",
            "_view_name": "LayoutView",
            "align_content": null,
            "align_items": null,
            "align_self": null,
            "border": null,
            "bottom": null,
            "display": null,
            "flex": null,
            "flex_flow": null,
            "grid_area": null,
            "grid_auto_columns": null,
            "grid_auto_flow": null,
            "grid_auto_rows": null,
            "grid_column": null,
            "grid_gap": null,
            "grid_row": null,
            "grid_template_areas": null,
            "grid_template_columns": null,
            "grid_template_rows": null,
            "height": null,
            "justify_content": null,
            "justify_items": null,
            "left": null,
            "margin": null,
            "max_height": null,
            "max_width": null,
            "min_height": null,
            "min_width": null,
            "object_fit": null,
            "object_position": null,
            "order": null,
            "overflow": null,
            "overflow_x": null,
            "overflow_y": null,
            "padding": null,
            "right": null,
            "top": null,
            "visibility": null,
            "width": null
          }
        },
        "278b8595915842caa849f2829de549b6": {
          "model_module": "@jupyter-widgets/controls",
          "model_name": "DescriptionStyleModel",
          "model_module_version": "1.5.0",
          "state": {
            "_model_module": "@jupyter-widgets/controls",
            "_model_module_version": "1.5.0",
            "_model_name": "DescriptionStyleModel",
            "_view_count": null,
            "_view_module": "@jupyter-widgets/base",
            "_view_module_version": "1.2.0",
            "_view_name": "StyleView",
            "description_width": ""
          }
        },
        "4a245f5f59f04ded956fa3bfb5d2d9d7": {
          "model_module": "@jupyter-widgets/base",
          "model_name": "LayoutModel",
          "model_module_version": "1.2.0",
          "state": {
            "_model_module": "@jupyter-widgets/base",
            "_model_module_version": "1.2.0",
            "_model_name": "LayoutModel",
            "_view_count": null,
            "_view_module": "@jupyter-widgets/base",
            "_view_module_version": "1.2.0",
            "_view_name": "LayoutView",
            "align_content": null,
            "align_items": null,
            "align_self": null,
            "border": null,
            "bottom": null,
            "display": null,
            "flex": null,
            "flex_flow": null,
            "grid_area": null,
            "grid_auto_columns": null,
            "grid_auto_flow": null,
            "grid_auto_rows": null,
            "grid_column": null,
            "grid_gap": null,
            "grid_row": null,
            "grid_template_areas": null,
            "grid_template_columns": null,
            "grid_template_rows": null,
            "height": null,
            "justify_content": null,
            "justify_items": null,
            "left": null,
            "margin": null,
            "max_height": null,
            "max_width": null,
            "min_height": null,
            "min_width": null,
            "object_fit": null,
            "object_position": null,
            "order": null,
            "overflow": null,
            "overflow_x": null,
            "overflow_y": null,
            "padding": null,
            "right": null,
            "top": null,
            "visibility": null,
            "width": null
          }
        },
        "45c72d19e26b4d32b1b96cb226041be3": {
          "model_module": "@jupyter-widgets/controls",
          "model_name": "ProgressStyleModel",
          "model_module_version": "1.5.0",
          "state": {
            "_model_module": "@jupyter-widgets/controls",
            "_model_module_version": "1.5.0",
            "_model_name": "ProgressStyleModel",
            "_view_count": null,
            "_view_module": "@jupyter-widgets/base",
            "_view_module_version": "1.2.0",
            "_view_name": "StyleView",
            "bar_color": null,
            "description_width": ""
          }
        },
        "e336d0b387de4ef49324557f0987cb00": {
          "model_module": "@jupyter-widgets/base",
          "model_name": "LayoutModel",
          "model_module_version": "1.2.0",
          "state": {
            "_model_module": "@jupyter-widgets/base",
            "_model_module_version": "1.2.0",
            "_model_name": "LayoutModel",
            "_view_count": null,
            "_view_module": "@jupyter-widgets/base",
            "_view_module_version": "1.2.0",
            "_view_name": "LayoutView",
            "align_content": null,
            "align_items": null,
            "align_self": null,
            "border": null,
            "bottom": null,
            "display": null,
            "flex": null,
            "flex_flow": null,
            "grid_area": null,
            "grid_auto_columns": null,
            "grid_auto_flow": null,
            "grid_auto_rows": null,
            "grid_column": null,
            "grid_gap": null,
            "grid_row": null,
            "grid_template_areas": null,
            "grid_template_columns": null,
            "grid_template_rows": null,
            "height": null,
            "justify_content": null,
            "justify_items": null,
            "left": null,
            "margin": null,
            "max_height": null,
            "max_width": null,
            "min_height": null,
            "min_width": null,
            "object_fit": null,
            "object_position": null,
            "order": null,
            "overflow": null,
            "overflow_x": null,
            "overflow_y": null,
            "padding": null,
            "right": null,
            "top": null,
            "visibility": null,
            "width": null
          }
        },
        "985b6a82efc14bddaa4a81c156043908": {
          "model_module": "@jupyter-widgets/controls",
          "model_name": "DescriptionStyleModel",
          "model_module_version": "1.5.0",
          "state": {
            "_model_module": "@jupyter-widgets/controls",
            "_model_module_version": "1.5.0",
            "_model_name": "DescriptionStyleModel",
            "_view_count": null,
            "_view_module": "@jupyter-widgets/base",
            "_view_module_version": "1.2.0",
            "_view_name": "StyleView",
            "description_width": ""
          }
        },
        "052d54206060410b8670eef4a5410095": {
          "model_module": "@jupyter-widgets/controls",
          "model_name": "HBoxModel",
          "model_module_version": "1.5.0",
          "state": {
            "_dom_classes": [],
            "_model_module": "@jupyter-widgets/controls",
            "_model_module_version": "1.5.0",
            "_model_name": "HBoxModel",
            "_view_count": null,
            "_view_module": "@jupyter-widgets/controls",
            "_view_module_version": "1.5.0",
            "_view_name": "HBoxView",
            "box_style": "",
            "children": [
              "IPY_MODEL_fba6dbbce8d242188ef8c9666e112aae",
              "IPY_MODEL_0b84679bbd4e487392660a6b80516043",
              "IPY_MODEL_c378e674967c4ca0849d16ec12351ff8"
            ],
            "layout": "IPY_MODEL_b692dd3c551c43cd8879c6ceec4ad65f"
          }
        },
        "fba6dbbce8d242188ef8c9666e112aae": {
          "model_module": "@jupyter-widgets/controls",
          "model_name": "HTMLModel",
          "model_module_version": "1.5.0",
          "state": {
            "_dom_classes": [],
            "_model_module": "@jupyter-widgets/controls",
            "_model_module_version": "1.5.0",
            "_model_name": "HTMLModel",
            "_view_count": null,
            "_view_module": "@jupyter-widgets/controls",
            "_view_module_version": "1.5.0",
            "_view_name": "HTMLView",
            "description": "",
            "description_tooltip": null,
            "layout": "IPY_MODEL_d78fdc9a20c94a88b0cb0d38d19801a3",
            "placeholder": "​",
            "style": "IPY_MODEL_b9d06afb27a04be9b9fefdd9f05668c0",
            "value": "Generating train examples...:  99%"
          }
        },
        "0b84679bbd4e487392660a6b80516043": {
          "model_module": "@jupyter-widgets/controls",
          "model_name": "FloatProgressModel",
          "model_module_version": "1.5.0",
          "state": {
            "_dom_classes": [],
            "_model_module": "@jupyter-widgets/controls",
            "_model_module_version": "1.5.0",
            "_model_name": "FloatProgressModel",
            "_view_count": null,
            "_view_module": "@jupyter-widgets/controls",
            "_view_module_version": "1.5.0",
            "_view_name": "ProgressView",
            "bar_style": "",
            "description": "",
            "description_tooltip": null,
            "layout": "IPY_MODEL_02ee407dc7044950b34a9b69f4768c3e",
            "max": 25000,
            "min": 0,
            "orientation": "horizontal",
            "style": "IPY_MODEL_b40da303ecb846f1b0b562a62771a83c",
            "value": 25000
          }
        },
        "c378e674967c4ca0849d16ec12351ff8": {
          "model_module": "@jupyter-widgets/controls",
          "model_name": "HTMLModel",
          "model_module_version": "1.5.0",
          "state": {
            "_dom_classes": [],
            "_model_module": "@jupyter-widgets/controls",
            "_model_module_version": "1.5.0",
            "_model_name": "HTMLModel",
            "_view_count": null,
            "_view_module": "@jupyter-widgets/controls",
            "_view_module_version": "1.5.0",
            "_view_name": "HTMLView",
            "description": "",
            "description_tooltip": null,
            "layout": "IPY_MODEL_6e37d0f23c8c44df8fbec57b260665fa",
            "placeholder": "​",
            "style": "IPY_MODEL_37050c93e600493eae0b305e5df2539e",
            "value": " 24863/25000 [00:10&lt;00:00, 3742.25 examples/s]"
          }
        },
        "b692dd3c551c43cd8879c6ceec4ad65f": {
          "model_module": "@jupyter-widgets/base",
          "model_name": "LayoutModel",
          "model_module_version": "1.2.0",
          "state": {
            "_model_module": "@jupyter-widgets/base",
            "_model_module_version": "1.2.0",
            "_model_name": "LayoutModel",
            "_view_count": null,
            "_view_module": "@jupyter-widgets/base",
            "_view_module_version": "1.2.0",
            "_view_name": "LayoutView",
            "align_content": null,
            "align_items": null,
            "align_self": null,
            "border": null,
            "bottom": null,
            "display": null,
            "flex": null,
            "flex_flow": null,
            "grid_area": null,
            "grid_auto_columns": null,
            "grid_auto_flow": null,
            "grid_auto_rows": null,
            "grid_column": null,
            "grid_gap": null,
            "grid_row": null,
            "grid_template_areas": null,
            "grid_template_columns": null,
            "grid_template_rows": null,
            "height": null,
            "justify_content": null,
            "justify_items": null,
            "left": null,
            "margin": null,
            "max_height": null,
            "max_width": null,
            "min_height": null,
            "min_width": null,
            "object_fit": null,
            "object_position": null,
            "order": null,
            "overflow": null,
            "overflow_x": null,
            "overflow_y": null,
            "padding": null,
            "right": null,
            "top": null,
            "visibility": "hidden",
            "width": null
          }
        },
        "d78fdc9a20c94a88b0cb0d38d19801a3": {
          "model_module": "@jupyter-widgets/base",
          "model_name": "LayoutModel",
          "model_module_version": "1.2.0",
          "state": {
            "_model_module": "@jupyter-widgets/base",
            "_model_module_version": "1.2.0",
            "_model_name": "LayoutModel",
            "_view_count": null,
            "_view_module": "@jupyter-widgets/base",
            "_view_module_version": "1.2.0",
            "_view_name": "LayoutView",
            "align_content": null,
            "align_items": null,
            "align_self": null,
            "border": null,
            "bottom": null,
            "display": null,
            "flex": null,
            "flex_flow": null,
            "grid_area": null,
            "grid_auto_columns": null,
            "grid_auto_flow": null,
            "grid_auto_rows": null,
            "grid_column": null,
            "grid_gap": null,
            "grid_row": null,
            "grid_template_areas": null,
            "grid_template_columns": null,
            "grid_template_rows": null,
            "height": null,
            "justify_content": null,
            "justify_items": null,
            "left": null,
            "margin": null,
            "max_height": null,
            "max_width": null,
            "min_height": null,
            "min_width": null,
            "object_fit": null,
            "object_position": null,
            "order": null,
            "overflow": null,
            "overflow_x": null,
            "overflow_y": null,
            "padding": null,
            "right": null,
            "top": null,
            "visibility": null,
            "width": null
          }
        },
        "b9d06afb27a04be9b9fefdd9f05668c0": {
          "model_module": "@jupyter-widgets/controls",
          "model_name": "DescriptionStyleModel",
          "model_module_version": "1.5.0",
          "state": {
            "_model_module": "@jupyter-widgets/controls",
            "_model_module_version": "1.5.0",
            "_model_name": "DescriptionStyleModel",
            "_view_count": null,
            "_view_module": "@jupyter-widgets/base",
            "_view_module_version": "1.2.0",
            "_view_name": "StyleView",
            "description_width": ""
          }
        },
        "02ee407dc7044950b34a9b69f4768c3e": {
          "model_module": "@jupyter-widgets/base",
          "model_name": "LayoutModel",
          "model_module_version": "1.2.0",
          "state": {
            "_model_module": "@jupyter-widgets/base",
            "_model_module_version": "1.2.0",
            "_model_name": "LayoutModel",
            "_view_count": null,
            "_view_module": "@jupyter-widgets/base",
            "_view_module_version": "1.2.0",
            "_view_name": "LayoutView",
            "align_content": null,
            "align_items": null,
            "align_self": null,
            "border": null,
            "bottom": null,
            "display": null,
            "flex": null,
            "flex_flow": null,
            "grid_area": null,
            "grid_auto_columns": null,
            "grid_auto_flow": null,
            "grid_auto_rows": null,
            "grid_column": null,
            "grid_gap": null,
            "grid_row": null,
            "grid_template_areas": null,
            "grid_template_columns": null,
            "grid_template_rows": null,
            "height": null,
            "justify_content": null,
            "justify_items": null,
            "left": null,
            "margin": null,
            "max_height": null,
            "max_width": null,
            "min_height": null,
            "min_width": null,
            "object_fit": null,
            "object_position": null,
            "order": null,
            "overflow": null,
            "overflow_x": null,
            "overflow_y": null,
            "padding": null,
            "right": null,
            "top": null,
            "visibility": null,
            "width": null
          }
        },
        "b40da303ecb846f1b0b562a62771a83c": {
          "model_module": "@jupyter-widgets/controls",
          "model_name": "ProgressStyleModel",
          "model_module_version": "1.5.0",
          "state": {
            "_model_module": "@jupyter-widgets/controls",
            "_model_module_version": "1.5.0",
            "_model_name": "ProgressStyleModel",
            "_view_count": null,
            "_view_module": "@jupyter-widgets/base",
            "_view_module_version": "1.2.0",
            "_view_name": "StyleView",
            "bar_color": null,
            "description_width": ""
          }
        },
        "6e37d0f23c8c44df8fbec57b260665fa": {
          "model_module": "@jupyter-widgets/base",
          "model_name": "LayoutModel",
          "model_module_version": "1.2.0",
          "state": {
            "_model_module": "@jupyter-widgets/base",
            "_model_module_version": "1.2.0",
            "_model_name": "LayoutModel",
            "_view_count": null,
            "_view_module": "@jupyter-widgets/base",
            "_view_module_version": "1.2.0",
            "_view_name": "LayoutView",
            "align_content": null,
            "align_items": null,
            "align_self": null,
            "border": null,
            "bottom": null,
            "display": null,
            "flex": null,
            "flex_flow": null,
            "grid_area": null,
            "grid_auto_columns": null,
            "grid_auto_flow": null,
            "grid_auto_rows": null,
            "grid_column": null,
            "grid_gap": null,
            "grid_row": null,
            "grid_template_areas": null,
            "grid_template_columns": null,
            "grid_template_rows": null,
            "height": null,
            "justify_content": null,
            "justify_items": null,
            "left": null,
            "margin": null,
            "max_height": null,
            "max_width": null,
            "min_height": null,
            "min_width": null,
            "object_fit": null,
            "object_position": null,
            "order": null,
            "overflow": null,
            "overflow_x": null,
            "overflow_y": null,
            "padding": null,
            "right": null,
            "top": null,
            "visibility": null,
            "width": null
          }
        },
        "37050c93e600493eae0b305e5df2539e": {
          "model_module": "@jupyter-widgets/controls",
          "model_name": "DescriptionStyleModel",
          "model_module_version": "1.5.0",
          "state": {
            "_model_module": "@jupyter-widgets/controls",
            "_model_module_version": "1.5.0",
            "_model_name": "DescriptionStyleModel",
            "_view_count": null,
            "_view_module": "@jupyter-widgets/base",
            "_view_module_version": "1.2.0",
            "_view_name": "StyleView",
            "description_width": ""
          }
        },
        "b826234b9df548eb89e9cf8e946b79ea": {
          "model_module": "@jupyter-widgets/controls",
          "model_name": "HBoxModel",
          "model_module_version": "1.5.0",
          "state": {
            "_dom_classes": [],
            "_model_module": "@jupyter-widgets/controls",
            "_model_module_version": "1.5.0",
            "_model_name": "HBoxModel",
            "_view_count": null,
            "_view_module": "@jupyter-widgets/controls",
            "_view_module_version": "1.5.0",
            "_view_name": "HBoxView",
            "box_style": "",
            "children": [
              "IPY_MODEL_9f30cb82ae6b4d1291931d6da0bcc867",
              "IPY_MODEL_fa1b741b0b5344fa835f01d1d83ad8ac",
              "IPY_MODEL_d12ea20106074b21887a31f3d541129a"
            ],
            "layout": "IPY_MODEL_73c0b5f9d27d48b29cecd330466912dd"
          }
        },
        "9f30cb82ae6b4d1291931d6da0bcc867": {
          "model_module": "@jupyter-widgets/controls",
          "model_name": "HTMLModel",
          "model_module_version": "1.5.0",
          "state": {
            "_dom_classes": [],
            "_model_module": "@jupyter-widgets/controls",
            "_model_module_version": "1.5.0",
            "_model_name": "HTMLModel",
            "_view_count": null,
            "_view_module": "@jupyter-widgets/controls",
            "_view_module_version": "1.5.0",
            "_view_name": "HTMLView",
            "description": "",
            "description_tooltip": null,
            "layout": "IPY_MODEL_b70cebf4d166428ebf1b0e904eabd8ce",
            "placeholder": "​",
            "style": "IPY_MODEL_ed487288086648eab249970759cd6c22",
            "value": "Shuffling /root/tensorflow_datasets/imdb_reviews/plain_text/1.0.0.incompleteK16DPR/imdb_reviews-train.tfrecord*...:  35%"
          }
        },
        "fa1b741b0b5344fa835f01d1d83ad8ac": {
          "model_module": "@jupyter-widgets/controls",
          "model_name": "FloatProgressModel",
          "model_module_version": "1.5.0",
          "state": {
            "_dom_classes": [],
            "_model_module": "@jupyter-widgets/controls",
            "_model_module_version": "1.5.0",
            "_model_name": "FloatProgressModel",
            "_view_count": null,
            "_view_module": "@jupyter-widgets/controls",
            "_view_module_version": "1.5.0",
            "_view_name": "ProgressView",
            "bar_style": "",
            "description": "",
            "description_tooltip": null,
            "layout": "IPY_MODEL_acf42b8e56564e4c9878bc7ceb331e43",
            "max": 25000,
            "min": 0,
            "orientation": "horizontal",
            "style": "IPY_MODEL_bd1e68c7b5d94d1ba870cc8ff06aa8cc",
            "value": 25000
          }
        },
        "d12ea20106074b21887a31f3d541129a": {
          "model_module": "@jupyter-widgets/controls",
          "model_name": "HTMLModel",
          "model_module_version": "1.5.0",
          "state": {
            "_dom_classes": [],
            "_model_module": "@jupyter-widgets/controls",
            "_model_module_version": "1.5.0",
            "_model_name": "HTMLModel",
            "_view_count": null,
            "_view_module": "@jupyter-widgets/controls",
            "_view_module_version": "1.5.0",
            "_view_name": "HTMLView",
            "description": "",
            "description_tooltip": null,
            "layout": "IPY_MODEL_325b21d7f81e4eff9613234bd1b3650a",
            "placeholder": "​",
            "style": "IPY_MODEL_761027b0f92f48ca9694bd6f1391c275",
            "value": " 8633/25000 [00:00&lt;00:00, 86316.29 examples/s]"
          }
        },
        "73c0b5f9d27d48b29cecd330466912dd": {
          "model_module": "@jupyter-widgets/base",
          "model_name": "LayoutModel",
          "model_module_version": "1.2.0",
          "state": {
            "_model_module": "@jupyter-widgets/base",
            "_model_module_version": "1.2.0",
            "_model_name": "LayoutModel",
            "_view_count": null,
            "_view_module": "@jupyter-widgets/base",
            "_view_module_version": "1.2.0",
            "_view_name": "LayoutView",
            "align_content": null,
            "align_items": null,
            "align_self": null,
            "border": null,
            "bottom": null,
            "display": null,
            "flex": null,
            "flex_flow": null,
            "grid_area": null,
            "grid_auto_columns": null,
            "grid_auto_flow": null,
            "grid_auto_rows": null,
            "grid_column": null,
            "grid_gap": null,
            "grid_row": null,
            "grid_template_areas": null,
            "grid_template_columns": null,
            "grid_template_rows": null,
            "height": null,
            "justify_content": null,
            "justify_items": null,
            "left": null,
            "margin": null,
            "max_height": null,
            "max_width": null,
            "min_height": null,
            "min_width": null,
            "object_fit": null,
            "object_position": null,
            "order": null,
            "overflow": null,
            "overflow_x": null,
            "overflow_y": null,
            "padding": null,
            "right": null,
            "top": null,
            "visibility": "hidden",
            "width": null
          }
        },
        "b70cebf4d166428ebf1b0e904eabd8ce": {
          "model_module": "@jupyter-widgets/base",
          "model_name": "LayoutModel",
          "model_module_version": "1.2.0",
          "state": {
            "_model_module": "@jupyter-widgets/base",
            "_model_module_version": "1.2.0",
            "_model_name": "LayoutModel",
            "_view_count": null,
            "_view_module": "@jupyter-widgets/base",
            "_view_module_version": "1.2.0",
            "_view_name": "LayoutView",
            "align_content": null,
            "align_items": null,
            "align_self": null,
            "border": null,
            "bottom": null,
            "display": null,
            "flex": null,
            "flex_flow": null,
            "grid_area": null,
            "grid_auto_columns": null,
            "grid_auto_flow": null,
            "grid_auto_rows": null,
            "grid_column": null,
            "grid_gap": null,
            "grid_row": null,
            "grid_template_areas": null,
            "grid_template_columns": null,
            "grid_template_rows": null,
            "height": null,
            "justify_content": null,
            "justify_items": null,
            "left": null,
            "margin": null,
            "max_height": null,
            "max_width": null,
            "min_height": null,
            "min_width": null,
            "object_fit": null,
            "object_position": null,
            "order": null,
            "overflow": null,
            "overflow_x": null,
            "overflow_y": null,
            "padding": null,
            "right": null,
            "top": null,
            "visibility": null,
            "width": null
          }
        },
        "ed487288086648eab249970759cd6c22": {
          "model_module": "@jupyter-widgets/controls",
          "model_name": "DescriptionStyleModel",
          "model_module_version": "1.5.0",
          "state": {
            "_model_module": "@jupyter-widgets/controls",
            "_model_module_version": "1.5.0",
            "_model_name": "DescriptionStyleModel",
            "_view_count": null,
            "_view_module": "@jupyter-widgets/base",
            "_view_module_version": "1.2.0",
            "_view_name": "StyleView",
            "description_width": ""
          }
        },
        "acf42b8e56564e4c9878bc7ceb331e43": {
          "model_module": "@jupyter-widgets/base",
          "model_name": "LayoutModel",
          "model_module_version": "1.2.0",
          "state": {
            "_model_module": "@jupyter-widgets/base",
            "_model_module_version": "1.2.0",
            "_model_name": "LayoutModel",
            "_view_count": null,
            "_view_module": "@jupyter-widgets/base",
            "_view_module_version": "1.2.0",
            "_view_name": "LayoutView",
            "align_content": null,
            "align_items": null,
            "align_self": null,
            "border": null,
            "bottom": null,
            "display": null,
            "flex": null,
            "flex_flow": null,
            "grid_area": null,
            "grid_auto_columns": null,
            "grid_auto_flow": null,
            "grid_auto_rows": null,
            "grid_column": null,
            "grid_gap": null,
            "grid_row": null,
            "grid_template_areas": null,
            "grid_template_columns": null,
            "grid_template_rows": null,
            "height": null,
            "justify_content": null,
            "justify_items": null,
            "left": null,
            "margin": null,
            "max_height": null,
            "max_width": null,
            "min_height": null,
            "min_width": null,
            "object_fit": null,
            "object_position": null,
            "order": null,
            "overflow": null,
            "overflow_x": null,
            "overflow_y": null,
            "padding": null,
            "right": null,
            "top": null,
            "visibility": null,
            "width": null
          }
        },
        "bd1e68c7b5d94d1ba870cc8ff06aa8cc": {
          "model_module": "@jupyter-widgets/controls",
          "model_name": "ProgressStyleModel",
          "model_module_version": "1.5.0",
          "state": {
            "_model_module": "@jupyter-widgets/controls",
            "_model_module_version": "1.5.0",
            "_model_name": "ProgressStyleModel",
            "_view_count": null,
            "_view_module": "@jupyter-widgets/base",
            "_view_module_version": "1.2.0",
            "_view_name": "StyleView",
            "bar_color": null,
            "description_width": ""
          }
        },
        "325b21d7f81e4eff9613234bd1b3650a": {
          "model_module": "@jupyter-widgets/base",
          "model_name": "LayoutModel",
          "model_module_version": "1.2.0",
          "state": {
            "_model_module": "@jupyter-widgets/base",
            "_model_module_version": "1.2.0",
            "_model_name": "LayoutModel",
            "_view_count": null,
            "_view_module": "@jupyter-widgets/base",
            "_view_module_version": "1.2.0",
            "_view_name": "LayoutView",
            "align_content": null,
            "align_items": null,
            "align_self": null,
            "border": null,
            "bottom": null,
            "display": null,
            "flex": null,
            "flex_flow": null,
            "grid_area": null,
            "grid_auto_columns": null,
            "grid_auto_flow": null,
            "grid_auto_rows": null,
            "grid_column": null,
            "grid_gap": null,
            "grid_row": null,
            "grid_template_areas": null,
            "grid_template_columns": null,
            "grid_template_rows": null,
            "height": null,
            "justify_content": null,
            "justify_items": null,
            "left": null,
            "margin": null,
            "max_height": null,
            "max_width": null,
            "min_height": null,
            "min_width": null,
            "object_fit": null,
            "object_position": null,
            "order": null,
            "overflow": null,
            "overflow_x": null,
            "overflow_y": null,
            "padding": null,
            "right": null,
            "top": null,
            "visibility": null,
            "width": null
          }
        },
        "761027b0f92f48ca9694bd6f1391c275": {
          "model_module": "@jupyter-widgets/controls",
          "model_name": "DescriptionStyleModel",
          "model_module_version": "1.5.0",
          "state": {
            "_model_module": "@jupyter-widgets/controls",
            "_model_module_version": "1.5.0",
            "_model_name": "DescriptionStyleModel",
            "_view_count": null,
            "_view_module": "@jupyter-widgets/base",
            "_view_module_version": "1.2.0",
            "_view_name": "StyleView",
            "description_width": ""
          }
        },
        "385f7bdbaf494219998a6f461ef30251": {
          "model_module": "@jupyter-widgets/controls",
          "model_name": "HBoxModel",
          "model_module_version": "1.5.0",
          "state": {
            "_dom_classes": [],
            "_model_module": "@jupyter-widgets/controls",
            "_model_module_version": "1.5.0",
            "_model_name": "HBoxModel",
            "_view_count": null,
            "_view_module": "@jupyter-widgets/controls",
            "_view_module_version": "1.5.0",
            "_view_name": "HBoxView",
            "box_style": "",
            "children": [
              "IPY_MODEL_360f153e345c4c83b2ffcfc39f9866c5",
              "IPY_MODEL_a20ecf8d7bfd4849bd1a9217a8a1b29e",
              "IPY_MODEL_f4c84c9029d34a1f84b33133fda173b8"
            ],
            "layout": "IPY_MODEL_a91fb25a319449259b6fd278b8ddc893"
          }
        },
        "360f153e345c4c83b2ffcfc39f9866c5": {
          "model_module": "@jupyter-widgets/controls",
          "model_name": "HTMLModel",
          "model_module_version": "1.5.0",
          "state": {
            "_dom_classes": [],
            "_model_module": "@jupyter-widgets/controls",
            "_model_module_version": "1.5.0",
            "_model_name": "HTMLModel",
            "_view_count": null,
            "_view_module": "@jupyter-widgets/controls",
            "_view_module_version": "1.5.0",
            "_view_name": "HTMLView",
            "description": "",
            "description_tooltip": null,
            "layout": "IPY_MODEL_1c4af108af6f421e85b857ad0573b5b0",
            "placeholder": "​",
            "style": "IPY_MODEL_f7b330dc847c4b5780f510329176f3a6",
            "value": "Generating test examples...:  99%"
          }
        },
        "a20ecf8d7bfd4849bd1a9217a8a1b29e": {
          "model_module": "@jupyter-widgets/controls",
          "model_name": "FloatProgressModel",
          "model_module_version": "1.5.0",
          "state": {
            "_dom_classes": [],
            "_model_module": "@jupyter-widgets/controls",
            "_model_module_version": "1.5.0",
            "_model_name": "FloatProgressModel",
            "_view_count": null,
            "_view_module": "@jupyter-widgets/controls",
            "_view_module_version": "1.5.0",
            "_view_name": "ProgressView",
            "bar_style": "",
            "description": "",
            "description_tooltip": null,
            "layout": "IPY_MODEL_efcadff918914546ad267827edef1b6e",
            "max": 25000,
            "min": 0,
            "orientation": "horizontal",
            "style": "IPY_MODEL_11356c994f0c48c79728d1b1e34aaacd",
            "value": 25000
          }
        },
        "f4c84c9029d34a1f84b33133fda173b8": {
          "model_module": "@jupyter-widgets/controls",
          "model_name": "HTMLModel",
          "model_module_version": "1.5.0",
          "state": {
            "_dom_classes": [],
            "_model_module": "@jupyter-widgets/controls",
            "_model_module_version": "1.5.0",
            "_model_name": "HTMLModel",
            "_view_count": null,
            "_view_module": "@jupyter-widgets/controls",
            "_view_module_version": "1.5.0",
            "_view_name": "HTMLView",
            "description": "",
            "description_tooltip": null,
            "layout": "IPY_MODEL_76166edcc7834965baf0965cac362827",
            "placeholder": "​",
            "style": "IPY_MODEL_be3d3d47cdb746e3b9467982684cafc5",
            "value": " 24783/25000 [00:08&lt;00:00, 3742.28 examples/s]"
          }
        },
        "a91fb25a319449259b6fd278b8ddc893": {
          "model_module": "@jupyter-widgets/base",
          "model_name": "LayoutModel",
          "model_module_version": "1.2.0",
          "state": {
            "_model_module": "@jupyter-widgets/base",
            "_model_module_version": "1.2.0",
            "_model_name": "LayoutModel",
            "_view_count": null,
            "_view_module": "@jupyter-widgets/base",
            "_view_module_version": "1.2.0",
            "_view_name": "LayoutView",
            "align_content": null,
            "align_items": null,
            "align_self": null,
            "border": null,
            "bottom": null,
            "display": null,
            "flex": null,
            "flex_flow": null,
            "grid_area": null,
            "grid_auto_columns": null,
            "grid_auto_flow": null,
            "grid_auto_rows": null,
            "grid_column": null,
            "grid_gap": null,
            "grid_row": null,
            "grid_template_areas": null,
            "grid_template_columns": null,
            "grid_template_rows": null,
            "height": null,
            "justify_content": null,
            "justify_items": null,
            "left": null,
            "margin": null,
            "max_height": null,
            "max_width": null,
            "min_height": null,
            "min_width": null,
            "object_fit": null,
            "object_position": null,
            "order": null,
            "overflow": null,
            "overflow_x": null,
            "overflow_y": null,
            "padding": null,
            "right": null,
            "top": null,
            "visibility": "hidden",
            "width": null
          }
        },
        "1c4af108af6f421e85b857ad0573b5b0": {
          "model_module": "@jupyter-widgets/base",
          "model_name": "LayoutModel",
          "model_module_version": "1.2.0",
          "state": {
            "_model_module": "@jupyter-widgets/base",
            "_model_module_version": "1.2.0",
            "_model_name": "LayoutModel",
            "_view_count": null,
            "_view_module": "@jupyter-widgets/base",
            "_view_module_version": "1.2.0",
            "_view_name": "LayoutView",
            "align_content": null,
            "align_items": null,
            "align_self": null,
            "border": null,
            "bottom": null,
            "display": null,
            "flex": null,
            "flex_flow": null,
            "grid_area": null,
            "grid_auto_columns": null,
            "grid_auto_flow": null,
            "grid_auto_rows": null,
            "grid_column": null,
            "grid_gap": null,
            "grid_row": null,
            "grid_template_areas": null,
            "grid_template_columns": null,
            "grid_template_rows": null,
            "height": null,
            "justify_content": null,
            "justify_items": null,
            "left": null,
            "margin": null,
            "max_height": null,
            "max_width": null,
            "min_height": null,
            "min_width": null,
            "object_fit": null,
            "object_position": null,
            "order": null,
            "overflow": null,
            "overflow_x": null,
            "overflow_y": null,
            "padding": null,
            "right": null,
            "top": null,
            "visibility": null,
            "width": null
          }
        },
        "f7b330dc847c4b5780f510329176f3a6": {
          "model_module": "@jupyter-widgets/controls",
          "model_name": "DescriptionStyleModel",
          "model_module_version": "1.5.0",
          "state": {
            "_model_module": "@jupyter-widgets/controls",
            "_model_module_version": "1.5.0",
            "_model_name": "DescriptionStyleModel",
            "_view_count": null,
            "_view_module": "@jupyter-widgets/base",
            "_view_module_version": "1.2.0",
            "_view_name": "StyleView",
            "description_width": ""
          }
        },
        "efcadff918914546ad267827edef1b6e": {
          "model_module": "@jupyter-widgets/base",
          "model_name": "LayoutModel",
          "model_module_version": "1.2.0",
          "state": {
            "_model_module": "@jupyter-widgets/base",
            "_model_module_version": "1.2.0",
            "_model_name": "LayoutModel",
            "_view_count": null,
            "_view_module": "@jupyter-widgets/base",
            "_view_module_version": "1.2.0",
            "_view_name": "LayoutView",
            "align_content": null,
            "align_items": null,
            "align_self": null,
            "border": null,
            "bottom": null,
            "display": null,
            "flex": null,
            "flex_flow": null,
            "grid_area": null,
            "grid_auto_columns": null,
            "grid_auto_flow": null,
            "grid_auto_rows": null,
            "grid_column": null,
            "grid_gap": null,
            "grid_row": null,
            "grid_template_areas": null,
            "grid_template_columns": null,
            "grid_template_rows": null,
            "height": null,
            "justify_content": null,
            "justify_items": null,
            "left": null,
            "margin": null,
            "max_height": null,
            "max_width": null,
            "min_height": null,
            "min_width": null,
            "object_fit": null,
            "object_position": null,
            "order": null,
            "overflow": null,
            "overflow_x": null,
            "overflow_y": null,
            "padding": null,
            "right": null,
            "top": null,
            "visibility": null,
            "width": null
          }
        },
        "11356c994f0c48c79728d1b1e34aaacd": {
          "model_module": "@jupyter-widgets/controls",
          "model_name": "ProgressStyleModel",
          "model_module_version": "1.5.0",
          "state": {
            "_model_module": "@jupyter-widgets/controls",
            "_model_module_version": "1.5.0",
            "_model_name": "ProgressStyleModel",
            "_view_count": null,
            "_view_module": "@jupyter-widgets/base",
            "_view_module_version": "1.2.0",
            "_view_name": "StyleView",
            "bar_color": null,
            "description_width": ""
          }
        },
        "76166edcc7834965baf0965cac362827": {
          "model_module": "@jupyter-widgets/base",
          "model_name": "LayoutModel",
          "model_module_version": "1.2.0",
          "state": {
            "_model_module": "@jupyter-widgets/base",
            "_model_module_version": "1.2.0",
            "_model_name": "LayoutModel",
            "_view_count": null,
            "_view_module": "@jupyter-widgets/base",
            "_view_module_version": "1.2.0",
            "_view_name": "LayoutView",
            "align_content": null,
            "align_items": null,
            "align_self": null,
            "border": null,
            "bottom": null,
            "display": null,
            "flex": null,
            "flex_flow": null,
            "grid_area": null,
            "grid_auto_columns": null,
            "grid_auto_flow": null,
            "grid_auto_rows": null,
            "grid_column": null,
            "grid_gap": null,
            "grid_row": null,
            "grid_template_areas": null,
            "grid_template_columns": null,
            "grid_template_rows": null,
            "height": null,
            "justify_content": null,
            "justify_items": null,
            "left": null,
            "margin": null,
            "max_height": null,
            "max_width": null,
            "min_height": null,
            "min_width": null,
            "object_fit": null,
            "object_position": null,
            "order": null,
            "overflow": null,
            "overflow_x": null,
            "overflow_y": null,
            "padding": null,
            "right": null,
            "top": null,
            "visibility": null,
            "width": null
          }
        },
        "be3d3d47cdb746e3b9467982684cafc5": {
          "model_module": "@jupyter-widgets/controls",
          "model_name": "DescriptionStyleModel",
          "model_module_version": "1.5.0",
          "state": {
            "_model_module": "@jupyter-widgets/controls",
            "_model_module_version": "1.5.0",
            "_model_name": "DescriptionStyleModel",
            "_view_count": null,
            "_view_module": "@jupyter-widgets/base",
            "_view_module_version": "1.2.0",
            "_view_name": "StyleView",
            "description_width": ""
          }
        },
        "08b3fff9894d46c8947f3b407eee6fd9": {
          "model_module": "@jupyter-widgets/controls",
          "model_name": "HBoxModel",
          "model_module_version": "1.5.0",
          "state": {
            "_dom_classes": [],
            "_model_module": "@jupyter-widgets/controls",
            "_model_module_version": "1.5.0",
            "_model_name": "HBoxModel",
            "_view_count": null,
            "_view_module": "@jupyter-widgets/controls",
            "_view_module_version": "1.5.0",
            "_view_name": "HBoxView",
            "box_style": "",
            "children": [
              "IPY_MODEL_dcb1076c5406433ba0c06587eb5c3b28",
              "IPY_MODEL_4bfcb02ef35941eebef9c97c0d42c565",
              "IPY_MODEL_e6afbcebb0a24d83b546bdbff5701ab8"
            ],
            "layout": "IPY_MODEL_8e95c057a5074dc3b085e98e0a56ee8f"
          }
        },
        "dcb1076c5406433ba0c06587eb5c3b28": {
          "model_module": "@jupyter-widgets/controls",
          "model_name": "HTMLModel",
          "model_module_version": "1.5.0",
          "state": {
            "_dom_classes": [],
            "_model_module": "@jupyter-widgets/controls",
            "_model_module_version": "1.5.0",
            "_model_name": "HTMLModel",
            "_view_count": null,
            "_view_module": "@jupyter-widgets/controls",
            "_view_module_version": "1.5.0",
            "_view_name": "HTMLView",
            "description": "",
            "description_tooltip": null,
            "layout": "IPY_MODEL_f11fa32237554df1b1c080225d164d18",
            "placeholder": "​",
            "style": "IPY_MODEL_9e9bff6450c7404a9f8c7116a1d8acca",
            "value": "Shuffling /root/tensorflow_datasets/imdb_reviews/plain_text/1.0.0.incompleteK16DPR/imdb_reviews-test.tfrecord*...:  76%"
          }
        },
        "4bfcb02ef35941eebef9c97c0d42c565": {
          "model_module": "@jupyter-widgets/controls",
          "model_name": "FloatProgressModel",
          "model_module_version": "1.5.0",
          "state": {
            "_dom_classes": [],
            "_model_module": "@jupyter-widgets/controls",
            "_model_module_version": "1.5.0",
            "_model_name": "FloatProgressModel",
            "_view_count": null,
            "_view_module": "@jupyter-widgets/controls",
            "_view_module_version": "1.5.0",
            "_view_name": "ProgressView",
            "bar_style": "",
            "description": "",
            "description_tooltip": null,
            "layout": "IPY_MODEL_254159ffa1fc4d5c8eaac49489314802",
            "max": 25000,
            "min": 0,
            "orientation": "horizontal",
            "style": "IPY_MODEL_bf43db1b45e84ed894217e1dee03b8e8",
            "value": 25000
          }
        },
        "e6afbcebb0a24d83b546bdbff5701ab8": {
          "model_module": "@jupyter-widgets/controls",
          "model_name": "HTMLModel",
          "model_module_version": "1.5.0",
          "state": {
            "_dom_classes": [],
            "_model_module": "@jupyter-widgets/controls",
            "_model_module_version": "1.5.0",
            "_model_name": "HTMLModel",
            "_view_count": null,
            "_view_module": "@jupyter-widgets/controls",
            "_view_module_version": "1.5.0",
            "_view_name": "HTMLView",
            "description": "",
            "description_tooltip": null,
            "layout": "IPY_MODEL_f952df71fd4b424db093447a9549b037",
            "placeholder": "​",
            "style": "IPY_MODEL_7f12a2e07ccd4d63867a358428cd4689",
            "value": " 18895/25000 [00:00&lt;00:00, 100632.65 examples/s]"
          }
        },
        "8e95c057a5074dc3b085e98e0a56ee8f": {
          "model_module": "@jupyter-widgets/base",
          "model_name": "LayoutModel",
          "model_module_version": "1.2.0",
          "state": {
            "_model_module": "@jupyter-widgets/base",
            "_model_module_version": "1.2.0",
            "_model_name": "LayoutModel",
            "_view_count": null,
            "_view_module": "@jupyter-widgets/base",
            "_view_module_version": "1.2.0",
            "_view_name": "LayoutView",
            "align_content": null,
            "align_items": null,
            "align_self": null,
            "border": null,
            "bottom": null,
            "display": null,
            "flex": null,
            "flex_flow": null,
            "grid_area": null,
            "grid_auto_columns": null,
            "grid_auto_flow": null,
            "grid_auto_rows": null,
            "grid_column": null,
            "grid_gap": null,
            "grid_row": null,
            "grid_template_areas": null,
            "grid_template_columns": null,
            "grid_template_rows": null,
            "height": null,
            "justify_content": null,
            "justify_items": null,
            "left": null,
            "margin": null,
            "max_height": null,
            "max_width": null,
            "min_height": null,
            "min_width": null,
            "object_fit": null,
            "object_position": null,
            "order": null,
            "overflow": null,
            "overflow_x": null,
            "overflow_y": null,
            "padding": null,
            "right": null,
            "top": null,
            "visibility": "hidden",
            "width": null
          }
        },
        "f11fa32237554df1b1c080225d164d18": {
          "model_module": "@jupyter-widgets/base",
          "model_name": "LayoutModel",
          "model_module_version": "1.2.0",
          "state": {
            "_model_module": "@jupyter-widgets/base",
            "_model_module_version": "1.2.0",
            "_model_name": "LayoutModel",
            "_view_count": null,
            "_view_module": "@jupyter-widgets/base",
            "_view_module_version": "1.2.0",
            "_view_name": "LayoutView",
            "align_content": null,
            "align_items": null,
            "align_self": null,
            "border": null,
            "bottom": null,
            "display": null,
            "flex": null,
            "flex_flow": null,
            "grid_area": null,
            "grid_auto_columns": null,
            "grid_auto_flow": null,
            "grid_auto_rows": null,
            "grid_column": null,
            "grid_gap": null,
            "grid_row": null,
            "grid_template_areas": null,
            "grid_template_columns": null,
            "grid_template_rows": null,
            "height": null,
            "justify_content": null,
            "justify_items": null,
            "left": null,
            "margin": null,
            "max_height": null,
            "max_width": null,
            "min_height": null,
            "min_width": null,
            "object_fit": null,
            "object_position": null,
            "order": null,
            "overflow": null,
            "overflow_x": null,
            "overflow_y": null,
            "padding": null,
            "right": null,
            "top": null,
            "visibility": null,
            "width": null
          }
        },
        "9e9bff6450c7404a9f8c7116a1d8acca": {
          "model_module": "@jupyter-widgets/controls",
          "model_name": "DescriptionStyleModel",
          "model_module_version": "1.5.0",
          "state": {
            "_model_module": "@jupyter-widgets/controls",
            "_model_module_version": "1.5.0",
            "_model_name": "DescriptionStyleModel",
            "_view_count": null,
            "_view_module": "@jupyter-widgets/base",
            "_view_module_version": "1.2.0",
            "_view_name": "StyleView",
            "description_width": ""
          }
        },
        "254159ffa1fc4d5c8eaac49489314802": {
          "model_module": "@jupyter-widgets/base",
          "model_name": "LayoutModel",
          "model_module_version": "1.2.0",
          "state": {
            "_model_module": "@jupyter-widgets/base",
            "_model_module_version": "1.2.0",
            "_model_name": "LayoutModel",
            "_view_count": null,
            "_view_module": "@jupyter-widgets/base",
            "_view_module_version": "1.2.0",
            "_view_name": "LayoutView",
            "align_content": null,
            "align_items": null,
            "align_self": null,
            "border": null,
            "bottom": null,
            "display": null,
            "flex": null,
            "flex_flow": null,
            "grid_area": null,
            "grid_auto_columns": null,
            "grid_auto_flow": null,
            "grid_auto_rows": null,
            "grid_column": null,
            "grid_gap": null,
            "grid_row": null,
            "grid_template_areas": null,
            "grid_template_columns": null,
            "grid_template_rows": null,
            "height": null,
            "justify_content": null,
            "justify_items": null,
            "left": null,
            "margin": null,
            "max_height": null,
            "max_width": null,
            "min_height": null,
            "min_width": null,
            "object_fit": null,
            "object_position": null,
            "order": null,
            "overflow": null,
            "overflow_x": null,
            "overflow_y": null,
            "padding": null,
            "right": null,
            "top": null,
            "visibility": null,
            "width": null
          }
        },
        "bf43db1b45e84ed894217e1dee03b8e8": {
          "model_module": "@jupyter-widgets/controls",
          "model_name": "ProgressStyleModel",
          "model_module_version": "1.5.0",
          "state": {
            "_model_module": "@jupyter-widgets/controls",
            "_model_module_version": "1.5.0",
            "_model_name": "ProgressStyleModel",
            "_view_count": null,
            "_view_module": "@jupyter-widgets/base",
            "_view_module_version": "1.2.0",
            "_view_name": "StyleView",
            "bar_color": null,
            "description_width": ""
          }
        },
        "f952df71fd4b424db093447a9549b037": {
          "model_module": "@jupyter-widgets/base",
          "model_name": "LayoutModel",
          "model_module_version": "1.2.0",
          "state": {
            "_model_module": "@jupyter-widgets/base",
            "_model_module_version": "1.2.0",
            "_model_name": "LayoutModel",
            "_view_count": null,
            "_view_module": "@jupyter-widgets/base",
            "_view_module_version": "1.2.0",
            "_view_name": "LayoutView",
            "align_content": null,
            "align_items": null,
            "align_self": null,
            "border": null,
            "bottom": null,
            "display": null,
            "flex": null,
            "flex_flow": null,
            "grid_area": null,
            "grid_auto_columns": null,
            "grid_auto_flow": null,
            "grid_auto_rows": null,
            "grid_column": null,
            "grid_gap": null,
            "grid_row": null,
            "grid_template_areas": null,
            "grid_template_columns": null,
            "grid_template_rows": null,
            "height": null,
            "justify_content": null,
            "justify_items": null,
            "left": null,
            "margin": null,
            "max_height": null,
            "max_width": null,
            "min_height": null,
            "min_width": null,
            "object_fit": null,
            "object_position": null,
            "order": null,
            "overflow": null,
            "overflow_x": null,
            "overflow_y": null,
            "padding": null,
            "right": null,
            "top": null,
            "visibility": null,
            "width": null
          }
        },
        "7f12a2e07ccd4d63867a358428cd4689": {
          "model_module": "@jupyter-widgets/controls",
          "model_name": "DescriptionStyleModel",
          "model_module_version": "1.5.0",
          "state": {
            "_model_module": "@jupyter-widgets/controls",
            "_model_module_version": "1.5.0",
            "_model_name": "DescriptionStyleModel",
            "_view_count": null,
            "_view_module": "@jupyter-widgets/base",
            "_view_module_version": "1.2.0",
            "_view_name": "StyleView",
            "description_width": ""
          }
        },
        "f48477e049b3451bb744cb30627bf139": {
          "model_module": "@jupyter-widgets/controls",
          "model_name": "HBoxModel",
          "model_module_version": "1.5.0",
          "state": {
            "_dom_classes": [],
            "_model_module": "@jupyter-widgets/controls",
            "_model_module_version": "1.5.0",
            "_model_name": "HBoxModel",
            "_view_count": null,
            "_view_module": "@jupyter-widgets/controls",
            "_view_module_version": "1.5.0",
            "_view_name": "HBoxView",
            "box_style": "",
            "children": [
              "IPY_MODEL_ebee72d614424d0790d1efd7dfc41256",
              "IPY_MODEL_808aa914651644ebb0dbb7adba34928e",
              "IPY_MODEL_6d97fa38bfae49c89e3ac2a47281c875"
            ],
            "layout": "IPY_MODEL_3831377ffdd24f56a1ff0ee377146b8f"
          }
        },
        "ebee72d614424d0790d1efd7dfc41256": {
          "model_module": "@jupyter-widgets/controls",
          "model_name": "HTMLModel",
          "model_module_version": "1.5.0",
          "state": {
            "_dom_classes": [],
            "_model_module": "@jupyter-widgets/controls",
            "_model_module_version": "1.5.0",
            "_model_name": "HTMLModel",
            "_view_count": null,
            "_view_module": "@jupyter-widgets/controls",
            "_view_module_version": "1.5.0",
            "_view_name": "HTMLView",
            "description": "",
            "description_tooltip": null,
            "layout": "IPY_MODEL_6a1b8c29a2d04337897e6f1ab3c35a84",
            "placeholder": "​",
            "style": "IPY_MODEL_6802581b75f94c289f9d5bbb542996ed",
            "value": "Generating unsupervised examples...: 100%"
          }
        },
        "808aa914651644ebb0dbb7adba34928e": {
          "model_module": "@jupyter-widgets/controls",
          "model_name": "FloatProgressModel",
          "model_module_version": "1.5.0",
          "state": {
            "_dom_classes": [],
            "_model_module": "@jupyter-widgets/controls",
            "_model_module_version": "1.5.0",
            "_model_name": "FloatProgressModel",
            "_view_count": null,
            "_view_module": "@jupyter-widgets/controls",
            "_view_module_version": "1.5.0",
            "_view_name": "ProgressView",
            "bar_style": "",
            "description": "",
            "description_tooltip": null,
            "layout": "IPY_MODEL_31bd17ceb13d4be78fdb66e1fc1fba4b",
            "max": 50000,
            "min": 0,
            "orientation": "horizontal",
            "style": "IPY_MODEL_357703158f4b4d978cf803b7c2874a59",
            "value": 50000
          }
        },
        "6d97fa38bfae49c89e3ac2a47281c875": {
          "model_module": "@jupyter-widgets/controls",
          "model_name": "HTMLModel",
          "model_module_version": "1.5.0",
          "state": {
            "_dom_classes": [],
            "_model_module": "@jupyter-widgets/controls",
            "_model_module_version": "1.5.0",
            "_model_name": "HTMLModel",
            "_view_count": null,
            "_view_module": "@jupyter-widgets/controls",
            "_view_module_version": "1.5.0",
            "_view_name": "HTMLView",
            "description": "",
            "description_tooltip": null,
            "layout": "IPY_MODEL_f8815fd80cb74fd28ad66568b68ef1b7",
            "placeholder": "​",
            "style": "IPY_MODEL_c666f4b07370462a8bc97c82f9858877",
            "value": " 49862/50000 [00:20&lt;00:00, 2700.92 examples/s]"
          }
        },
        "3831377ffdd24f56a1ff0ee377146b8f": {
          "model_module": "@jupyter-widgets/base",
          "model_name": "LayoutModel",
          "model_module_version": "1.2.0",
          "state": {
            "_model_module": "@jupyter-widgets/base",
            "_model_module_version": "1.2.0",
            "_model_name": "LayoutModel",
            "_view_count": null,
            "_view_module": "@jupyter-widgets/base",
            "_view_module_version": "1.2.0",
            "_view_name": "LayoutView",
            "align_content": null,
            "align_items": null,
            "align_self": null,
            "border": null,
            "bottom": null,
            "display": null,
            "flex": null,
            "flex_flow": null,
            "grid_area": null,
            "grid_auto_columns": null,
            "grid_auto_flow": null,
            "grid_auto_rows": null,
            "grid_column": null,
            "grid_gap": null,
            "grid_row": null,
            "grid_template_areas": null,
            "grid_template_columns": null,
            "grid_template_rows": null,
            "height": null,
            "justify_content": null,
            "justify_items": null,
            "left": null,
            "margin": null,
            "max_height": null,
            "max_width": null,
            "min_height": null,
            "min_width": null,
            "object_fit": null,
            "object_position": null,
            "order": null,
            "overflow": null,
            "overflow_x": null,
            "overflow_y": null,
            "padding": null,
            "right": null,
            "top": null,
            "visibility": "hidden",
            "width": null
          }
        },
        "6a1b8c29a2d04337897e6f1ab3c35a84": {
          "model_module": "@jupyter-widgets/base",
          "model_name": "LayoutModel",
          "model_module_version": "1.2.0",
          "state": {
            "_model_module": "@jupyter-widgets/base",
            "_model_module_version": "1.2.0",
            "_model_name": "LayoutModel",
            "_view_count": null,
            "_view_module": "@jupyter-widgets/base",
            "_view_module_version": "1.2.0",
            "_view_name": "LayoutView",
            "align_content": null,
            "align_items": null,
            "align_self": null,
            "border": null,
            "bottom": null,
            "display": null,
            "flex": null,
            "flex_flow": null,
            "grid_area": null,
            "grid_auto_columns": null,
            "grid_auto_flow": null,
            "grid_auto_rows": null,
            "grid_column": null,
            "grid_gap": null,
            "grid_row": null,
            "grid_template_areas": null,
            "grid_template_columns": null,
            "grid_template_rows": null,
            "height": null,
            "justify_content": null,
            "justify_items": null,
            "left": null,
            "margin": null,
            "max_height": null,
            "max_width": null,
            "min_height": null,
            "min_width": null,
            "object_fit": null,
            "object_position": null,
            "order": null,
            "overflow": null,
            "overflow_x": null,
            "overflow_y": null,
            "padding": null,
            "right": null,
            "top": null,
            "visibility": null,
            "width": null
          }
        },
        "6802581b75f94c289f9d5bbb542996ed": {
          "model_module": "@jupyter-widgets/controls",
          "model_name": "DescriptionStyleModel",
          "model_module_version": "1.5.0",
          "state": {
            "_model_module": "@jupyter-widgets/controls",
            "_model_module_version": "1.5.0",
            "_model_name": "DescriptionStyleModel",
            "_view_count": null,
            "_view_module": "@jupyter-widgets/base",
            "_view_module_version": "1.2.0",
            "_view_name": "StyleView",
            "description_width": ""
          }
        },
        "31bd17ceb13d4be78fdb66e1fc1fba4b": {
          "model_module": "@jupyter-widgets/base",
          "model_name": "LayoutModel",
          "model_module_version": "1.2.0",
          "state": {
            "_model_module": "@jupyter-widgets/base",
            "_model_module_version": "1.2.0",
            "_model_name": "LayoutModel",
            "_view_count": null,
            "_view_module": "@jupyter-widgets/base",
            "_view_module_version": "1.2.0",
            "_view_name": "LayoutView",
            "align_content": null,
            "align_items": null,
            "align_self": null,
            "border": null,
            "bottom": null,
            "display": null,
            "flex": null,
            "flex_flow": null,
            "grid_area": null,
            "grid_auto_columns": null,
            "grid_auto_flow": null,
            "grid_auto_rows": null,
            "grid_column": null,
            "grid_gap": null,
            "grid_row": null,
            "grid_template_areas": null,
            "grid_template_columns": null,
            "grid_template_rows": null,
            "height": null,
            "justify_content": null,
            "justify_items": null,
            "left": null,
            "margin": null,
            "max_height": null,
            "max_width": null,
            "min_height": null,
            "min_width": null,
            "object_fit": null,
            "object_position": null,
            "order": null,
            "overflow": null,
            "overflow_x": null,
            "overflow_y": null,
            "padding": null,
            "right": null,
            "top": null,
            "visibility": null,
            "width": null
          }
        },
        "357703158f4b4d978cf803b7c2874a59": {
          "model_module": "@jupyter-widgets/controls",
          "model_name": "ProgressStyleModel",
          "model_module_version": "1.5.0",
          "state": {
            "_model_module": "@jupyter-widgets/controls",
            "_model_module_version": "1.5.0",
            "_model_name": "ProgressStyleModel",
            "_view_count": null,
            "_view_module": "@jupyter-widgets/base",
            "_view_module_version": "1.2.0",
            "_view_name": "StyleView",
            "bar_color": null,
            "description_width": ""
          }
        },
        "f8815fd80cb74fd28ad66568b68ef1b7": {
          "model_module": "@jupyter-widgets/base",
          "model_name": "LayoutModel",
          "model_module_version": "1.2.0",
          "state": {
            "_model_module": "@jupyter-widgets/base",
            "_model_module_version": "1.2.0",
            "_model_name": "LayoutModel",
            "_view_count": null,
            "_view_module": "@jupyter-widgets/base",
            "_view_module_version": "1.2.0",
            "_view_name": "LayoutView",
            "align_content": null,
            "align_items": null,
            "align_self": null,
            "border": null,
            "bottom": null,
            "display": null,
            "flex": null,
            "flex_flow": null,
            "grid_area": null,
            "grid_auto_columns": null,
            "grid_auto_flow": null,
            "grid_auto_rows": null,
            "grid_column": null,
            "grid_gap": null,
            "grid_row": null,
            "grid_template_areas": null,
            "grid_template_columns": null,
            "grid_template_rows": null,
            "height": null,
            "justify_content": null,
            "justify_items": null,
            "left": null,
            "margin": null,
            "max_height": null,
            "max_width": null,
            "min_height": null,
            "min_width": null,
            "object_fit": null,
            "object_position": null,
            "order": null,
            "overflow": null,
            "overflow_x": null,
            "overflow_y": null,
            "padding": null,
            "right": null,
            "top": null,
            "visibility": null,
            "width": null
          }
        },
        "c666f4b07370462a8bc97c82f9858877": {
          "model_module": "@jupyter-widgets/controls",
          "model_name": "DescriptionStyleModel",
          "model_module_version": "1.5.0",
          "state": {
            "_model_module": "@jupyter-widgets/controls",
            "_model_module_version": "1.5.0",
            "_model_name": "DescriptionStyleModel",
            "_view_count": null,
            "_view_module": "@jupyter-widgets/base",
            "_view_module_version": "1.2.0",
            "_view_name": "StyleView",
            "description_width": ""
          }
        },
        "4a3d408285f14282a6df1113ad0f44b3": {
          "model_module": "@jupyter-widgets/controls",
          "model_name": "HBoxModel",
          "model_module_version": "1.5.0",
          "state": {
            "_dom_classes": [],
            "_model_module": "@jupyter-widgets/controls",
            "_model_module_version": "1.5.0",
            "_model_name": "HBoxModel",
            "_view_count": null,
            "_view_module": "@jupyter-widgets/controls",
            "_view_module_version": "1.5.0",
            "_view_name": "HBoxView",
            "box_style": "",
            "children": [
              "IPY_MODEL_c24f17f4b13948d38c20f19572811806",
              "IPY_MODEL_75decf0dc6c042328534cd8a857a97bc",
              "IPY_MODEL_1bd327a364344ae3adca1b1b1207d9d2"
            ],
            "layout": "IPY_MODEL_f1fbb759aa25484a9829912fe5b5c458"
          }
        },
        "c24f17f4b13948d38c20f19572811806": {
          "model_module": "@jupyter-widgets/controls",
          "model_name": "HTMLModel",
          "model_module_version": "1.5.0",
          "state": {
            "_dom_classes": [],
            "_model_module": "@jupyter-widgets/controls",
            "_model_module_version": "1.5.0",
            "_model_name": "HTMLModel",
            "_view_count": null,
            "_view_module": "@jupyter-widgets/controls",
            "_view_module_version": "1.5.0",
            "_view_name": "HTMLView",
            "description": "",
            "description_tooltip": null,
            "layout": "IPY_MODEL_519850a21e964f269971f77785870c80",
            "placeholder": "​",
            "style": "IPY_MODEL_25beb7fdab614c54a323597703e8e4df",
            "value": "Shuffling /root/tensorflow_datasets/imdb_reviews/plain_text/1.0.0.incompleteK16DPR/imdb_reviews-unsupervised.tfrecord*...:  88%"
          }
        },
        "75decf0dc6c042328534cd8a857a97bc": {
          "model_module": "@jupyter-widgets/controls",
          "model_name": "FloatProgressModel",
          "model_module_version": "1.5.0",
          "state": {
            "_dom_classes": [],
            "_model_module": "@jupyter-widgets/controls",
            "_model_module_version": "1.5.0",
            "_model_name": "FloatProgressModel",
            "_view_count": null,
            "_view_module": "@jupyter-widgets/controls",
            "_view_module_version": "1.5.0",
            "_view_name": "ProgressView",
            "bar_style": "",
            "description": "",
            "description_tooltip": null,
            "layout": "IPY_MODEL_ac577dd03f564880b91c2d96407fff34",
            "max": 50000,
            "min": 0,
            "orientation": "horizontal",
            "style": "IPY_MODEL_a194a9e9c863419a9e0d31826baf8e3a",
            "value": 50000
          }
        },
        "1bd327a364344ae3adca1b1b1207d9d2": {
          "model_module": "@jupyter-widgets/controls",
          "model_name": "HTMLModel",
          "model_module_version": "1.5.0",
          "state": {
            "_dom_classes": [],
            "_model_module": "@jupyter-widgets/controls",
            "_model_module_version": "1.5.0",
            "_model_name": "HTMLModel",
            "_view_count": null,
            "_view_module": "@jupyter-widgets/controls",
            "_view_module_version": "1.5.0",
            "_view_name": "HTMLView",
            "description": "",
            "description_tooltip": null,
            "layout": "IPY_MODEL_49582f9f28d44a84a9b8bf7206904109",
            "placeholder": "​",
            "style": "IPY_MODEL_cecdeaee566e4279aab4453beae88b4c",
            "value": " 43952/50000 [00:00&lt;00:00, 164292.47 examples/s]"
          }
        },
        "f1fbb759aa25484a9829912fe5b5c458": {
          "model_module": "@jupyter-widgets/base",
          "model_name": "LayoutModel",
          "model_module_version": "1.2.0",
          "state": {
            "_model_module": "@jupyter-widgets/base",
            "_model_module_version": "1.2.0",
            "_model_name": "LayoutModel",
            "_view_count": null,
            "_view_module": "@jupyter-widgets/base",
            "_view_module_version": "1.2.0",
            "_view_name": "LayoutView",
            "align_content": null,
            "align_items": null,
            "align_self": null,
            "border": null,
            "bottom": null,
            "display": null,
            "flex": null,
            "flex_flow": null,
            "grid_area": null,
            "grid_auto_columns": null,
            "grid_auto_flow": null,
            "grid_auto_rows": null,
            "grid_column": null,
            "grid_gap": null,
            "grid_row": null,
            "grid_template_areas": null,
            "grid_template_columns": null,
            "grid_template_rows": null,
            "height": null,
            "justify_content": null,
            "justify_items": null,
            "left": null,
            "margin": null,
            "max_height": null,
            "max_width": null,
            "min_height": null,
            "min_width": null,
            "object_fit": null,
            "object_position": null,
            "order": null,
            "overflow": null,
            "overflow_x": null,
            "overflow_y": null,
            "padding": null,
            "right": null,
            "top": null,
            "visibility": "hidden",
            "width": null
          }
        },
        "519850a21e964f269971f77785870c80": {
          "model_module": "@jupyter-widgets/base",
          "model_name": "LayoutModel",
          "model_module_version": "1.2.0",
          "state": {
            "_model_module": "@jupyter-widgets/base",
            "_model_module_version": "1.2.0",
            "_model_name": "LayoutModel",
            "_view_count": null,
            "_view_module": "@jupyter-widgets/base",
            "_view_module_version": "1.2.0",
            "_view_name": "LayoutView",
            "align_content": null,
            "align_items": null,
            "align_self": null,
            "border": null,
            "bottom": null,
            "display": null,
            "flex": null,
            "flex_flow": null,
            "grid_area": null,
            "grid_auto_columns": null,
            "grid_auto_flow": null,
            "grid_auto_rows": null,
            "grid_column": null,
            "grid_gap": null,
            "grid_row": null,
            "grid_template_areas": null,
            "grid_template_columns": null,
            "grid_template_rows": null,
            "height": null,
            "justify_content": null,
            "justify_items": null,
            "left": null,
            "margin": null,
            "max_height": null,
            "max_width": null,
            "min_height": null,
            "min_width": null,
            "object_fit": null,
            "object_position": null,
            "order": null,
            "overflow": null,
            "overflow_x": null,
            "overflow_y": null,
            "padding": null,
            "right": null,
            "top": null,
            "visibility": null,
            "width": null
          }
        },
        "25beb7fdab614c54a323597703e8e4df": {
          "model_module": "@jupyter-widgets/controls",
          "model_name": "DescriptionStyleModel",
          "model_module_version": "1.5.0",
          "state": {
            "_model_module": "@jupyter-widgets/controls",
            "_model_module_version": "1.5.0",
            "_model_name": "DescriptionStyleModel",
            "_view_count": null,
            "_view_module": "@jupyter-widgets/base",
            "_view_module_version": "1.2.0",
            "_view_name": "StyleView",
            "description_width": ""
          }
        },
        "ac577dd03f564880b91c2d96407fff34": {
          "model_module": "@jupyter-widgets/base",
          "model_name": "LayoutModel",
          "model_module_version": "1.2.0",
          "state": {
            "_model_module": "@jupyter-widgets/base",
            "_model_module_version": "1.2.0",
            "_model_name": "LayoutModel",
            "_view_count": null,
            "_view_module": "@jupyter-widgets/base",
            "_view_module_version": "1.2.0",
            "_view_name": "LayoutView",
            "align_content": null,
            "align_items": null,
            "align_self": null,
            "border": null,
            "bottom": null,
            "display": null,
            "flex": null,
            "flex_flow": null,
            "grid_area": null,
            "grid_auto_columns": null,
            "grid_auto_flow": null,
            "grid_auto_rows": null,
            "grid_column": null,
            "grid_gap": null,
            "grid_row": null,
            "grid_template_areas": null,
            "grid_template_columns": null,
            "grid_template_rows": null,
            "height": null,
            "justify_content": null,
            "justify_items": null,
            "left": null,
            "margin": null,
            "max_height": null,
            "max_width": null,
            "min_height": null,
            "min_width": null,
            "object_fit": null,
            "object_position": null,
            "order": null,
            "overflow": null,
            "overflow_x": null,
            "overflow_y": null,
            "padding": null,
            "right": null,
            "top": null,
            "visibility": null,
            "width": null
          }
        },
        "a194a9e9c863419a9e0d31826baf8e3a": {
          "model_module": "@jupyter-widgets/controls",
          "model_name": "ProgressStyleModel",
          "model_module_version": "1.5.0",
          "state": {
            "_model_module": "@jupyter-widgets/controls",
            "_model_module_version": "1.5.0",
            "_model_name": "ProgressStyleModel",
            "_view_count": null,
            "_view_module": "@jupyter-widgets/base",
            "_view_module_version": "1.2.0",
            "_view_name": "StyleView",
            "bar_color": null,
            "description_width": ""
          }
        },
        "49582f9f28d44a84a9b8bf7206904109": {
          "model_module": "@jupyter-widgets/base",
          "model_name": "LayoutModel",
          "model_module_version": "1.2.0",
          "state": {
            "_model_module": "@jupyter-widgets/base",
            "_model_module_version": "1.2.0",
            "_model_name": "LayoutModel",
            "_view_count": null,
            "_view_module": "@jupyter-widgets/base",
            "_view_module_version": "1.2.0",
            "_view_name": "LayoutView",
            "align_content": null,
            "align_items": null,
            "align_self": null,
            "border": null,
            "bottom": null,
            "display": null,
            "flex": null,
            "flex_flow": null,
            "grid_area": null,
            "grid_auto_columns": null,
            "grid_auto_flow": null,
            "grid_auto_rows": null,
            "grid_column": null,
            "grid_gap": null,
            "grid_row": null,
            "grid_template_areas": null,
            "grid_template_columns": null,
            "grid_template_rows": null,
            "height": null,
            "justify_content": null,
            "justify_items": null,
            "left": null,
            "margin": null,
            "max_height": null,
            "max_width": null,
            "min_height": null,
            "min_width": null,
            "object_fit": null,
            "object_position": null,
            "order": null,
            "overflow": null,
            "overflow_x": null,
            "overflow_y": null,
            "padding": null,
            "right": null,
            "top": null,
            "visibility": null,
            "width": null
          }
        },
        "cecdeaee566e4279aab4453beae88b4c": {
          "model_module": "@jupyter-widgets/controls",
          "model_name": "DescriptionStyleModel",
          "model_module_version": "1.5.0",
          "state": {
            "_model_module": "@jupyter-widgets/controls",
            "_model_module_version": "1.5.0",
            "_model_name": "DescriptionStyleModel",
            "_view_count": null,
            "_view_module": "@jupyter-widgets/base",
            "_view_module_version": "1.2.0",
            "_view_name": "StyleView",
            "description_width": ""
          }
        }
      }
    }
  },
  "cells": [
    {
      "cell_type": "markdown",
      "source": [
        "# Trabajo Práctico 3\n",
        "\n",
        "### Integrantes:\n",
        "* Menel Angelo - 1804789\n",
        "* Vietto Santiago - 1802890"
      ],
      "metadata": {
        "id": "lPcYFx3WE9EK"
      }
    },
    {
      "cell_type": "markdown",
      "source": [
        " ## Sentiment Analysis"
      ],
      "metadata": {
        "id": "pbbisDNbUvCK"
      }
    },
    {
      "cell_type": "markdown",
      "source": [
        "Las siguientes librerias a importar son aquellas que nos ayudaran a correr las funciones que seran utilizadas a lo largo del proyecto:"
      ],
      "metadata": {
        "id": "vE7g69vzGA8N"
      }
    },
    {
      "cell_type": "code",
      "execution_count": null,
      "metadata": {
        "id": "jBaUBpM7E7NY"
      },
      "outputs": [],
      "source": [
        "# Librerias\n",
        "\n",
        "import pandas as pd\n",
        "import os\n",
        "import numpy as np\n",
        "import matplotlib.pyplot as plt\n",
        "import keras\n",
        "from tensorflow.keras.datasets import imdb\n",
        "import tensorflow_datasets as tfds\n",
        "from collections import Counter\n",
        "import tensorflow as tf\n",
        "import tensorflow_hub as hub"
      ]
    },
    {
      "cell_type": "markdown",
      "source": [
        "* os: se utiliza para realizar operaciones relacionadas con la gestión de archivos y directorios, como la creación, eliminación, cambio de directorio, etc.\n",
        "* matplotlib.pyplot: se utiliza para generar gráficos, diagramas y visualizaciones de datos, lo que facilita la comprensión y la presentación de los resultados.\n",
        "* keras: proporciona una API sencilla y elegante para definir arquitecturas de modelos, compilar modelos con funciones de pérdida y optimizadores, y entrenar modelos en conjuntos de datos.\n",
        "* tensorflow.keras.datasets.imdb: se utiliza para cargar y acceder al conjunto de datos de IMDb para tareas de clasificación de sentimientos.\n",
        "* tensorflow_datasets (tfds): permite cargar y acceder a diversos conjuntos de datos para su uso en tareas de entrenamiento y evaluación de modelos.\n",
        "* collections.Counter: se utiliza para realizar recuentos y análisis de frecuencia de elementos, como palabras o elementos únicos en un conjunto de datos.\n",
        "* tensorflow: proporciona herramientas y funciones para construir, entrenar y desplegar modelos de ML en una variedad de tareas y entornos.\n",
        "* tensorflow_hub (hub): permite la reutilización de módulos de modelos preentrenados. Facilita la descarga, el uso y el intercambio de estos módulos, lo que permite a los usuarios aprovechar modelos preentrenados y realizar transferencia de aprendizaje en sus propios proyectos de aprendizaje automático."
      ],
      "metadata": {
        "id": "Zx7QsuKkE70F"
      }
    },
    {
      "cell_type": "markdown",
      "source": [
        "Instalamos la libreria Keras y tensorflow para poder cargar el dataset que usaremos:"
      ],
      "metadata": {
        "id": "oyithhdeTh7c"
      }
    },
    {
      "cell_type": "code",
      "source": [
        "!pip install keras"
      ],
      "metadata": {
        "colab": {
          "base_uri": "https://localhost:8080/"
        },
        "id": "BnF_sGqOVm5c",
        "outputId": "04a9e060-4d42-425f-b98f-aa36c1af4be3"
      },
      "execution_count": null,
      "outputs": [
        {
          "output_type": "stream",
          "name": "stdout",
          "text": [
            "Looking in indexes: https://pypi.org/simple, https://us-python.pkg.dev/colab-wheels/public/simple/\n",
            "Requirement already satisfied: keras in /usr/local/lib/python3.10/dist-packages (2.12.0)\n"
          ]
        }
      ]
    },
    {
      "cell_type": "code",
      "source": [
        "!pip install tensorflow"
      ],
      "metadata": {
        "colab": {
          "base_uri": "https://localhost:8080/"
        },
        "id": "eIS1fFQKdDmd",
        "outputId": "5be080b1-f002-4672-87ac-6f4ff36b856b"
      },
      "execution_count": null,
      "outputs": [
        {
          "output_type": "stream",
          "name": "stdout",
          "text": [
            "Looking in indexes: https://pypi.org/simple, https://us-python.pkg.dev/colab-wheels/public/simple/\n",
            "Requirement already satisfied: tensorflow in /usr/local/lib/python3.10/dist-packages (2.12.0)\n",
            "Requirement already satisfied: absl-py>=1.0.0 in /usr/local/lib/python3.10/dist-packages (from tensorflow) (1.4.0)\n",
            "Requirement already satisfied: astunparse>=1.6.0 in /usr/local/lib/python3.10/dist-packages (from tensorflow) (1.6.3)\n",
            "Requirement already satisfied: flatbuffers>=2.0 in /usr/local/lib/python3.10/dist-packages (from tensorflow) (23.3.3)\n",
            "Requirement already satisfied: gast<=0.4.0,>=0.2.1 in /usr/local/lib/python3.10/dist-packages (from tensorflow) (0.4.0)\n",
            "Requirement already satisfied: google-pasta>=0.1.1 in /usr/local/lib/python3.10/dist-packages (from tensorflow) (0.2.0)\n",
            "Requirement already satisfied: grpcio<2.0,>=1.24.3 in /usr/local/lib/python3.10/dist-packages (from tensorflow) (1.54.0)\n",
            "Requirement already satisfied: h5py>=2.9.0 in /usr/local/lib/python3.10/dist-packages (from tensorflow) (3.8.0)\n",
            "Requirement already satisfied: jax>=0.3.15 in /usr/local/lib/python3.10/dist-packages (from tensorflow) (0.4.10)\n",
            "Requirement already satisfied: keras<2.13,>=2.12.0 in /usr/local/lib/python3.10/dist-packages (from tensorflow) (2.12.0)\n",
            "Requirement already satisfied: libclang>=13.0.0 in /usr/local/lib/python3.10/dist-packages (from tensorflow) (16.0.0)\n",
            "Requirement already satisfied: numpy<1.24,>=1.22 in /usr/local/lib/python3.10/dist-packages (from tensorflow) (1.22.4)\n",
            "Requirement already satisfied: opt-einsum>=2.3.2 in /usr/local/lib/python3.10/dist-packages (from tensorflow) (3.3.0)\n",
            "Requirement already satisfied: packaging in /usr/local/lib/python3.10/dist-packages (from tensorflow) (23.1)\n",
            "Requirement already satisfied: protobuf!=4.21.0,!=4.21.1,!=4.21.2,!=4.21.3,!=4.21.4,!=4.21.5,<5.0.0dev,>=3.20.3 in /usr/local/lib/python3.10/dist-packages (from tensorflow) (3.20.3)\n",
            "Requirement already satisfied: setuptools in /usr/local/lib/python3.10/dist-packages (from tensorflow) (67.7.2)\n",
            "Requirement already satisfied: six>=1.12.0 in /usr/local/lib/python3.10/dist-packages (from tensorflow) (1.16.0)\n",
            "Requirement already satisfied: tensorboard<2.13,>=2.12 in /usr/local/lib/python3.10/dist-packages (from tensorflow) (2.12.2)\n",
            "Requirement already satisfied: tensorflow-estimator<2.13,>=2.12.0 in /usr/local/lib/python3.10/dist-packages (from tensorflow) (2.12.0)\n",
            "Requirement already satisfied: termcolor>=1.1.0 in /usr/local/lib/python3.10/dist-packages (from tensorflow) (2.3.0)\n",
            "Requirement already satisfied: typing-extensions>=3.6.6 in /usr/local/lib/python3.10/dist-packages (from tensorflow) (4.5.0)\n",
            "Requirement already satisfied: wrapt<1.15,>=1.11.0 in /usr/local/lib/python3.10/dist-packages (from tensorflow) (1.14.1)\n",
            "Requirement already satisfied: tensorflow-io-gcs-filesystem>=0.23.1 in /usr/local/lib/python3.10/dist-packages (from tensorflow) (0.32.0)\n",
            "Requirement already satisfied: wheel<1.0,>=0.23.0 in /usr/local/lib/python3.10/dist-packages (from astunparse>=1.6.0->tensorflow) (0.40.0)\n",
            "Requirement already satisfied: ml-dtypes>=0.1.0 in /usr/local/lib/python3.10/dist-packages (from jax>=0.3.15->tensorflow) (0.1.0)\n",
            "Requirement already satisfied: scipy>=1.7 in /usr/local/lib/python3.10/dist-packages (from jax>=0.3.15->tensorflow) (1.10.1)\n",
            "Requirement already satisfied: google-auth<3,>=1.6.3 in /usr/local/lib/python3.10/dist-packages (from tensorboard<2.13,>=2.12->tensorflow) (2.17.3)\n",
            "Requirement already satisfied: google-auth-oauthlib<1.1,>=0.5 in /usr/local/lib/python3.10/dist-packages (from tensorboard<2.13,>=2.12->tensorflow) (1.0.0)\n",
            "Requirement already satisfied: markdown>=2.6.8 in /usr/local/lib/python3.10/dist-packages (from tensorboard<2.13,>=2.12->tensorflow) (3.4.3)\n",
            "Requirement already satisfied: requests<3,>=2.21.0 in /usr/local/lib/python3.10/dist-packages (from tensorboard<2.13,>=2.12->tensorflow) (2.27.1)\n",
            "Requirement already satisfied: tensorboard-data-server<0.8.0,>=0.7.0 in /usr/local/lib/python3.10/dist-packages (from tensorboard<2.13,>=2.12->tensorflow) (0.7.0)\n",
            "Requirement already satisfied: tensorboard-plugin-wit>=1.6.0 in /usr/local/lib/python3.10/dist-packages (from tensorboard<2.13,>=2.12->tensorflow) (1.8.1)\n",
            "Requirement already satisfied: werkzeug>=1.0.1 in /usr/local/lib/python3.10/dist-packages (from tensorboard<2.13,>=2.12->tensorflow) (2.3.0)\n",
            "Requirement already satisfied: cachetools<6.0,>=2.0.0 in /usr/local/lib/python3.10/dist-packages (from google-auth<3,>=1.6.3->tensorboard<2.13,>=2.12->tensorflow) (5.3.0)\n",
            "Requirement already satisfied: pyasn1-modules>=0.2.1 in /usr/local/lib/python3.10/dist-packages (from google-auth<3,>=1.6.3->tensorboard<2.13,>=2.12->tensorflow) (0.3.0)\n",
            "Requirement already satisfied: rsa<5,>=3.1.4 in /usr/local/lib/python3.10/dist-packages (from google-auth<3,>=1.6.3->tensorboard<2.13,>=2.12->tensorflow) (4.9)\n",
            "Requirement already satisfied: requests-oauthlib>=0.7.0 in /usr/local/lib/python3.10/dist-packages (from google-auth-oauthlib<1.1,>=0.5->tensorboard<2.13,>=2.12->tensorflow) (1.3.1)\n",
            "Requirement already satisfied: urllib3<1.27,>=1.21.1 in /usr/local/lib/python3.10/dist-packages (from requests<3,>=2.21.0->tensorboard<2.13,>=2.12->tensorflow) (1.26.15)\n",
            "Requirement already satisfied: certifi>=2017.4.17 in /usr/local/lib/python3.10/dist-packages (from requests<3,>=2.21.0->tensorboard<2.13,>=2.12->tensorflow) (2022.12.7)\n",
            "Requirement already satisfied: charset-normalizer~=2.0.0 in /usr/local/lib/python3.10/dist-packages (from requests<3,>=2.21.0->tensorboard<2.13,>=2.12->tensorflow) (2.0.12)\n",
            "Requirement already satisfied: idna<4,>=2.5 in /usr/local/lib/python3.10/dist-packages (from requests<3,>=2.21.0->tensorboard<2.13,>=2.12->tensorflow) (3.4)\n",
            "Requirement already satisfied: MarkupSafe>=2.1.1 in /usr/local/lib/python3.10/dist-packages (from werkzeug>=1.0.1->tensorboard<2.13,>=2.12->tensorflow) (2.1.2)\n",
            "Requirement already satisfied: pyasn1<0.6.0,>=0.4.6 in /usr/local/lib/python3.10/dist-packages (from pyasn1-modules>=0.2.1->google-auth<3,>=1.6.3->tensorboard<2.13,>=2.12->tensorflow) (0.5.0)\n",
            "Requirement already satisfied: oauthlib>=3.0.0 in /usr/local/lib/python3.10/dist-packages (from requests-oauthlib>=0.7.0->google-auth-oauthlib<1.1,>=0.5->tensorboard<2.13,>=2.12->tensorflow) (3.2.2)\n"
          ]
        }
      ]
    },
    {
      "cell_type": "markdown",
      "source": [
        "* La libreria Keras es una biblioteca que proporciona una interfaz de alto nivel para construir y entrenar redes neuronales, lo que facilita el desarrollo de modelos de deep learning.\n",
        "* La libreria TensorFlow es una biblioteca que proporciona una arquitectura flexible y eficiente para realizar cálculos numéricos en grandes conjuntos de datos, lo que lo hace ideal para tareas de ML, procesamiento de imágenes, procesamiento del lenguaje natural y muchas otras aplicaciones de IA."
      ],
      "metadata": {
        "id": "rf5_Nf0QZewu"
      }
    },
    {
      "cell_type": "markdown",
      "source": [
        "#### Obtencion de los datos"
      ],
      "metadata": {
        "id": "7azRjHkFZAAV"
      }
    },
    {
      "cell_type": "code",
      "source": [
        "# Descargamos del dataset de reseñas de peliculas en ingles de IMDb\n",
        "# Cargamos los datos de entrenamiento X y prueba y.\n",
        "\n",
        "(X_train, y_train), (X_test, y_test) = keras.datasets.imdb.load_data()"
      ],
      "metadata": {
        "id": "04m-9h2dGByH",
        "colab": {
          "base_uri": "https://localhost:8080/"
        },
        "outputId": "086334c6-8267-46bd-f000-af1892c11ac3"
      },
      "execution_count": null,
      "outputs": [
        {
          "output_type": "stream",
          "name": "stdout",
          "text": [
            "Downloading data from https://storage.googleapis.com/tensorflow/tf-keras-datasets/imdb.npz\n",
            "17464789/17464789 [==============================] - 1s 0us/step\n"
          ]
        }
      ]
    },
    {
      "cell_type": "markdown",
      "source": [
        "* En este caso, el conjunto de datos que utilizaremos contiene reseñas de peliculas de IMDb (Internet Movie Database). El objetivo de utilizar este conjunto de datos es entrenar modelos de aprendizaje automático para comprender y predecir el sentimiento asociado a una determinada reseña de película. Al tener una etiqueta binaria que indica si una reseña es positiva o negativa, se puede utilizar este conjunto de datos para realizar tareas de clasificación binaria.\n",
        "* Este dataset consta de 50000 reseñas de películas en inglés. Estas reseñas están divididas en 25,000 para entrenamiento y 25,000 para pruebas, junto con un objeto binario simple para cada reseña que indica si es negativa (0) o positiva (1).\n",
        "* En la variable \"X\" se almacenan las opiniones (secuencias de palabras) y en la variable \"y\" las etiquetas binarias que indican si la reseña es negativa o positiva."
      ],
      "metadata": {
        "id": "Jn6-u3SVas8K"
      }
    },
    {
      "cell_type": "code",
      "source": [
        "# Vizualizamos los datos de X_train\n",
        "\n",
        "X_train[0][:10]"
      ],
      "metadata": {
        "colab": {
          "base_uri": "https://localhost:8080/"
        },
        "id": "mfLvNMuTWSH8",
        "outputId": "8eeccc2b-309c-4f0d-d13b-7d439429be36"
      },
      "execution_count": null,
      "outputs": [
        {
          "output_type": "execute_result",
          "data": {
            "text/plain": [
              "[1, 14, 22, 16, 43, 530, 973, 1622, 1385, 65]"
            ]
          },
          "metadata": {},
          "execution_count": 5
        }
      ]
    },
    {
      "cell_type": "markdown",
      "source": [
        "* En este caso accedemos a la primera reseña en el conjunto de entrenamiento, para luego mostrar los primeros 10 enteros de un arreglo NumPy, que representan las palabras en esa reseña en particular.\n",
        "* Entonces, vemos como resultado las 10 primeras palabras de la primera reseña en el conjunto de entrenamiento. Esto nos ayuda a examinar y comprender la estructura de los datos, así como para realizar algún tipo de preprocesamiento o análisis inicial.\n",
        "* Los enteros 0, 1 y 2 son especiales, ya que representan el token de relleno, el token de inicio de secuencia (SOS) y las palabras desconocidas, respectivamente."
      ],
      "metadata": {
        "id": "Glyuf9jtePBO"
      }
    },
    {
      "cell_type": "code",
      "source": [
        "# Visualizamos una reseña basandonos en en la matriz NumPy que obtuvimos en el\n",
        "# paso anterior\n",
        "\n",
        "word_index = keras.datasets.imdb.get_word_index()\n",
        "id_to_word = {id_ + 3: word for word, id_ in word_index.items()}\n",
        "for id_, token in enumerate((\"<pad>\", \"<sos>\", \"<unk>\")):\n",
        "  id_to_word[id_] = token\n",
        "\" \".join([id_to_word[id_] for id_ in X_train[0][:10]])"
      ],
      "metadata": {
        "colab": {
          "base_uri": "https://localhost:8080/",
          "height": 35
        },
        "id": "8udtZkWpWRx8",
        "outputId": "da99e072-a1c9-488c-d6fd-6d1cce747076"
      },
      "execution_count": null,
      "outputs": [
        {
          "output_type": "execute_result",
          "data": {
            "text/plain": [
              "'<sos> this film was just brilliant casting location scenery story'"
            ],
            "application/vnd.google.colaboratory.intrinsic+json": {
              "type": "string"
            }
          },
          "metadata": {},
          "execution_count": 7
        }
      ]
    },
    {
      "cell_type": "markdown",
      "source": [
        "* Aqui hacemos una decodificacion, es decir, convertimos los índices de las palabras en una reseña específica, en las palabras reales correspondientes, permitiendo asi poder visualizar la reseña real en texto.\n",
        "* Primero, se carga el diccionario word_index, que mapea palabras a sus índices en el conjunto de datos IMDb. Cada palabra tiene un índice único asignado.\n",
        "* Segundo, se crea un nuevo diccionario id_to_word que mapea los índices de las palabras a las palabras reales. Se suma 3 a cada índice porque los primeros tres índices son reservados para el token de relleno, el token de inicio de secuencia (SOS) y las palabras desconocidas.\n",
        "* Tercero, se añade al diccionario id_to_word las palabras especiales y sus índices correspondientes.\n",
        "* Por ultimo, se toman los primeros 10 índices de la reseña en el conjunto de entrenamiento y se utiliza el diccionario id_to_word para obtener las palabras correspondientes a esos índices. Luego, las palabras se unen utilizando un espacio como separador.\n"
      ],
      "metadata": {
        "id": "KExCKBaxhS1p"
      }
    },
    {
      "cell_type": "code",
      "source": [
        "# Ahora, cargamos las reseñas originales de IMDb, como texto (cadenas de bytes),\n",
        "# utilizando TensorFlow\n",
        "\n",
        "datasets, info = tfds.load(\"imdb_reviews\", as_supervised=True, with_info=True)"
      ],
      "metadata": {
        "colab": {
          "base_uri": "https://localhost:8080/",
          "height": 116,
          "referenced_widgets": [
            "1bab0a0843074760827973fd4ecbb65f",
            "c6c8dbff9a2d452b83426e51f214ffa8",
            "dd158c12c98e4c2e9e5eb7b257841888",
            "419f38674fc64c4f8ec38a2f1dde52bd",
            "1cbb50e9dbc443dcbb0fdc409b797e15",
            "3b167a5c447045358fb49deb31914ce1",
            "84d848f671e9402db0cae3cc0820d9ed",
            "a37b45ab79fd4b5092c93c064a944392",
            "8d6e4fcfd0434eb4bc954c76285d643f",
            "b63725793b6a40bca4490aa60da5a3e2",
            "d543ce08867b4d198427d82db7c86dbe",
            "0052b77ca7c048f680ec0e1f01c7c9ce",
            "d888b88606a64f75953dd577ab6ecc8e",
            "8c8c8406ab3748f98a144c7b71e1e02c",
            "8f41867ada25451596eb1925722965ee",
            "3f402439b0184f4892edbf7526700f0a",
            "3bce3f581b3d458fa174356e7adcecda",
            "1f37f9ba67204f88a2604f57ff1635ca",
            "bec72f4bc5d846cb92135763d46b6358",
            "6451ae9645904f5ebc1a8b859ecb0668",
            "9d405dc7c061430fa9b96b7a77da53ba",
            "10b236168c814e3393384eb27199c25e",
            "4fda7fbce77c463cb0319586216e48ec",
            "51c1345f0d7e43d888ffa80bbe6c4d50",
            "a093e52553654944b0eaf7d839142a9b",
            "d363ad9873e449bfa64b0658c417b857",
            "951d8ab5beaf4f59aedef77b934e7f57",
            "cd1ac8a2308441c2865f1f16c6cdf526",
            "278b8595915842caa849f2829de549b6",
            "4a245f5f59f04ded956fa3bfb5d2d9d7",
            "45c72d19e26b4d32b1b96cb226041be3",
            "e336d0b387de4ef49324557f0987cb00",
            "985b6a82efc14bddaa4a81c156043908",
            "052d54206060410b8670eef4a5410095",
            "fba6dbbce8d242188ef8c9666e112aae",
            "0b84679bbd4e487392660a6b80516043",
            "c378e674967c4ca0849d16ec12351ff8",
            "b692dd3c551c43cd8879c6ceec4ad65f",
            "d78fdc9a20c94a88b0cb0d38d19801a3",
            "b9d06afb27a04be9b9fefdd9f05668c0",
            "02ee407dc7044950b34a9b69f4768c3e",
            "b40da303ecb846f1b0b562a62771a83c",
            "6e37d0f23c8c44df8fbec57b260665fa",
            "37050c93e600493eae0b305e5df2539e",
            "b826234b9df548eb89e9cf8e946b79ea",
            "9f30cb82ae6b4d1291931d6da0bcc867",
            "fa1b741b0b5344fa835f01d1d83ad8ac",
            "d12ea20106074b21887a31f3d541129a",
            "73c0b5f9d27d48b29cecd330466912dd",
            "b70cebf4d166428ebf1b0e904eabd8ce",
            "ed487288086648eab249970759cd6c22",
            "acf42b8e56564e4c9878bc7ceb331e43",
            "bd1e68c7b5d94d1ba870cc8ff06aa8cc",
            "325b21d7f81e4eff9613234bd1b3650a",
            "761027b0f92f48ca9694bd6f1391c275",
            "385f7bdbaf494219998a6f461ef30251",
            "360f153e345c4c83b2ffcfc39f9866c5",
            "a20ecf8d7bfd4849bd1a9217a8a1b29e",
            "f4c84c9029d34a1f84b33133fda173b8",
            "a91fb25a319449259b6fd278b8ddc893",
            "1c4af108af6f421e85b857ad0573b5b0",
            "f7b330dc847c4b5780f510329176f3a6",
            "efcadff918914546ad267827edef1b6e",
            "11356c994f0c48c79728d1b1e34aaacd",
            "76166edcc7834965baf0965cac362827",
            "be3d3d47cdb746e3b9467982684cafc5",
            "08b3fff9894d46c8947f3b407eee6fd9",
            "dcb1076c5406433ba0c06587eb5c3b28",
            "4bfcb02ef35941eebef9c97c0d42c565",
            "e6afbcebb0a24d83b546bdbff5701ab8",
            "8e95c057a5074dc3b085e98e0a56ee8f",
            "f11fa32237554df1b1c080225d164d18",
            "9e9bff6450c7404a9f8c7116a1d8acca",
            "254159ffa1fc4d5c8eaac49489314802",
            "bf43db1b45e84ed894217e1dee03b8e8",
            "f952df71fd4b424db093447a9549b037",
            "7f12a2e07ccd4d63867a358428cd4689",
            "f48477e049b3451bb744cb30627bf139",
            "ebee72d614424d0790d1efd7dfc41256",
            "808aa914651644ebb0dbb7adba34928e",
            "6d97fa38bfae49c89e3ac2a47281c875",
            "3831377ffdd24f56a1ff0ee377146b8f",
            "6a1b8c29a2d04337897e6f1ab3c35a84",
            "6802581b75f94c289f9d5bbb542996ed",
            "31bd17ceb13d4be78fdb66e1fc1fba4b",
            "357703158f4b4d978cf803b7c2874a59",
            "f8815fd80cb74fd28ad66568b68ef1b7",
            "c666f4b07370462a8bc97c82f9858877",
            "4a3d408285f14282a6df1113ad0f44b3",
            "c24f17f4b13948d38c20f19572811806",
            "75decf0dc6c042328534cd8a857a97bc",
            "1bd327a364344ae3adca1b1b1207d9d2",
            "f1fbb759aa25484a9829912fe5b5c458",
            "519850a21e964f269971f77785870c80",
            "25beb7fdab614c54a323597703e8e4df",
            "ac577dd03f564880b91c2d96407fff34",
            "a194a9e9c863419a9e0d31826baf8e3a",
            "49582f9f28d44a84a9b8bf7206904109",
            "cecdeaee566e4279aab4453beae88b4c"
          ]
        },
        "id": "RC6qEELFWjAu",
        "outputId": "c8c88075-2213-4560-a48c-ac86d49b9825"
      },
      "execution_count": null,
      "outputs": [
        {
          "output_type": "stream",
          "name": "stdout",
          "text": [
            "Downloading and preparing dataset 80.23 MiB (download: 80.23 MiB, generated: Unknown size, total: 80.23 MiB) to /root/tensorflow_datasets/imdb_reviews/plain_text/1.0.0...\n"
          ]
        },
        {
          "output_type": "display_data",
          "data": {
            "text/plain": [
              "Dl Completed...: 0 url [00:00, ? url/s]"
            ],
            "application/vnd.jupyter.widget-view+json": {
              "version_major": 2,
              "version_minor": 0,
              "model_id": "1bab0a0843074760827973fd4ecbb65f"
            }
          },
          "metadata": {}
        },
        {
          "output_type": "display_data",
          "data": {
            "text/plain": [
              "Dl Size...: 0 MiB [00:00, ? MiB/s]"
            ],
            "application/vnd.jupyter.widget-view+json": {
              "version_major": 2,
              "version_minor": 0,
              "model_id": "0052b77ca7c048f680ec0e1f01c7c9ce"
            }
          },
          "metadata": {}
        },
        {
          "output_type": "display_data",
          "data": {
            "text/plain": [
              "Generating splits...:   0%|          | 0/3 [00:00<?, ? splits/s]"
            ],
            "application/vnd.jupyter.widget-view+json": {
              "version_major": 2,
              "version_minor": 0,
              "model_id": "4fda7fbce77c463cb0319586216e48ec"
            }
          },
          "metadata": {}
        },
        {
          "output_type": "display_data",
          "data": {
            "text/plain": [
              "Generating train examples...:   0%|          | 0/25000 [00:00<?, ? examples/s]"
            ],
            "application/vnd.jupyter.widget-view+json": {
              "version_major": 2,
              "version_minor": 0,
              "model_id": "052d54206060410b8670eef4a5410095"
            }
          },
          "metadata": {}
        },
        {
          "output_type": "display_data",
          "data": {
            "text/plain": [
              "Shuffling /root/tensorflow_datasets/imdb_reviews/plain_text/1.0.0.incompleteK16DPR/imdb_reviews-train.tfrecord…"
            ],
            "application/vnd.jupyter.widget-view+json": {
              "version_major": 2,
              "version_minor": 0,
              "model_id": "b826234b9df548eb89e9cf8e946b79ea"
            }
          },
          "metadata": {}
        },
        {
          "output_type": "display_data",
          "data": {
            "text/plain": [
              "Generating test examples...:   0%|          | 0/25000 [00:00<?, ? examples/s]"
            ],
            "application/vnd.jupyter.widget-view+json": {
              "version_major": 2,
              "version_minor": 0,
              "model_id": "385f7bdbaf494219998a6f461ef30251"
            }
          },
          "metadata": {}
        },
        {
          "output_type": "display_data",
          "data": {
            "text/plain": [
              "Shuffling /root/tensorflow_datasets/imdb_reviews/plain_text/1.0.0.incompleteK16DPR/imdb_reviews-test.tfrecord*…"
            ],
            "application/vnd.jupyter.widget-view+json": {
              "version_major": 2,
              "version_minor": 0,
              "model_id": "08b3fff9894d46c8947f3b407eee6fd9"
            }
          },
          "metadata": {}
        },
        {
          "output_type": "display_data",
          "data": {
            "text/plain": [
              "Generating unsupervised examples...:   0%|          | 0/50000 [00:00<?, ? examples/s]"
            ],
            "application/vnd.jupyter.widget-view+json": {
              "version_major": 2,
              "version_minor": 0,
              "model_id": "f48477e049b3451bb744cb30627bf139"
            }
          },
          "metadata": {}
        },
        {
          "output_type": "display_data",
          "data": {
            "text/plain": [
              "Shuffling /root/tensorflow_datasets/imdb_reviews/plain_text/1.0.0.incompleteK16DPR/imdb_reviews-unsupervised.t…"
            ],
            "application/vnd.jupyter.widget-view+json": {
              "version_major": 2,
              "version_minor": 0,
              "model_id": "4a3d408285f14282a6df1113ad0f44b3"
            }
          },
          "metadata": {}
        },
        {
          "output_type": "stream",
          "name": "stdout",
          "text": [
            "Dataset imdb_reviews downloaded and prepared to /root/tensorflow_datasets/imdb_reviews/plain_text/1.0.0. Subsequent calls will reuse this data.\n"
          ]
        }
      ]
    },
    {
      "cell_type": "markdown",
      "source": [
        "* En este caso, cargamos las reseñas originales de IMDb en forma de texto (cadenas de bytes) utilizando TensorFlow Datasets. Lo hacemos de esta manera ya que TensorFlow proporciona una forma conveniente de acceder y manejar conjuntos de datos. Por ende, al cargar las reseñas en forma de texto, se facilita su procesamiento y manipulación posterior dentro del flujo de trabajo de TensorFlow.\n",
        "* TensorFlow permite integrar este procesamiento de datos directamente en el modelo, lo que facilita la implementación y el despliegue del modelo en diferentes plataformas y dispositivos."
      ],
      "metadata": {
        "id": "nmzm5vkbrch4"
      }
    },
    {
      "cell_type": "code",
      "source": [
        "# Visualizamos los diferentes conjuntos de datos disponibles dentro de la carga\n",
        "# de IMDb en TensorFlow Datasets.\n",
        "\n",
        "datasets.keys()"
      ],
      "metadata": {
        "colab": {
          "base_uri": "https://localhost:8080/"
        },
        "id": "BqtAdbirWi-o",
        "outputId": "ff1a8a01-be0f-4cb2-c727-d8d38c503897"
      },
      "execution_count": null,
      "outputs": [
        {
          "output_type": "execute_result",
          "data": {
            "text/plain": [
              "dict_keys([Split('train'), Split('test'), Split('unsupervised')])"
            ]
          },
          "metadata": {},
          "execution_count": 11
        }
      ]
    },
    {
      "cell_type": "markdown",
      "source": [
        "* Como podemos observar, datasets es un diccionario que posee tres claves, en donde cada una de estas se refiere a un conjunto de datos específico dentro de la carga de IMDb.\n",
        "* train: se refiere al conjunto de datos de entrenamiento, ya que contiene el conjunto de reseñas y sus etiquetas correspondientes que se utilizarán para entrenar el modelo.\n",
        "* test: se refiere al conjunto de datos de prueba, ya que contiene un conjunto de reseñas y sus etiquetas correspondientes que se utilizarán para evaluar el rendimiento del modelo después de entrenarlo.\n",
        "* unsupervised: se refiere a un conjunto de datos no etiquetados, es decir, contiene un conjunto de reseñas sin sus etiquetas correspondientes."
      ],
      "metadata": {
        "id": "6FZo7FuLvpo0"
      }
    },
    {
      "cell_type": "code",
      "source": [
        "# Obtener el tamaño del conjunto de datos de entrenamiento y prueba\n",
        "\n",
        "train_size = info.splits[\"train\"].num_examples\n",
        "test_size = info.splits[\"test\"].num_examples\n",
        "\n",
        "# Visualizamos los datos\n",
        "\n",
        "train_size, test_size"
      ],
      "metadata": {
        "colab": {
          "base_uri": "https://localhost:8080/"
        },
        "id": "cTnMiRdzXWD0",
        "outputId": "8558a534-eb62-432b-a7c3-4706c0a09688"
      },
      "execution_count": null,
      "outputs": [
        {
          "output_type": "execute_result",
          "data": {
            "text/plain": [
              "(25000, 25000)"
            ]
          },
          "metadata": {},
          "execution_count": 12
        }
      ]
    },
    {
      "cell_type": "markdown",
      "source": [
        "* Entonces, obtenemos el tamaño de los conjuntos de datos de entrenamiento y prueba cargados desde IMDb utilizando TensorFlow Datasets. Obtener el tamaño de los conjuntos de datos es útil para comprender la cantidad de reseñas disponibles en cada conjunto y puede ser útil en varias etapas del proceso de desarrollo del modelo."
      ],
      "metadata": {
        "id": "jDDVpuF_zXyO"
      }
    },
    {
      "cell_type": "code",
      "source": [
        "# Nuevamente, iteramos a través de un lote (batch) de datos de entrenamiento\n",
        "# del conjunto de datos IMDb, y mostramos información sobre cada reseña y su\n",
        "# etiqueta asociada.\n",
        "\n",
        "for X_batch, y_batch in datasets[\"train\"].batch(2).take(1):\n",
        "    for review, label in zip(X_batch.numpy(), y_batch.numpy()):\n",
        "        print(\"Review:\", review.decode(\"utf-8\")[:200], \"...\")\n",
        "        print(\"Label:\", label, \"= Positive\" if label else \"= Negative\")\n",
        "        print()"
      ],
      "metadata": {
        "colab": {
          "base_uri": "https://localhost:8080/"
        },
        "id": "NFpHvWi-YiaC",
        "outputId": "beeec942-3882-4f51-e77c-0d04ceb857ef"
      },
      "execution_count": null,
      "outputs": [
        {
          "output_type": "stream",
          "name": "stdout",
          "text": [
            "Review: This was an absolutely terrible movie. Don't be lured in by Christopher Walken or Michael Ironside. Both are great actors, but this must simply be their worst role in history. Even their great acting  ...\n",
            "Label: 0 = Negative\n",
            "\n",
            "Review: I have been known to fall asleep during films, but this is usually due to a combination of things including, really tired, being warm and comfortable on the sette and having just eaten a lot. However  ...\n",
            "Label: 0 = Negative\n",
            "\n"
          ]
        }
      ]
    },
    {
      "cell_type": "markdown",
      "source": [
        "* Basicamente vemos una descripción general de un lote de reseñas de entrenamiento del conjunto de datos IMDb, mostrando la información de la reseña, y la etiqueta asociada a cada una. Esto nos ayuda a comprender la estructura de los datos, verificar la codificación y visualizar cómo se representan las reseñas y las etiquetas asociadas.\n",
        "* Primero, iteramos a través de un lote de tamaño 2 (dos reseñas) del conjunto de datos de entrenamiento.\n",
        "* Segundo, obtenemos la descripcion y la etiqueta de cada reseña.\n",
        "* Por ultimo, mostramos la informacion."
      ],
      "metadata": {
        "id": "TegoELxz1SIz"
      }
    },
    {
      "cell_type": "markdown",
      "source": [
        "#### Procesamiento de los datos"
      ],
      "metadata": {
        "id": "pe_IswndzmeT"
      }
    },
    {
      "cell_type": "code",
      "source": [
        "# Realizamos el preprocesamiento de los datos de entrada y salida\n",
        "\n",
        "def preprocess(X_batch, y_batch):\n",
        "    X_batch = tf.strings.substr(X_batch, 0, 300)      # Limitamos la longitud de cada reseña en el lote X_batch a 300 caracteres.\n",
        "    X_batch = tf.strings.regex_replace(X_batch, rb\"<br\\s*/?>\", b\" \")   # Reemplazamos las etiquetas de salto de línea como <br> y <br/> por un espacio en blanco.\n",
        "    X_batch = tf.strings.regex_replace(X_batch, b\"[^a-zA-Z']\", b\" \")   # Reemplazamos todos los caracteres que no sean letras (mayúsculas o minúsculas) ni apóstrofes.\n",
        "    X_batch = tf.strings.split(X_batch)               #  Dividimos cada reseña en palabras individuales, generando una lista de palabras.\n",
        "    return X_batch.to_tensor(default_value=b\"<pad>\"), y_batch"
      ],
      "metadata": {
        "id": "vfFMhJRSXV70"
      },
      "execution_count": null,
      "outputs": []
    },
    {
      "cell_type": "markdown",
      "source": [
        "* El proposito de esta función preprocess es preparar los datos de entrada y salida para su uso en un modelo de análisis de sentimientos.\n",
        "* El preprocesamiento incluye pasos como limitar la longitud de las reseñas, eliminar etiquetas y caracteres no deseados, dividir las reseñas en palabras individuales y convertirlas en un tensor (generalización de los conceptos de escalares, vectores y matrices). Estos pasos ayudan a mejorar la calidad de los datos y facilitan el entrenamiento del modelo."
      ],
      "metadata": {
        "id": "XoUyWqmW5hxp"
      }
    },
    {
      "cell_type": "code",
      "source": [
        "# Ejecutamos la funcion preprocess\n",
        "\n",
        "preprocess(X_batch, y_batch)"
      ],
      "metadata": {
        "colab": {
          "base_uri": "https://localhost:8080/"
        },
        "id": "BX9kutnD62TE",
        "outputId": "efbad705-ffdb-43c0-f488-9b0e8486b914"
      },
      "execution_count": null,
      "outputs": [
        {
          "output_type": "execute_result",
          "data": {
            "text/plain": [
              "(<tf.Tensor: shape=(2, 53), dtype=string, numpy=\n",
              " array([[b'This', b'was', b'an', b'absolutely', b'terrible', b'movie',\n",
              "         b\"Don't\", b'be', b'lured', b'in', b'by', b'Christopher',\n",
              "         b'Walken', b'or', b'Michael', b'Ironside', b'Both', b'are',\n",
              "         b'great', b'actors', b'but', b'this', b'must', b'simply', b'be',\n",
              "         b'their', b'worst', b'role', b'in', b'history', b'Even',\n",
              "         b'their', b'great', b'acting', b'could', b'not', b'redeem',\n",
              "         b'this', b\"movie's\", b'ridiculous', b'storyline', b'This',\n",
              "         b'movie', b'is', b'an', b'early', b'nineties', b'US',\n",
              "         b'propaganda', b'pi', b'<pad>', b'<pad>', b'<pad>'],\n",
              "        [b'I', b'have', b'been', b'known', b'to', b'fall', b'asleep',\n",
              "         b'during', b'films', b'but', b'this', b'is', b'usually', b'due',\n",
              "         b'to', b'a', b'combination', b'of', b'things', b'including',\n",
              "         b'really', b'tired', b'being', b'warm', b'and', b'comfortable',\n",
              "         b'on', b'the', b'sette', b'and', b'having', b'just', b'eaten',\n",
              "         b'a', b'lot', b'However', b'on', b'this', b'occasion', b'I',\n",
              "         b'fell', b'asleep', b'because', b'the', b'film', b'was',\n",
              "         b'rubbish', b'The', b'plot', b'development', b'was', b'constant',\n",
              "         b'Cons']], dtype=object)>,\n",
              " <tf.Tensor: shape=(2,), dtype=int64, numpy=array([0, 0])>)"
            ]
          },
          "metadata": {},
          "execution_count": 15
        }
      ]
    },
    {
      "cell_type": "markdown",
      "source": [
        "* Al ejecutar la funcion obtenemos dos tensores, uno para los datos de entrada preprocesados y otro para las etiquetas sin cambios.\n",
        "* El primer tensor contiene las reseñas preprocesadas. Cada reseña se representa como una secuencia de palabras, donde cada palabra está representada como una cadena de bytes. El tensor tiene una forma (2, 53), lo que significa que contiene un lote de tamaño 2, es decir, tiene 2 reseñas, donde cada una tiene un máximo de 53 palabras. Cualquier espacio vacío se rellena con la etiqueta <pad>, y el tipo de datos del tensor es string.\n",
        "* El segundo tensor contiene las etiquetas de las reseñas sin ningun cambio. Si el valor es 0 indica una etiqueta negativa, y si hay un valor distinto de 0 indica una etiqueta positiva. En este caso, el tipo de datos del tensor es int64."
      ],
      "metadata": {
        "id": "_jW2bf_O7XX0"
      }
    },
    {
      "cell_type": "code",
      "source": [
        "# A continuación, debemos construir el vocabulario necesario para el analisis\n",
        "\n",
        "vocabulary = Counter()\n",
        "for X_batch, y_batch in datasets[\"train\"].batch(32).map(preprocess):\n",
        "  for review in X_batch:\n",
        "    vocabulary.update(list(review.numpy()))"
      ],
      "metadata": {
        "id": "q27DdfRXXV5f"
      },
      "execution_count": null,
      "outputs": []
    },
    {
      "cell_type": "markdown",
      "source": [
        "* El objetivo es construir el vocabulario, es decir, un conjunto limitado de palabras relevantes que representen el lenguaje utilizado en las reseñas, para que puedan ser utilizadas como características en el modelo para el analisis de sentimientos.\n",
        "* Como podemos ver, el proceso implica recorrer todo el conjunto de entrenamiento y aplicar la función preprocess() a cada lote de datos, para realizar la limpieza y transformación necesaria en las reseñas. Luego, con un objeto Counter, se cuenta la frecuencia de aparición de cada palabra en las reseñas preprocesadas.\n",
        "* Como resultado obtenemos un objeto Counter llamado vocabulary, que contiene las palabras únicas en el conjunto de entrenamiento junto con su frecuencia de aparición. Este vocabulario es importante porque se lo va a utilizar posteriormente para mapear las palabras a números enteros y alimentar el modelo de análisis de sentimientos."
      ],
      "metadata": {
        "id": "1SXSoMYfl8Us"
      }
    },
    {
      "cell_type": "code",
      "source": [
        "# Vizualizamos las palabras comunes\n",
        "\n",
        "vocabulary.most_common()[:3]"
      ],
      "metadata": {
        "colab": {
          "base_uri": "https://localhost:8080/"
        },
        "id": "59kIancdXV2p",
        "outputId": "596d4e29-07f2-4ce3-82ad-a755ad52583f"
      },
      "execution_count": null,
      "outputs": [
        {
          "output_type": "execute_result",
          "data": {
            "text/plain": [
              "[(b'<pad>', 214309), (b'the', 61137), (b'a', 38564)]"
            ]
          },
          "metadata": {},
          "execution_count": 17
        }
      ]
    },
    {
      "cell_type": "markdown",
      "source": [
        "* En este caso, usamos el objeto vocabulary para devolver una lista con las 3 palabras más comunes en el vocabulario construido.\n",
        "* Esto proporciona una idea de las palabras que aparecen con mayor frecuencia en las reseñas del conjunto de entrenamiento. Como podemos observar son las palabras: \"< pad >\" (token de relleno), \"the\", y \"a\"."
      ],
      "metadata": {
        "id": "Ai-eK9RhmLx3"
      }
    },
    {
      "cell_type": "code",
      "source": [
        "# Vizualizamos la cantidad de palabras unicas en el vocabilario\n",
        "\n",
        "len(vocabulary)"
      ],
      "metadata": {
        "colab": {
          "base_uri": "https://localhost:8080/"
        },
        "id": "rpw07L4ppmKN",
        "outputId": "162590dc-282b-4aee-bdce-2af1106d4793"
      },
      "execution_count": null,
      "outputs": [
        {
          "output_type": "execute_result",
          "data": {
            "text/plain": [
              "53893"
            ]
          },
          "metadata": {},
          "execution_count": 18
        }
      ]
    },
    {
      "cell_type": "markdown",
      "source": [
        "* Mediante la funcion len() aplicada al objeto vocabulary, podemos obetener el número total de palabras distintas en el vocabulario, lo que indica la cantidad de términos diferentes que el modelo tendrá en cuenta al realizar el análisis de sentimientos. Esta medida es importante para tener una idea de la diversidad y amplitud del vocabulario utilizado en las reseñas."
      ],
      "metadata": {
        "id": "g0uAhkI9rkgh"
      }
    },
    {
      "cell_type": "code",
      "source": [
        "# Ahora, reducimos el tamaño del vocabulario\n",
        "\n",
        "vocab_size = 10000\n",
        "truncated_vocabulary = [\n",
        "  word for word, count in vocabulary.most_common()[:vocab_size]]"
      ],
      "metadata": {
        "id": "0jzzl0P2XVz_"
      },
      "execution_count": null,
      "outputs": []
    },
    {
      "cell_type": "markdown",
      "source": [
        "* Es probable que no se necesitemos que nuestro modelo conozca todas las palabras en el diccionario para obtener un buen rendimiento. Por esta razon vamos a truncar o reducir el tamaño del vocabulario, conservando solo las 10000 palabras más comunes, obteniendo como resultado un nuevo vocabulario\n",
        "* Esto reduce el tamaño del vocabulario, y se entiende que las palabras mas frecuentes son de alguna manera las mas relevantes para el análisis de sentimientos, mientras que las palabras menos comunes que pueden contener ruido o informacion menos util, y por eso se descartan."
      ],
      "metadata": {
        "id": "r3UOFZqYmMNU"
      }
    },
    {
      "cell_type": "code",
      "source": [
        "# Asignamos un identificador único a cada palabra en una lista de palabras\n",
        "\n",
        "word_to_id = {word: index for index, word in enumerate(truncated_vocabulary)}\n",
        "for word in b\"This movie was faaaaaantastic\".split():\n",
        "    print(word_to_id.get(word) or vocab_size)"
      ],
      "metadata": {
        "colab": {
          "base_uri": "https://localhost:8080/"
        },
        "id": "g-e-pC5B4ytA",
        "outputId": "4d0340d3-c9c7-4bf1-cba8-45d34e481317"
      },
      "execution_count": null,
      "outputs": [
        {
          "output_type": "stream",
          "name": "stdout",
          "text": [
            "22\n",
            "12\n",
            "11\n",
            "10000\n"
          ]
        }
      ]
    },
    {
      "cell_type": "markdown",
      "source": [
        "* La idea de esto es mapear las palabras a identificadores numéricos, ya que la asignación de un identificador único a cada palabra es parte del proceso de preprocesamiento de datos para el análisis de sentimientos, y es útil para representar los datos de manera numérica antes de entrenar un modelo en este tipo de analisis.\n",
        "* En este caso, se asigna un índice a cada palabra en lista de palabras que colocamos en el ejemplo y luego imprime los índices correspondientes para dichas palabras."
      ],
      "metadata": {
        "id": "tTml7JHPmM6w"
      }
    },
    {
      "cell_type": "code",
      "source": [
        "# Realizamos el paso anterior de otra manera, ya que la idea es reemplazar cada\n",
        "# palabra con su ID (es decir, su índice en el vocabulario).\n",
        "\n",
        "words = tf.constant(truncated_vocabulary)\n",
        "word_ids = tf.range(len(truncated_vocabulary), dtype=tf.int64)\n",
        "vocab_init = tf.lookup.KeyValueTensorInitializer(words, word_ids)\n",
        "num_oov_buckets = 1000\n",
        "table = tf.lookup.StaticVocabularyTable(vocab_init, num_oov_buckets)"
      ],
      "metadata": {
        "id": "G7tlApXTXVxz"
      },
      "execution_count": null,
      "outputs": []
    },
    {
      "cell_type": "markdown",
      "source": [
        "* El objetivo de este código es el mismo que el del anterior, ya que es mapear palabras a identificadores numéricos.\n",
        "* En este caso se utiliza TensorFlow y las funcionalidades de la biblioteca para crear una tabla de búsqueda estática que mapea palabras a identificadores, dada una detrminada frase.\n",
        "* Resaltamos que se asignan 1000 \"buckets\" fuera del vocabulario (OOV), es decir, se reservan 1000 espacios adicionales en la tabla de búsqueda para mapear palabras fuera del vocabulario. Esto es para garantizar que el modelo tenga una manera de manejar palabras desconocidas o fuera del vocabulario durante el procesamiento de texto, asignándoles identificadores únicos correspondientes a los buckets OOV reservados."
      ],
      "metadata": {
        "id": "FHzyLbn2mNy_"
      }
    },
    {
      "cell_type": "code",
      "source": [
        "# Ahora, podemos usar esta tabla buscar los IDs de algunas palabras\n",
        "\n",
        "table.lookup(tf.constant([b\"This movie was faaaaaantastic\".split()]))"
      ],
      "metadata": {
        "colab": {
          "base_uri": "https://localhost:8080/"
        },
        "id": "UC3ULJ92XVvC",
        "outputId": "d8ba948a-3852-4ee5-cf91-9d63eaa29f57"
      },
      "execution_count": null,
      "outputs": [
        {
          "output_type": "execute_result",
          "data": {
            "text/plain": [
              "<tf.Tensor: shape=(1, 4), dtype=int64, numpy=array([[   22,    12,    11, 10053]])>"
            ]
          },
          "metadata": {},
          "execution_count": 22
        }
      ]
    },
    {
      "cell_type": "markdown",
      "source": [
        "* Basicamente, esta funcion nos permite obtener los identificadores (IDs) de las palabras de una frase específica utilizando la tabla de búsqueda \"table\".\n",
        "* Podemos observar que a la palabra \"faaaaaantastic\" se le asigno el ID 10053 ya que, como la palabra no existe en el vocabulario de 10000 palabras, al haber reservado 1000 espacios para las palabras que no existen, se le coloco automaticamente ese ID."
      ],
      "metadata": {
        "id": "MfnJ10k4gMHQ"
      }
    },
    {
      "cell_type": "markdown",
      "source": [
        "#### Construccion del modelo de entrenamiento final"
      ],
      "metadata": {
        "id": "lRsp7Tm1z3nq"
      }
    },
    {
      "cell_type": "code",
      "source": [
        "# Creamos el conjunto de entrenamiento final\n",
        "\n",
        "def encode_words(X_batch, y_batch):\n",
        "    return table.lookup(X_batch), y_batch\n",
        "\n",
        "train_set = datasets[\"train\"].batch(32).map(preprocess)\n",
        "train_set = train_set.map(encode_words).prefetch(1)"
      ],
      "metadata": {
        "id": "H15lZEJ2XVsi"
      },
      "execution_count": null,
      "outputs": []
    },
    {
      "cell_type": "markdown",
      "source": [
        "* El conjunto de entrenamiento final seria la versión procesada y preprocesada del conjunto de datos original \"train\". Este nuevo conjunto es el que se utilizará para entrenar el modelo de analisis de sentimiento. En este caso, el conjunto de entrenamiento final está representado por la variable \"train_set\".\n",
        "* Basicamente, la función encode_words toma un lote de reseñas y las etiquetas correspondientes. Luego, utiliza una tabla de vocabulario para asignar un número a cada palabra en las reseñas, reemplazando las palabras por sus identificadores en el vocabulario.\n",
        "* El conjunto de entrenamiento final \"train_set\" se crea dividiendo los datos originales en lotes o grupos de tamaño 32, es decir, se procesarán y se codificarán 32 reseñas a la vez. Después, se realiza el preprocesamiento de las reseñas y se aplica la función encode_words para codificar las palabras en números."
      ],
      "metadata": {
        "id": "_Z4vIAk3xyld"
      }
    },
    {
      "cell_type": "code",
      "source": [
        "# Visualizamos los datos del conjunto de entrenamiento final\n",
        "\n",
        "for X_batch, y_batch in train_set.take(1):\n",
        "    print(X_batch)\n",
        "    print(y_batch)"
      ],
      "metadata": {
        "colab": {
          "base_uri": "https://localhost:8080/"
        },
        "id": "750AlNpoXVp3",
        "outputId": "aceb048b-6f12-494a-bd6a-98b1551385ff"
      },
      "execution_count": null,
      "outputs": [
        {
          "output_type": "stream",
          "name": "stdout",
          "text": [
            "tf.Tensor(\n",
            "[[  22   11   28 ...    0    0    0]\n",
            " [   6   21   70 ...    0    0    0]\n",
            " [4099 6881    1 ...    0    0    0]\n",
            " ...\n",
            " [  22   12  118 ...  331 1047    0]\n",
            " [1757 4101  451 ...    0    0    0]\n",
            " [3365 4392    6 ...    0    0    0]], shape=(32, 60), dtype=int64)\n",
            "tf.Tensor([0 0 0 1 1 1 0 0 0 0 0 1 1 0 1 0 1 1 1 0 1 1 1 1 1 0 0 0 1 0 0 0], shape=(32,), dtype=int64)\n"
          ]
        }
      ]
    },
    {
      "cell_type": "markdown",
      "source": [
        "* De esta manera podemos observar el primer lote de datos del conjunto de entrenamiento \"train_set\".\n",
        "* Con take(1) obtenemos solo el primer lote de datos. Luego, se itera sobre este mismo lote o grupo, obteniendo cada lote de características X_batch y etiquetas y_batch.\n",
        "* Vemos que el tensor X_batch tiene una forma de (32, 60) y contiene las reseñas codificadas, en donde cada fila representa una reseña, y cada columna corresponde a una palabra codificada. El 0 se utiliza como relleno para igualar la longitud de las reseñas.\n",
        "* Y el tensor y_batch tiene una forma de (32,), este contiene las etiquetas asociadas a cada reseña. Cada valor representa la clasificación o categoría de una reseña, en donde es 0 para una reseña negativa y 1 para una reseña positiva."
      ],
      "metadata": {
        "id": "ldqurdhwxzCX"
      }
    },
    {
      "cell_type": "code",
      "source": [
        "# Finalmente, creamos el modelo mediante un enfoque secuencial, y lo entrenamos\n",
        "\n",
        "embed_size = 128\n",
        "model = keras.models.Sequential([\n",
        "    keras.layers.Embedding(vocab_size + num_oov_buckets, embed_size,\n",
        "                           mask_zero=True, # Masking\n",
        "                           input_shape=[None]),\n",
        "    keras.layers.GRU(128, return_sequences=True),\n",
        "    keras.layers.GRU(128),\n",
        "    keras.layers.Dense(1, activation=\"sigmoid\")\n",
        "])\n",
        "model.compile(loss=\"binary_crossentropy\", optimizer=\"adam\", metrics=[\"accuracy\"])\n",
        "history = model.fit(train_set, epochs=5)"
      ],
      "metadata": {
        "colab": {
          "base_uri": "https://localhost:8080/"
        },
        "id": "LlKmVCi-XVnS",
        "outputId": "bdf8f411-8725-4bb3-eceb-a0fc0fb84c44"
      },
      "execution_count": null,
      "outputs": [
        {
          "output_type": "stream",
          "name": "stdout",
          "text": [
            "Epoch 1/5\n",
            "782/782 [==============================] - 195s 237ms/step - loss: 0.5379 - accuracy: 0.7218\n",
            "Epoch 2/5\n",
            "782/782 [==============================] - 185s 237ms/step - loss: 0.3456 - accuracy: 0.8586\n",
            "Epoch 3/5\n",
            "782/782 [==============================] - 185s 236ms/step - loss: 0.1937 - accuracy: 0.9317\n",
            "Epoch 4/5\n",
            "782/782 [==============================] - 185s 237ms/step - loss: 0.1396 - accuracy: 0.9511\n",
            "Epoch 5/5\n",
            "782/782 [==============================] - 184s 236ms/step - loss: 0.1206 - accuracy: 0.9572\n"
          ]
        }
      ]
    },
    {
      "cell_type": "markdown",
      "source": [
        "* Con este codigo construimos y entrenamos un modelo de redes neuronales que pueda analizar y predecir el sentimiento de las reseñas de películas.\n",
        "* Como primera medida se define el tamaño de los embeddings que se utilizarán para representar las palabras en el modelo.\n",
        "* Luego, creamos el modelo modelo mismo, que es secuencial. Dicho modelo consta de varias capas y son:\n",
        "1. Capa de Embedding: que convierte los ID de palabras en embeddings. La matriz de embeddings tiene una fila por cada ID de palabra y una columna por cada dimensión de embedding. La salida de esta capa es un tensor 3D.\n",
        "2. Capas GRU: son capas de unidades de memoria recurrente que procesan secuencias de entrada y generan secuencias de salida. En este caso, se utilizan dos capas GRU, donde la segunda capa devuelve solo la salida del último paso de tiempo.\n",
        "3. Capa Dense: capa completamente conectada con una única neurona y una función de activación sigmoide. Esta capa produce la probabilidad estimada de que la reseña exprese un sentimiento positivo hacia la película.\n",
        "* En tercer lugar se compila el modelo especificando la función de pérdida, el optimizador y las métricas a utilizar durante el entrenamiento.\n",
        "* Por ultimo, se entrena el modelo utilizando el conjunto de entrenamiento preparado anteriormente. Se especifica el número de epochs, que indica la cantidad de veces que el modelo recorrerá el conjunto de entrenamiento durante el entrenamiento. El historial del entrenamiento se guarda en la variable \"history\"."
      ],
      "metadata": {
        "id": "z-lgojMQqntC"
      }
    },
    {
      "cell_type": "code",
      "source": [
        "# Visualizamos la evolución de la pérdida y la precisión del modelo a lo largo\n",
        "# de las épocas durante el entrenamiento\n",
        "\n",
        "loss = history.history['loss']\n",
        "accuracy = history.history['accuracy']\n",
        "\n",
        "epochs = range(1, len(loss) + 1)\n",
        "\n",
        "plt.plot(epochs, loss, 'b', label='Loss')\n",
        "plt.plot(epochs, accuracy, 'r', label='Accuracy')\n",
        "plt.title('Training Loss and Accuracy')\n",
        "plt.xlabel('Epochs')\n",
        "plt.ylabel('Value')\n",
        "plt.legend()\n",
        "plt.show()"
      ],
      "metadata": {
        "colab": {
          "base_uri": "https://localhost:8080/",
          "height": 472
        },
        "id": "G2_-zP7F-Mc4",
        "outputId": "492914d5-410e-4c08-d678-a6cbf101af3d"
      },
      "execution_count": null,
      "outputs": [
        {
          "output_type": "display_data",
          "data": {
            "text/plain": [
              "<Figure size 640x480 with 1 Axes>"
            ],
            "image/png": "[encoded data removed]"
          },
          "metadata": {}
        }
      ]
    },
    {
      "cell_type": "markdown",
      "source": [
        "* Durante el entrenamiento, el modelo se expone repetidamente a los datos de entrenamiento en múltiples épocas, y en cada época realiza ajustes en función de la retroalimentación que recibe de la función de pérdida y las métricas de evaluación. A medida que avanzan las épocas, el modelo debería mejorar gradualmente su rendimiento y ajustarse mejor a los datos de entrenamiento.\n",
        "* Loss: la línea azul en el gráfico representa la pérdida del modelo en cada época. La pérdida es una medida de qué tan lejos está la salida del modelo de los valores esperados. Idealmente, queremos que la pérdida disminuya a medida que el modelo se entrena, lo que indica que está aprendiendo a hacer predicciones más precisas.\n",
        "* Accuracy: la línea roja en el gráfico representa la precisión del modelo en cada época. La precisión es una medida de qué tan bien coincide la salida del modelo con las etiquetas reales de los datos de entrenamiento. Queremos que la precisión aumente a medida que el modelo se entrena, lo que indica que está mejorando en la clasificación correcta de las reseñas como positivas o negativas."
      ],
      "metadata": {
        "id": "qfUQB9ErCLMw"
      }
    },
    {
      "cell_type": "markdown",
      "source": [
        "#### Masking"
      ],
      "metadata": {
        "id": "JyvRZwnxqnj_"
      }
    },
    {
      "cell_type": "code",
      "source": [
        "# Construimos el modelo utilizando el enfoque funcional, y se maneja el\n",
        "# enmascaramiento manualmente:\n",
        "\n",
        "K = keras.backend\n",
        "embed_size = 128\n",
        "inputs = keras.layers.Input(shape=[None])\n",
        "mask = keras.layers.Lambda(lambda inputs: K.not_equal(inputs, 0))(inputs)\n",
        "z = keras.layers.Embedding(vocab_size + num_oov_buckets, embed_size)(inputs)\n",
        "z = keras.layers.GRU(128, return_sequences=True)(z, mask=mask)\n",
        "z = keras.layers.GRU(128)(z, mask=mask)\n",
        "outputs = keras.layers.Dense(1, activation=\"sigmoid\")(z)\n",
        "model = keras.models.Model(inputs=[inputs], outputs=[outputs])\n",
        "model.compile(loss=\"binary_crossentropy\", optimizer=\"adam\", metrics=[\"accuracy\"])\n",
        "history = model.fit(train_set, epochs=5)"
      ],
      "metadata": {
        "colab": {
          "base_uri": "https://localhost:8080/"
        },
        "id": "m3AT9xCVXVkX",
        "outputId": "850a84f9-ca90-4934-ed7c-f08d7b6176f8"
      },
      "execution_count": null,
      "outputs": [
        {
          "output_type": "stream",
          "name": "stdout",
          "text": [
            "Epoch 1/5\n",
            "782/782 [==============================] - 201s 239ms/step - loss: 0.5336 - accuracy: 0.7239\n",
            "Epoch 2/5\n",
            "782/782 [==============================] - 184s 236ms/step - loss: 0.3479 - accuracy: 0.8554\n",
            "Epoch 3/5\n",
            "782/782 [==============================] - 184s 236ms/step - loss: 0.1900 - accuracy: 0.9328\n",
            "Epoch 4/5\n",
            "782/782 [==============================] - 184s 235ms/step - loss: 0.1368 - accuracy: 0.9517\n",
            "Epoch 5/5\n",
            "782/782 [==============================] - 184s 235ms/step - loss: 0.1167 - accuracy: 0.9552\n"
          ]
        }
      ]
    },
    {
      "cell_type": "markdown",
      "source": [
        "* El siguiente modelo es idéntico al modelo anterior, excepto que se construye utilizando la API funcional y se maneja el enmascaramiento manualmente. Es decir, la diferencia principal entre los dos códigos es el enfoque de construcción del modelo, ya que se especifica explícitamente las conexiones entre las capas y se tiene control del enmascaramiento.\n",
        "* El objetivo de este código es construir un modelo de red neuronal recurrente que utilice una capa de incrustación, máscaras y capas GRU para procesar secuencias de entrada y producir una salida binaria. La máscara se utiliza para ignorar los tokens de relleno durante el cálculo, lo que mejora el rendimiento del modelo al evitar que los tokens de relleno afecten los resultados finales.\n",
        "* Esta opción puede ser útil en casos donde se requiere un mayor control sobre el enmascaramiento o cuando se trabaja con modelos más complejos que combinan capas de convolución y capas recurrentes."
      ],
      "metadata": {
        "id": "LtRlho97qyBD"
      }
    },
    {
      "cell_type": "markdown",
      "source": [
        "#### Reusing Pretrained Embeddings"
      ],
      "metadata": {
        "id": "oE-6pSsqqx8R"
      }
    },
    {
      "cell_type": "code",
      "source": [
        "# Establecemos una ubicación personalizada para almacenar en caché los módulos\n",
        "# de TensorFlow Hub.\n",
        "\n",
        "TFHUB_CACHE_DIR = os.path.join(os.curdir, \"my_tfhub_cache\")\n",
        "os.environ[\"TFHUB_CACHE_DIR\"] = TFHUB_CACHE_DIR"
      ],
      "metadata": {
        "id": "E00Z-Fs5pMoF"
      },
      "execution_count": null,
      "outputs": []
    },
    {
      "cell_type": "markdown",
      "source": [
        "* Establecemos una ubicación personalizada para almacenar en caché los módulos de TensorFlow Hub.\n",
        "* Esto significa que los módulos descargados durante la ejecución del código se almacenarán en el directorio especificado en lugar de la ubicación predeterminada.\n",
        "* Esto puede ser útil si queremos controlar dónde se guardan los módulos en caché, o si estamos ejecutando el código en un entorno donde no tenemos permisos para escribir en la ubicación predeterminada de la caché."
      ],
      "metadata": {
        "id": "fjy4MwYYpNgr"
      }
    },
    {
      "cell_type": "code",
      "source": [
        "# Vamos a utilizar el módulo de incrustación de oraciones nnlm-en-dim50,\n",
        "# versión 1, en nuestro modelo de análisis de sentimientos.\n",
        "\n",
        "model = keras.Sequential([\n",
        "  hub.KerasLayer(\"https://tfhub.dev/google/tf2-preview/nnlm-en-dim50/1\",\n",
        "  dtype=tf.string, input_shape=[], output_shape=[50]),\n",
        "  keras.layers.Dense(128, activation=\"relu\"),\n",
        "  keras.layers.Dense(1, activation=\"sigmoid\")\n",
        "])\n",
        "\n",
        "model.compile(loss=\"binary_crossentropy\", optimizer=\"adam\", metrics=[\"accuracy\"])"
      ],
      "metadata": {
        "id": "8eYloqkuXVhn"
      },
      "execution_count": null,
      "outputs": []
    },
    {
      "cell_type": "markdown",
      "source": [
        "* Creamos un modelo de análisis de sentimientos utilizando un módulo pre-entrenado de TensorFlow Hub. Simplemente navegamos por el repositorio de TF Hub, encontramos el modulo que necesitamos y copiamos el ejemplo de código en nuestro proyecto. El módulo se descargará automáticamente, junto con sus pesos preentrenados, y se incluirá en nuestro modelo.\n",
        "* La capa hub.KerasLayer descarga el módulo desde la URL proporcionada y se carga dicha capa. Este módulo en particular es un codificador de oraciones. Esta capa está diseñada para procesar cadenas de texto y genera una representación vectorial de 50 dimensiones para cada oración de entrada."
      ],
      "metadata": {
        "id": "THI8qMzwpN2L"
      }
    },
    {
      "cell_type": "code",
      "source": [
        "# Verificamos los archivos descargados y su ubicación en el directorio\n",
        "\n",
        "for dirpath, dirnames, filenames in os.walk(TFHUB_CACHE_DIR):\n",
        "    for filename in filenames:\n",
        "        print(os.path.join(dirpath, filename))"
      ],
      "metadata": {
        "colab": {
          "base_uri": "https://localhost:8080/"
        },
        "id": "2Zlt3rtypNAD",
        "outputId": "652319fa-1d6d-470a-ed9e-bf80c8d6de3b"
      },
      "execution_count": null,
      "outputs": [
        {
          "output_type": "stream",
          "name": "stdout",
          "text": [
            "./my_tfhub_cache/82c4aaf4250ffb09088bd48368ee7fd00e5464fe.descriptor.txt\n",
            "./my_tfhub_cache/82c4aaf4250ffb09088bd48368ee7fd00e5464fe/saved_model.pb\n",
            "./my_tfhub_cache/82c4aaf4250ffb09088bd48368ee7fd00e5464fe/assets/tokens.txt\n",
            "./my_tfhub_cache/82c4aaf4250ffb09088bd48368ee7fd00e5464fe/variables/variables.index\n",
            "./my_tfhub_cache/82c4aaf4250ffb09088bd48368ee7fd00e5464fe/variables/variables.data-00000-of-00001\n"
          ]
        }
      ]
    },
    {
      "cell_type": "markdown",
      "source": [
        "* De esta manera verificamos que los archivos se hayan descargado correctamente, y tambien para obtener información sobre la estructura y contenido del directorio de caché de TensorFlow Hub.\n",
        "* El codigo imprime los archivos dentro del directorio TFHUB_CACHE_DIR:\n",
        "1. descriptor.txt: contiene información como el nombre del modelo, la versión, la descripción, etc.\n",
        "2. saved_model.pb: contiene la estructura del modelo, incluyendo la definición de las capas, las operaciones y los pesos entrenados.\n",
        "3. tokens.txt: almacena tokens relacionados con el módulo descargado. Los tokens pueden ser palabras, símbolos o cualquier otra entidad utilizada por el modelo para la codificación o procesamiento de texto.\n",
        "4. variables.index: almacena un índice que relaciona los nombres de las variables con los archivos que contienen los valores de esas variables.\n",
        "5. variables.data-00000-of-00001: contiene los valores de las variables del modelo entrenado."
      ],
      "metadata": {
        "id": "MTxRh1jPpOMF"
      }
    },
    {
      "cell_type": "code",
      "source": [
        "# A continuación, simplemente podemos cargar el conjunto de datos de reseñas de\n",
        "# IMDb, sin necesidad de procesarlo previamente (excepto para el agrupamiento\n",
        "# por lotes y el precargado), y entrenar directamente el modelo:\n",
        "\n",
        "datasets, info = tfds.load(\"imdb_reviews\", as_supervised=True, with_info=True)\n",
        "train_size = info.splits[\"train\"].num_examples\n",
        "batch_size = 32\n",
        "train_set = datasets[\"train\"].batch(batch_size).prefetch(1)\n",
        "history = model.fit(train_set, epochs=5)"
      ],
      "metadata": {
        "id": "gvGIZzEaXVfC",
        "colab": {
          "base_uri": "https://localhost:8080/"
        },
        "outputId": "32938ae6-60a1-4922-d3f3-7f3fd1addb9a"
      },
      "execution_count": null,
      "outputs": [
        {
          "output_type": "stream",
          "name": "stdout",
          "text": [
            "Epoch 1/5\n",
            "782/782 [==============================] - 6s 6ms/step - loss: 0.5475 - accuracy: 0.7270\n",
            "Epoch 2/5\n",
            "782/782 [==============================] - 4s 5ms/step - loss: 0.5150 - accuracy: 0.7484\n",
            "Epoch 3/5\n",
            "782/782 [==============================] - 5s 6ms/step - loss: 0.5095 - accuracy: 0.7514\n",
            "Epoch 4/5\n",
            "782/782 [==============================] - 4s 5ms/step - loss: 0.5058 - accuracy: 0.7538\n",
            "Epoch 5/5\n",
            "782/782 [==============================] - 4s 5ms/step - loss: 0.5028 - accuracy: 0.7557\n"
          ]
        }
      ]
    },
    {
      "cell_type": "markdown",
      "source": [
        "* En este caso, no es necesario procesar el conjunto de datos IMDb Reviews porque ya viene preprocesado y listo para usar. El conjunto de datos IMDb Reviews proporcionado por TensorFlow Datasets está etiquetado y listo para su uso en tareas de análisis de sentimientos.\n",
        "* No se raliza el agrupamiento por lotes y el precargado. Ambos se utilizan para mejorar el rendimiento y la eficiencia del entrenamiento del modelo, permitiendo procesar los datos en lotes y cargar los datos de forma asincrónica."
      ],
      "metadata": {
        "id": "92LGajJ3pOfV"
      }
    },
    {
      "cell_type": "code",
      "source": [
        "# Visualizamos la evolución de la pérdida y la precisión del modelo a lo largo\n",
        "# de las épocas durante el entrenamiento\n",
        "\n",
        "loss = history.history['loss']\n",
        "accuracy = history.history['accuracy']\n",
        "\n",
        "epochs = range(1, len(loss) + 1)\n",
        "\n",
        "plt.plot(epochs, loss, 'b', label='Loss')\n",
        "plt.plot(epochs, accuracy, 'r', label='Accuracy')\n",
        "plt.title('Training Loss and Accuracy')\n",
        "plt.xlabel('Epochs')\n",
        "plt.ylabel('Value')\n",
        "plt.legend()\n",
        "plt.show()"
      ],
      "metadata": {
        "colab": {
          "base_uri": "https://localhost:8080/",
          "height": 472
        },
        "id": "sENFG1jMEq47",
        "outputId": "0f5ca04b-7b55-46c2-b1c3-b7a742163a86"
      },
      "execution_count": null,
      "outputs": [
        {
          "output_type": "display_data",
          "data": {
            "text/plain": [
              "<Figure size 640x480 with 1 Axes>"
            ],
            "image/png": "[encoded data removed]"
          },
          "metadata": {}
        }
      ]
    },
    {
      "cell_type": "markdown",
      "source": [
        "* A diferencia del modelo anterior, podemos observar que el valor de la perdidad disminuye mucho mas rapido y en mayor cantidad. Y la presicion aumenta mucho mas rapido y en mayor cantidad."
      ],
      "metadata": {
        "id": "Nf2tVDOgFg9p"
      }
    }
  ]
}