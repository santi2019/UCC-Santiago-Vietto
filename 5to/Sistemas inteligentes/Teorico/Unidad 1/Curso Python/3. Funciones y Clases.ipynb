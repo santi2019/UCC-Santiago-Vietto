{
 "cells": [
  {
   "cell_type": "markdown",
   "id": "b19a1262",
   "metadata": {},
   "source": [
    "# Funciones\n",
    "### Funciones (**def**)\n",
    "Una función es un bloque de código que tiene asociado un nombre, de manera que cada vez que se quiera ejecutar el bloque de código basta con invocar el nombre de la función.\n",
    "\n",
    "Para declarar una función se utiliza la siguiente sintaxis:"
   ]
  },
  {
   "cell_type": "raw",
   "id": "929474bc",
   "metadata": {},
   "source": [
    "def <nombre-funcion> (<parámetros>):\n",
    "     bloque código\n",
    "     return <objeto>"
   ]
  },
  {
   "cell_type": "code",
   "execution_count": 1,
   "id": "496ca260",
   "metadata": {},
   "outputs": [],
   "source": [
    "def bienvenida():\n",
    "    print('¡Bienvenido a Python!')\n",
    "    return"
   ]
  },
  {
   "cell_type": "code",
   "execution_count": 2,
   "id": "f45c99da",
   "metadata": {},
   "outputs": [
    {
     "data": {
      "text/plain": [
       "function"
      ]
     },
     "execution_count": 2,
     "metadata": {},
     "output_type": "execute_result"
    }
   ],
   "source": [
    "type(bienvenida)"
   ]
  },
  {
   "cell_type": "code",
   "execution_count": 3,
   "id": "cffaaf10",
   "metadata": {},
   "outputs": [
    {
     "name": "stdout",
     "output_type": "stream",
     "text": [
      "¡Bienvenido a Python!\n"
     ]
    }
   ],
   "source": [
    "bienvenida()"
   ]
  },
  {
   "cell_type": "markdown",
   "id": "a775ec2b",
   "metadata": {},
   "source": [
    "###### Parámetros y argumentos de una función\n",
    "Una función puede recibir valores cuando se invoca a través de unas variables conocidas como parámetros que se definen entre paréntesis en la declaración de la función. En el cuerpo de la función se pueden usar estos parámetros como si fuesen variables.\n",
    "\n",
    "Los valores que se pasan a la función en una llamada o invocación concreta de ella se conocen como argumentos y se asocian a los parámetros de la declaración de la función."
   ]
  },
  {
   "cell_type": "code",
   "execution_count": 7,
   "id": "c9400423",
   "metadata": {},
   "outputs": [
    {
     "name": "stdout",
     "output_type": "stream",
     "text": [
      "¡Bienvenido a Python Clase!\n"
     ]
    }
   ],
   "source": [
    "def bienvenida(nombre: str):\n",
    "    print('¡Bienvenido a Python', nombre + '!')\n",
    "    return\n",
    "bienvenida('Clase')\n"
   ]
  },
  {
   "cell_type": "markdown",
   "id": "d021e6ac",
   "metadata": {},
   "source": [
    "##### Paso de argumentos a una función\n",
    "Los argumentos se pueden pasar de dos formas:\n",
    "\n",
    "Argumentos posicionales: Se asocian a los parámetros de la función en el mismo orden que aparecen en la definición de la función.\n",
    "Argumentos nominales: Se indica explícitamente el nombre del parámetro al que se asocia un argumento de la forma parametro = argumento."
   ]
  },
  {
   "cell_type": "code",
   "execution_count": 9,
   "id": "244eed83",
   "metadata": {},
   "outputs": [
    {
     "name": "stdout",
     "output_type": "stream",
     "text": [
      "¡Bienvenido a Python Alfredo Sánchez!\n"
     ]
    }
   ],
   "source": [
    "def bienvenida(nombre, apellido):\n",
    "    print('¡Bienvenido a Python', nombre, apellido + '!')\n",
    "    return\n",
    "bienvenida('Alfredo', 'Sánchez')"
   ]
  },
  {
   "cell_type": "code",
   "execution_count": 7,
   "id": "89e29d27",
   "metadata": {},
   "outputs": [
    {
     "name": "stdout",
     "output_type": "stream",
     "text": [
      "¡Bienvenido a Python Alfredo Sánchez!\n"
     ]
    }
   ],
   "source": [
    "bienvenida(apellido = 'Sánchez', nombre = 'Alfredo')"
   ]
  },
  {
   "cell_type": "markdown",
   "id": "13ba05b7",
   "metadata": {},
   "source": [
    "##### Retorno de una función\n",
    "Una función puede devolver un objeto de cualquier tipo tras su invocación. Para ello el objeto a devolver debe escribirse detrás de la palabra reservada return. Si no se indica ningún objeto, la función no devolverá nada."
   ]
  },
  {
   "cell_type": "code",
   "execution_count": 11,
   "id": "d30ad7f0",
   "metadata": {},
   "outputs": [
    {
     "data": {
      "text/plain": [
       "3.0"
      ]
     },
     "execution_count": 11,
     "metadata": {},
     "output_type": "execute_result"
    }
   ],
   "source": [
    "def area_triangulo(base, altura):\n",
    "    return base * altura / 2\n",
    "area_triangulo(2, 3)"
   ]
  },
  {
   "cell_type": "markdown",
   "id": "148b8135",
   "metadata": {},
   "source": []
  },
  {
   "cell_type": "code",
   "execution_count": 9,
   "id": "56fd241a",
   "metadata": {},
   "outputs": [
    {
     "data": {
      "text/plain": [
       "10.0"
      ]
     },
     "execution_count": 9,
     "metadata": {},
     "output_type": "execute_result"
    }
   ],
   "source": [
    "area_triangulo(4, 5)"
   ]
  },
  {
   "cell_type": "markdown",
   "id": "e335c545",
   "metadata": {},
   "source": [
    "Una función puede devolver más de un objeto separándolos por comas tras la palabra reservada **return**. En tal caso, la función agrupará los objetos en una tupla y devolverá la tupla.\n",
    "\n",
    "##### Argumentos por defecto\n",
    "En la definición de una función se puede asignar a cada parámetro un argumento por defecto, de manera que si se invoca la función sin proporcionar ningún argumento para ese parámetro, se utiliza el argumento por defecto."
   ]
  },
  {
   "cell_type": "code",
   "execution_count": 15,
   "id": "ec3f3698",
   "metadata": {},
   "outputs": [
    {
     "name": "stdout",
     "output_type": "stream",
     "text": [
      "¡Bienvenido a Python Clase!\n"
     ]
    }
   ],
   "source": [
    "def bienvenida(nombre, lenguaje = 'Python'):\n",
    "    print('¡Bienvenido a', lenguaje, nombre + '!')\n",
    "    return\n",
    "bienvenida('Clase')"
   ]
  },
  {
   "cell_type": "code",
   "execution_count": 13,
   "id": "7f6bf94a",
   "metadata": {},
   "outputs": [
    {
     "name": "stdout",
     "output_type": "stream",
     "text": [
      "¡Bienvenido a Java Clase!\n"
     ]
    }
   ],
   "source": [
    "bienvenida('Clase', 'Java')"
   ]
  },
  {
   "cell_type": "markdown",
   "id": "1559e881",
   "metadata": {},
   "source": [
    "Los parámetros con un argumento por defecto deben indicarse después de los parámetros sin argumentos por defectos. De lo contrario se produce un error.\n",
    "\n",
    "###### Pasar un número indeterminado de argumentos\n",
    "Por último, es posible pasar un número variable de argumentos a un parámetro. Esto se puede hacer de dos formas:\n",
    "- ***parametro**: Se antepone un asterisco al nombre del parámetro y en la invocación de la función se pasa el número variable de argumentos separados por comas. Los argumentos se guardan en una lista que se asocia al parámetro.\n"
   ]
  },
  {
   "cell_type": "code",
   "execution_count": 16,
   "id": "24f37998",
   "metadata": {},
   "outputs": [],
   "source": [
    "def menu(*platos):\n",
    "    print('Hoy tenemos: ', end='')\n",
    "    for plato in platos:\n",
    "        print(plato, end=', ')\n",
    "    return"
   ]
  },
  {
   "cell_type": "code",
   "execution_count": 18,
   "id": "da8b0c98",
   "metadata": {},
   "outputs": [
    {
     "name": "stdout",
     "output_type": "stream",
     "text": [
      "Hoy tenemos: pasta, pizza, "
     ]
    }
   ],
   "source": [
    "menu('pasta', 'pizza')"
   ]
  },
  {
   "cell_type": "code",
   "execution_count": 17,
   "id": "55c9694a",
   "metadata": {},
   "outputs": [
    {
     "name": "stdout",
     "output_type": "stream",
     "text": [
      "Hoy tenemos: pasta, pizza, ensalada, "
     ]
    }
   ],
   "source": [
    "menu('pasta', 'pizza', 'ensalada')"
   ]
  },
  {
   "cell_type": "markdown",
   "id": "d3a3f8ef",
   "metadata": {},
   "source": [
    "****parametro**: Se anteponen dos asteriscos al nombre del parámetro y en la invocación de la función se pasa el número variable de argumentos por pares nombre = valor, separados por comas. Los argumentos se guardan en un diccionario que se asocia al parámetro."
   ]
  },
  {
   "cell_type": "code",
   "execution_count": 21,
   "id": "6bae9577",
   "metadata": {},
   "outputs": [
    {
     "name": "stdout",
     "output_type": "stream",
     "text": [
      "Datos del contacto\n",
      "Nombre : Alberto\n",
      "Email : asalber@ucc.edu.ar\n"
     ]
    }
   ],
   "source": [
    "def contacto(**info):\n",
    "    print('Datos del contacto')\n",
    "    for clave, valor in info.items():\n",
    "        print(clave, \":\", valor)\n",
    "    return\n",
    "contacto(Nombre = \"Alberto\", Email = \"asalber@ucc.edu.ar\")"
   ]
  },
  {
   "cell_type": "code",
   "execution_count": 22,
   "id": "65539397",
   "metadata": {},
   "outputs": [
    {
     "name": "stdout",
     "output_type": "stream",
     "text": [
      "Datos del contacto\n",
      "Nombre : Alf\n",
      "Email : asalber@ceu.es\n",
      "Dirección : Madrid\n"
     ]
    }
   ],
   "source": [
    "contacto(Nombre = \"Alf\", Email = \"asalber@ceu.es\", Dirección = \"Madrid\")"
   ]
  },
  {
   "cell_type": "markdown",
   "id": "e3d55c8c",
   "metadata": {},
   "source": [
    "##### Ámbito de los parámetros y variables de una función\n",
    "Los parámetros y las variables declaradas dentro de una función son de ámbito local, mientras que las definidas fuera de ella son de ámbito ámbito global.\n",
    "\n",
    "Tanto los parámetros como las variables del ámbito local de una función sólo están accesibles durante la ejecución de la función, es decir, cuando termina la ejecución de la función estas variables desaparecen y no son accesibles desde fuera de la función."
   ]
  },
  {
   "cell_type": "code",
   "execution_count": 19,
   "id": "55d94eb5",
   "metadata": {},
   "outputs": [],
   "source": [
    "def bienvenida(nombre):\n",
    "    lenguaje = 'Python'\n",
    "    print('¡Bienvenido a', lenguaje, nombre + '!')\n",
    "    return"
   ]
  },
  {
   "cell_type": "code",
   "execution_count": 20,
   "id": "0b973cca",
   "metadata": {},
   "outputs": [
    {
     "name": "stdout",
     "output_type": "stream",
     "text": [
      "¡Bienvenido a Python Clase!\n"
     ]
    }
   ],
   "source": [
    "bienvenida('Clase')"
   ]
  },
  {
   "cell_type": "code",
   "execution_count": 21,
   "id": "e1080036",
   "metadata": {},
   "outputs": [
    {
     "ename": "NameError",
     "evalue": "name 'lenguaje' is not defined",
     "output_type": "error",
     "traceback": [
      "\u001b[0;31m---------------------------------------------------------------------------\u001b[0m",
      "\u001b[0;31mNameError\u001b[0m                                 Traceback (most recent call last)",
      "\u001b[0;32m/tmp/ipykernel_5864/1979497245.py\u001b[0m in \u001b[0;36m<module>\u001b[0;34m\u001b[0m\n\u001b[0;32m----> 1\u001b[0;31m \u001b[0mlenguaje\u001b[0m\u001b[0;34m\u001b[0m\u001b[0;34m\u001b[0m\u001b[0m\n\u001b[0m",
      "\u001b[0;31mNameError\u001b[0m: name 'lenguaje' is not defined"
     ]
    }
   ],
   "source": [
    "lenguaje"
   ]
  },
  {
   "cell_type": "markdown",
   "id": "239d357d",
   "metadata": {},
   "source": [
    "Si en el ámbito local de una función existe una variable que también existe en el ámbito global, durante la ejecución de la función la variable global queda eclipsada por la variable local y no es accesible hasta que finaliza la ejecución de la función."
   ]
  },
  {
   "cell_type": "code",
   "execution_count": 22,
   "id": "a9f959fa",
   "metadata": {},
   "outputs": [
    {
     "name": "stdout",
     "output_type": "stream",
     "text": [
      "¡Bienvenido a Python!\n"
     ]
    }
   ],
   "source": [
    "lenguaje = 'Java'\n",
    "def bienvenida():\n",
    "    lenguaje = 'Python'\n",
    "    print('¡Bienvenido a', lenguaje + '!')\n",
    "    return\n",
    "bienvenida()"
   ]
  },
  {
   "cell_type": "code",
   "execution_count": 23,
   "id": "ccf0d2bb",
   "metadata": {},
   "outputs": [
    {
     "name": "stdout",
     "output_type": "stream",
     "text": [
      "Java\n"
     ]
    }
   ],
   "source": [
    "print(lenguaje)"
   ]
  },
  {
   "cell_type": "markdown",
   "id": "064880ad",
   "metadata": {},
   "source": [
    "##### Paso de argumentos por asignación\n",
    "En Python los argumentos se pasan a una función por asignación, es decir, se asignan a los parámetros de la función como si fuesen variables locales. De este modo, cuando los argumentos son objetos mutables (listas, diccionarios, etc.) se pasa al parámetro una referencia al objeto, de manera que cualquier cambio que se haga dentro de la función mediante el parámetro asociado afectará al objeto original."
   ]
  },
  {
   "cell_type": "code",
   "execution_count": 24,
   "id": "a34db4a6",
   "metadata": {},
   "outputs": [
    {
     "name": "stdout",
     "output_type": "stream",
     "text": [
      "['Matemáticas', 'Física', 'Química']\n"
     ]
    }
   ],
   "source": [
    "primer_curso = ['Matemáticas', 'Física']\n",
    "def añade_asignatura(curso, asignatura):\n",
    "    curso.append(asignatura)\n",
    "    return\n",
    "añade_asignatura(primer_curso, 'Química')\n",
    "print(primer_curso)"
   ]
  },
  {
   "cell_type": "markdown",
   "id": "ef9d4362",
   "metadata": {},
   "source": [
    "##### Las funciones son objetos\n",
    "En Python las funciones son objetos como el resto de tipos de datos, de manera que es posible asignar una función a una variable y luego utilizar la variable para hacer la llamada a la función.\n"
   ]
  },
  {
   "cell_type": "code",
   "execution_count": 25,
   "id": "db66e360",
   "metadata": {},
   "outputs": [
    {
     "name": "stdout",
     "output_type": "stream",
     "text": [
      "Hola Clase\n"
     ]
    }
   ],
   "source": [
    "def saludo(nombre):\n",
    "    print(\"Hola\", nombre)\n",
    "    return\n",
    "\n",
    "bienvenida = saludo\n",
    "bienvenida(\"Clase\")"
   ]
  },
  {
   "cell_type": "code",
   "execution_count": null,
   "id": "cc66f35d",
   "metadata": {},
   "outputs": [],
   "source": [
    "Esto permite, por tanto, pasar funciones como argumentos en la llamada a una función y que una función pueda devolver otras funciones."
   ]
  },
  {
   "cell_type": "code",
   "execution_count": 33,
   "id": "c6f16773",
   "metadata": {},
   "outputs": [
    {
     "data": {
      "text/plain": [
       "210.0"
      ]
     },
     "execution_count": 33,
     "metadata": {},
     "output_type": "execute_result"
    }
   ],
   "source": [
    "def impuesto(porcentaje):\n",
    "    def aplicar(base):\n",
    "        return base * porcentaje / 100\n",
    "    return aplicar\n",
    "\n",
    "iva = impuesto(21)\n",
    "iva(1000)"
   ]
  },
  {
   "cell_type": "markdown",
   "id": "1eca0366",
   "metadata": {},
   "source": [
    "##### Funciones recursivas\n",
    "Una función recursiva es una función que en su cuerpo contiene una llama a si misma.\n",
    "\n",
    "La recursión es una práctica común en la mayoría de los lenguajes de programación ya que permite resolver las tareas recursivas de manera más natural.\n",
    "\n",
    "Para garantizar el final de una función recursiva, las sucesivas llamadas tienen que reducir el grado de complejidad del problema, hasta que este pueda resolverse directamente sin necesidad de volver a llamar a la función."
   ]
  },
  {
   "cell_type": "code",
   "execution_count": null,
   "id": "6b3d51eb",
   "metadata": {},
   "outputs": [],
   "source": [
    "def factorial(n):\n",
    "    if n == 0:\n",
    "        return 1\n",
    "    else:\n",
    "        return n * factorial(n-1)\n",
    "f(5)"
   ]
  },
  {
   "cell_type": "markdown",
   "id": "5adb9593",
   "metadata": {},
   "source": [
    "##### Funciones recursivas múltiples\n",
    "Una función recursiva puede invocarse a si misma tantas veces como quiera en su cuerpo."
   ]
  },
  {
   "cell_type": "code",
   "execution_count": 34,
   "id": "f51b7dbf",
   "metadata": {},
   "outputs": [
    {
     "data": {
      "text/plain": [
       "8"
      ]
     },
     "execution_count": 34,
     "metadata": {},
     "output_type": "execute_result"
    }
   ],
   "source": [
    "def fibonacci(n):\n",
    "    if n <= 1:\n",
    "        return n\n",
    "    else:\n",
    "        return fibonacci(n - 1) + fibonacci(n - 2)\n",
    "fibonacci(6)"
   ]
  },
  {
   "cell_type": "markdown",
   "id": "78ab4c09",
   "metadata": {},
   "source": [
    "##### Los riesgos de la recursión\n",
    "Aunque la recursión permite resolver las tareas recursivas de forma más natural, hay que tener cuidado con ella porque suele consumir bastante memoria, ya que cada llamada a la función crea un nuevo ámbito local con las variables y los parámetros de la función.\n",
    "\n",
    "En muchos casos es más eficiente resolver la tarea recursiva de forma iterativa usando bucles."
   ]
  },
  {
   "cell_type": "code",
   "execution_count": 36,
   "id": "6476c287",
   "metadata": {},
   "outputs": [
    {
     "data": {
      "text/plain": [
       "8"
      ]
     },
     "execution_count": 36,
     "metadata": {},
     "output_type": "execute_result"
    }
   ],
   "source": [
    "def fibonacci(n):\n",
    "    a, b = 0, 1\n",
    "    for i in range(n):\n",
    "        a, b = b, a + b\n",
    "    return a\n",
    "fibonacci(6)"
   ]
  },
  {
   "cell_type": "markdown",
   "id": "f2b6d433",
   "metadata": {},
   "source": [
    "##### Documentación de funciones\n",
    "Una práctica muy recomendable cuando se define una función es describir lo que la función hace en un comentario.\n",
    "\n",
    "En Python esto se hace con un docstring que es un tipo de comentario especial se hace en la línea siguiente al encabezado de la función entre tres comillas simples ''' o dobles \"\"\".\n",
    "\n",
    "Después se puede acceder a la documentación de la función con la función help(<nombre-función>).\n"
   ]
  },
  {
   "cell_type": "code",
   "execution_count": 37,
   "id": "a12e8c40",
   "metadata": {},
   "outputs": [
    {
     "name": "stdout",
     "output_type": "stream",
     "text": [
      "Help on function area_triangulo in module __main__:\n",
      "\n",
      "area_triangulo(base, altura)\n",
      "    Función que calcula el área de un triángulo.\n",
      "    ...\n",
      "    Parámetros:\n",
      "        - base: Un número real con la base del triángulo.\n",
      "        - altura: Un número real con la altura del triángulo.\n",
      "    Salida:\n",
      "        Un número real con el área del triángulo de base y altura especificadas.\n",
      "\n"
     ]
    }
   ],
   "source": [
    "def area_triangulo(base, altura):\n",
    "    \"\"\"Función que calcula el área de un triángulo.\n",
    "    ...\n",
    "    Parámetros:\n",
    "        - base: Un número real con la base del triángulo.\n",
    "        - altura: Un número real con la altura del triángulo.\n",
    "    Salida:\n",
    "        Un número real con el área del triángulo de base y altura especificadas.\n",
    "    \"\"\"\n",
    "    return base * altura / 2\n",
    "help(area_triangulo)"
   ]
  },
  {
   "cell_type": "markdown",
   "id": "542a811f",
   "metadata": {},
   "source": [
    "# Programación Orientada a Objetos\n",
    "### Objetos\n",
    "Python también permite la programación orientada a objetos, que es un paradigma de programación en la que los datos y las operaciones que pueden realizarse con esos datos se agrupan en unidades lógicas llamadas objetos.\n",
    "\n",
    "Los objetos suelen representar conceptos del dominio del programa, como un estudiante, un coche, un teléfono, etc. Los datos que describen las características del objeto se llaman atributos y son la parte estática del objeto, mientras que las operaciones que puede realizar el objeto se llaman métodos y son la parte dinámica del objeto.\n",
    "\n",
    "La programación orientada a objetos permite simplificar la estructura y la lógica de los grandes programas en los que intervienen muchos objetos que interactúan entre si.\n",
    "\n",
    "Ejemplo. Una tarjeta de crédito puede representarse como un objeto:\n",
    "\n",
    "- Atributos: Número de la tarjeta, titular, balance, fecha de caducidad, pin, entidad emisora, estado (activa o no), etc.\n",
    "- Métodos: Activar, pagar, renovar, anular.\n",
    "\n",
    "Atributos y métodos del objeto tarjeta de crédito\n",
    "Acceso a los atributos y métodos de un objeto\n",
    "- **dir(objeto)**: Devuelve una lista con los nombres de los atributos y métodos del objeto objeto.\n",
    "\n",
    "Para ver si un objeto tiene un determinado atributo o método se utiliza la siguiente función:\n",
    "\n",
    "- **hasattr(objeto, elemento)**: Devuelve True si elemento es un atributo o un método del objeto objeto y False en caso contrario.\n",
    "Para acceder a los atributos y métodos de un objeto se pone el nombre del objeto seguido del operador punto y el nombre del atributo o el método.\n",
    "\n",
    "- **objeto.atributo**: Accede al atributo atributo del objeto objeto.\n",
    "- **objeto.método(parámetros)**: Ejecuta el método método del objeto objeto con los parámetros que se le pasen.\n",
    "\n",
    "En Python los tipos de datos primitivos son también objetos que tienen asociados atributos y métodos.\n",
    "\n",
    "Ejemplo. Las cadenas tienen un método upper que convierte la cadena en mayúsculas. Para aplicar este método a la cadena **c** se utiliza la instrucción **c.upper()**."
   ]
  },
  {
   "cell_type": "code",
   "execution_count": 39,
   "id": "c8ced734",
   "metadata": {},
   "outputs": [
    {
     "name": "stdout",
     "output_type": "stream",
     "text": [
      "PYTHON\n"
     ]
    }
   ],
   "source": [
    "c = 'Python'\n",
    "print(c.upper())    # Llamada al método upper del objeto c (cadena)"
   ]
  },
  {
   "cell_type": "markdown",
   "id": "0d27ae4c",
   "metadata": {},
   "source": [
    "Ejemplo. Las listas tienen un método append que convierte añade un elemento al final de la lista. Para aplicar este método a la lista l se utiliza la instrucción l.append(<elemento>)."
   ]
  },
  {
   "cell_type": "code",
   "execution_count": 40,
   "id": "a49dda11",
   "metadata": {},
   "outputs": [
    {
     "name": "stdout",
     "output_type": "stream",
     "text": [
      "[1, 2, 3, 4]\n"
     ]
    }
   ],
   "source": [
    "l =  [1, 2, 3]     \n",
    "l.append(4)         # Llamada al método append del objeto l (lista)\n",
    "print(l)"
   ]
  },
  {
   "cell_type": "markdown",
   "id": "ba76661c",
   "metadata": {},
   "source": [
    "# Clases (class)\n",
    "Los objetos con los mismos atributos y métodos se agrupan clases. Las clases definen los atributos y los métodos, y por tanto, la semántica o comportamiento que tienen los objetos que pertenecen a esa clase. Se puede pensar en una clase como en un molde a partir del cuál se pueden crear objetos.\n",
    "\n",
    "Para declarar una clase se utiliza la palabra clave class seguida del nombre de la clase y dos puntos, de acuerdo a la siguiente sintaxis:"
   ]
  },
  {
   "cell_type": "raw",
   "id": "fd03956b",
   "metadata": {},
   "source": [
    "class <nombre-clase>:\n",
    "     <atributos>\n",
    "     <métodos>"
   ]
  },
  {
   "cell_type": "markdown",
   "id": "5a20602b",
   "metadata": {},
   "source": [
    "Los atributos se definen igual que las variables mientras que los métodos se definen igual que las funciones. Tanto unos como otros tienen que estar indentados por 4 espacios en el cuerpo de la clase.\n",
    "\n",
    "Ejemplo El siguiente código define la clase Saludo sin atributos ni métodos. La palabra reservada pass indica que la clase está vacía."
   ]
  },
  {
   "cell_type": "code",
   "execution_count": 26,
   "id": "433cf421",
   "metadata": {},
   "outputs": [
    {
     "name": "stdout",
     "output_type": "stream",
     "text": [
      "<class '__main__.Saludo'>\n"
     ]
    }
   ],
   "source": [
    "class Saludo:\n",
    "    pass        # Clase vacía sin atributos ni métodos.\n",
    "print(Saludo)\n"
   ]
  },
  {
   "cell_type": "markdown",
   "id": "28463491",
   "metadata": {},
   "source": [
    "Es una buena práctica comenzar el nombre de una clase con mayúsculas.\n",
    "\n",
    "### Clases primitivas\n",
    "En Python existen clases predefinidas para los tipos de datos primitivos:\n",
    "\n",
    "- **int:** Clase de los números enteros.\n",
    "- **float:** Clase de los números reales.\n",
    "- **str:** Clase de las cadenas de caracteres.\n",
    "- **list:** Clase de las listas.\n",
    "- **tuple:** Clase de las tuplas.\n",
    "- **dict:** Clase de los diccionarios."
   ]
  },
  {
   "cell_type": "code",
   "execution_count": 44,
   "id": "6e884316",
   "metadata": {},
   "outputs": [
    {
     "name": "stdout",
     "output_type": "stream",
     "text": [
      "<class 'int'>\n",
      "<class 'float'>\n",
      "<class 'str'>\n",
      "<class 'list'>\n",
      "<class 'tuple'>\n",
      "<class 'dict'>\n"
     ]
    }
   ],
   "source": [
    "print(type(1))\n",
    "print(type(1.2))\n",
    "print(type('Python'))\n",
    "print(type([1,2,3]))\n",
    "print(type((1,2,3)))\n",
    "print(type({'a':1,'b':2}))"
   ]
  },
  {
   "cell_type": "markdown",
   "id": "21e2fd8f",
   "metadata": {},
   "source": [
    "### Instanciación de clases\n",
    "Para crear un objeto de una determinada clase se utiliza el nombre de la clase seguida de los parámetros necesarios para crear el objeto entre paréntesis.\n",
    "\n",
    "**clase(parámetros)**: Crea un objeto de la clase clase inicializado con los parámetros dados.\n",
    "Cuando se crea un objeto de una clase se dice que el objeto es una instancia de la clase."
   ]
  },
  {
   "cell_type": "code",
   "execution_count": 47,
   "id": "e112ca87",
   "metadata": {},
   "outputs": [
    {
     "name": "stdout",
     "output_type": "stream",
     "text": [
      "<__main__.Saludo object at 0x7f67441b73d0>\n",
      "<class '__main__.Saludo'>\n"
     ]
    }
   ],
   "source": [
    "class Saludo:\n",
    "    pass        # Clase vacía sin atributos ni métodos.\n",
    "s = Saludo()    # Creación del objeto mediante instanciación de la clase.\n",
    "print(s) # Dirección de memoria donde se crea el objeto\n",
    "print(type(s))# Clase del objeto"
   ]
  },
  {
   "cell_type": "markdown",
   "id": "87d4cb44",
   "metadata": {},
   "source": [
    "### Definición de métodos\n",
    "\n",
    "Los métodos de una clase son las funciones que definen el comportamiento de los objetos de esa clase.\n",
    "\n",
    "Se definen como las funciones con la palabra reservada **def**. La única diferencia es que su primer parámetro es especial y se denomina **self**. Este parámetro hace siempre referencia al objeto desde donde se llama el método, de manera que para acceder a los atributos o métodos de una clase en su propia definición se puede utilizar la sintaxis **self.atributo** o **self.método**.\n"
   ]
  },
  {
   "cell_type": "code",
   "execution_count": 48,
   "id": "cf6ab681",
   "metadata": {},
   "outputs": [
    {
     "name": "stdout",
     "output_type": "stream",
     "text": [
      "Bienvenido Clase\n"
     ]
    }
   ],
   "source": [
    "class Saludo:\n",
    "    mensaje = \"Bienvenido \"            # Definición de un atributo\n",
    "    def saludar(self, nombre):         # Definición de un método   \n",
    "        print(self.mensaje + nombre)\n",
    "        return\n",
    "\n",
    "s = Saludo()\n",
    "s.saludar('Clase')"
   ]
  },
  {
   "cell_type": "markdown",
   "id": "79b9d0b3",
   "metadata": {},
   "source": [
    "La razón por la que existe el parámetro **self** es porque Python traduce la llamada a un método de un objeto **objeto.método(parámetros)** en la llamada **clase.método(objeto, parámetros)**, es decir, se llama al método definido en la clase del objeto, pasando como primer argumento el propio objeto, que se asocia al parámetro **self**."
   ]
  },
  {
   "cell_type": "markdown",
   "id": "c59d0b14",
   "metadata": {},
   "source": [
    "### El método __init__\n",
    "En la definición de una clase suele haber un método llamado **__init__** que se conoce como inicializador. Este método es un método especial que se llama cada vez que se instancia una clase y sirve para inicializar el objeto que se crea. Este método crea los atributos que deben tener todos los objetos de la clase y por tanto contiene los parámetros necesarios para su creación, pero no devuelve nada. Se invoca cada vez que se instancia un objeto de esa clase."
   ]
  },
  {
   "cell_type": "code",
   "execution_count": 50,
   "id": "0013df5a",
   "metadata": {},
   "outputs": [
    {
     "name": "stdout",
     "output_type": "stream",
     "text": [
      "El saldo es 1000 €\n"
     ]
    }
   ],
   "source": [
    "class Tarjeta:\n",
    "    def __init__(self, id, cantidad = 0):    # Inicializador\n",
    "        self.id = id                         # Creación del atributo id  \n",
    "        self.saldo = cantidad                # Creación del atributo saldo\n",
    "        return\n",
    "    def mostrar_saldo(self):\n",
    "        print('El saldo es', self.saldo, '€')\n",
    "        return\n",
    "t = Tarjeta('1111111111', 1000)     # Creación de un objeto con argumentos             \n",
    "t.mostrar_saldo()"
   ]
  },
  {
   "cell_type": "markdown",
   "id": "629f16ca",
   "metadata": {},
   "source": [
    "### Atributos de instancia vs atributos de clase\n",
    "Los atributos que se crean dentro del método **__init__** se conocen como atributos del objeto, mientras que los que se crean fuera de él se conocen como atributos de la clase. Mientras que los primeros son propios de cada objeto y por tanto pueden tomar valores distintos, los valores de los atributos de la clase son los mismos para cualquier objeto de la clase.\n",
    "\n",
    "En general, no deben usarse atributos de clase, excepto para almacenar valores constantes."
   ]
  },
  {
   "cell_type": "code",
   "execution_count": 51,
   "id": "956278a2",
   "metadata": {},
   "outputs": [
    {
     "name": "stdout",
     "output_type": "stream",
     "text": [
      "12.56636\n"
     ]
    }
   ],
   "source": [
    "class Circulo:\n",
    "    pi = 3.14159                     # Atributo de clase\n",
    "    def __init__(self, radio):\n",
    "        self.radio = radio           # Atributo de instancia\n",
    "    def area(self):\n",
    "        return Circulo.pi * self.radio ** 2\n",
    "\n",
    "c1 = Circulo(2)\n",
    "c2 = Circulo(3)\n",
    "print(c1.area())"
   ]
  },
  {
   "cell_type": "code",
   "execution_count": 52,
   "id": "7559e73f",
   "metadata": {},
   "outputs": [
    {
     "name": "stdout",
     "output_type": "stream",
     "text": [
      "28.27431\n"
     ]
    }
   ],
   "source": [
    "print(c2.area())"
   ]
  },
  {
   "cell_type": "code",
   "execution_count": 53,
   "id": "aeaafbc3",
   "metadata": {},
   "outputs": [
    {
     "name": "stdout",
     "output_type": "stream",
     "text": [
      "3.14159\n"
     ]
    }
   ],
   "source": [
    "print(c1.pi)"
   ]
  },
  {
   "cell_type": "code",
   "execution_count": 54,
   "id": "64c072cb",
   "metadata": {},
   "outputs": [
    {
     "name": "stdout",
     "output_type": "stream",
     "text": [
      "3.14159\n"
     ]
    }
   ],
   "source": [
    "print(c2.pi)"
   ]
  },
  {
   "cell_type": "markdown",
   "id": "22decd20",
   "metadata": {},
   "source": [
    "### El método __str__\n",
    "Otro método especial es el método llamado __str__ que se invoca cada vez que se llama a las funciones **print** o **str**. Devuelve siempre una cadena que se suele utilizar para dar una descripción informal del objeto. Si no se define en la clase, cada vez que se llama a estas funciones con un objeto de la clase, se muestra por defecto la posición de memoria del objeto."
   ]
  },
  {
   "cell_type": "code",
   "execution_count": 58,
   "id": "2346ee90",
   "metadata": {},
   "outputs": [
    {
     "name": "stdout",
     "output_type": "stream",
     "text": [
      "Tarjeta número 0123456789 con saldo 1000.00€\n"
     ]
    }
   ],
   "source": [
    "class Tarjeta:\n",
    "    def __init__(self, numero, cantidad = 0):\n",
    "        self.numero = numero\n",
    "        self.saldo = cantidad\n",
    "        return\n",
    "    def __str__(self):\n",
    "        return 'Tarjeta número {} con saldo {:.2f}€'.format(self.numero, self.saldo)\n",
    "t = Tarjeta('0123456789', 1000) \n",
    "print(t)"
   ]
  },
  {
   "cell_type": "markdown",
   "id": "47af12aa",
   "metadata": {},
   "source": [
    "### Herencia\n",
    "Una de las características más potentes de la programación orientada a objetos es la **herencia**, que permite definir una especialización de una clase añadiendo nuevos atributos o métodos. La nueva clase se conoce como clase hija y hereda los atributos y métodos de la clase original que se conoce como clase madre.\n",
    "\n",
    "Para crear un clase a partir de otra existente se utiliza la misma sintaxis que para definir una clase, pero poniendo detrás del nombre de la clase entre paréntesis los nombres de las clases madre de las que hereda.\n",
    "\n",
    "Ejemplo. A partir de la clase Tarjeta definida antes podemos crear mediante herencia otra clase Tarjeta_Descuento para representar las tarjetas de crédito que aplican un descuento sobre las compras."
   ]
  },
  {
   "cell_type": "code",
   "execution_count": 60,
   "id": "587a1f40",
   "metadata": {},
   "outputs": [
    {
     "name": "stdout",
     "output_type": "stream",
     "text": [
      "El saldo es 1000 €.\n"
     ]
    }
   ],
   "source": [
    "class Tarjeta:\n",
    "    def __init__(self, id, cantidad = 0):\n",
    "        self.id = id\n",
    "        self.saldo = cantidad\n",
    "        return\n",
    "    def mostrar_saldo(self):       # Método de la clase Tarjeta que hereda la clase Tarjeta_descuento\n",
    "        print('El saldo es',  self.saldo, '€.')\n",
    "        return\n",
    "\n",
    "class Tarjeta_descuento(Tarjeta):\n",
    "    def __init__(self, id, descuento, cantidad = 0):\n",
    "        self.id = id\n",
    "        self.descuento = descuento\n",
    "        self.saldo = cantidad\n",
    "        return\n",
    "    def mostrar_descuento(self):   # Método exclusivo de la clase Tarjeta_descuento\n",
    "        print('Descuento de', self.descuento, '% en los pagos.')\n",
    "        return\n",
    "\n",
    "t = Tarjeta_descuento('0123456789', 2, 1000)\n",
    "t.mostrar_saldo()"
   ]
  },
  {
   "cell_type": "code",
   "execution_count": 61,
   "id": "197ddd58",
   "metadata": {},
   "outputs": [
    {
     "name": "stdout",
     "output_type": "stream",
     "text": [
      "Descuento de 2 % en los pagos.\n"
     ]
    }
   ],
   "source": [
    "t.mostrar_descuento()"
   ]
  },
  {
   "cell_type": "markdown",
   "id": "f0b41fbf",
   "metadata": {},
   "source": [
    "La principal ventaja de la herencia es que evita la repetición de código y por tanto los programas son más fáciles de mantener.\n",
    "\n",
    "En el ejemplo de la tarjeta de crédito, el método mostrar_saldo solo se define en la clase madre. De esta manera, cualquier cambio que se haga en el cuerpo del método en la clase madre, automáticamente se propaga a las clases hijas. Sin la herencia, este método tendría que replicarse en cada una de las clases hijas y cada vez que se hiciese un cambio en él, habría que replicarlo también en las clases hijas.\n",
    "\n",
    "### Jerarquía de clases\n",
    "A partir de una clase derivada mediante herencia se pueden crear nuevas clases hijas aplicando de nuevo la herencia. Ello da lugar a una jerarquía de clases que puede representarse como un árbol donde cada clase hija se representa como una rama que sale de la clase madre.\n",
    "\n",
    "Atributos y métodos del objeto tarjeta de crédito\n",
    "Debido a la herencia, cualquier objeto creado a partir de una clase es una instancia de la clase, pero también lo es de las clases que son ancestros de esa clase en la jerarquía de clases.\n",
    "\n",
    "El siguiente comando permite averiguar si un objeto es instancia de una clase:\n",
    "- isinstance(objeto, clase): Devuelve True si el objeto objeto es una instancia de la clase clase y False en caso contrario.\n"
   ]
  },
  {
   "cell_type": "code",
   "execution_count": 62,
   "id": "fdc59a83",
   "metadata": {},
   "outputs": [
    {
     "data": {
      "text/plain": [
       "True"
      ]
     },
     "execution_count": 62,
     "metadata": {},
     "output_type": "execute_result"
    }
   ],
   "source": [
    "# Asumiendo la definición de las clases Tarjeta y Tarjeta_descuento anteriores.\n",
    "t1 = Tarjeta('1111111111', 0)\n",
    "t2 = t = Tarjeta_descuento('2222222222', 2, 1000)\n",
    "isinstance(t1, Tarjeta)"
   ]
  },
  {
   "cell_type": "code",
   "execution_count": 63,
   "id": "d3c166c2",
   "metadata": {},
   "outputs": [
    {
     "data": {
      "text/plain": [
       "False"
      ]
     },
     "execution_count": 63,
     "metadata": {},
     "output_type": "execute_result"
    }
   ],
   "source": [
    "isinstance(t1, Tarjeta_descuento)"
   ]
  },
  {
   "cell_type": "code",
   "execution_count": 64,
   "id": "d149e8a3",
   "metadata": {},
   "outputs": [
    {
     "data": {
      "text/plain": [
       "True"
      ]
     },
     "execution_count": 64,
     "metadata": {},
     "output_type": "execute_result"
    }
   ],
   "source": [
    "isinstance(t2, Tarjeta_descuento)"
   ]
  },
  {
   "cell_type": "code",
   "execution_count": 65,
   "id": "701ae529",
   "metadata": {},
   "outputs": [
    {
     "data": {
      "text/plain": [
       "True"
      ]
     },
     "execution_count": 65,
     "metadata": {},
     "output_type": "execute_result"
    }
   ],
   "source": [
    "isinstance(t2, Tarjeta)"
   ]
  },
  {
   "cell_type": "markdown",
   "id": "6c63bf06",
   "metadata": {},
   "source": [
    "### Sobrecarga y polimorfismo\n",
    "Los objetos de una clase hija heredan los atributos y métodos de la clase madre y, por tanto, a priori tienen tienen el mismo comportamiento que los objetos de la clase madre. Pero la clase hija puede definir nuevos atributos o métodos o reescribir los métodos de la clase madre de manera que sus objetos presenten un comportamiento distinto. Esto último se conoce como sobrecarga.\n",
    "\n",
    "De este modo, aunque un objeto de la clase hija y otro de la clase madre pueden tener un mismo método, al invocar ese método sobre el objeto de la clase hija, el comportamiento puede ser distinto a cuando se invoca ese mismo método sobre el objeto de la clase madre. Esto se conoce como polimorfismo y es otra de las características de la programación orientada a objetos."
   ]
  },
  {
   "cell_type": "code",
   "execution_count": 67,
   "id": "41de3b64",
   "metadata": {},
   "outputs": [
    {
     "name": "stdout",
     "output_type": "stream",
     "text": [
      "El saldo es 900.00€.\n"
     ]
    }
   ],
   "source": [
    "class Tarjeta:\n",
    "    def __init__(self, id, cantidad = 0):\n",
    "        self.id = id\n",
    "        self.saldo = cantidad\n",
    "        return\n",
    "    def mostrar_saldo(self):\n",
    "        print('El saldo es {:.2f}€.'.format(self.saldo))\n",
    "        return\n",
    "    def pagar(self, cantidad):\n",
    "        self.saldo -= cantidad\n",
    "        return\n",
    "class Tarjeta_Oro(Tarjeta):\n",
    "    def __init__(self, id, descuento, cantidad = 0):\n",
    "        self.id = id\n",
    "        self.descuento = descuento\n",
    "        self.saldo = cantidad\n",
    "        return\n",
    "    def pagar(self, cantidad):\n",
    "        self.saldo -= cantidad * (1 - self.descuento / 100)\n",
    "t1 = Tarjeta('1111111111', 1000)\n",
    "t2 = Tarjeta_Oro('2222222222', 1, 1000)\n",
    "t1.pagar(100)\n",
    "t1.mostrar_saldo()"
   ]
  },
  {
   "cell_type": "code",
   "execution_count": 68,
   "id": "3d9a212a",
   "metadata": {},
   "outputs": [
    {
     "name": "stdout",
     "output_type": "stream",
     "text": [
      "El saldo es 901.00€.\n"
     ]
    }
   ],
   "source": [
    "t2.pagar(100)\n",
    "t2.mostrar_saldo()"
   ]
  },
  {
   "cell_type": "markdown",
   "id": "10eb90c2",
   "metadata": {},
   "source": [
    "### Principios de la programación orientada a objetos\n",
    "La programación orientada a objetos se basa en los siguientes principios:\n",
    "\n",
    "- **Encapsulación**: Agrupar datos (atributos) y procedimientos (métodos) en unidades lógicas (objetos) y evitar manipular los atributos accediendo directamente a ellos, usando, en su lugar, métodos para acceder a ellos.\n",
    "- **Abstracción**: Ocultar al usuario de la clase los detalles de implementación de los métodos. Es decir, el usuario necesita saber qué hace un método y con qué parámetros tiene que invocarlo (interfaz), pero no necesita saber cómo lo hace.\n",
    "- **Herencia**: Evitar la duplicación de código en clases con comportamientos similares, definiendo los métodos comunes en una clase madre y los métodos particulares en clases hijas.\n",
    "- **Polimorfismo**: Redefinir los métodos de la clase madre en las clases hijas cuando se requiera un comportamiento distinto. Así, un mismo método puede realizar operaciones distintas dependiendo del objeto sobre el que se aplique.\n",
    "\n",
    "Resolver un problema siguiendo el paradigma de la programación orientada a objetos requiere un cambio de mentalidad con respecto a como se resuelve utilizando el paradigma de la programación procedimental.\n",
    "\n",
    "La programación orientada a objetos es más un proceso de modelado, donde se identifican las entidades que intervienen en el problema y su comportamiento, y se definen clases que modelizan esas entidades. Por ejemplo, las entidades que intervienen en el pago con una tarjeta de crédito serían la tarjeta, el terminal de venta, la cuenta corriente vinculada a la tarjeta, el banco, etc. Cada una de ellas daría lugar a una clase.\n",
    "\n",
    "Después se crean objetos con los datos concretos del problema y se hace que los objetos interactúen entre sí, a través de sus métodos, para resolver el problema. Cada objeto es responsable de una subtarea y colaboran entre ellos para resolver la tarea principal. Por ejemplo, la terminal de venta accede a los datos de la tarjeta y da la orden al banco para que haga un cargo en la cuenta vinculada a la tarjeta.\n",
    "\n",
    "De esta forma se pueden abordar problemas muy complejos descomponiéndolos en pequeñas tareas que son más fáciles de resolver que el problema principal (¡divide y vencerás!)."
   ]
  },
  {
   "cell_type": "code",
   "execution_count": null,
   "id": "650f4679",
   "metadata": {},
   "outputs": [],
   "source": []
  }
 ],
 "metadata": {
  "kernelspec": {
   "display_name": "Python 3 (ipykernel)",
   "language": "python",
   "name": "python3"
  },
  "language_info": {
   "codemirror_mode": {
    "name": "ipython",
    "version": 3
   },
   "file_extension": ".py",
   "mimetype": "text/x-python",
   "name": "python",
   "nbconvert_exporter": "python",
   "pygments_lexer": "ipython3",
   "version": "3.9.12"
  }
 },
 "nbformat": 4,
 "nbformat_minor": 5
}
