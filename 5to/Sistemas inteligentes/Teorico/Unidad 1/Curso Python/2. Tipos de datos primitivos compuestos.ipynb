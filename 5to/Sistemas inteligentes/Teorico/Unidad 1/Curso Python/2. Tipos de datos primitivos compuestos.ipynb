{
 "cells": [
  {
   "cell_type": "markdown",
   "id": "15575821",
   "metadata": {},
   "source": [
    "# Tipos de Datos Primitivos Compuestos\n",
    "### Listas\n",
    "Una lista es una secuencias ordenadas de objetos de distintos tipos.\n",
    "\n",
    "Se construyen poniendo los elementos entre corchetes [ ] separados por comas.\n",
    "\n",
    "Se caracterizan por:\n",
    "\n",
    "- Tienen orden.\n",
    "- Pueden contener elementos de distintos tipos.\n",
    "- Son mutables, es decir, pueden alterarse durante la ejecución de un programa."
   ]
  },
  {
   "cell_type": "code",
   "execution_count": 1,
   "id": "d45364a6",
   "metadata": {},
   "outputs": [
    {
     "data": {
      "text/plain": [
       "list"
      ]
     },
     "execution_count": 1,
     "metadata": {},
     "output_type": "execute_result"
    }
   ],
   "source": [
    "# Lista vacía\n",
    "type([])"
   ]
  },
  {
   "cell_type": "code",
   "execution_count": 2,
   "id": "65299f2b",
   "metadata": {},
   "outputs": [
    {
     "data": {
      "text/plain": [
       "[1, 'dos', True]"
      ]
     },
     "execution_count": 2,
     "metadata": {},
     "output_type": "execute_result"
    }
   ],
   "source": [
    "# Lista con elementos de distintos tipos\n",
    "[1, \"dos\", True]"
   ]
  },
  {
   "cell_type": "code",
   "execution_count": 3,
   "id": "9ca516e8",
   "metadata": {},
   "outputs": [
    {
     "data": {
      "text/plain": [
       "[1, [2, 3], 4]"
      ]
     },
     "execution_count": 3,
     "metadata": {},
     "output_type": "execute_result"
    }
   ],
   "source": [
    "# Listas anidadas\n",
    "[1, [2, 3], 4]"
   ]
  },
  {
   "cell_type": "markdown",
   "id": "a78e87d7",
   "metadata": {},
   "source": [
    "##### Creación de listas mediante la función **list()**\n",
    "Otra forma de crear listas es mediante la función list().\n",
    "\n",
    "**list(c)** : Crea una lista con los elementos de la secuencia o colección c.\n",
    "Se pueden indicar los elementos separados por comas, mediante una cadena, o mediante una colección de elementos iterable."
   ]
  },
  {
   "cell_type": "code",
   "execution_count": 4,
   "id": "0cd6c80a",
   "metadata": {},
   "outputs": [
    {
     "data": {
      "text/plain": [
       "[]"
      ]
     },
     "execution_count": 4,
     "metadata": {},
     "output_type": "execute_result"
    }
   ],
   "source": [
    "list()"
   ]
  },
  {
   "cell_type": "code",
   "execution_count": 6,
   "id": "3af1a526",
   "metadata": {},
   "outputs": [
    {
     "data": {
      "text/plain": [
       "[1, 2, 3]"
      ]
     },
     "execution_count": 6,
     "metadata": {},
     "output_type": "execute_result"
    }
   ],
   "source": [
    "list((1, 2, 3))"
   ]
  },
  {
   "cell_type": "code",
   "execution_count": 7,
   "id": "935da865",
   "metadata": {},
   "outputs": [
    {
     "data": {
      "text/plain": [
       "['P', 'y', 't', 'h', 'o', 'n']"
      ]
     },
     "execution_count": 7,
     "metadata": {},
     "output_type": "execute_result"
    }
   ],
   "source": [
    "list(\"Python\")"
   ]
  },
  {
   "cell_type": "markdown",
   "id": "80b5b751",
   "metadata": {},
   "source": [
    "Acceso a los elementos de una lista\n",
    "Se utilizan los mismos operadores de acceso que para cadenas de caracteres.\n",
    "\n",
    "**l[i]** : Devuelve el elemento de la lista l con el índice i.\n",
    " El índice del primer elemento de la lista es 0."
   ]
  },
  {
   "cell_type": "code",
   "execution_count": 8,
   "id": "a351ebf2",
   "metadata": {},
   "outputs": [],
   "source": [
    "a = ['P', 'y', 't', 'h', 'o', 'n']"
   ]
  },
  {
   "cell_type": "code",
   "execution_count": 9,
   "id": "97752b32",
   "metadata": {},
   "outputs": [
    {
     "data": {
      "text/plain": [
       "'P'"
      ]
     },
     "execution_count": 9,
     "metadata": {},
     "output_type": "execute_result"
    }
   ],
   "source": [
    "a[0]"
   ]
  },
  {
   "cell_type": "code",
   "execution_count": 10,
   "id": "665af87e",
   "metadata": {},
   "outputs": [
    {
     "data": {
      "text/plain": [
       "'n'"
      ]
     },
     "execution_count": 10,
     "metadata": {},
     "output_type": "execute_result"
    }
   ],
   "source": [
    "a[5]"
   ]
  },
  {
   "cell_type": "code",
   "execution_count": 11,
   "id": "39099390",
   "metadata": {},
   "outputs": [
    {
     "ename": "IndexError",
     "evalue": "list index out of range",
     "output_type": "error",
     "traceback": [
      "\u001b[0;31m---------------------------------------------------------------------------\u001b[0m",
      "\u001b[0;31mIndexError\u001b[0m                                Traceback (most recent call last)",
      "\u001b[0;32m/tmp/ipykernel_6965/510490795.py\u001b[0m in \u001b[0;36m<module>\u001b[0;34m\u001b[0m\n\u001b[0;32m----> 1\u001b[0;31m \u001b[0ma\u001b[0m\u001b[0;34m[\u001b[0m\u001b[0;36m6\u001b[0m\u001b[0;34m]\u001b[0m\u001b[0;34m\u001b[0m\u001b[0;34m\u001b[0m\u001b[0m\n\u001b[0m",
      "\u001b[0;31mIndexError\u001b[0m: list index out of range"
     ]
    }
   ],
   "source": [
    "a[6]"
   ]
  },
  {
   "cell_type": "code",
   "execution_count": 12,
   "id": "96fdd9bd",
   "metadata": {},
   "outputs": [
    {
     "data": {
      "text/plain": [
       "'n'"
      ]
     },
     "execution_count": 12,
     "metadata": {},
     "output_type": "execute_result"
    }
   ],
   "source": [
    "a[-1]"
   ]
  },
  {
   "cell_type": "markdown",
   "id": "5d6c04f6",
   "metadata": {},
   "source": [
    "##### Sublistas\n",
    "**l[i:j:k]** : Devuelve la sublista desde el elemento de l con el índice i hasta el elemento anterior al índice j, tomando elementos cada k."
   ]
  },
  {
   "cell_type": "code",
   "execution_count": 13,
   "id": "f6d62649",
   "metadata": {},
   "outputs": [
    {
     "data": {
      "text/plain": [
       "['y', 't', 'h']"
      ]
     },
     "execution_count": 13,
     "metadata": {},
     "output_type": "execute_result"
    }
   ],
   "source": [
    "a = ['P', 'y', 't', 'h', 'o', 'n']\n",
    "a[1:4]"
   ]
  },
  {
   "cell_type": "code",
   "execution_count": 14,
   "id": "2d28a52a",
   "metadata": {},
   "outputs": [
    {
     "data": {
      "text/plain": [
       "[]"
      ]
     },
     "execution_count": 14,
     "metadata": {},
     "output_type": "execute_result"
    }
   ],
   "source": [
    "a[1:1]"
   ]
  },
  {
   "cell_type": "code",
   "execution_count": 15,
   "id": "0dcc28dd",
   "metadata": {},
   "outputs": [
    {
     "data": {
      "text/plain": [
       "['P', 'y', 't']"
      ]
     },
     "execution_count": 15,
     "metadata": {},
     "output_type": "execute_result"
    }
   ],
   "source": [
    "a[:-3]"
   ]
  },
  {
   "cell_type": "code",
   "execution_count": 16,
   "id": "96937638",
   "metadata": {},
   "outputs": [
    {
     "data": {
      "text/plain": [
       "['P', 'y', 't', 'h', 'o', 'n']"
      ]
     },
     "execution_count": 16,
     "metadata": {},
     "output_type": "execute_result"
    }
   ],
   "source": [
    "a[:]"
   ]
  },
  {
   "cell_type": "code",
   "execution_count": 17,
   "id": "5c1385f5",
   "metadata": {},
   "outputs": [
    {
     "data": {
      "text/plain": [
       "['P', 't', 'o']"
      ]
     },
     "execution_count": 17,
     "metadata": {},
     "output_type": "execute_result"
    }
   ],
   "source": [
    "a[0:6:2]"
   ]
  },
  {
   "cell_type": "code",
   "execution_count": 18,
   "id": "4cb11079",
   "metadata": {},
   "outputs": [
    {
     "data": {
      "text/plain": [
       "['P', 't', 'o']"
      ]
     },
     "execution_count": 18,
     "metadata": {},
     "output_type": "execute_result"
    }
   ],
   "source": [
    "['P', 't', 'o']"
   ]
  },
  {
   "cell_type": "markdown",
   "id": "411e4afa",
   "metadata": {},
   "source": [
    "Operaciones que no modifican una lista\n",
    "- **len(l)** : Devuelve el número de elementos de la lista l.\n",
    "- **min(l)** : Devuelve el mínimo elemento de la lista l siempre que los datos sean comparables.\n",
    "- **max(l)** : Devuelve el máximo elemento de la lista l siempre que los datos sean comparables.\n",
    "- **sum(l)** : Devuelve la suma de los elementos de la lista l, siempre que los datos se puedan sumar.\n",
    "- **dato in l** : Devuelve True si el dato dato pertenece a la lista l y False en caso contrario.\n",
    "- **l.index(dato)** : Devuelve la posición que ocupa en la lista l el primer elemento con valor dato.\n",
    "- **l.count(dato)** : Devuelve el número de veces que el valor dato está contenido en la lista l.\n",
    "- **all(l)** : Devuelve True si todos los elementos de la lista l son True y False en caso contrario.\n",
    "- **any(l)** : Devuelve True si algún elemento de la lista l es True y False en caso contrario."
   ]
  },
  {
   "cell_type": "code",
   "execution_count": 19,
   "id": "d08c1055",
   "metadata": {},
   "outputs": [
    {
     "data": {
      "text/plain": [
       "4"
      ]
     },
     "execution_count": 19,
     "metadata": {},
     "output_type": "execute_result"
    }
   ],
   "source": [
    "a = [1, 2, 2, 3]\n",
    "len(a)"
   ]
  },
  {
   "cell_type": "code",
   "execution_count": 20,
   "id": "e392eb72",
   "metadata": {},
   "outputs": [
    {
     "data": {
      "text/plain": [
       "1"
      ]
     },
     "execution_count": 20,
     "metadata": {},
     "output_type": "execute_result"
    }
   ],
   "source": [
    "min(a)"
   ]
  },
  {
   "cell_type": "code",
   "execution_count": 21,
   "id": "eb76900b",
   "metadata": {},
   "outputs": [
    {
     "data": {
      "text/plain": [
       "3"
      ]
     },
     "execution_count": 21,
     "metadata": {},
     "output_type": "execute_result"
    }
   ],
   "source": [
    "max(a)"
   ]
  },
  {
   "cell_type": "code",
   "execution_count": 22,
   "id": "d54d9aa2",
   "metadata": {},
   "outputs": [
    {
     "data": {
      "text/plain": [
       "8"
      ]
     },
     "execution_count": 22,
     "metadata": {},
     "output_type": "execute_result"
    }
   ],
   "source": [
    "sum(a)"
   ]
  },
  {
   "cell_type": "code",
   "execution_count": 23,
   "id": "0baec84e",
   "metadata": {},
   "outputs": [
    {
     "data": {
      "text/plain": [
       "True"
      ]
     },
     "execution_count": 23,
     "metadata": {},
     "output_type": "execute_result"
    }
   ],
   "source": [
    "3 in a"
   ]
  },
  {
   "cell_type": "code",
   "execution_count": 24,
   "id": "f96ab687",
   "metadata": {},
   "outputs": [
    {
     "data": {
      "text/plain": [
       "1"
      ]
     },
     "execution_count": 24,
     "metadata": {},
     "output_type": "execute_result"
    }
   ],
   "source": [
    "a.index(2)"
   ]
  },
  {
   "cell_type": "code",
   "execution_count": 25,
   "id": "f105d5a2",
   "metadata": {},
   "outputs": [
    {
     "data": {
      "text/plain": [
       "2"
      ]
     },
     "execution_count": 25,
     "metadata": {},
     "output_type": "execute_result"
    }
   ],
   "source": [
    "a.count(2)"
   ]
  },
  {
   "cell_type": "code",
   "execution_count": 26,
   "id": "98ef76b0",
   "metadata": {},
   "outputs": [
    {
     "data": {
      "text/plain": [
       "True"
      ]
     },
     "execution_count": 26,
     "metadata": {},
     "output_type": "execute_result"
    }
   ],
   "source": [
    "all(a)"
   ]
  },
  {
   "cell_type": "code",
   "execution_count": 27,
   "id": "a029bc65",
   "metadata": {},
   "outputs": [
    {
     "data": {
      "text/plain": [
       "False"
      ]
     },
     "execution_count": 27,
     "metadata": {},
     "output_type": "execute_result"
    }
   ],
   "source": [
    "any([0, False, 3<2])"
   ]
  },
  {
   "cell_type": "markdown",
   "id": "3397761a",
   "metadata": {},
   "source": [
    "##### Operaciones que modifican una lista\n",
    "- **l1 + l2** : Crea una nueva lista concatenan los elementos de la listas l1 y l2.\n",
    "- **l.append(dato)** : Añade dato al final de la lista l.\n",
    "- **l.extend(sequencia)** : Añade los datos de sequencia al final de la lista l.\n",
    "- **l.insert(índice, dato)** : Inserta dato en la posición índice de la lista l y desplaza los elementos una posición a partir de la posición índice.\n",
    "- **l.remove(dato)** : Elimina el primer elemento con valor dato en la lista l y desplaza los que están por detrás de él una posición hacia delante.\n",
    "- **l.pop([índice])** : Devuelve el dato en la posición índice y lo elimina de la lista l, desplazando los elementos por detrás de él una posición hacia delante.\n",
    "- **l.sort()** : Ordena los elementos de la lista l de acuerdo al orden predefinido, siempre que los elementos sean comparables.\n",
    "- **l.reverse()** : invierte el orden de los elementos de la lista l."
   ]
  },
  {
   "cell_type": "markdown",
   "id": "cc94027e",
   "metadata": {},
   "source": [
    "a = [1, 3]\n",
    "b = [2 , 4, 6]\n",
    "a.append(5)\n",
    "a"
   ]
  },
  {
   "cell_type": "markdown",
   "id": "9f7c1e36",
   "metadata": {},
   "source": [
    "a.remove(3)\n",
    "a"
   ]
  },
  {
   "cell_type": "markdown",
   "id": "01311f0c",
   "metadata": {},
   "source": [
    "a.insert(1, 3)\n",
    "a"
   ]
  },
  {
   "cell_type": "markdown",
   "id": "faa85c9c",
   "metadata": {},
   "source": [
    "b.pop()"
   ]
  },
  {
   "cell_type": "markdown",
   "id": "06d31a79",
   "metadata": {},
   "source": [
    "c = a + b\n",
    "c"
   ]
  },
  {
   "cell_type": "markdown",
   "id": "fba59133",
   "metadata": {},
   "source": [
    "c.sort()\n",
    "c"
   ]
  },
  {
   "cell_type": "markdown",
   "id": "118eb96d",
   "metadata": {},
   "source": [
    "c.reverse()\n",
    "c"
   ]
  },
  {
   "cell_type": "markdown",
   "id": "70cc1b63",
   "metadata": {},
   "source": [
    "##### Copia de listas\n",
    "Existen dos formas de copiar listas:\n",
    "\n",
    "- **Copia por referencia l1 = l2**: Asocia la la variable l1 la misma lista que tiene asociada la variable l2, es decir, ambas variables apuntan a la misma dirección de memoria. Cualquier cambio que hagamos a través de l1 o l2 afectará a la misma lista.\n",
    "- **Copia por valor l1 = list(l2)**: Crea una copia de la lista asociada a l2 en una dirección de memoria diferente y se la asocia a l1. Las variables apuntan a direcciones de memoria diferentes que contienen los mismos datos. Cualquier cambio que hagamos a través de l1 no afectará a la lista de l2 y viceversa."
   ]
  },
  {
   "cell_type": "code",
   "execution_count": 28,
   "id": "baf391fd",
   "metadata": {},
   "outputs": [
    {
     "data": {
      "text/plain": [
       "[1, 2, 3]"
      ]
     },
     "execution_count": 28,
     "metadata": {},
     "output_type": "execute_result"
    }
   ],
   "source": [
    "a = [1, 2, 3]\n",
    "b = a\n",
    "b"
   ]
  },
  {
   "cell_type": "code",
   "execution_count": 29,
   "id": "01f43050",
   "metadata": {},
   "outputs": [
    {
     "data": {
      "text/plain": [
       "[1, 3]"
      ]
     },
     "execution_count": 29,
     "metadata": {},
     "output_type": "execute_result"
    }
   ],
   "source": [
    "b.remove(2)\n",
    "b"
   ]
  },
  {
   "cell_type": "code",
   "execution_count": 30,
   "id": "b9374936",
   "metadata": {},
   "outputs": [
    {
     "data": {
      "text/plain": [
       "[1, 3]"
      ]
     },
     "execution_count": 30,
     "metadata": {},
     "output_type": "execute_result"
    }
   ],
   "source": [
    "a"
   ]
  },
  {
   "cell_type": "code",
   "execution_count": 31,
   "id": "432a950e",
   "metadata": {},
   "outputs": [
    {
     "data": {
      "text/plain": [
       "[1, 2, 3]"
      ]
     },
     "execution_count": 31,
     "metadata": {},
     "output_type": "execute_result"
    }
   ],
   "source": [
    "a = [1, 2, 3]\n",
    "# copia por valor\n",
    "b = list(a)\n",
    "b"
   ]
  },
  {
   "cell_type": "code",
   "execution_count": 32,
   "id": "20d2e2f2",
   "metadata": {},
   "outputs": [
    {
     "data": {
      "text/plain": [
       "[1, 3]"
      ]
     },
     "execution_count": 32,
     "metadata": {},
     "output_type": "execute_result"
    }
   ],
   "source": [
    "b.remove(2)\n",
    "b"
   ]
  },
  {
   "cell_type": "code",
   "execution_count": 33,
   "id": "92608679",
   "metadata": {},
   "outputs": [
    {
     "data": {
      "text/plain": [
       "[1, 2, 3]"
      ]
     },
     "execution_count": 33,
     "metadata": {},
     "output_type": "execute_result"
    }
   ],
   "source": [
    "a"
   ]
  },
  {
   "cell_type": "markdown",
   "id": "4bdbfe53",
   "metadata": {},
   "source": [
    "### Tuplas\n",
    "Una tupla es una secuencias ordenadas de objetos de distintos tipos.\n",
    "\n",
    "Se construyen poniendo los elementos entre corchetes ( ) separados por comas.\n",
    "\n",
    "Se caracterizan por:\n",
    "\n",
    "- Tienen orden.\n",
    "- Pueden contener elementos de distintos tipos.\n",
    "- Son inmutables, es decir, no pueden alterarse durante la ejecución de un programa.\n",
    "\n",
    "Se usan habitualmente para representar colecciones de datos una determinada estructura semántica, como por ejemplo un vector o una matriz."
   ]
  },
  {
   "cell_type": "code",
   "execution_count": 34,
   "id": "6fd1dbed",
   "metadata": {},
   "outputs": [
    {
     "data": {
      "text/plain": [
       "tuple"
      ]
     },
     "execution_count": 34,
     "metadata": {},
     "output_type": "execute_result"
    }
   ],
   "source": [
    "# Tupla vacía\n",
    "type(())"
   ]
  },
  {
   "cell_type": "code",
   "execution_count": 35,
   "id": "4e459a44",
   "metadata": {},
   "outputs": [
    {
     "data": {
      "text/plain": [
       "(1, 'dos', True)"
      ]
     },
     "execution_count": 35,
     "metadata": {},
     "output_type": "execute_result"
    }
   ],
   "source": [
    "# Tupla con elementos de distintos tipos\n",
    "(1, \"dos\", True)"
   ]
  },
  {
   "cell_type": "code",
   "execution_count": 36,
   "id": "3f260f03",
   "metadata": {},
   "outputs": [
    {
     "data": {
      "text/plain": [
       "(1, 2, 3)"
      ]
     },
     "execution_count": 36,
     "metadata": {},
     "output_type": "execute_result"
    }
   ],
   "source": [
    "# Vector\n",
    "(1, 2, 3)"
   ]
  },
  {
   "cell_type": "code",
   "execution_count": 24,
   "id": "d87fe370",
   "metadata": {},
   "outputs": [
    {
     "data": {
      "text/plain": [
       "((1, 2, 3), (4, 5, 6))"
      ]
     },
     "execution_count": 24,
     "metadata": {},
     "output_type": "execute_result"
    }
   ],
   "source": [
    "# Matriz\n",
    "((1, 2, 3), (4, 5, 6))"
   ]
  },
  {
   "cell_type": "markdown",
   "id": "e2d11fab",
   "metadata": {},
   "source": [
    "##### Creación de tuplas mediante la función **tuple()**\n",
    "Otra forma de crear tuplas es mediante la función **tuple()**.\n",
    "\n",
    "**tuple(c)** : Crea una tupla con los elementos de la secuencia o colección c.\n",
    "Se pueden indicar los elementos separados por comas, mediante una cadena, o mediante una colección de elementos iterable."
   ]
  },
  {
   "cell_type": "code",
   "execution_count": 37,
   "id": "fe12971d",
   "metadata": {},
   "outputs": [
    {
     "data": {
      "text/plain": [
       "()"
      ]
     },
     "execution_count": 37,
     "metadata": {},
     "output_type": "execute_result"
    }
   ],
   "source": [
    "tuple()"
   ]
  },
  {
   "cell_type": "code",
   "execution_count": 38,
   "id": "02ead2b1",
   "metadata": {},
   "outputs": [
    {
     "data": {
      "text/plain": [
       "('P', 'y', 't', 'h', 'o', 'n')"
      ]
     },
     "execution_count": 38,
     "metadata": {},
     "output_type": "execute_result"
    }
   ],
   "source": [
    "tuple(\"Python\")"
   ]
  },
  {
   "cell_type": "code",
   "execution_count": 40,
   "id": "9d0df11c",
   "metadata": {},
   "outputs": [
    {
     "data": {
      "text/plain": [
       "(1, 2, 3)"
      ]
     },
     "execution_count": 40,
     "metadata": {},
     "output_type": "execute_result"
    }
   ],
   "source": [
    "tuple([1, 2, 3])"
   ]
  },
  {
   "cell_type": "code",
   "execution_count": 41,
   "id": "c542ce2c",
   "metadata": {},
   "outputs": [
    {
     "data": {
      "text/plain": [
       "(1, 2, 3)"
      ]
     },
     "execution_count": 41,
     "metadata": {},
     "output_type": "execute_result"
    }
   ],
   "source": [
    "# Collecciones de objectos sin especificar el tipo de paréntesis se lo toma como tupla\n",
    "1,2,3"
   ]
  },
  {
   "cell_type": "code",
   "execution_count": 35,
   "id": "83b64ef5",
   "metadata": {},
   "outputs": [
    {
     "data": {
      "text/plain": [
       "1"
      ]
     },
     "execution_count": 35,
     "metadata": {},
     "output_type": "execute_result"
    }
   ],
   "source": [
    "# Se puede utilizar para definir multiples variables en la misma línea\n",
    "a, b, c = 1, 2, 3\n",
    "a"
   ]
  },
  {
   "cell_type": "code",
   "execution_count": 36,
   "id": "029a1bf4",
   "metadata": {},
   "outputs": [
    {
     "data": {
      "text/plain": [
       "2"
      ]
     },
     "execution_count": 36,
     "metadata": {},
     "output_type": "execute_result"
    }
   ],
   "source": [
    "b"
   ]
  },
  {
   "cell_type": "code",
   "execution_count": 37,
   "id": "b6974e2a",
   "metadata": {},
   "outputs": [
    {
     "data": {
      "text/plain": [
       "3"
      ]
     },
     "execution_count": 37,
     "metadata": {},
     "output_type": "execute_result"
    }
   ],
   "source": [
    "c"
   ]
  },
  {
   "cell_type": "markdown",
   "id": "01bbed91",
   "metadata": {},
   "source": [
    "##### Operaciones con tuplas\n",
    "El acceso a los elementos de una tupla se realiza del mismo modo que en las listas. También se pueden obtener subtuplas de la misma manera que las sublistas.\n",
    "\n",
    "Las operaciones de listas que no modifican la lista también son aplicables a las tuplas."
   ]
  },
  {
   "cell_type": "code",
   "execution_count": 42,
   "id": "4f6a7fba",
   "metadata": {},
   "outputs": [
    {
     "data": {
      "text/plain": [
       "2"
      ]
     },
     "execution_count": 42,
     "metadata": {},
     "output_type": "execute_result"
    }
   ],
   "source": [
    "a = (1, 2, 3)\n",
    "a[1]"
   ]
  },
  {
   "cell_type": "code",
   "execution_count": 43,
   "id": "6cd17530",
   "metadata": {},
   "outputs": [
    {
     "data": {
      "text/plain": [
       "3"
      ]
     },
     "execution_count": 43,
     "metadata": {},
     "output_type": "execute_result"
    }
   ],
   "source": [
    "len(a)"
   ]
  },
  {
   "cell_type": "code",
   "execution_count": 44,
   "id": "8711a88c",
   "metadata": {},
   "outputs": [
    {
     "data": {
      "text/plain": [
       "2"
      ]
     },
     "execution_count": 44,
     "metadata": {},
     "output_type": "execute_result"
    }
   ],
   "source": [
    "a.index(3)"
   ]
  },
  {
   "cell_type": "code",
   "execution_count": 45,
   "id": "07bc9d4f",
   "metadata": {},
   "outputs": [
    {
     "data": {
      "text/plain": [
       "False"
      ]
     },
     "execution_count": 45,
     "metadata": {},
     "output_type": "execute_result"
    }
   ],
   "source": [
    "0 in a"
   ]
  },
  {
   "cell_type": "code",
   "execution_count": 42,
   "id": "7fd1ef12",
   "metadata": {},
   "outputs": [],
   "source": [
    "b = ((1, 2, 3), (4, 5, 6))"
   ]
  },
  {
   "cell_type": "code",
   "execution_count": 43,
   "id": "2f9074c7",
   "metadata": {},
   "outputs": [
    {
     "data": {
      "text/plain": [
       "(4, 5, 6)"
      ]
     },
     "execution_count": 43,
     "metadata": {},
     "output_type": "execute_result"
    }
   ],
   "source": [
    "b[1]"
   ]
  },
  {
   "cell_type": "code",
   "execution_count": null,
   "id": "fe9ad4c6",
   "metadata": {},
   "outputs": [],
   "source": [
    "b[1][2]"
   ]
  },
  {
   "cell_type": "markdown",
   "id": "c184fcf7",
   "metadata": {},
   "source": [
    "### Diccionarios\n",
    "Un diccionario es una colección de pares formados por una clave y un valor asociado a la clave.\n",
    "\n",
    "Se construyen poniendo los pares entre llaves { } separados por comas, y separando la clave del valor con dos puntos :.\n",
    "\n",
    "Se caracterizan por:\n",
    "\n",
    "- No tienen orden.\n",
    "- Pueden contener elementos de distintos tipos.\n",
    "- Son mutables, es decir, pueden alterarse durante la ejecución de un programa.\n",
    "- Las claves son únicas, es decir, no pueden repetirse en un mismo diccionario, y pueden ser de cualquier tipo de datos inmutable."
   ]
  },
  {
   "cell_type": "code",
   "execution_count": 46,
   "id": "10488120",
   "metadata": {},
   "outputs": [
    {
     "data": {
      "text/plain": [
       "dict"
      ]
     },
     "execution_count": 46,
     "metadata": {},
     "output_type": "execute_result"
    }
   ],
   "source": [
    "# Diccionario vacío\n",
    "type({})"
   ]
  },
  {
   "cell_type": "code",
   "execution_count": 47,
   "id": "e167817e",
   "metadata": {},
   "outputs": [
    {
     "data": {
      "text/plain": [
       "{'nombre': 'Alfredo', 'despacho': 218, 'email': 'asalber@ucc.edu.ar'}"
      ]
     },
     "execution_count": 47,
     "metadata": {},
     "output_type": "execute_result"
    }
   ],
   "source": [
    "# Diccionario con elementos de distintos tipos\n",
    "{'nombre':'Alfredo', 'despacho': 218, 'email':'asalber@ucc.edu.ar'}"
   ]
  },
  {
   "cell_type": "code",
   "execution_count": 48,
   "id": "8588db69",
   "metadata": {},
   "outputs": [
    {
     "data": {
      "text/plain": [
       "{'nombre_completo': {'nombre': 'Alfredo', 'Apellidos': 'Sánchez Alberca'}}"
      ]
     },
     "execution_count": 48,
     "metadata": {},
     "output_type": "execute_result"
    }
   ],
   "source": [
    "# Diccionarios anidados\n",
    "{'nombre_completo':{'nombre': 'Alfredo', 'Apellidos': 'Sánchez Alberca'}}"
   ]
  },
  {
   "cell_type": "markdown",
   "id": "a81cb4d3",
   "metadata": {},
   "source": [
    "Acceso a los elementos de un diccionario\n",
    "\n",
    "- **d[clave]** devuelve el valor del diccionario d asociado a la clave clave. Si en el diccionario no existe esa clave devuelve un error.\n",
    "- **d.get(clave, valor)** devuelve el valor del diccionario d asociado a la clave clave. Si en el diccionario no existe esa clave devuelve valor, y si no se especifica un valor por defecto devuelve None."
   ]
  },
  {
   "cell_type": "code",
   "execution_count": 49,
   "id": "e5e84ca7",
   "metadata": {},
   "outputs": [
    {
     "data": {
      "text/plain": [
       "'Alfredo'"
      ]
     },
     "execution_count": 49,
     "metadata": {},
     "output_type": "execute_result"
    }
   ],
   "source": [
    "a = {'nombre':'Alfredo', 'despacho': 218, 'email':'asalber@ucc.edu.ar'}\n",
    "a['nombre']"
   ]
  },
  {
   "cell_type": "code",
   "execution_count": 50,
   "id": "be80162e",
   "metadata": {},
   "outputs": [
    {
     "data": {
      "text/plain": [
       "{'nombre': 'Alfredo', 'despacho': 210, 'email': 'asalber@ucc.edu.ar'}"
      ]
     },
     "execution_count": 50,
     "metadata": {},
     "output_type": "execute_result"
    }
   ],
   "source": [
    "a['despacho'] = 210\n",
    "a"
   ]
  },
  {
   "cell_type": "code",
   "execution_count": 51,
   "id": "af10f192",
   "metadata": {},
   "outputs": [
    {
     "data": {
      "text/plain": [
       "'asalber@ucc.edu.ar'"
      ]
     },
     "execution_count": 51,
     "metadata": {},
     "output_type": "execute_result"
    }
   ],
   "source": [
    "a.get('email')"
   ]
  },
  {
   "cell_type": "code",
   "execution_count": 52,
   "id": "d16ecd5e",
   "metadata": {},
   "outputs": [
    {
     "data": {
      "text/plain": [
       "'UCC'"
      ]
     },
     "execution_count": 52,
     "metadata": {},
     "output_type": "execute_result"
    }
   ],
   "source": [
    "a.get('universidad', 'UCC')"
   ]
  },
  {
   "cell_type": "markdown",
   "id": "379b8e28",
   "metadata": {},
   "source": [
    "##### Operaciones que no modifican un diccionario\n",
    "- **len(d)** : Devuelve el número de elementos del diccionario d.\n",
    "- **min(d)** : Devuelve la mínima clave del diccionario d siempre que las claves sean comparables.\n",
    "- **max(d)** : Devuelve la máxima clave del diccionario d siempre que las claves sean comparables.\n",
    "- **sum(d)** : Devuelve la suma de las claves del diccionario d, siempre que las claves se puedan sumar.\n",
    "- **clave in d** : Devuelve True si la clave clave pertenece al diccionario d y False en caso contrario.\n",
    "- **d.keys()** : Devuelve un iterador sobre las claves de un diccionario.\n",
    "- **d.values()** : Devuelve un iterador sobre los valores de un diccionario.\n",
    "- **d.items()** : Devuelve un iterador sobre los pares clave-valor de un diccionario."
   ]
  },
  {
   "cell_type": "code",
   "execution_count": 53,
   "id": "0391e173",
   "metadata": {},
   "outputs": [
    {
     "data": {
      "text/plain": [
       "3"
      ]
     },
     "execution_count": 53,
     "metadata": {},
     "output_type": "execute_result"
    }
   ],
   "source": [
    "a = {'nombre':'Alfredo', 'despacho': 218, 'email':'asalber@ucc.edu.ar'}\n",
    "len(a)"
   ]
  },
  {
   "cell_type": "code",
   "execution_count": 54,
   "id": "4a281323",
   "metadata": {},
   "outputs": [
    {
     "data": {
      "text/plain": [
       "'despacho'"
      ]
     },
     "execution_count": 54,
     "metadata": {},
     "output_type": "execute_result"
    }
   ],
   "source": [
    "min(a)"
   ]
  },
  {
   "cell_type": "code",
   "execution_count": 55,
   "id": "ae440252",
   "metadata": {},
   "outputs": [
    {
     "data": {
      "text/plain": [
       "True"
      ]
     },
     "execution_count": 55,
     "metadata": {},
     "output_type": "execute_result"
    }
   ],
   "source": [
    "'email' in a"
   ]
  },
  {
   "cell_type": "code",
   "execution_count": 56,
   "id": "545c008e",
   "metadata": {},
   "outputs": [
    {
     "data": {
      "text/plain": [
       "dict_keys(['nombre', 'despacho', 'email'])"
      ]
     },
     "execution_count": 56,
     "metadata": {},
     "output_type": "execute_result"
    }
   ],
   "source": [
    "a.keys()"
   ]
  },
  {
   "cell_type": "code",
   "execution_count": 57,
   "id": "d7824faa",
   "metadata": {},
   "outputs": [
    {
     "data": {
      "text/plain": [
       "dict_values(['Alfredo', 218, 'asalber@ucc.edu.ar'])"
      ]
     },
     "execution_count": 57,
     "metadata": {},
     "output_type": "execute_result"
    }
   ],
   "source": [
    "a.values()"
   ]
  },
  {
   "cell_type": "code",
   "execution_count": 58,
   "id": "1c07685e",
   "metadata": {},
   "outputs": [
    {
     "data": {
      "text/plain": [
       "dict_items([('nombre', 'Alfredo'), ('despacho', 218), ('email', 'asalber@ucc.edu.ar')])"
      ]
     },
     "execution_count": 58,
     "metadata": {},
     "output_type": "execute_result"
    }
   ],
   "source": [
    "a.items()"
   ]
  },
  {
   "cell_type": "markdown",
   "id": "42f057b4",
   "metadata": {},
   "source": [
    "##### Operaciones que modifican un diccionario\n",
    "- **d[clave] = valor** : Añade al diccionario d el par formado por la clave clave y el valor valor.\n",
    "- **d.update(d2)**. Añade los pares del diccionario d2 al diccionario d.\n",
    "- **d.pop(clave, alternativo)** : Devuelve del valor asociado a la clave clave del diccionario d y lo elimina del diccionario. Si la clave no está devuelve el valor alternativo.\n",
    "- **d.popitem()** : Devuelve la tupla formada por la clave y el valor del último par añadido al diccionario d y lo elimina del diccionario.\n",
    "- **del d[clave]** : Elimina del diccionario d el par con la clave clave.\n",
    "- **d.clear()** : Elimina todos los pares del diccionario d de manera que se queda vacío."
   ]
  },
  {
   "cell_type": "code",
   "execution_count": 59,
   "id": "c48ad662",
   "metadata": {},
   "outputs": [
    {
     "data": {
      "text/plain": [
       "{'nombre': 'Alfredo',\n",
       " 'despacho': 218,\n",
       " 'email': 'asalber@ucc.edu.ar',\n",
       " 'universidad': 'UCC'}"
      ]
     },
     "execution_count": 59,
     "metadata": {},
     "output_type": "execute_result"
    }
   ],
   "source": [
    "a = {'nombre':'Alfredo', 'despacho': 218, 'email':'asalber@ucc.edu.ar'}\n",
    "a['universidad'] = 'UCC'\n",
    "a"
   ]
  },
  {
   "cell_type": "code",
   "execution_count": 60,
   "id": "5ebe6db2",
   "metadata": {},
   "outputs": [
    {
     "data": {
      "text/plain": [
       "{'nombre': 'Alfredo', 'email': 'asalber@ucc.edu.ar', 'universidad': 'UCC'}"
      ]
     },
     "execution_count": 60,
     "metadata": {},
     "output_type": "execute_result"
    }
   ],
   "source": [
    "a.pop('despacho')\n",
    "a"
   ]
  },
  {
   "cell_type": "code",
   "execution_count": 61,
   "id": "90c57090",
   "metadata": {},
   "outputs": [
    {
     "data": {
      "text/plain": [
       "{'nombre': 'Alfredo', 'email': 'asalber@ucc.edu.ar'}"
      ]
     },
     "execution_count": 61,
     "metadata": {},
     "output_type": "execute_result"
    }
   ],
   "source": [
    "a.popitem()\n",
    "a"
   ]
  },
  {
   "cell_type": "code",
   "execution_count": 62,
   "id": "b8f4e0f9",
   "metadata": {},
   "outputs": [
    {
     "data": {
      "text/plain": [
       "{'nombre': 'Alfredo'}"
      ]
     },
     "execution_count": 62,
     "metadata": {},
     "output_type": "execute_result"
    }
   ],
   "source": [
    "del a['email']\n",
    "a"
   ]
  },
  {
   "cell_type": "code",
   "execution_count": 63,
   "id": "ff50a9d4",
   "metadata": {},
   "outputs": [
    {
     "data": {
      "text/plain": [
       "{}"
      ]
     },
     "execution_count": 63,
     "metadata": {},
     "output_type": "execute_result"
    }
   ],
   "source": [
    "a.clear()\n",
    "a"
   ]
  },
  {
   "cell_type": "markdown",
   "id": "c95e9c9a",
   "metadata": {},
   "source": [
    "##### Copia de diccionarios\n",
    "Existen dos formas de copiar diccionarios:\n",
    "\n",
    "- Copia por referencia **d1 = d2**: Asocia la la variable d1 el mismo diccionario que tiene asociado la variable d2, es decir, ambas variables apuntan a la misma dirección de memoria. Cualquier cambio que hagamos a través de l1 o l2 afectará al mismo diccionario.\n",
    "- Copia por valor **d1 = list(d2)**: Crea una copia del diccionario asociado a d2 en una dirección de memoria diferente y se la asocia a d1. Las variables apuntan a direcciones de memoria diferentes que contienen los mismos datos. Cualquier cambio que hagamos a través de l1 no afectará al diccionario de l2 y viceversa."
   ]
  },
  {
   "cell_type": "code",
   "execution_count": 64,
   "id": "f8f6849c",
   "metadata": {},
   "outputs": [
    {
     "data": {
      "text/plain": [
       "{1: 'A', 2: 'B', 3: 'C'}"
      ]
     },
     "execution_count": 64,
     "metadata": {},
     "output_type": "execute_result"
    }
   ],
   "source": [
    "a = {1:'A', 2:'B', 3:'C'}\n",
    "# copia por referencia\n",
    "b = a\n",
    "b"
   ]
  },
  {
   "cell_type": "code",
   "execution_count": 65,
   "id": "fda718ec",
   "metadata": {},
   "outputs": [
    {
     "data": {
      "text/plain": [
       "{1: 'A', 3: 'C'}"
      ]
     },
     "execution_count": 65,
     "metadata": {},
     "output_type": "execute_result"
    }
   ],
   "source": [
    "b.pop(2)\n",
    "b"
   ]
  },
  {
   "cell_type": "code",
   "execution_count": 66,
   "id": "2389106a",
   "metadata": {},
   "outputs": [
    {
     "data": {
      "text/plain": [
       "{1: 'A', 3: 'C'}"
      ]
     },
     "execution_count": 66,
     "metadata": {},
     "output_type": "execute_result"
    }
   ],
   "source": [
    "a"
   ]
  },
  {
   "cell_type": "code",
   "execution_count": 67,
   "id": "14ebd04b",
   "metadata": {},
   "outputs": [
    {
     "data": {
      "text/plain": [
       "{1: 'A', 2: 'B', 3: 'C'}"
      ]
     },
     "execution_count": 67,
     "metadata": {},
     "output_type": "execute_result"
    }
   ],
   "source": [
    "a = {1:'A', 2:'B', 3:'C'}\n",
    "# copia por valor\n",
    "b = dict(a)\n",
    "b"
   ]
  },
  {
   "cell_type": "code",
   "execution_count": 68,
   "id": "ae54d00a",
   "metadata": {},
   "outputs": [
    {
     "data": {
      "text/plain": [
       "{1: 'A', 3: 'C'}"
      ]
     },
     "execution_count": 68,
     "metadata": {},
     "output_type": "execute_result"
    }
   ],
   "source": [
    "b.pop(2)\n",
    "b"
   ]
  },
  {
   "cell_type": "code",
   "execution_count": 69,
   "id": "bc624ae3",
   "metadata": {},
   "outputs": [
    {
     "data": {
      "text/plain": [
       "{1: 'A', 2: 'B', 3: 'C'}"
      ]
     },
     "execution_count": 69,
     "metadata": {},
     "output_type": "execute_result"
    }
   ],
   "source": [
    "a"
   ]
  },
  {
   "cell_type": "markdown",
   "id": "d3a4ee2b",
   "metadata": {},
   "source": [
    "### Sets\n",
    "\n",
    "Un sets es una colección de elementos.\n",
    "\n",
    "Se construyen poniendo valores entre llaves { } separados por comas.\n",
    "\n",
    "Se caracterizan por:\n",
    "- No tienen orden.\n",
    "- Pueden contener elementos de distintos tipos.\n",
    "- Son mutables, es decir, pueden alterarse durante la ejecución de un programa.\n",
    "- Los elementos son únicos, es decir, no pueden repetirse en un mismo diccionario, y pueden ser de cualquier tipo de datos inmutable.\n",
    "\n",
    "###### Creación\n"
   ]
  },
  {
   "cell_type": "code",
   "execution_count": 66,
   "id": "bf18aa74",
   "metadata": {},
   "outputs": [
    {
     "data": {
      "text/plain": [
       "{(1, 2), 2, 'a'}"
      ]
     },
     "execution_count": 66,
     "metadata": {},
     "output_type": "execute_result"
    }
   ],
   "source": [
    "{2,'a',(1,2)}"
   ]
  },
  {
   "cell_type": "markdown",
   "id": "b31c3151",
   "metadata": {},
   "source": [
    "utilizando la función **set()** en iterables"
   ]
  },
  {
   "cell_type": "code",
   "execution_count": 64,
   "id": "0d68699f",
   "metadata": {},
   "outputs": [
    {
     "data": {
      "text/plain": [
       "{0, 1, 2}"
      ]
     },
     "execution_count": 64,
     "metadata": {},
     "output_type": "execute_result"
    }
   ],
   "source": [
    "set(range(3))"
   ]
  },
  {
   "cell_type": "code",
   "execution_count": 65,
   "id": "6073d1da",
   "metadata": {},
   "outputs": [
    {
     "data": {
      "text/plain": [
       "{1, 2, 3, 4}"
      ]
     },
     "execution_count": 65,
     "metadata": {},
     "output_type": "execute_result"
    }
   ],
   "source": [
    "set([1,2,3,4])"
   ]
  },
  {
   "cell_type": "markdown",
   "id": "8930056a",
   "metadata": {},
   "source": [
    "### Comprensión de colecciones\n",
    "En muchas aplicaciones es habitual aplicar una función o realizar una operación con los elementos de una colección (lista, tupla o diccionario) y obtener una nueva colección de elementos transformados. Aunque esto se puede hacer recorriendo la secuencia con un bucle iterativo, y en programación funcional mediante la función map, Python incorpora un mecanismo muy potente que permite esto mismo de manera más simple.\n",
    "\n",
    "##### Comprensión de listas"
   ]
  },
  {
   "cell_type": "raw",
   "id": "34c05a28",
   "metadata": {},
   "source": [
    "[expresion for variable in lista if condicion]"
   ]
  },
  {
   "cell_type": "markdown",
   "id": "08500692",
   "metadata": {},
   "source": [
    "Esta instrucción genera la lista cuyos elementos son el resultado de evaluar la expresión expresion, para cada valor que toma la variable variable, donde variable toma todos los valores de la lista lista que cumplen la condición condición."
   ]
  },
  {
   "cell_type": "code",
   "execution_count": 67,
   "id": "818b382d",
   "metadata": {},
   "outputs": [
    {
     "data": {
      "text/plain": [
       "[0, 1, 4, 9, 16, 25, 36, 49, 64, 81]"
      ]
     },
     "execution_count": 67,
     "metadata": {},
     "output_type": "execute_result"
    }
   ],
   "source": [
    "[x ** 2 for x in range(10)]"
   ]
  },
  {
   "cell_type": "code",
   "execution_count": 68,
   "id": "1211afa4",
   "metadata": {},
   "outputs": [
    {
     "data": {
      "text/plain": [
       "[0, 2, 4, 6, 8]"
      ]
     },
     "execution_count": 68,
     "metadata": {},
     "output_type": "execute_result"
    }
   ],
   "source": [
    "[x for x in range(10) if x % 2 == 0]"
   ]
  },
  {
   "cell_type": "code",
   "execution_count": 69,
   "id": "34b15d21",
   "metadata": {},
   "outputs": [
    {
     "data": {
      "text/plain": [
       "[0, 4, 16, 36, 64]"
      ]
     },
     "execution_count": 69,
     "metadata": {},
     "output_type": "execute_result"
    }
   ],
   "source": [
    "[x ** 2 for x in range(10) if x % 2 == 0]"
   ]
  },
  {
   "cell_type": "code",
   "execution_count": 70,
   "id": "7464297d",
   "metadata": {},
   "outputs": [
    {
     "data": {
      "text/plain": [
       "['Carmen', 'Juan', 'Mónica', 'María']"
      ]
     },
     "execution_count": 70,
     "metadata": {},
     "output_type": "execute_result"
    }
   ],
   "source": [
    "notas = {'Carmen':5, 'Antonio':4, 'Juan':8, 'Mónica':9, 'María': 6, 'Pablo':3}\n",
    "[nombre for (nombre, nota) in notas.items() if nota >= 5]"
   ]
  },
  {
   "cell_type": "markdown",
   "id": "ebfac63b",
   "metadata": {},
   "source": [
    "También es posible utilizar un **if** y luego un **else** al momento de la definicion de la listas, pero cambia la posición donde se coloca el if."
   ]
  },
  {
   "cell_type": "raw",
   "id": "2a7d2a85",
   "metadata": {},
   "source": [
    "[expresion1 if condicion else expresion2 for variable in lista]"
   ]
  },
  {
   "cell_type": "code",
   "execution_count": 73,
   "id": "921f2327",
   "metadata": {},
   "outputs": [
    {
     "data": {
      "text/plain": [
       "[0, 0, 2, 0, 4, 0, 6, 0, 8, 0]"
      ]
     },
     "execution_count": 73,
     "metadata": {},
     "output_type": "execute_result"
    }
   ],
   "source": [
    "[x if x % 2 == 0 else 0 for x in range(10) ]"
   ]
  },
  {
   "cell_type": "markdown",
   "id": "01dccc8c",
   "metadata": {},
   "source": [
    "##### Comprensión de diccionarios"
   ]
  },
  {
   "cell_type": "raw",
   "id": "f1c938b0",
   "metadata": {},
   "source": [
    "{expresion-clave:expresion-valor for variables in lista if condicion}"
   ]
  },
  {
   "cell_type": "markdown",
   "id": "86fdad56",
   "metadata": {},
   "source": [
    "Esta instrucción genera el diccionario formado por los pares cuyas claves son el resultado de evaluar la expresión expresion-clave y cuyos valores son el resultado de evaluar la expresión expresion-valor, para cada valor que toma la variable variable, donde variable toma todos los valores de la lista lista que cumplen la condición condición."
   ]
  },
  {
   "cell_type": "code",
   "execution_count": 74,
   "id": "2bd565dc",
   "metadata": {},
   "outputs": [
    {
     "data": {
      "text/plain": [
       "{'I': 1, 'love': 4, 'Python': 6}"
      ]
     },
     "execution_count": 74,
     "metadata": {},
     "output_type": "execute_result"
    }
   ],
   "source": [
    "{palabra:len(palabra) for palabra in ['I', 'love', 'Python']}"
   ]
  },
  {
   "cell_type": "code",
   "execution_count": 76,
   "id": "495d02ef",
   "metadata": {},
   "outputs": [
    {
     "data": {
      "text/plain": [
       "{'Carmen': 6, 'Juan': 9, 'Mónica': 10, 'María': 7}"
      ]
     },
     "execution_count": 76,
     "metadata": {},
     "output_type": "execute_result"
    }
   ],
   "source": [
    "notas = {'Carmen':5, 'Antonio':4, 'Juan':8, 'Mónica':9, 'María': 6, 'Pablo':3}\n",
    "{nombre: nota +1 for (nombre, nota) in notas.items() if nota >= 5}"
   ]
  },
  {
   "cell_type": "code",
   "execution_count": null,
   "id": "ced9acee",
   "metadata": {},
   "outputs": [],
   "source": []
  }
 ],
 "metadata": {
  "kernelspec": {
   "display_name": "Python 3 (ipykernel)",
   "language": "python",
   "name": "python3"
  },
  "language_info": {
   "codemirror_mode": {
    "name": "ipython",
    "version": 3
   },
   "file_extension": ".py",
   "mimetype": "text/x-python",
   "name": "python",
   "nbconvert_exporter": "python",
   "pygments_lexer": "ipython3",
   "version": "3.9.12"
  }
 },
 "nbformat": 4,
 "nbformat_minor": 5
}
