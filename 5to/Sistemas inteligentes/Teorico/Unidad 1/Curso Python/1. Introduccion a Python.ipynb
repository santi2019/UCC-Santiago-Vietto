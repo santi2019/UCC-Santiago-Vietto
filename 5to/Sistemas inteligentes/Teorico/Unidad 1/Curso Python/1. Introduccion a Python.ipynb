{
 "cells": [
  {
   "cell_type": "markdown",
   "id": "3bfd4752",
   "metadata": {},
   "source": [
    "# ¿Qué es Python?\n",
    "Python es un lenguaje de programación de alto nivel multiparadigma que permite:\n",
    "\n",
    "- Programación imperativa\n",
    "- Programación funcional\n",
    "- Programación orientada a objetos\n",
    "\n",
    "Fue creado por Guido van Rossum en 1990 aunque actualmente es desarrollado y mantenido por la Python Software Foundation\n",
    "\n",
    "# Principales ventajas de Python\n",
    "Es de código abierto (certificado por la OSI). Es interpretable y compilable. Es fácil de aprender gracias a que su sintaxis es bastante legible para los humanos. Es un lenguaje maduro (32 años). Es fácilmente extensible e integrable en otros lenguajes (C, java). Esta mantenido por una gran comunidad de desarrolladores y hay multitud de recursos para su aprendizaje. Tipos de ejecución Interpretado en la consola de Python Se ejecuta cada instrucción que introduce el usuario de manera interactiva."
   ]
  },
  {
   "cell_type": "markdown",
   "id": "7a1a9da3",
   "metadata": {},
   "source": [
    "### Interpretado en la consola de Python\n",
    "Se ejecuta cada instrucción que introduce el usuario de manera interactiva."
   ]
  },
  {
   "cell_type": "raw",
   "id": "d446acd3",
   "metadata": {},
   "source": [
    "> python\n",
    ">>> name = \"Mundo\"\n",
    ">>> print(\"Hola \", name)\n",
    "Hola Mundo"
   ]
  },
  {
   "cell_type": "markdown",
   "id": "3fcf238e",
   "metadata": {},
   "source": [
    "### Interpretado en fichero\n",
    "Se leen y se ejecutan una a una todas las instrucciones del fichero."
   ]
  },
  {
   "cell_type": "raw",
   "id": "e144b0dd",
   "metadata": {},
   "source": [
    "# Fichero hola.py\n",
    "name = \"Mundo\"\n",
    "print(\"Hola \", name)"
   ]
  },
  {
   "cell_type": "raw",
   "id": "25db7712",
   "metadata": {},
   "source": [
    "> python hola.py\n",
    "Hola Mundo"
   ]
  },
  {
   "cell_type": "markdown",
   "id": "1221d9d4",
   "metadata": {},
   "source": [
    "También se puede hacer el fichero ejecutable indicando en la primera línea la ruta hasta el intérprete de Python."
   ]
  },
  {
   "cell_type": "raw",
   "id": "d7da16a3",
   "metadata": {},
   "source": [
    "#!/usr/bin/python3\n",
    "name = \"Mundo\"\n",
    "print(\"Hola\", name)"
   ]
  },
  {
   "cell_type": "raw",
   "id": "6f6d6b77",
   "metadata": {},
   "source": [
    "> chmod +x hola.py\n",
    "> ./hola.py\n",
    "Hola Mundo"
   ]
  },
  {
   "cell_type": "markdown",
   "id": "a412f2c3",
   "metadata": {},
   "source": [
    "### Compilado a bytecode"
   ]
  },
  {
   "cell_type": "raw",
   "id": "8b0abb03",
   "metadata": {},
   "source": [
    "# Fichero hola.py\n",
    "name = \"Mundo\"\n",
    "print(\"Hola \" + name)"
   ]
  },
  {
   "cell_type": "raw",
   "id": "ff80dba4",
   "metadata": {},
   "source": [
    "> python -O -m py_compile hola.py\n",
    "> python __pycache__/hola.cpython-37.pyc\n",
    "Hola Mundo"
   ]
  },
  {
   "cell_type": "markdown",
   "id": "99855466",
   "metadata": {},
   "source": [
    "### Compilado a ejecutable del sistema\n",
    "Hay distintos paquetes que permiten compilar a un ejecutable del sistema operativo usado, por ejemplo pyinstaller."
   ]
  },
  {
   "cell_type": "raw",
   "id": "cd7c1342",
   "metadata": {},
   "source": [
    "> conda install pyinstaller\n",
    "> pyinstaller hola.py\n",
    "> ./dist/hola/hola\n",
    "Hola Mundo"
   ]
  },
  {
   "cell_type": "markdown",
   "id": "a2141afc",
   "metadata": {},
   "source": [
    "# Tipos de Datos Primitivos Simples\n",
    "### Tipos de datos primitivos simples\n",
    "- **Números** (numbers): Secuencia de dígitos (pueden incluir el - para negativos y el . para decimales) que representan números.\n",
    "Ejemplo. 0, -1, 3.1415.\n",
    "- **Cadenas** (strings): Secuencia de caracteres alfanuméricos que representan texto. Se escriben entre comillas simples o dobles.\n",
    "Ejemplo. ‘Hola’, “Adiós”.\n",
    "- **Booleanos** (boolean): Contiene únicamente dos elementos True y False que representan los valores lógicos verdadero y falso respectivamente.\n",
    "Estos datos son inmutables, es decir, su valor es constante y no puede cambiar.\n",
    "\n",
    "### Tipos de datos primitivos compuestos (contenedores)\n",
    "- **Listas** (lists): Colecciones de objetos que representan secuencias ordenadas de objetos de distintos tipos. Se representan con corchetes y los elementos se separan por comas.\n",
    "Ejemplo. [1, “dos”, [3, 4], True].\n",
    "- **Tuplas** (tuples). Colecciones de objetos que representan secuencias ordenadas de objetos de distintos tipos. A diferencia de las listas son inmutables, es decir, que no cambian durante la ejecución. Se representan mediante paréntesis y los elementos se separan por comas.\n",
    "Ejemplo. (1, ‘dos’, 3)\n",
    "- **Diccionarios** (dictionaries): Colecciones de objetos con una clave asociada. Se representan con llaves, los pares separados por comas y cada par contiene una clave y un objeto asociado separados por dos puntos.\n",
    "Ejemplo. {‘pi’:3.1416, ’e’:2.718}.\n",
    "- **Sets** (dictionaries): Colecciones no ordenada y no indexada. Se representan con llaves, los objetos separados por comas. Los items son intercambiables, pero se puede remover y añadir nuevos items.\n",
    "Ejemplo. {‘pi’, ’e’}.\n",
    "### Clase de un dato (type())\n",
    "La clase a la que pertenece un dato se obtiene con el comando type()"
   ]
  },
  {
   "cell_type": "code",
   "execution_count": 1,
   "id": "c7c3d08f",
   "metadata": {},
   "outputs": [
    {
     "data": {
      "text/plain": [
       "int"
      ]
     },
     "execution_count": 1,
     "metadata": {},
     "output_type": "execute_result"
    }
   ],
   "source": [
    "type(1)"
   ]
  },
  {
   "cell_type": "code",
   "execution_count": 2,
   "id": "4666e9bc",
   "metadata": {},
   "outputs": [
    {
     "data": {
      "text/plain": [
       "str"
      ]
     },
     "execution_count": 2,
     "metadata": {},
     "output_type": "execute_result"
    }
   ],
   "source": [
    "type(\"Hola\")"
   ]
  },
  {
   "cell_type": "code",
   "execution_count": 3,
   "id": "8c3c4e3f",
   "metadata": {},
   "outputs": [
    {
     "data": {
      "text/plain": [
       "list"
      ]
     },
     "execution_count": 3,
     "metadata": {},
     "output_type": "execute_result"
    }
   ],
   "source": [
    "type([1, \"dos\", [3, 4], True])"
   ]
  },
  {
   "cell_type": "code",
   "execution_count": 4,
   "id": "b27e79c0",
   "metadata": {},
   "outputs": [
    {
     "data": {
      "text/plain": [
       "dict"
      ]
     },
     "execution_count": 4,
     "metadata": {},
     "output_type": "execute_result"
    }
   ],
   "source": [
    "type({'pi':3.1416, 'e':2.718})"
   ]
  },
  {
   "cell_type": "code",
   "execution_count": 5,
   "id": "9e867b17",
   "metadata": {},
   "outputs": [
    {
     "data": {
      "text/plain": [
       "tuple"
      ]
     },
     "execution_count": 5,
     "metadata": {},
     "output_type": "execute_result"
    }
   ],
   "source": [
    "type((1, 'dos', 3))"
   ]
  },
  {
   "cell_type": "code",
   "execution_count": 6,
   "id": "2b8f26ab",
   "metadata": {},
   "outputs": [
    {
     "data": {
      "text/plain": [
       "set"
      ]
     },
     "execution_count": 6,
     "metadata": {},
     "output_type": "execute_result"
    }
   ],
   "source": [
    "type({'pi', 'e'})"
   ]
  },
  {
   "cell_type": "markdown",
   "id": "7d253287",
   "metadata": {},
   "source": [
    "### Números (clases int y float)\n",
    "Secuencia de dígitos (pueden incluir el - para negativos y el . para decimales) que representan números. Pueden ser enteros (int) o reales (float)."
   ]
  },
  {
   "cell_type": "code",
   "execution_count": 11,
   "id": "5002cce3",
   "metadata": {},
   "outputs": [
    {
     "data": {
      "text/plain": [
       "int"
      ]
     },
     "execution_count": 11,
     "metadata": {},
     "output_type": "execute_result"
    }
   ],
   "source": [
    "type(1)"
   ]
  },
  {
   "cell_type": "code",
   "execution_count": 12,
   "id": "68cfabd8",
   "metadata": {},
   "outputs": [
    {
     "data": {
      "text/plain": [
       "int"
      ]
     },
     "execution_count": 12,
     "metadata": {},
     "output_type": "execute_result"
    }
   ],
   "source": [
    "type(-2)"
   ]
  },
  {
   "cell_type": "code",
   "execution_count": 7,
   "id": "365ee48f",
   "metadata": {},
   "outputs": [
    {
     "data": {
      "text/plain": [
       "float"
      ]
     },
     "execution_count": 7,
     "metadata": {},
     "output_type": "execute_result"
    }
   ],
   "source": [
    "type(2.3)"
   ]
  },
  {
   "cell_type": "markdown",
   "id": "5b40fc66",
   "metadata": {},
   "source": [
    "##### Operadores aritméticos\n",
    "Operadores aritméticos: \n",
    "- **+** (suma),\n",
    "- **-** (resta),\n",
    "- **\\*** (producto),\n",
    "- **/** (cociente),\n",
    "- **//** (cociente división entera),\n",
    "- **%** (resto división entera),\n",
    "- ****** (potencia).\n",
    "\n",
    "Orden de prioridad de evaluación:\n",
    "\n",
    "1. Funciones predefinidas\n",
    "2. Potencias\n",
    "3. Productos y cocientes\n",
    "4. Sumas y restas\n",
    "\n",
    "Nota: Se puede saltar el orden de evaluación utilizando paréntesis ( )."
   ]
  },
  {
   "cell_type": "code",
   "execution_count": 8,
   "id": "cb268d8c",
   "metadata": {},
   "outputs": [
    {
     "data": {
      "text/plain": [
       "5"
      ]
     },
     "execution_count": 8,
     "metadata": {},
     "output_type": "execute_result"
    }
   ],
   "source": [
    "2+3"
   ]
  },
  {
   "cell_type": "code",
   "execution_count": 9,
   "id": "845c5bc7",
   "metadata": {},
   "outputs": [
    {
     "data": {
      "text/plain": [
       "-10"
      ]
     },
     "execution_count": 9,
     "metadata": {},
     "output_type": "execute_result"
    }
   ],
   "source": [
    "5*-2"
   ]
  },
  {
   "cell_type": "code",
   "execution_count": 10,
   "id": "95cd2215",
   "metadata": {},
   "outputs": [
    {
     "data": {
      "text/plain": [
       "-10"
      ]
     },
     "execution_count": 10,
     "metadata": {},
     "output_type": "execute_result"
    }
   ],
   "source": [
    "-10"
   ]
  },
  {
   "cell_type": "code",
   "execution_count": 11,
   "id": "f9c833db",
   "metadata": {},
   "outputs": [
    {
     "data": {
      "text/plain": [
       "2.5"
      ]
     },
     "execution_count": 11,
     "metadata": {},
     "output_type": "execute_result"
    }
   ],
   "source": [
    "5/2"
   ]
  },
  {
   "cell_type": "code",
   "execution_count": 12,
   "id": "a3cdd08d",
   "metadata": {},
   "outputs": [
    {
     "data": {
      "text/plain": [
       "2"
      ]
     },
     "execution_count": 12,
     "metadata": {},
     "output_type": "execute_result"
    }
   ],
   "source": [
    "5//2"
   ]
  },
  {
   "cell_type": "code",
   "execution_count": 20,
   "id": "b4ce7eb2",
   "metadata": {},
   "outputs": [
    {
     "data": {
      "text/plain": [
       "25"
      ]
     },
     "execution_count": 20,
     "metadata": {},
     "output_type": "execute_result"
    }
   ],
   "source": [
    "(2+3)**2"
   ]
  },
  {
   "cell_type": "markdown",
   "id": "ed935a87",
   "metadata": {},
   "source": [
    "##### Operadores lógicos con números\n",
    "Devuelven un valor lógico o booleano.\n",
    "\n",
    "Operadores lógicos: \n",
    "- **==** (igual que),\n",
    "- **>** (mayor que),\n",
    "- **<** (menor que), \n",
    "- **>=** (mayor o igual que),\n",
    "- **<=** (menor o igual que),\n",
    "- **!=** (distinto de)."
   ]
  },
  {
   "cell_type": "code",
   "execution_count": 21,
   "id": "d16e12dc",
   "metadata": {},
   "outputs": [
    {
     "data": {
      "text/plain": [
       "True"
      ]
     },
     "execution_count": 21,
     "metadata": {},
     "output_type": "execute_result"
    }
   ],
   "source": [
    "3==3"
   ]
  },
  {
   "cell_type": "code",
   "execution_count": 22,
   "id": "84aa551c",
   "metadata": {},
   "outputs": [
    {
     "data": {
      "text/plain": [
       "False"
      ]
     },
     "execution_count": 22,
     "metadata": {},
     "output_type": "execute_result"
    }
   ],
   "source": [
    "3.1<=3"
   ]
  },
  {
   "cell_type": "code",
   "execution_count": 23,
   "id": "39ee9f63",
   "metadata": {},
   "outputs": [
    {
     "data": {
      "text/plain": [
       "True"
      ]
     },
     "execution_count": 23,
     "metadata": {},
     "output_type": "execute_result"
    }
   ],
   "source": [
    "-1!=1"
   ]
  },
  {
   "cell_type": "markdown",
   "id": "af4b22ae",
   "metadata": {},
   "source": [
    "### Cadenas (clase str)\n",
    "Secuencia de caracteres alfanuméricos que representan texto. Se escriben entre comillas sencillas ’ o dobles “."
   ]
  },
  {
   "cell_type": "raw",
   "id": "e05060d3",
   "metadata": {},
   "source": [
    "'Python'\n",
    "\"123\"\n",
    "'True'\n",
    "# Cadena vacía\n",
    "''\n",
    "# Cadena con un espacio en blanco\n",
    "' '\n",
    "# Cambio de línea\n",
    "'\\n'\n",
    "# Tabulador\n",
    "'\\t'"
   ]
  },
  {
   "cell_type": "markdown",
   "id": "5a99e909",
   "metadata": {},
   "source": [
    "##### Acceso a los elementos de una cadena\n",
    "Cada carácter tiene asociado un índice que permite acceder a él.\n",
    "\n",
    "| Cadena | P | y | t | h | o | n |\n",
    "| --- | --- | --- | --- | --- | --- | --- |\n",
    "| Índice positivo | 0 | 1 | 2 | 3 | 4 | 5 |\n",
    "| Índice negativo | -6 | -5 | -4 | -3 | -2 | -1 |\n",
    "\n",
    "- **c[i]** devuelve el carácter de la cadena c con el índice i.\n",
    " \n",
    "Nota: El índice del primer carácter de la cadena es 0.\n",
    "\n",
    "También se pueden utilizar índices negativos para recorrer la cadena del final al principio.\n",
    "\n",
    "Nota: El índice del último carácter de la cadena es -1."
   ]
  },
  {
   "cell_type": "code",
   "execution_count": 13,
   "id": "595b2b22",
   "metadata": {},
   "outputs": [
    {
     "data": {
      "text/plain": [
       "'P'"
      ]
     },
     "execution_count": 13,
     "metadata": {},
     "output_type": "execute_result"
    }
   ],
   "source": [
    "'Python'[0]"
   ]
  },
  {
   "cell_type": "code",
   "execution_count": 14,
   "id": "bfad2dd1",
   "metadata": {},
   "outputs": [
    {
     "data": {
      "text/plain": [
       "'y'"
      ]
     },
     "execution_count": 14,
     "metadata": {},
     "output_type": "execute_result"
    }
   ],
   "source": [
    "'Python'[1]"
   ]
  },
  {
   "cell_type": "code",
   "execution_count": 15,
   "id": "edd1bad6",
   "metadata": {},
   "outputs": [
    {
     "data": {
      "text/plain": [
       "'n'"
      ]
     },
     "execution_count": 15,
     "metadata": {},
     "output_type": "execute_result"
    }
   ],
   "source": [
    "'Python'[-1]"
   ]
  },
  {
   "cell_type": "code",
   "execution_count": 16,
   "id": "7d253434",
   "metadata": {},
   "outputs": [
    {
     "ename": "IndexError",
     "evalue": "string index out of range",
     "output_type": "error",
     "traceback": [
      "\u001b[0;31m---------------------------------------------------------------------------\u001b[0m",
      "\u001b[0;31mIndexError\u001b[0m                                Traceback (most recent call last)",
      "\u001b[0;32m/tmp/ipykernel_5846/1638887483.py\u001b[0m in \u001b[0;36m<module>\u001b[0;34m\u001b[0m\n\u001b[0;32m----> 1\u001b[0;31m \u001b[0;34m'Python'\u001b[0m\u001b[0;34m[\u001b[0m\u001b[0;36m6\u001b[0m\u001b[0;34m]\u001b[0m\u001b[0;34m\u001b[0m\u001b[0;34m\u001b[0m\u001b[0m\n\u001b[0m",
      "\u001b[0;31mIndexError\u001b[0m: string index out of range"
     ]
    }
   ],
   "source": [
    "'Python'[6]"
   ]
  },
  {
   "cell_type": "markdown",
   "id": "aaa12821",
   "metadata": {},
   "source": [
    "##### Subcadenas\n",
    "- **c[i:j:k]** : Devuelve la subcadena de c desde el carácter con el índice i hasta el carácter anterior al índice j, tomando caracteres cada k."
   ]
  },
  {
   "cell_type": "code",
   "execution_count": 1,
   "id": "6d520b9f",
   "metadata": {},
   "outputs": [
    {
     "data": {
      "text/plain": [
       "'yth'"
      ]
     },
     "execution_count": 1,
     "metadata": {},
     "output_type": "execute_result"
    }
   ],
   "source": [
    "'Python'[1:4]"
   ]
  },
  {
   "cell_type": "code",
   "execution_count": 17,
   "id": "ecc87c5a",
   "metadata": {},
   "outputs": [
    {
     "data": {
      "text/plain": [
       "''"
      ]
     },
     "execution_count": 17,
     "metadata": {},
     "output_type": "execute_result"
    }
   ],
   "source": [
    "'Python'[1:1]"
   ]
  },
  {
   "cell_type": "code",
   "execution_count": 3,
   "id": "dacc837c",
   "metadata": {},
   "outputs": [
    {
     "data": {
      "text/plain": [
       "'thon'"
      ]
     },
     "execution_count": 3,
     "metadata": {},
     "output_type": "execute_result"
    }
   ],
   "source": [
    "'Python'[2:]"
   ]
  },
  {
   "cell_type": "code",
   "execution_count": 4,
   "id": "c42128f4",
   "metadata": {},
   "outputs": [
    {
     "data": {
      "text/plain": [
       "'Pyth'"
      ]
     },
     "execution_count": 4,
     "metadata": {},
     "output_type": "execute_result"
    }
   ],
   "source": [
    "'Python'[:-2]"
   ]
  },
  {
   "cell_type": "code",
   "execution_count": 18,
   "id": "1c53cd1a",
   "metadata": {},
   "outputs": [
    {
     "data": {
      "text/plain": [
       "'Python'"
      ]
     },
     "execution_count": 18,
     "metadata": {},
     "output_type": "execute_result"
    }
   ],
   "source": [
    "'Python'[:]"
   ]
  },
  {
   "cell_type": "code",
   "execution_count": 19,
   "id": "76b251c0",
   "metadata": {},
   "outputs": [
    {
     "data": {
      "text/plain": [
       "'yhn'"
      ]
     },
     "execution_count": 19,
     "metadata": {},
     "output_type": "execute_result"
    }
   ],
   "source": [
    "'Python'[1:6:2]"
   ]
  },
  {
   "cell_type": "markdown",
   "id": "e4dbf5ff",
   "metadata": {},
   "source": [
    "##### Operaciones con cadenas\n",
    "\n",
    "- **c1 + c2** : Devuelve la cadena resultado de concatenar las cadenas c1 y c2.\n",
    "- **c * n** : Devuelve la cadena resultado de concatenar n copias de la cadena c.\n",
    "- **c1 in c2** : Devuelve True si c1 es una cadena concenida en c2 y False en caso contrario.\n",
    "- **c1 not in c2** : Devuelve True si c1 es una cadena no concenida en c2 y False en caso contrario."
   ]
  },
  {
   "cell_type": "code",
   "execution_count": 20,
   "id": "93493e85",
   "metadata": {},
   "outputs": [
    {
     "data": {
      "text/plain": [
       "'Me gusta Python'"
      ]
     },
     "execution_count": 20,
     "metadata": {},
     "output_type": "execute_result"
    }
   ],
   "source": [
    "'Me gusta ' + 'Python'"
   ]
  },
  {
   "cell_type": "code",
   "execution_count": 21,
   "id": "415c3e7f",
   "metadata": {},
   "outputs": [
    {
     "data": {
      "text/plain": [
       "'PythonPythonPython'"
      ]
     },
     "execution_count": 21,
     "metadata": {},
     "output_type": "execute_result"
    }
   ],
   "source": [
    "'Python' * 3"
   ]
  },
  {
   "cell_type": "code",
   "execution_count": 22,
   "id": "ee91b971",
   "metadata": {},
   "outputs": [
    {
     "data": {
      "text/plain": [
       "True"
      ]
     },
     "execution_count": 22,
     "metadata": {},
     "output_type": "execute_result"
    }
   ],
   "source": [
    "'y' in 'Python'"
   ]
  },
  {
   "cell_type": "code",
   "execution_count": 23,
   "id": "a01cff17",
   "metadata": {},
   "outputs": [
    {
     "data": {
      "text/plain": [
       "True"
      ]
     },
     "execution_count": 23,
     "metadata": {},
     "output_type": "execute_result"
    }
   ],
   "source": [
    "'tho' in 'Python'"
   ]
  },
  {
   "cell_type": "code",
   "execution_count": 24,
   "id": "d75ac340",
   "metadata": {},
   "outputs": [
    {
     "data": {
      "text/plain": [
       "True"
      ]
     },
     "execution_count": 24,
     "metadata": {},
     "output_type": "execute_result"
    }
   ],
   "source": [
    "'to' not in 'Python'"
   ]
  },
  {
   "cell_type": "markdown",
   "id": "27783a62",
   "metadata": {},
   "source": [
    "##### Operaciones de comparación de cadenas\n",
    "- **c1 == c2** : Devuelve True si la cadena c1 es igual que la cadena c2 y False en caso contrario.\n",
    "- **c1 > c2** : Devuelve True si la cadena c1 sucede a la cadena c2 y False en caso contrario.\n",
    "- **c1 < c2** : Devuelve True si la cadena c1 antecede a la cadena c2 y False en caso contrario.\n",
    "- **c1 >= c2** : Devuelve True si la cadena c1 sucede o es igual a la cadena c2 y False en caso contrario.\n",
    "- **c1 <= c2** : Devuelve True si la cadena c1 antecede o es igual a la cadena c2 y False en caso contrario.\n",
    "- **c1 != c2** : Devuelve True si la cadena c1 es distinta de la cadena c2 y False en caso contrario.\n",
    "\n",
    "Nota: Utilizan el orden establecido en el código ASCII."
   ]
  },
  {
   "cell_type": "code",
   "execution_count": 25,
   "id": "e5c79894",
   "metadata": {},
   "outputs": [
    {
     "data": {
      "text/plain": [
       "(80, 112)"
      ]
     },
     "execution_count": 25,
     "metadata": {},
     "output_type": "execute_result"
    }
   ],
   "source": [
    "ord('P'),ord('p'),"
   ]
  },
  {
   "cell_type": "code",
   "execution_count": 8,
   "id": "6b015be7",
   "metadata": {},
   "outputs": [
    {
     "data": {
      "text/plain": [
       "False"
      ]
     },
     "execution_count": 8,
     "metadata": {},
     "output_type": "execute_result"
    }
   ],
   "source": [
    "'Python' == 'python'"
   ]
  },
  {
   "cell_type": "code",
   "execution_count": 9,
   "id": "46df85e0",
   "metadata": {},
   "outputs": [
    {
     "data": {
      "text/plain": [
       "True"
      ]
     },
     "execution_count": 9,
     "metadata": {},
     "output_type": "execute_result"
    }
   ],
   "source": [
    "'Python' < 'python'"
   ]
  },
  {
   "cell_type": "code",
   "execution_count": 35,
   "id": "5a105319",
   "metadata": {},
   "outputs": [
    {
     "data": {
      "text/plain": [
       "True"
      ]
     },
     "execution_count": 35,
     "metadata": {},
     "output_type": "execute_result"
    }
   ],
   "source": [
    "'a' > 'Z'"
   ]
  },
  {
   "cell_type": "code",
   "execution_count": 36,
   "id": "23188108",
   "metadata": {},
   "outputs": [
    {
     "data": {
      "text/plain": [
       "False"
      ]
     },
     "execution_count": 36,
     "metadata": {},
     "output_type": "execute_result"
    }
   ],
   "source": [
    "'A' >= 'Z'"
   ]
  },
  {
   "cell_type": "code",
   "execution_count": 37,
   "id": "9c85558b",
   "metadata": {},
   "outputs": [
    {
     "data": {
      "text/plain": [
       "True"
      ]
     },
     "execution_count": 37,
     "metadata": {},
     "output_type": "execute_result"
    }
   ],
   "source": [
    "'' < 'Python'"
   ]
  },
  {
   "cell_type": "markdown",
   "id": "9fc8b536",
   "metadata": {},
   "source": [
    "##### Funciones de cadenas\n",
    "- **len(c)** : Devuelve el número de caracteres de la cadena c.\n",
    "- **min(c)** : Devuelve el carácter menor de la cadena c.\n",
    "- **max(c)** : Devuelve el carácter mayor de la cadena c.\n",
    "- **c.upper()** : Devuelve la cadena con los mismos caracteres que la cadena c pero en mayúsculas.\n",
    "- **c.lower()** : Devuelve la cadena con los mismos caracteres que la cadena c pero en minúsculas.\n",
    "- **c.title()** : Devuelve la cadena con los mismos caracteres que la cadena c con el primer carácter en mayúsculas y el resto en minúsculas.\n",
    "- **c.split(delimitador)** : Devuelve la lista formada por las subcadenas que resultan de partir la cadena c usando como delimitador la cadena delimitador. Si no se especifica el delimitador utiliza por defecto el espacio en blanco."
   ]
  },
  {
   "cell_type": "code",
   "execution_count": 26,
   "id": "04737401",
   "metadata": {},
   "outputs": [
    {
     "data": {
      "text/plain": [
       "6"
      ]
     },
     "execution_count": 26,
     "metadata": {},
     "output_type": "execute_result"
    }
   ],
   "source": [
    "len('Python')"
   ]
  },
  {
   "cell_type": "code",
   "execution_count": 27,
   "id": "865706fb",
   "metadata": {},
   "outputs": [
    {
     "data": {
      "text/plain": [
       "'P'"
      ]
     },
     "execution_count": 27,
     "metadata": {},
     "output_type": "execute_result"
    }
   ],
   "source": [
    "min('Python')"
   ]
  },
  {
   "cell_type": "code",
   "execution_count": 15,
   "id": "7085abfa",
   "metadata": {},
   "outputs": [
    {
     "data": {
      "text/plain": [
       "'y'"
      ]
     },
     "execution_count": 15,
     "metadata": {},
     "output_type": "execute_result"
    }
   ],
   "source": [
    "max('Python')"
   ]
  },
  {
   "cell_type": "code",
   "execution_count": 16,
   "id": "50fa62be",
   "metadata": {},
   "outputs": [
    {
     "data": {
      "text/plain": [
       "'PYTHON'"
      ]
     },
     "execution_count": 16,
     "metadata": {},
     "output_type": "execute_result"
    }
   ],
   "source": [
    "'Python'.upper()"
   ]
  },
  {
   "cell_type": "code",
   "execution_count": 17,
   "id": "9e4f465c",
   "metadata": {},
   "outputs": [
    {
     "data": {
      "text/plain": [
       "['A', 'B', 'C']"
      ]
     },
     "execution_count": 17,
     "metadata": {},
     "output_type": "execute_result"
    }
   ],
   "source": [
    "'A,B,C'.split(',')"
   ]
  },
  {
   "cell_type": "code",
   "execution_count": 18,
   "id": "62812e22",
   "metadata": {},
   "outputs": [
    {
     "data": {
      "text/plain": [
       "['I', 'love', 'Python']"
      ]
     },
     "execution_count": 18,
     "metadata": {},
     "output_type": "execute_result"
    }
   ],
   "source": [
    "'I love Python'.split()"
   ]
  },
  {
   "cell_type": "markdown",
   "id": "0826bf22",
   "metadata": {},
   "source": [
    "### Cadenas formateadas (format())\n",
    "**c.format(valores)**: Devuelve la cadena c tras sustituir los valores de la secuencia valores en los marcadores de posición de c. Los marcadores de posición se indican mediante llaves {} en la cadena c, y el reemplazo de los valores se puede realizar por posición, indicando en número de orden del valor dentro de las llaves, o por nombre, indicando el nombre del valor, siempre y cuando los valores se pasen con el formato nombre = valor."
   ]
  },
  {
   "cell_type": "code",
   "execution_count": 38,
   "id": "472df792",
   "metadata": {},
   "outputs": [
    {
     "data": {
      "text/plain": [
       "'Un € vale 1.12 $'"
      ]
     },
     "execution_count": 38,
     "metadata": {},
     "output_type": "execute_result"
    }
   ],
   "source": [
    "'Un {} vale {} {}'.format('€', 1.12, '$')"
   ]
  },
  {
   "cell_type": "code",
   "execution_count": 39,
   "id": "f8fd0332",
   "metadata": {},
   "outputs": [
    {
     "data": {
      "text/plain": [
       "'Un $ vale 1.12 €'"
      ]
     },
     "execution_count": 39,
     "metadata": {},
     "output_type": "execute_result"
    }
   ],
   "source": [
    "'Un {2} vale {1} {0}'.format('€', 1.12, '$')"
   ]
  },
  {
   "cell_type": "code",
   "execution_count": 40,
   "id": "9a37c3bc",
   "metadata": {},
   "outputs": [
    {
     "data": {
      "text/plain": [
       "'Un € vale 1.12 $'"
      ]
     },
     "execution_count": 40,
     "metadata": {},
     "output_type": "execute_result"
    }
   ],
   "source": [
    "'Un {moneda1} vale {cambio} {moneda2}'.format(moneda1 = '€', cambio = 1.12, moneda2 = '$')"
   ]
  },
  {
   "cell_type": "code",
   "execution_count": 29,
   "id": "bdcc6f53",
   "metadata": {},
   "outputs": [
    {
     "data": {
      "text/plain": [
       "'Un €          vale 1.12 $'"
      ]
     },
     "execution_count": 29,
     "metadata": {},
     "output_type": "execute_result"
    }
   ],
   "source": [
    "moneda1 = '€'\n",
    "cambio = 1.12\n",
    "moneda2 = '$'\n",
    "f'Un {moneda1:10} vale {cambio} {moneda2}'"
   ]
  },
  {
   "cell_type": "markdown",
   "id": "7bcc9f31",
   "metadata": {},
   "source": [
    "Los marcadores de posición, a parte de indicar la posición de los valores de reemplazo, pueden indicar también el formato de estos. Para ello se utiliza la siguiente sintaxis:\n",
    "\n",
    "- **{:n}** : Alinea el valor a la izquierda rellenando con espacios por la derecha hasta los n caracteres.\n",
    "- **{:>n}** : Alinea el valor a la derecha rellenando con espacios por la izquierda hasta los n caracteres.\n",
    "- **{:^n}** : Alinea el valor en el centro rellenando con espacios por la izquierda y por la derecha hasta los n caracteres.\n",
    "- **{:nd}** : Formatea el valor como un número entero con n caracteres rellenando con espacios blancos por la izquierda.\n",
    "- **{:n.mf}** : Formatea el valor como un número real con un tamaño de n caracteres (incluído el separador de decimales) y m cifras decimales, rellenando con espacios blancos por la izquierda."
   ]
  },
  {
   "cell_type": "code",
   "execution_count": 21,
   "id": "324cf83e",
   "metadata": {},
   "outputs": [
    {
     "data": {
      "text/plain": [
       "'Hoy es   lunes   , mañana martes     y pasado  miércoles'"
      ]
     },
     "execution_count": 21,
     "metadata": {},
     "output_type": "execute_result"
    }
   ],
   "source": [
    "'Hoy es {:^10}, mañana {:10} y pasado {:>10}'.format('lunes', 'martes', 'miércoles')"
   ]
  },
  {
   "cell_type": "code",
   "execution_count": 49,
   "id": "f2ef8d1e",
   "metadata": {},
   "outputs": [
    {
     "data": {
      "text/plain": [
       "'Cantidad    12'"
      ]
     },
     "execution_count": 49,
     "metadata": {},
     "output_type": "execute_result"
    }
   ],
   "source": [
    "'Cantidad {:5d}'.format(12)"
   ]
  },
  {
   "cell_type": "code",
   "execution_count": 45,
   "id": "3414ed56",
   "metadata": {},
   "outputs": [
    {
     "data": {
      "text/plain": [
       "'Pi vale   3.1416'"
      ]
     },
     "execution_count": 45,
     "metadata": {},
     "output_type": "execute_result"
    }
   ],
   "source": [
    "'Pi vale {:8.4f}'.format(3.141592)"
   ]
  },
  {
   "cell_type": "markdown",
   "id": "54b65704",
   "metadata": {},
   "source": [
    "### Datos lógicos o booleanos (clase bool)\n",
    "Contiene únicamente dos elementos True y False que representan los valores lógicos verdadero y falso respectivamente.\n",
    "\n",
    "False tiene asociado el valor 0 y True tiene asociado el valor 1.\n",
    "\n",
    "##### Operaciones con valores lógicos\n",
    "- Operadores lógicos: **==** (igual que), **>** (mayor), **<** (menor), **>=** (mayor o igual que), **<=** (menor o igual que), **!=** (distinto de).\n",
    "- **not b** (negación) : Devuelve True si el dato booleano b es False , y False en caso contrario.\n",
    "- **b1 and b2** : Devuelve True si los datos booleanos b1 y b2 son True, y False en caso contrario.\n",
    "- **b1 or b2** : Devuelve True si alguno de los datos booleanos b1 o b2 son True, y False en caso contrario.\n",
    "\n",
    "Tabla de verdad\n",
    "\n",
    "| x | y | not x | x and y | x or y|\n",
    "| --- | --- | --- | --- | --- | \n",
    "| False | False | True | False | False |\n",
    "| False | True | True | False | True |\n",
    "| True | False | False | False | True |\n",
    "| True | True | False | True | True |"
   ]
  },
  {
   "cell_type": "code",
   "execution_count": 50,
   "id": "1647b794",
   "metadata": {},
   "outputs": [
    {
     "data": {
      "text/plain": [
       "False"
      ]
     },
     "execution_count": 50,
     "metadata": {},
     "output_type": "execute_result"
    }
   ],
   "source": [
    "not True"
   ]
  },
  {
   "cell_type": "code",
   "execution_count": 51,
   "id": "1160a551",
   "metadata": {},
   "outputs": [
    {
     "data": {
      "text/plain": [
       "True"
      ]
     },
     "execution_count": 51,
     "metadata": {},
     "output_type": "execute_result"
    }
   ],
   "source": [
    "False or True"
   ]
  },
  {
   "cell_type": "code",
   "execution_count": 52,
   "id": "1557da29",
   "metadata": {},
   "outputs": [
    {
     "data": {
      "text/plain": [
       "False"
      ]
     },
     "execution_count": 52,
     "metadata": {},
     "output_type": "execute_result"
    }
   ],
   "source": [
    "True and False"
   ]
  },
  {
   "cell_type": "code",
   "execution_count": 53,
   "id": "0cf79cca",
   "metadata": {},
   "outputs": [
    {
     "data": {
      "text/plain": [
       "True"
      ]
     },
     "execution_count": 53,
     "metadata": {},
     "output_type": "execute_result"
    }
   ],
   "source": [
    "True and True"
   ]
  },
  {
   "cell_type": "markdown",
   "id": "55076068",
   "metadata": {},
   "source": [
    "### Conversión de datos primitivos simples\n",
    "Las siguientes funciones convierten un dato de un tipo en otro, siempre y cuando la conversión sea posible.\n",
    "\n",
    "- **int()** convierte a entero."
   ]
  },
  {
   "cell_type": "code",
   "execution_count": 54,
   "id": "2815e322",
   "metadata": {},
   "outputs": [
    {
     "data": {
      "text/plain": [
       "12"
      ]
     },
     "execution_count": 54,
     "metadata": {},
     "output_type": "execute_result"
    }
   ],
   "source": [
    "int('12')"
   ]
  },
  {
   "cell_type": "code",
   "execution_count": 55,
   "id": "aba40d72",
   "metadata": {},
   "outputs": [
    {
     "data": {
      "text/plain": [
       "1"
      ]
     },
     "execution_count": 55,
     "metadata": {},
     "output_type": "execute_result"
    }
   ],
   "source": [
    "int(True)"
   ]
  },
  {
   "cell_type": "code",
   "execution_count": 56,
   "id": "fd83d36b",
   "metadata": {},
   "outputs": [
    {
     "ename": "ValueError",
     "evalue": "invalid literal for int() with base 10: 'c'",
     "output_type": "error",
     "traceback": [
      "\u001b[0;31m---------------------------------------------------------------------------\u001b[0m",
      "\u001b[0;31mValueError\u001b[0m                                Traceback (most recent call last)",
      "\u001b[0;32m/tmp/ipykernel_29295/3793548183.py\u001b[0m in \u001b[0;36m<module>\u001b[0;34m\u001b[0m\n\u001b[0;32m----> 1\u001b[0;31m \u001b[0mint\u001b[0m\u001b[0;34m(\u001b[0m\u001b[0;34m'c'\u001b[0m\u001b[0;34m)\u001b[0m\u001b[0;34m\u001b[0m\u001b[0;34m\u001b[0m\u001b[0m\n\u001b[0m",
      "\u001b[0;31mValueError\u001b[0m: invalid literal for int() with base 10: 'c'"
     ]
    }
   ],
   "source": [
    "int('c')"
   ]
  },
  {
   "cell_type": "markdown",
   "id": "04b7d68a",
   "metadata": {},
   "source": [
    "- **float()** convierte a real."
   ]
  },
  {
   "cell_type": "code",
   "execution_count": 57,
   "id": "2d64f69d",
   "metadata": {},
   "outputs": [
    {
     "data": {
      "text/plain": [
       "3.14"
      ]
     },
     "execution_count": 57,
     "metadata": {},
     "output_type": "execute_result"
    }
   ],
   "source": [
    "float('3.14')"
   ]
  },
  {
   "cell_type": "code",
   "execution_count": 58,
   "id": "f9ada151",
   "metadata": {},
   "outputs": [
    {
     "data": {
      "text/plain": [
       "1.0"
      ]
     },
     "execution_count": 58,
     "metadata": {},
     "output_type": "execute_result"
    }
   ],
   "source": [
    "float(True)"
   ]
  },
  {
   "cell_type": "code",
   "execution_count": 59,
   "id": "00285045",
   "metadata": {},
   "outputs": [
    {
     "ename": "ValueError",
     "evalue": "could not convert string to float: 'III'",
     "output_type": "error",
     "traceback": [
      "\u001b[0;31m---------------------------------------------------------------------------\u001b[0m",
      "\u001b[0;31mValueError\u001b[0m                                Traceback (most recent call last)",
      "\u001b[0;32m/tmp/ipykernel_29295/1374511847.py\u001b[0m in \u001b[0;36m<module>\u001b[0;34m\u001b[0m\n\u001b[0;32m----> 1\u001b[0;31m \u001b[0mfloat\u001b[0m\u001b[0;34m(\u001b[0m\u001b[0;34m'III'\u001b[0m\u001b[0;34m)\u001b[0m\u001b[0;34m\u001b[0m\u001b[0;34m\u001b[0m\u001b[0m\n\u001b[0m",
      "\u001b[0;31mValueError\u001b[0m: could not convert string to float: 'III'"
     ]
    }
   ],
   "source": [
    "float('III')"
   ]
  },
  {
   "cell_type": "markdown",
   "id": "b9cac854",
   "metadata": {},
   "source": [
    "- **str()** convierte a cadena."
   ]
  },
  {
   "cell_type": "code",
   "execution_count": 60,
   "id": "6e8647db",
   "metadata": {},
   "outputs": [
    {
     "data": {
      "text/plain": [
       "'3.14'"
      ]
     },
     "execution_count": 60,
     "metadata": {},
     "output_type": "execute_result"
    }
   ],
   "source": [
    "str(3.14)"
   ]
  },
  {
   "cell_type": "code",
   "execution_count": 61,
   "id": "99e104f7",
   "metadata": {},
   "outputs": [
    {
     "data": {
      "text/plain": [
       "'True'"
      ]
     },
     "execution_count": 61,
     "metadata": {},
     "output_type": "execute_result"
    }
   ],
   "source": [
    "str(True)"
   ]
  },
  {
   "cell_type": "markdown",
   "id": "0d45f7bf",
   "metadata": {},
   "source": [
    "- **bool()** convierte a lógico."
   ]
  },
  {
   "cell_type": "code",
   "execution_count": 62,
   "id": "391b5320",
   "metadata": {},
   "outputs": [
    {
     "data": {
      "text/plain": [
       "True"
      ]
     },
     "execution_count": 62,
     "metadata": {},
     "output_type": "execute_result"
    }
   ],
   "source": [
    "bool('0')"
   ]
  },
  {
   "cell_type": "code",
   "execution_count": 63,
   "id": "11831e19",
   "metadata": {},
   "outputs": [
    {
     "data": {
      "text/plain": [
       "True"
      ]
     },
     "execution_count": 63,
     "metadata": {},
     "output_type": "execute_result"
    }
   ],
   "source": [
    "bool('3.14')"
   ]
  },
  {
   "cell_type": "code",
   "execution_count": 64,
   "id": "e0dfe41e",
   "metadata": {},
   "outputs": [
    {
     "data": {
      "text/plain": [
       "False"
      ]
     },
     "execution_count": 64,
     "metadata": {},
     "output_type": "execute_result"
    }
   ],
   "source": [
    "bool('')"
   ]
  },
  {
   "cell_type": "code",
   "execution_count": 30,
   "id": "95ebd701",
   "metadata": {},
   "outputs": [
    {
     "data": {
      "text/plain": [
       "True"
      ]
     },
     "execution_count": 30,
     "metadata": {},
     "output_type": "execute_result"
    }
   ],
   "source": [
    "bool('Hola')"
   ]
  },
  {
   "cell_type": "markdown",
   "id": "c315b97c",
   "metadata": {},
   "source": [
    "### Variables\n",
    "Una variable es un identificador ligado a algún valor.\n",
    "\n",
    "Reglas para nombrarlas:\n",
    "\n",
    "- Comienzan siempre por una letra, seguida de otras letras o números.\n",
    "- No se pueden utilizarse palabras reservadas del lenguaje.\n",
    "\n",
    "A diferencia de otros lenguajes no tienen asociado un tipo y no es necesario declararlas antes de usarlas (tipado dinámico).\n",
    "\n",
    "Para asignar un valor a una variable se utiliza el operador = y para borrar una variable se utiliza la instrucción del."
   ]
  },
  {
   "cell_type": "raw",
   "id": "41be0f99",
   "metadata": {},
   "source": [
    "lenguaje = 'Python'\n",
    "x = 3.14\n",
    "y = 3 + 2\n",
    "# Asignación múltiple\n",
    "a1, a2 = 1, 2\n",
    "# Intercambio de valores\n",
    "a, b = b, a\n",
    "# Incremento (equivale a x = x + 2)\n",
    "x += 2\n",
    "# Decremento (equivale a x = x - 1)\n",
    "x -= 1\n",
    "# Valor no definido\n",
    "x = None\n",
    "del x"
   ]
  },
  {
   "cell_type": "markdown",
   "id": "4114ddd7",
   "metadata": {},
   "source": [
    "# Entrada y Salida por Terminal\n",
    "### Entrada por terminal\n",
    "Para asignar a una variable un valor introducido por el usuario en la consola se utiliza la instrucción\n",
    "\n",
    "- **input(mensaje)** : Muestra la cadena mensaje por la terminal y devuelve una cadena con la entrada del usuario.\n",
    "\n",
    "Nota: El valor devuelto siempre es una cadena, incluso si el usuario introduce un dato numérico."
   ]
  },
  {
   "cell_type": "code",
   "execution_count": 33,
   "id": "f01a0a04",
   "metadata": {},
   "outputs": [
    {
     "name": "stdout",
     "output_type": "stream",
     "text": [
      "¿Cuál es tu lenguaje favorito? C++\n"
     ]
    }
   ],
   "source": [
    "language = input('¿Cuál es tu lenguaje favorito? ')"
   ]
  },
  {
   "cell_type": "code",
   "execution_count": 34,
   "id": "3c93bce3",
   "metadata": {},
   "outputs": [
    {
     "data": {
      "text/plain": [
       "'C++'"
      ]
     },
     "execution_count": 34,
     "metadata": {},
     "output_type": "execute_result"
    }
   ],
   "source": [
    "language"
   ]
  },
  {
   "cell_type": "code",
   "execution_count": 3,
   "id": "fc2c3fd2",
   "metadata": {},
   "outputs": [
    {
     "name": "stdout",
     "output_type": "stream",
     "text": [
      "¿Cuál es tu edad? 18\n"
     ]
    }
   ],
   "source": [
    "age = input('¿Cuál es tu edad? ')"
   ]
  },
  {
   "cell_type": "code",
   "execution_count": 4,
   "id": "4398f58b",
   "metadata": {},
   "outputs": [
    {
     "data": {
      "text/plain": [
       "'18'"
      ]
     },
     "execution_count": 4,
     "metadata": {},
     "output_type": "execute_result"
    }
   ],
   "source": [
    "age"
   ]
  },
  {
   "cell_type": "markdown",
   "id": "7ee3e15a",
   "metadata": {},
   "source": [
    "### Salida por terminal (print())\n",
    "Para mostrar un dato por la terminal se utiliza la instrucción\n",
    "\n",
    "`print(dato1, ..., sep=' ', end='\\n', file=sys.stdout)`\n",
    "\n",
    "donde\n",
    "\n",
    "dato1, ... son los datos a imprimir y pueden indicarse tantos como se quieran separados por comas.\n",
    "sep establece el separador entre los datos, que por defecto es un espacio en blanco ' '.\n",
    "end indica la cadena final de la impresión, que por defecto es un cambio de línea \\n.\n",
    "file indica la dirección del flujo de salida, que por defecto es la salida estándar sys.stdout."
   ]
  },
  {
   "cell_type": "code",
   "execution_count": 35,
   "id": "a804cacc",
   "metadata": {},
   "outputs": [
    {
     "name": "stdout",
     "output_type": "stream",
     "text": [
      "Hola\n"
     ]
    }
   ],
   "source": [
    "print('Hola')"
   ]
  },
  {
   "cell_type": "code",
   "execution_count": 36,
   "id": "9ce6fe6a",
   "metadata": {},
   "outputs": [
    {
     "name": "stdout",
     "output_type": "stream",
     "text": [
      "Hola Francisco\n"
     ]
    }
   ],
   "source": [
    "name = 'Francisco'\n",
    "print('Hola', name)"
   ]
  },
  {
   "cell_type": "code",
   "execution_count": 8,
   "id": "35671004",
   "metadata": {},
   "outputs": [
    {
     "name": "stdout",
     "output_type": "stream",
     "text": [
      "El valor de pi es 3.1415\n"
     ]
    }
   ],
   "source": [
    "print('El valor de pi es', 3.1415)"
   ]
  },
  {
   "cell_type": "code",
   "execution_count": 9,
   "id": "c983dff2",
   "metadata": {},
   "outputs": [
    {
     "name": "stdout",
     "output_type": "stream",
     "text": [
      "HolaFrancisco\n"
     ]
    }
   ],
   "source": [
    "print('Hola', name, sep='')"
   ]
  },
  {
   "cell_type": "code",
   "execution_count": 10,
   "id": "cb2dc3ee",
   "metadata": {},
   "outputs": [
    {
     "name": "stdout",
     "output_type": "stream",
     "text": [
      "Hola Francisco!\n"
     ]
    }
   ],
   "source": [
    "print('Hola', name, end='!\\n')"
   ]
  },
  {
   "cell_type": "markdown",
   "id": "95557d52",
   "metadata": {},
   "source": [
    "# Condicionales\n",
    "### Condicionales (if)"
   ]
  },
  {
   "cell_type": "raw",
   "id": "40ecc7c1",
   "metadata": {},
   "source": [
    "if condición1:\n",
    "    bloque código\n",
    "elif condición2:\n",
    "    bloque código\n",
    "…\n",
    "else :\n",
    "    bloque código"
   ]
  },
  {
   "cell_type": "markdown",
   "id": "24d6d21b",
   "metadata": {},
   "source": [
    "Evalúa la expresión lógica condición1 y ejecuta el primer bloque de código si es **True**; si no, evalúa la siguientes condiciones hasta llegar a la primera que es **True** y ejecuta el bloque de código asociado. Si ninguna condición es **True** ejecuta el bloque de código después de **else**:.\n",
    "\n",
    "Pueden aparecer varios bloques **elif** pero solo uno **else** al final.\n",
    "\n",
    "Nota: Los bloques de código deben estar indentados por 4 espacios.\n",
    "\n",
    "La instrucción condicional permite evaluar el estado del programa y tomar decisiones sobre qué código ejecutar en función del mismo."
   ]
  },
  {
   "cell_type": "code",
   "execution_count": 37,
   "id": "26c6cc3f",
   "metadata": {},
   "outputs": [
    {
     "name": "stdout",
     "output_type": "stream",
     "text": [
      "Menor\n"
     ]
    }
   ],
   "source": [
    "edad = 14\n",
    "if edad <= 18 : \n",
    "     print('Menor')\n",
    "elif edad > 65:\n",
    "    print('Jubilado')\n",
    "else:\n",
    "     print('Activo')"
   ]
  },
  {
   "cell_type": "code",
   "execution_count": 39,
   "id": "dff5b2a7",
   "metadata": {},
   "outputs": [
    {
     "name": "stdout",
     "output_type": "stream",
     "text": [
      "Activo\n"
     ]
    }
   ],
   "source": [
    "edad = 20\n",
    "if edad <= 18 : \n",
    "    print('Menor')\n",
    "elif edad > 65:\n",
    "    print('Jubilado')\n",
    "else:\n",
    "    print('Activo')"
   ]
  },
  {
   "cell_type": "markdown",
   "id": "ea673c7d",
   "metadata": {},
   "source": [
    "# Bucles\n",
    "### Bucles condicionales (while)"
   ]
  },
  {
   "cell_type": "raw",
   "id": "def1234e",
   "metadata": {},
   "source": [
    "while condición:\n",
    "    bloque código"
   ]
  },
  {
   "cell_type": "markdown",
   "id": "53dfd11b",
   "metadata": {},
   "source": [
    "Repite la ejecución del bloque de código mientras la expresión lógica condición sea cierta.\n",
    "\n",
    "Se puede interrumpir en cualquier momento la ejecución del bloque de código con la instrucción **break**.\n",
    "\n",
    "Nota: El bloque de código debe estar indentado por 4 espacios."
   ]
  },
  {
   "cell_type": "code",
   "execution_count": 40,
   "id": "0c9e487c",
   "metadata": {},
   "outputs": [
    {
     "name": "stdout",
     "output_type": "stream",
     "text": [
      "Introduce un número: 1\n",
      "Introduce un número: 2\n",
      "Introduce un número: 34\n",
      "Introduce un número: 0\n"
     ]
    }
   ],
   "source": [
    "# Pregunta al usuario por un número hasta que introduce 0.\n",
    "num = None\n",
    "while num != 0:\n",
    "    num = int(input('Introduce un número: '))"
   ]
  },
  {
   "cell_type": "code",
   "execution_count": 72,
   "id": "22ce76a7",
   "metadata": {},
   "outputs": [
    {
     "name": "stdout",
     "output_type": "stream",
     "text": [
      "Introduce un número: 2\n",
      "Introduce un número: 3\n",
      "Introduce un número: 4\n",
      "Introduce un número: 0\n"
     ]
    }
   ],
   "source": [
    "# Alternativa\n",
    "# Pregunta al usuario por un número hasta que introduce 0.\n",
    "while True:\n",
    "    num = int(input('Introduce un número: '))\n",
    "    if num == 0:\n",
    "        break"
   ]
  },
  {
   "cell_type": "markdown",
   "id": "3c05fde3",
   "metadata": {},
   "source": [
    "### Bucles iterativos (for)"
   ]
  },
  {
   "cell_type": "raw",
   "id": "b51ad6ae",
   "metadata": {},
   "source": [
    "for i in secuencia:\n",
    "    bloque código"
   ]
  },
  {
   "cell_type": "markdown",
   "id": "6a687e8e",
   "metadata": {},
   "source": [
    "Repite la ejecución del bloque de código para cada elemento de la secuencia secuencia, asignado dicho elemento a i en cada repetición.\n",
    "\n",
    "Se puede interrumpir en cualquier momento la ejecución del bloque de código con la instrucción **break** o saltar la ejecución para un determinado elemento de la secuencia con la instrucción **continue**.\n",
    "\n",
    "Nota: El bloque de código debe estar indentado por 4 espacios.\n",
    "\n",
    "Se utiliza fundamentalmente para recorrer colecciones de objetos como cadenas, listas, tuplas o diccionarios.\n",
    "\n",
    "A menudo se usan con la instrucción **range**:\n",
    "\n",
    "- **range(fin)** : Genera una secuencia de números enteros desde 0 hasta fin-1.\n",
    "- **range(inicio, fin, salto)** : Genera una secuencia de números enteros desde inicio hasta fin-1 con un incremento de salto."
   ]
  },
  {
   "cell_type": "code",
   "execution_count": 41,
   "id": "2ac14b33",
   "metadata": {},
   "outputs": [
    {
     "name": "stdout",
     "output_type": "stream",
     "text": [
      "P\n",
      "y\n",
      "t\n",
      "h\n",
      "o\n",
      "n\n"
     ]
    }
   ],
   "source": [
    "palabra = 'Python'\n",
    "for letra in palabra:\n",
    "    print(letra)"
   ]
  },
  {
   "cell_type": "code",
   "execution_count": 42,
   "id": "1479468a",
   "metadata": {},
   "outputs": [
    {
     "name": "stdout",
     "output_type": "stream",
     "text": [
      "1, 2, 3, 4, 5, 6, 7, 8, 9, "
     ]
    }
   ],
   "source": [
    "for i in range(1,10):\n",
    "    print(i, end=\", \")"
   ]
  },
  {
   "cell_type": "code",
   "execution_count": null,
   "id": "038e5cc7",
   "metadata": {},
   "outputs": [],
   "source": []
  }
 ],
 "metadata": {
  "kernelspec": {
   "display_name": "Python 3 (ipykernel)",
   "language": "python",
   "name": "python3"
  },
  "language_info": {
   "codemirror_mode": {
    "name": "ipython",
    "version": 3
   },
   "file_extension": ".py",
   "mimetype": "text/x-python",
   "name": "python",
   "nbconvert_exporter": "python",
   "pygments_lexer": "ipython3",
   "version": "3.9.12"
  }
 },
 "nbformat": 4,
 "nbformat_minor": 5
}
